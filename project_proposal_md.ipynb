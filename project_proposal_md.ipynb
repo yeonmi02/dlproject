{
  "nbformat": 4,
  "nbformat_minor": 0,
  "metadata": {
    "colab": {
      "provenance": [],
      "authorship_tag": "ABX9TyMgT1xLXCPqpZ096sV6rSYP",
      "include_colab_link": true
    },
    "kernelspec": {
      "name": "python3",
      "display_name": "Python 3"
    },
    "language_info": {
      "name": "python"
    }
  },
  "cells": [
    {
      "cell_type": "markdown",
      "metadata": {
        "id": "view-in-github",
        "colab_type": "text"
      },
      "source": [
        "<a href=\"https://colab.research.google.com/github/yeonmi02/dlproject/blob/main/project_proposal_md.ipynb\" target=\"_parent\"><img src=\"https://colab.research.google.com/assets/colab-badge.svg\" alt=\"Open In Colab\"/></a>"
      ]
    },
    {
      "cell_type": "markdown",
      "source": [
        "# 프로젝트 제안서\n",
        "\n",
        "## 1. 프로젝트 개요\n",
        "\n",
        "\n",
        "*  프로젝트 이름 : 병원 환자 치료 예측\n",
        "*  작성자 : 김연미\n",
        "*  작성일 : 2025년 3월 26일\n",
        "\n",
        "## 2. 배경 및 필요성\n",
        "\n",
        "\n",
        "*  병원 환자들의 치료 데이터와 비용 데이터를 수집한 후 분석하여 각 질병 별 치료 가능성과 비용을 예측할 수 있음\n",
        "\n",
        "## 3. 목표\n",
        "\n",
        "* 병원 환자들의 데이터를 성공적으로 수집하고 분석과 분류를 한 다음 각각의 질병별 치료 가능성을 예측하고 비용까지 알아보기\n",
        "\n",
        "## 4. 주요 기능 및 특징\n",
        "\n",
        "* 기능 1 : 환자의 치료의 추이를 알아볼 수 있는 기능\n",
        "* 기능 2 : 각각의 질병에 대한 비용을 예측할 수 있다\n",
        "* 기능 3 : 환자의 치료 방향성에 대한 예측 가능\n",
        "\n",
        "## 5. 기대 효과\n",
        "\n",
        "* 질병이 걸린 환자들이 자신의 질병에 대한 치료 가능성과 비용을 알아볼 수 있는 기대가 있다\n",
        "\n",
        "## 6. 일정 계획\n",
        "\n",
        "## 7. 예산\n",
        "\n",
        "* 없음\n",
        "\n",
        "## 8. 팀 구성\n",
        "\n",
        "* 김연미 : 코드 구성\n",
        "\n",
        "## 9. 결론\n",
        "\n",
        "* 환자 진료에 대한 데이터 셋으로 목표한 예측을 구성하는 것이 결론입니다.\n",
        "\n",
        "\n",
        "\n",
        "\n",
        "\n",
        "\n",
        "\n",
        "\n",
        "\n",
        "\n",
        "\n",
        "\n",
        "\n"
      ],
      "metadata": {
        "id": "G2iLvFOwH2ow"
      }
    }
  ]
}