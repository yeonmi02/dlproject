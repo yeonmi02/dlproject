{
  "nbformat": 4,
  "nbformat_minor": 0,
  "metadata": {
    "colab": {
      "provenance": [],
      "mount_file_id": "1oFGAx0foi2ms5A_G7Xe5jAziilOP9MyS",
      "authorship_tag": "ABX9TyO6cBAYlsW3gomZugLQ5kKC",
      "include_colab_link": true
    },
    "kernelspec": {
      "name": "python3",
      "display_name": "Python 3"
    },
    "language_info": {
      "name": "python"
    }
  },
  "cells": [
    {
      "cell_type": "markdown",
      "metadata": {
        "id": "view-in-github",
        "colab_type": "text"
      },
      "source": [
        "<a href=\"https://colab.research.google.com/github/yeonmi02/dlproject/blob/main/dlproject__Patient's_treatment_prediction__final_report.ipynb\" target=\"_parent\"><img src=\"https://colab.research.google.com/assets/colab-badge.svg\" alt=\"Open In Colab\"/></a>"
      ]
    },
    {
      "cell_type": "markdown",
      "source": [
        "# ❤ 딥러닝 프로젝트 최종 보고서: [환자의 치료 예측하기]\n",
        "\n",
        "| **작성자**   | 20242401 김연미           |\n",
        "| **발표 여부** | 미발표 |\n",
        "\n",
        "## 1. 프로젝트 소개\n",
        "❤ **프로젝트 동기**: 평소에도 의료 데이터에 대한 관심이 많았고 kaggle에서 데이터를 둘러보던 중 프로젝트에 하기에도 적합하고 데이터의 질도 좋은 세트를 발견하여서 진행하게 되었습니다.\n",
        "\n",
        "❤ **프로젝트 목적**: 환자 데이터를 가지고 질병 별 치료 가능성과 결과를 예측하기위한 목적으로 프로젝트를 구상하고 실현하였습니다.\n",
        "\n",
        "❤ **목표**: 질병 별로 환자의 치료 결과를 예측하기 위해서 다층 퍼셉트론을 비롯한 TabNet 모델과 Entity Embedding + MLP 모델을 사용하여 예측을 다양한 방식으로 도출해보는 것이 목표입니다.\n",
        "\n",
        "❤ **기대 효과**: 이 예측 모델을 기반으로 환자들이나 의료진들이 질병별로 얼마나 치료가 가능할지 가늠할 수 있는 계기가 될 수 있습니다.\n",
        "\n",
        "## 2. 주제 관련 배경\n",
        "❤ **주제를 선택한 이유**: 앞서 말했듯이 의료 관련 데이터에 관심이 많았고 사람들이 실생활에 도움이 될 수 있는 예측이 뭘까 생각하던 중 가장 적합하다는 생각이 들어 선택하게 되었습니다.\n",
        "\n",
        "❤ **필요성**: 현재 의료 기술이 빠르게 발달하고 있고 또한 현대인 질병들도 함께 증가하는 추세를 보이는데 그에 따라 치료 가능성에 대한 환자들의 궁금증도 늘고있습니다. 이 프로젝트가 성공적으로 구현된다면 많은 환자들의 궁금증을 풀어줄 수 있는 계기가 되고 질병으로 인한 불안함 해소에도 도움이 될 것 같습니다.\n",
        "\n",
        "## 3. 데이터 셋 소개\n",
        "❤  **데이터 출처**: kaggle 데이터를 사용했습니다. [참고한 데이터의 kaggle 주소](https://www.kaggle.com/datasets/blueblushed/hospital-dataset-for-practice)\n",
        "\n",
        "❤ **전체 행과 열의 수**: 총 984개의 열이 있고 10개의 칼럼['Patient_ID', 'Age', 'Gender', 'Condition', 'Procedure', 'Cost', 'Length_of_Stay', 'Readmission', 'Outcome', 'Satisfaction']이 있습니다.\n",
        "\n",
        "❤ **데이터 변수 설명**\n",
        "\n",
        "| 변수명          | 데이터 타입 | 설명                    |\n",
        "|-----------------|-------------|-------------------------|\n",
        "| Age             | 숫자형      | 환자의 나이             |\n",
        "| Gender          | 범주형      | 환자의 성별             |\n",
        "| Condition       | 범주형      | 진단된 주요 질환        |\n",
        "| Procedure       | 범주형      | 실시된 의료 시술 종류   |\n",
        "| Cost            | 숫자형      | 시술/입원에 발생한 총 비용|\n",
        "| Length_of_Stay  | 숫자형      | 병원에 머문 기간        |\n",
        "| Outcome         | 범주형      | 치료 결과               |\n",
        "| Satisfaction    | 숫자형      | 환자의 만족도 점수      |\n",
        "\n",
        "\n"
      ],
      "metadata": {
        "id": "SLruwqRkGULF"
      }
    },
    {
      "cell_type": "markdown",
      "source": [
        "#데이터 불러오기"
      ],
      "metadata": {
        "id": "0h_Na1gUcWHU"
      }
    },
    {
      "cell_type": "code",
      "source": [
        "# 관련 라이브러리 임포트\n",
        "import torch\n",
        "import numpy as np\n",
        "import random\n",
        "\n",
        "# 모델 학습 결과를 고정시키기 위한 시드 고정하는 코드\n",
        "def set_seed(seed=42):\n",
        "    random.seed(seed)\n",
        "    np.random.seed(seed)\n",
        "    torch.manual_seed(seed)\n",
        "    torch.cuda.manual_seed(seed)\n",
        "    torch.cuda.manual_seed_all(seed)\n",
        "\n",
        "\n",
        "    torch.backends.cudnn.deterministic = True\n",
        "    torch.backends.cudnn.benchmark = False\n",
        "\n",
        "set_seed(42)"
      ],
      "metadata": {
        "id": "Be6skRDrLX5a"
      },
      "execution_count": null,
      "outputs": []
    },
    {
      "cell_type": "code",
      "execution_count": null,
      "metadata": {
        "colab": {
          "base_uri": "https://localhost:8080/",
          "height": 363
        },
        "id": "2koS7yHlPWmK",
        "outputId": "c12640a2-06be-4568-9f87-90d2d6ce770a"
      },
      "outputs": [
        {
          "output_type": "execute_result",
          "data": {
            "text/plain": [
              "   Patient_ID  Age  Gender          Condition                  Procedure  \\\n",
              "0           1   45  Female      Heart Disease                Angioplasty   \n",
              "1           2   60    Male           Diabetes            Insulin Therapy   \n",
              "2           3   32  Female      Fractured Arm           X-Ray and Splint   \n",
              "3           4   75    Male             Stroke     CT Scan and Medication   \n",
              "4           5   50  Female             Cancer   Surgery and Chemotherapy   \n",
              "5           6   68    Male       Hypertension  Medication and Counseling   \n",
              "6           7   55  Female       Appendicitis               Appendectomy   \n",
              "7           8   40    Male      Fractured Leg  Cast and Physical Therapy   \n",
              "8           9   70  Female       Heart Attack    Cardiac Catheterization   \n",
              "9          10   25    Male  Allergic Reaction      Epinephrine Injection   \n",
              "\n",
              "    Cost  Length_of_Stay Readmission    Outcome  Satisfaction  \n",
              "0  15000               5          No  Recovered             4  \n",
              "1   2000               3         Yes     Stable             3  \n",
              "2    500               1          No  Recovered             5  \n",
              "3  10000               7         Yes     Stable             2  \n",
              "4  25000              10          No  Recovered             4  \n",
              "5   1000               2          No     Stable             4  \n",
              "6   8000               4          No  Recovered             3  \n",
              "7   3000               6          No  Recovered             4  \n",
              "8  18000               8         Yes     Stable             2  \n",
              "9    100               1          No  Recovered             5  "
            ],
            "text/html": [
              "\n",
              "  <div id=\"df-eb012f71-0271-4175-be50-66bdf181e300\" class=\"colab-df-container\">\n",
              "    <div>\n",
              "<style scoped>\n",
              "    .dataframe tbody tr th:only-of-type {\n",
              "        vertical-align: middle;\n",
              "    }\n",
              "\n",
              "    .dataframe tbody tr th {\n",
              "        vertical-align: top;\n",
              "    }\n",
              "\n",
              "    .dataframe thead th {\n",
              "        text-align: right;\n",
              "    }\n",
              "</style>\n",
              "<table border=\"1\" class=\"dataframe\">\n",
              "  <thead>\n",
              "    <tr style=\"text-align: right;\">\n",
              "      <th></th>\n",
              "      <th>Patient_ID</th>\n",
              "      <th>Age</th>\n",
              "      <th>Gender</th>\n",
              "      <th>Condition</th>\n",
              "      <th>Procedure</th>\n",
              "      <th>Cost</th>\n",
              "      <th>Length_of_Stay</th>\n",
              "      <th>Readmission</th>\n",
              "      <th>Outcome</th>\n",
              "      <th>Satisfaction</th>\n",
              "    </tr>\n",
              "  </thead>\n",
              "  <tbody>\n",
              "    <tr>\n",
              "      <th>0</th>\n",
              "      <td>1</td>\n",
              "      <td>45</td>\n",
              "      <td>Female</td>\n",
              "      <td>Heart Disease</td>\n",
              "      <td>Angioplasty</td>\n",
              "      <td>15000</td>\n",
              "      <td>5</td>\n",
              "      <td>No</td>\n",
              "      <td>Recovered</td>\n",
              "      <td>4</td>\n",
              "    </tr>\n",
              "    <tr>\n",
              "      <th>1</th>\n",
              "      <td>2</td>\n",
              "      <td>60</td>\n",
              "      <td>Male</td>\n",
              "      <td>Diabetes</td>\n",
              "      <td>Insulin Therapy</td>\n",
              "      <td>2000</td>\n",
              "      <td>3</td>\n",
              "      <td>Yes</td>\n",
              "      <td>Stable</td>\n",
              "      <td>3</td>\n",
              "    </tr>\n",
              "    <tr>\n",
              "      <th>2</th>\n",
              "      <td>3</td>\n",
              "      <td>32</td>\n",
              "      <td>Female</td>\n",
              "      <td>Fractured Arm</td>\n",
              "      <td>X-Ray and Splint</td>\n",
              "      <td>500</td>\n",
              "      <td>1</td>\n",
              "      <td>No</td>\n",
              "      <td>Recovered</td>\n",
              "      <td>5</td>\n",
              "    </tr>\n",
              "    <tr>\n",
              "      <th>3</th>\n",
              "      <td>4</td>\n",
              "      <td>75</td>\n",
              "      <td>Male</td>\n",
              "      <td>Stroke</td>\n",
              "      <td>CT Scan and Medication</td>\n",
              "      <td>10000</td>\n",
              "      <td>7</td>\n",
              "      <td>Yes</td>\n",
              "      <td>Stable</td>\n",
              "      <td>2</td>\n",
              "    </tr>\n",
              "    <tr>\n",
              "      <th>4</th>\n",
              "      <td>5</td>\n",
              "      <td>50</td>\n",
              "      <td>Female</td>\n",
              "      <td>Cancer</td>\n",
              "      <td>Surgery and Chemotherapy</td>\n",
              "      <td>25000</td>\n",
              "      <td>10</td>\n",
              "      <td>No</td>\n",
              "      <td>Recovered</td>\n",
              "      <td>4</td>\n",
              "    </tr>\n",
              "    <tr>\n",
              "      <th>5</th>\n",
              "      <td>6</td>\n",
              "      <td>68</td>\n",
              "      <td>Male</td>\n",
              "      <td>Hypertension</td>\n",
              "      <td>Medication and Counseling</td>\n",
              "      <td>1000</td>\n",
              "      <td>2</td>\n",
              "      <td>No</td>\n",
              "      <td>Stable</td>\n",
              "      <td>4</td>\n",
              "    </tr>\n",
              "    <tr>\n",
              "      <th>6</th>\n",
              "      <td>7</td>\n",
              "      <td>55</td>\n",
              "      <td>Female</td>\n",
              "      <td>Appendicitis</td>\n",
              "      <td>Appendectomy</td>\n",
              "      <td>8000</td>\n",
              "      <td>4</td>\n",
              "      <td>No</td>\n",
              "      <td>Recovered</td>\n",
              "      <td>3</td>\n",
              "    </tr>\n",
              "    <tr>\n",
              "      <th>7</th>\n",
              "      <td>8</td>\n",
              "      <td>40</td>\n",
              "      <td>Male</td>\n",
              "      <td>Fractured Leg</td>\n",
              "      <td>Cast and Physical Therapy</td>\n",
              "      <td>3000</td>\n",
              "      <td>6</td>\n",
              "      <td>No</td>\n",
              "      <td>Recovered</td>\n",
              "      <td>4</td>\n",
              "    </tr>\n",
              "    <tr>\n",
              "      <th>8</th>\n",
              "      <td>9</td>\n",
              "      <td>70</td>\n",
              "      <td>Female</td>\n",
              "      <td>Heart Attack</td>\n",
              "      <td>Cardiac Catheterization</td>\n",
              "      <td>18000</td>\n",
              "      <td>8</td>\n",
              "      <td>Yes</td>\n",
              "      <td>Stable</td>\n",
              "      <td>2</td>\n",
              "    </tr>\n",
              "    <tr>\n",
              "      <th>9</th>\n",
              "      <td>10</td>\n",
              "      <td>25</td>\n",
              "      <td>Male</td>\n",
              "      <td>Allergic Reaction</td>\n",
              "      <td>Epinephrine Injection</td>\n",
              "      <td>100</td>\n",
              "      <td>1</td>\n",
              "      <td>No</td>\n",
              "      <td>Recovered</td>\n",
              "      <td>5</td>\n",
              "    </tr>\n",
              "  </tbody>\n",
              "</table>\n",
              "</div>\n",
              "    <div class=\"colab-df-buttons\">\n",
              "\n",
              "  <div class=\"colab-df-container\">\n",
              "    <button class=\"colab-df-convert\" onclick=\"convertToInteractive('df-eb012f71-0271-4175-be50-66bdf181e300')\"\n",
              "            title=\"Convert this dataframe to an interactive table.\"\n",
              "            style=\"display:none;\">\n",
              "\n",
              "  <svg xmlns=\"http://www.w3.org/2000/svg\" height=\"24px\" viewBox=\"0 -960 960 960\">\n",
              "    <path d=\"M120-120v-720h720v720H120Zm60-500h600v-160H180v160Zm220 220h160v-160H400v160Zm0 220h160v-160H400v160ZM180-400h160v-160H180v160Zm440 0h160v-160H620v160ZM180-180h160v-160H180v160Zm440 0h160v-160H620v160Z\"/>\n",
              "  </svg>\n",
              "    </button>\n",
              "\n",
              "  <style>\n",
              "    .colab-df-container {\n",
              "      display:flex;\n",
              "      gap: 12px;\n",
              "    }\n",
              "\n",
              "    .colab-df-convert {\n",
              "      background-color: #E8F0FE;\n",
              "      border: none;\n",
              "      border-radius: 50%;\n",
              "      cursor: pointer;\n",
              "      display: none;\n",
              "      fill: #1967D2;\n",
              "      height: 32px;\n",
              "      padding: 0 0 0 0;\n",
              "      width: 32px;\n",
              "    }\n",
              "\n",
              "    .colab-df-convert:hover {\n",
              "      background-color: #E2EBFA;\n",
              "      box-shadow: 0px 1px 2px rgba(60, 64, 67, 0.3), 0px 1px 3px 1px rgba(60, 64, 67, 0.15);\n",
              "      fill: #174EA6;\n",
              "    }\n",
              "\n",
              "    .colab-df-buttons div {\n",
              "      margin-bottom: 4px;\n",
              "    }\n",
              "\n",
              "    [theme=dark] .colab-df-convert {\n",
              "      background-color: #3B4455;\n",
              "      fill: #D2E3FC;\n",
              "    }\n",
              "\n",
              "    [theme=dark] .colab-df-convert:hover {\n",
              "      background-color: #434B5C;\n",
              "      box-shadow: 0px 1px 3px 1px rgba(0, 0, 0, 0.15);\n",
              "      filter: drop-shadow(0px 1px 2px rgba(0, 0, 0, 0.3));\n",
              "      fill: #FFFFFF;\n",
              "    }\n",
              "  </style>\n",
              "\n",
              "    <script>\n",
              "      const buttonEl =\n",
              "        document.querySelector('#df-eb012f71-0271-4175-be50-66bdf181e300 button.colab-df-convert');\n",
              "      buttonEl.style.display =\n",
              "        google.colab.kernel.accessAllowed ? 'block' : 'none';\n",
              "\n",
              "      async function convertToInteractive(key) {\n",
              "        const element = document.querySelector('#df-eb012f71-0271-4175-be50-66bdf181e300');\n",
              "        const dataTable =\n",
              "          await google.colab.kernel.invokeFunction('convertToInteractive',\n",
              "                                                    [key], {});\n",
              "        if (!dataTable) return;\n",
              "\n",
              "        const docLinkHtml = 'Like what you see? Visit the ' +\n",
              "          '<a target=\"_blank\" href=https://colab.research.google.com/notebooks/data_table.ipynb>data table notebook</a>'\n",
              "          + ' to learn more about interactive tables.';\n",
              "        element.innerHTML = '';\n",
              "        dataTable['output_type'] = 'display_data';\n",
              "        await google.colab.output.renderOutput(dataTable, element);\n",
              "        const docLink = document.createElement('div');\n",
              "        docLink.innerHTML = docLinkHtml;\n",
              "        element.appendChild(docLink);\n",
              "      }\n",
              "    </script>\n",
              "  </div>\n",
              "\n",
              "\n",
              "    <div id=\"df-cdaa0331-ee31-4900-8d31-dd2e7ebe7537\">\n",
              "      <button class=\"colab-df-quickchart\" onclick=\"quickchart('df-cdaa0331-ee31-4900-8d31-dd2e7ebe7537')\"\n",
              "                title=\"Suggest charts\"\n",
              "                style=\"display:none;\">\n",
              "\n",
              "<svg xmlns=\"http://www.w3.org/2000/svg\" height=\"24px\"viewBox=\"0 0 24 24\"\n",
              "     width=\"24px\">\n",
              "    <g>\n",
              "        <path d=\"M19 3H5c-1.1 0-2 .9-2 2v14c0 1.1.9 2 2 2h14c1.1 0 2-.9 2-2V5c0-1.1-.9-2-2-2zM9 17H7v-7h2v7zm4 0h-2V7h2v10zm4 0h-2v-4h2v4z\"/>\n",
              "    </g>\n",
              "</svg>\n",
              "      </button>\n",
              "\n",
              "<style>\n",
              "  .colab-df-quickchart {\n",
              "      --bg-color: #E8F0FE;\n",
              "      --fill-color: #1967D2;\n",
              "      --hover-bg-color: #E2EBFA;\n",
              "      --hover-fill-color: #174EA6;\n",
              "      --disabled-fill-color: #AAA;\n",
              "      --disabled-bg-color: #DDD;\n",
              "  }\n",
              "\n",
              "  [theme=dark] .colab-df-quickchart {\n",
              "      --bg-color: #3B4455;\n",
              "      --fill-color: #D2E3FC;\n",
              "      --hover-bg-color: #434B5C;\n",
              "      --hover-fill-color: #FFFFFF;\n",
              "      --disabled-bg-color: #3B4455;\n",
              "      --disabled-fill-color: #666;\n",
              "  }\n",
              "\n",
              "  .colab-df-quickchart {\n",
              "    background-color: var(--bg-color);\n",
              "    border: none;\n",
              "    border-radius: 50%;\n",
              "    cursor: pointer;\n",
              "    display: none;\n",
              "    fill: var(--fill-color);\n",
              "    height: 32px;\n",
              "    padding: 0;\n",
              "    width: 32px;\n",
              "  }\n",
              "\n",
              "  .colab-df-quickchart:hover {\n",
              "    background-color: var(--hover-bg-color);\n",
              "    box-shadow: 0 1px 2px rgba(60, 64, 67, 0.3), 0 1px 3px 1px rgba(60, 64, 67, 0.15);\n",
              "    fill: var(--button-hover-fill-color);\n",
              "  }\n",
              "\n",
              "  .colab-df-quickchart-complete:disabled,\n",
              "  .colab-df-quickchart-complete:disabled:hover {\n",
              "    background-color: var(--disabled-bg-color);\n",
              "    fill: var(--disabled-fill-color);\n",
              "    box-shadow: none;\n",
              "  }\n",
              "\n",
              "  .colab-df-spinner {\n",
              "    border: 2px solid var(--fill-color);\n",
              "    border-color: transparent;\n",
              "    border-bottom-color: var(--fill-color);\n",
              "    animation:\n",
              "      spin 1s steps(1) infinite;\n",
              "  }\n",
              "\n",
              "  @keyframes spin {\n",
              "    0% {\n",
              "      border-color: transparent;\n",
              "      border-bottom-color: var(--fill-color);\n",
              "      border-left-color: var(--fill-color);\n",
              "    }\n",
              "    20% {\n",
              "      border-color: transparent;\n",
              "      border-left-color: var(--fill-color);\n",
              "      border-top-color: var(--fill-color);\n",
              "    }\n",
              "    30% {\n",
              "      border-color: transparent;\n",
              "      border-left-color: var(--fill-color);\n",
              "      border-top-color: var(--fill-color);\n",
              "      border-right-color: var(--fill-color);\n",
              "    }\n",
              "    40% {\n",
              "      border-color: transparent;\n",
              "      border-right-color: var(--fill-color);\n",
              "      border-top-color: var(--fill-color);\n",
              "    }\n",
              "    60% {\n",
              "      border-color: transparent;\n",
              "      border-right-color: var(--fill-color);\n",
              "    }\n",
              "    80% {\n",
              "      border-color: transparent;\n",
              "      border-right-color: var(--fill-color);\n",
              "      border-bottom-color: var(--fill-color);\n",
              "    }\n",
              "    90% {\n",
              "      border-color: transparent;\n",
              "      border-bottom-color: var(--fill-color);\n",
              "    }\n",
              "  }\n",
              "</style>\n",
              "\n",
              "      <script>\n",
              "        async function quickchart(key) {\n",
              "          const quickchartButtonEl =\n",
              "            document.querySelector('#' + key + ' button');\n",
              "          quickchartButtonEl.disabled = true;  // To prevent multiple clicks.\n",
              "          quickchartButtonEl.classList.add('colab-df-spinner');\n",
              "          try {\n",
              "            const charts = await google.colab.kernel.invokeFunction(\n",
              "                'suggestCharts', [key], {});\n",
              "          } catch (error) {\n",
              "            console.error('Error during call to suggestCharts:', error);\n",
              "          }\n",
              "          quickchartButtonEl.classList.remove('colab-df-spinner');\n",
              "          quickchartButtonEl.classList.add('colab-df-quickchart-complete');\n",
              "        }\n",
              "        (() => {\n",
              "          let quickchartButtonEl =\n",
              "            document.querySelector('#df-cdaa0331-ee31-4900-8d31-dd2e7ebe7537 button');\n",
              "          quickchartButtonEl.style.display =\n",
              "            google.colab.kernel.accessAllowed ? 'block' : 'none';\n",
              "        })();\n",
              "      </script>\n",
              "    </div>\n",
              "\n",
              "    </div>\n",
              "  </div>\n"
            ],
            "application/vnd.google.colaboratory.intrinsic+json": {
              "type": "dataframe",
              "variable_name": "patient",
              "summary": "{\n  \"name\": \"patient\",\n  \"rows\": 984,\n  \"fields\": [\n    {\n      \"column\": \"Patient_ID\",\n      \"properties\": {\n        \"dtype\": \"number\",\n        \"std\": 288,\n        \"min\": 1,\n        \"max\": 1000,\n        \"num_unique_values\": 984,\n        \"samples\": [\n          624,\n          459,\n          744\n        ],\n        \"semantic_type\": \"\",\n        \"description\": \"\"\n      }\n    },\n    {\n      \"column\": \"Age\",\n      \"properties\": {\n        \"dtype\": \"number\",\n        \"std\": 14,\n        \"min\": 25,\n        \"max\": 78,\n        \"num_unique_values\": 22,\n        \"samples\": [\n          45,\n          52,\n          70\n        ],\n        \"semantic_type\": \"\",\n        \"description\": \"\"\n      }\n    },\n    {\n      \"column\": \"Gender\",\n      \"properties\": {\n        \"dtype\": \"category\",\n        \"num_unique_values\": 2,\n        \"samples\": [\n          \"Male\",\n          \"Female\"\n        ],\n        \"semantic_type\": \"\",\n        \"description\": \"\"\n      }\n    },\n    {\n      \"column\": \"Condition\",\n      \"properties\": {\n        \"dtype\": \"category\",\n        \"num_unique_values\": 15,\n        \"samples\": [\n          \"Allergic Reaction\",\n          \"Prostate Cancer\"\n        ],\n        \"semantic_type\": \"\",\n        \"description\": \"\"\n      }\n    },\n    {\n      \"column\": \"Procedure\",\n      \"properties\": {\n        \"dtype\": \"category\",\n        \"num_unique_values\": 15,\n        \"samples\": [\n          \"Epinephrine Injection\",\n          \"Radiation Therapy\"\n        ],\n        \"semantic_type\": \"\",\n        \"description\": \"\"\n      }\n    },\n    {\n      \"column\": \"Cost\",\n      \"properties\": {\n        \"dtype\": \"number\",\n        \"std\": 7761,\n        \"min\": 100,\n        \"max\": 25000,\n        \"num_unique_values\": 15,\n        \"samples\": [\n          100,\n          20000\n        ],\n        \"semantic_type\": \"\",\n        \"description\": \"\"\n      }\n    },\n    {\n      \"column\": \"Length_of_Stay\",\n      \"properties\": {\n        \"dtype\": \"number\",\n        \"std\": 19,\n        \"min\": 1,\n        \"max\": 76,\n        \"num_unique_values\": 76,\n        \"samples\": [\n          10,\n          36\n        ],\n        \"semantic_type\": \"\",\n        \"description\": \"\"\n      }\n    },\n    {\n      \"column\": \"Readmission\",\n      \"properties\": {\n        \"dtype\": \"category\",\n        \"num_unique_values\": 2,\n        \"samples\": [\n          \"Yes\",\n          \"No\"\n        ],\n        \"semantic_type\": \"\",\n        \"description\": \"\"\n      }\n    },\n    {\n      \"column\": \"Outcome\",\n      \"properties\": {\n        \"dtype\": \"category\",\n        \"num_unique_values\": 2,\n        \"samples\": [\n          \"Stable\",\n          \"Recovered\"\n        ],\n        \"semantic_type\": \"\",\n        \"description\": \"\"\n      }\n    },\n    {\n      \"column\": \"Satisfaction\",\n      \"properties\": {\n        \"dtype\": \"number\",\n        \"std\": 0,\n        \"min\": 2,\n        \"max\": 5,\n        \"num_unique_values\": 4,\n        \"samples\": [\n          3,\n          2\n        ],\n        \"semantic_type\": \"\",\n        \"description\": \"\"\n      }\n    }\n  ]\n}"
            }
          },
          "metadata": {},
          "execution_count": 117
        }
      ],
      "source": [
        "# 관련 라이브러리 임포트하는 코드\n",
        "import pandas as pd\n",
        "import matplotlib.pyplot as plt\n",
        "import seaborn as sns\n",
        "\n",
        "# 데이터 불러오는 코드\n",
        "patient = pd.read_csv('/content/drive/MyDrive/hospital data analysis.csv')\n",
        "patient.head(10)"
      ]
    },
    {
      "cell_type": "markdown",
      "source": [
        "## 4. 데이터 전처리\n",
        "❤ 의료 데이터 셋의 변수별 특성과 역할에 따라 전처리를 수행했습니다.\n",
        "\n",
        " ❤ Patient_ID - 환자의 고유한 값으로 예측에  필요없는 특성이라고 판단해서 삭제했습니다.\n",
        "\n",
        " ❤ Age - 환자의 나이 정보로 정수형 데이터 형태입니다. 이상치 확인 결과 발견되지 않아서 정규화하는 전처리를 수행했습니다.\n",
        "\n",
        " ❤ Gender - 환자의 성별 정보로 라벨 인코딩을 활용해 정수형으로 변환했습니다\n",
        "\n",
        " ❤ Condition - 환자의 질병 유형에 관한 정보로 범주형 데이터입니다. 범주 개수가 적어 Label Encoding 적용 후에 Entity Embedding 입력으로 사용했습니다.\n",
        "\n",
        " ❤ Procedure - 환자의 시술 종류로 범주형 데이터이고 Condition과 같은 처리를 진행했습니다.\n",
        "\n",
        " ❤ Cost - 시술에 대한 비용으로 수치형 데이터이고 고비용의 이상치가 존재하여 로그변환 후에 정규화 전처리를 진행했습니다.\n",
        "\n",
        " ❤ Length_of_Stay - 입원 기간을 나타내는 정보로 한쪽으로 너무 치우쳐져 정규화를 진행했습니다.\n",
        "\n",
        " ❤ Satisfaction - 환자 만족도를 나타내는 데이터로 결측치가 존재해서 평균값으로 대체했고 정규화 처리했습니다.\n",
        "\n",
        " ❤ Readmission - 재입원 여부 데이터로 이진 분류를 진행했습니다.\n",
        "\n",
        " ❤ Outcome - 시술의 최종 결과로 에측 변수입니다."
      ],
      "metadata": {
        "id": "v-huTmTCMf3k"
      }
    },
    {
      "cell_type": "markdown",
      "source": [
        "# 데이터 전처리 하기"
      ],
      "metadata": {
        "id": "SmblY86qcrDx"
      }
    },
    {
      "cell_type": "code",
      "source": [
        "# 전처리를 하기 위한 라이브러리 임포트하는 코드\n",
        "import pandas as pd\n",
        "from sklearn.preprocessing import LabelEncoder, StandardScaler\n",
        "from sklearn.model_selection import train_test_split"
      ],
      "metadata": {
        "id": "OD97T3bXe0xZ"
      },
      "execution_count": null,
      "outputs": []
    },
    {
      "cell_type": "code",
      "source": [
        "# 데이터 안에 존재하는 특성 출력하는 코드\n",
        "print(patient.columns.tolist())"
      ],
      "metadata": {
        "id": "i_yyw-cifLiL",
        "outputId": "6112c5a6-aac8-47a1-d4a1-a11f24026aab",
        "colab": {
          "base_uri": "https://localhost:8080/"
        }
      },
      "execution_count": null,
      "outputs": [
        {
          "output_type": "stream",
          "name": "stdout",
          "text": [
            "['Patient_ID', 'Age', 'Gender', 'Condition', 'Procedure', 'Cost', 'Length_of_Stay', 'Readmission', 'Outcome', 'Satisfaction']\n"
          ]
        }
      ]
    },
    {
      "cell_type": "code",
      "source": [
        "# 예측하는 과정에서 필요없는 특성을 제거하는 코드\n",
        "if 'Patient_ID' in patient.columns:\n",
        "    patient.drop(columns=['Patient_ID'], inplace=True)"
      ],
      "metadata": {
        "id": "hV494_c9e3fq"
      },
      "execution_count": null,
      "outputs": []
    },
    {
      "cell_type": "code",
      "source": [
        "# 데이터에서 결측값들을 적절하게 채우는 코드\n",
        "patient.fillna({\n",
        "    'Age': patient['Age'].median(),\n",
        "    'Gender': patient['Gender'].mode()[0],\n",
        "    'Condition': 'Unknown',\n",
        "    'Procedure': 'Unknown',\n",
        "    'Cost': patient['Cost'].median(),\n",
        "    'Length_of_Stay': patient['Length_of_Stay'].median(),\n",
        "    'Readmission': 'No',\n",
        "    'Outcome': 'Unknown',\n",
        "    'Satisfaction': patient['Satisfaction'].mode()[0]\n",
        "}, inplace=True)"
      ],
      "metadata": {
        "id": "SjSNe5gme9lP"
      },
      "execution_count": null,
      "outputs": []
    },
    {
      "cell_type": "code",
      "source": [
        "# 범주형 특성들을 수치형으로 변환하는 코드\n",
        "le = LabelEncoder()\n",
        "patient['Outcome_Label'] = le.fit_transform(patient['Outcome'])"
      ],
      "metadata": {
        "id": "Fl9BP_Yfl6F7"
      },
      "execution_count": null,
      "outputs": []
    },
    {
      "cell_type": "code",
      "source": [
        "# 환자의 데이터를 원핫인코딩하는 코드\n",
        "categorical_cols = ['Gender', 'Condition', 'Procedure', 'Readmission']\n",
        "patient = pd.get_dummies(patient, columns=categorical_cols)"
      ],
      "metadata": {
        "id": "p-NDzWJfl-Dm"
      },
      "execution_count": null,
      "outputs": []
    },
    {
      "cell_type": "code",
      "source": [
        "# 입력변수와 타겟변수를 처리하는 코드\n",
        "X = patient.drop(columns=['Outcome'])\n",
        "y = patient['Outcome_Label']"
      ],
      "metadata": {
        "id": "YkcNkyVXmEuA"
      },
      "execution_count": null,
      "outputs": []
    },
    {
      "cell_type": "code",
      "source": [
        "# 입력 데이터를 바탕으로 표준화를 진행하는 코드\n",
        "scaler = StandardScaler()\n",
        "X_scaled = scaler.fit_transform(X)"
      ],
      "metadata": {
        "id": "Dcx-4FT8mYDZ"
      },
      "execution_count": null,
      "outputs": []
    },
    {
      "cell_type": "code",
      "source": [
        "# 데이터를 분할하는 코드\n",
        "X_train, X_test, y_train, y_test = train_test_split(\n",
        "    X_scaled, y, test_size=0.2, random_state=42, stratify=y\n",
        ")"
      ],
      "metadata": {
        "id": "jdhVVzQRmr6b"
      },
      "execution_count": null,
      "outputs": []
    },
    {
      "cell_type": "code",
      "source": [
        "# 데이터 전처리를 완료하고 확인하는 코드\n",
        "print(\"데이터 전처리 완료함\")\n",
        "print(\"X_train shape:\", X_train.shape)\n",
        "print(\"y label mapping:\", dict(zip(le.classes_, le.transform(le.classes_))))"
      ],
      "metadata": {
        "colab": {
          "base_uri": "https://localhost:8080/"
        },
        "id": "gsxbzyNrmx2T",
        "outputId": "dbf4debd-85d1-4771-b422-5ce1e4e83f31"
      },
      "execution_count": null,
      "outputs": [
        {
          "output_type": "stream",
          "name": "stdout",
          "text": [
            "데이터 전처리 완료함\n",
            "X_train shape: (787, 39)\n",
            "y label mapping: {'Recovered': np.int64(0), 'Stable': np.int64(1)}\n"
          ]
        }
      ]
    },
    {
      "cell_type": "code",
      "source": [
        "# 입력 데이터의 크기와 타겟 데이터의 크기를 확인하는 코드\n",
        "X_scaled.shape\n",
        "y.shape"
      ],
      "metadata": {
        "colab": {
          "base_uri": "https://localhost:8080/"
        },
        "id": "GfjvMVPhVeTY",
        "outputId": "3e861a25-7482-4e71-b714-11e3b21fcea6"
      },
      "execution_count": null,
      "outputs": [
        {
          "output_type": "execute_result",
          "data": {
            "text/plain": [
              "(984,)"
            ]
          },
          "metadata": {},
          "execution_count": 128
        }
      ]
    },
    {
      "cell_type": "code",
      "source": [
        "from sklearn.preprocessing import LabelEncoder\n",
        "\n",
        "# 범주형 타켓 변수를 숫자 레이블로 변환하는 코드\n",
        "le = LabelEncoder()\n",
        "y_train_encoded = le.fit_transform(y_train)\n",
        "y_test_encoded = le.transform(y_test)"
      ],
      "metadata": {
        "id": "bZEXMVJdZicT"
      },
      "execution_count": null,
      "outputs": []
    },
    {
      "cell_type": "code",
      "source": [
        "# 각 변수의 타입을 확인하는 코드\n",
        "print(type(y_train))\n",
        "print(y_train[:10])\n",
        "print([type(x) for x in y_train[:10]])"
      ],
      "metadata": {
        "colab": {
          "base_uri": "https://localhost:8080/"
        },
        "id": "7Cex-WUXaPCS",
        "outputId": "021ba19f-edc9-43f5-a5b1-210e8176acca"
      },
      "execution_count": null,
      "outputs": [
        {
          "output_type": "stream",
          "name": "stdout",
          "text": [
            "<class 'pandas.core.series.Series'>\n",
            "507    1\n",
            "345    1\n",
            "933    1\n",
            "71     0\n",
            "544    0\n",
            "645    1\n",
            "532    1\n",
            "905    1\n",
            "658    0\n",
            "562    1\n",
            "Name: Outcome_Label, dtype: int64\n",
            "[<class 'int'>, <class 'int'>, <class 'int'>, <class 'int'>, <class 'int'>, <class 'int'>, <class 'int'>, <class 'int'>, <class 'int'>, <class 'int'>]\n"
          ]
        }
      ]
    },
    {
      "cell_type": "code",
      "source": [
        "# 라벨 값의 종류를 확인하는 코드\n",
        "print(\"라벨 종류:\", patient['Outcome'].unique())\n",
        "\n",
        "# 라벨의 분포 형태 알아보는 코드\n",
        "print(\"라벨 분포:\")\n",
        "print(patient['Outcome'].value_counts())\n",
        "\n",
        "# 결측치를 확인하는 코드\n",
        "missing_labels = patient['Outcome'].isnull().sum()\n",
        "print(f\"라벨 결측치 개수: {missing_labels}\")"
      ],
      "metadata": {
        "colab": {
          "base_uri": "https://localhost:8080/"
        },
        "id": "4gRecIVnDvrd",
        "outputId": "eb0db2b0-c610-4b62-901d-702e0279fb92"
      },
      "execution_count": null,
      "outputs": [
        {
          "output_type": "stream",
          "name": "stdout",
          "text": [
            "라벨 종류: ['Recovered' 'Stable']\n",
            "라벨 분포:\n",
            "Outcome\n",
            "Recovered    591\n",
            "Stable       393\n",
            "Name: count, dtype: int64\n",
            "라벨 결측치 개수: 0\n"
          ]
        }
      ]
    },
    {
      "cell_type": "code",
      "source": [
        "import pandas as pd\n",
        "\n",
        "# 훈련 데이터와 테스트 데이터의 라벨 분포를 출력하는 코드\n",
        "print(\"Train 라벨 분포:\")\n",
        "print(pd.Series(y_train).value_counts(normalize=True))\n",
        "\n",
        "print(\"\\nTest 라벨 분포:\")\n",
        "print(pd.Series(y_test).value_counts(normalize=True))"
      ],
      "metadata": {
        "colab": {
          "base_uri": "https://localhost:8080/"
        },
        "id": "zIBs6FqOEWFX",
        "outputId": "07b032b6-4bc3-40b0-d167-ed7907bd3958"
      },
      "execution_count": null,
      "outputs": [
        {
          "output_type": "stream",
          "name": "stdout",
          "text": [
            "Train 라벨 분포:\n",
            "Outcome_Label\n",
            "0    0.601017\n",
            "1    0.398983\n",
            "Name: proportion, dtype: float64\n",
            "\n",
            "Test 라벨 분포:\n",
            "Outcome_Label\n",
            "0    0.598985\n",
            "1    0.401015\n",
            "Name: proportion, dtype: float64\n"
          ]
        }
      ]
    },
    {
      "cell_type": "code",
      "source": [
        "import numpy as np\n",
        "\n",
        "# 넘파이 배열로 변환하는 코드\n",
        "if 'pandas' in str(type(X_train)):\n",
        "    X_train = X_train.to_numpy(dtype=np.float32)\n",
        "    X_test = X_test.to_numpy(dtype=np.float32)\n",
        "\n",
        "if 'pandas' in str(type(y_train)):\n",
        "\n",
        "    from sklearn.preprocessing import LabelEncoder\n",
        "    le = LabelEncoder()\n",
        "    y_train = le.fit_transform(y_train)\n",
        "    y_test = le.transform(y_test)\n",
        "\n",
        "    # 넘파이 배열로 변환하는 코드\n",
        "    y_train = y_train.astype(np.float32)\n",
        "    y_test = y_test.astype(np.float32)"
      ],
      "metadata": {
        "id": "xYAhGIS4SBEb"
      },
      "execution_count": null,
      "outputs": []
    },
    {
      "cell_type": "markdown",
      "source": [
        "## 5. 다층 퍼셉트론 모델 구조\n",
        "\n",
        "❤ **데이터 분할**: 가장 기본적으로 사용하는 데이터 분할 비율을 사용했습니다.\n",
        "\n",
        "❤ **입력**: 수치형 변수는 그대로 사용하고, 범주형 변수는 nn.Embedding을 통해 임베딩 벡터로 변환하여 입력층에 결합했습니다.\n",
        "\n",
        "❤ **은닉층**: 총 2개의 은닉층 구성 -> 첫 번째 은닉층: 64차원 / 두 번째 은닉층: 32차원입니다.\n",
        "\n",
        "❤ **출력층**: 1개의 뉴런을 사용하여 이진 분류를 수행했습니다.\n",
        "\n",
        "❤ **활성화 함수**: ReLU를 각 은닉층에 사용하였고 출력층에는 시그모이드 함수를 사용했습니다.\n",
        "\n",
        "❤ **옵티마이저**: 모델에 사용한 옵티마이저는 제일 많이 사용한다는 adam입니다.\n",
        "\n",
        "❤ **손실함수**: 모델에 사용한 손실함수는 크로스엔트로피입니다.\n",
        "\n",
        "❤ **에포크**: 에포크는 25로 설정하여 학습했습니다."
      ],
      "metadata": {
        "id": "Sp1bcAeRuxHh"
      }
    },
    {
      "cell_type": "markdown",
      "source": [
        "# 다층 퍼셉트론 모델 구현하기"
      ],
      "metadata": {
        "id": "m7KLG813VhGg"
      }
    },
    {
      "cell_type": "code",
      "source": [
        "# 관련 라이브러리 임포트하는 코드\n",
        "import numpy as np\n",
        "import pandas as pd\n",
        "from sklearn.model_selection import train_test_split\n",
        "from sklearn.preprocessing import LabelEncoder, StandardScaler\n",
        "from sklearn.metrics import classification_report, confusion_matrix\n",
        "from tensorflow.keras.models import Sequential\n",
        "from tensorflow.keras.layers import Dense\n",
        "from tensorflow.keras.optimizers import Adam"
      ],
      "metadata": {
        "id": "aibygHbVQc6-"
      },
      "execution_count": null,
      "outputs": []
    },
    {
      "cell_type": "code",
      "source": [
        "# 모델 구현하고 컴파일하는 코드\n",
        "model = Sequential([\n",
        "    Dense(64, activation='relu', input_shape=(X_train.shape[1],)),\n",
        "    Dense(32, activation='relu'),\n",
        "    Dense(1, activation='sigmoid')\n",
        "])\n",
        "\n",
        "model.compile(\n",
        "    optimizer='adam',\n",
        "    loss='binary_crossentropy',\n",
        "    metrics=['accuracy']\n",
        ")"
      ],
      "metadata": {
        "colab": {
          "base_uri": "https://localhost:8080/"
        },
        "id": "ZZu6AhRSR5NO",
        "outputId": "68b0843d-1f20-47fe-df29-b0983cf47b82"
      },
      "execution_count": null,
      "outputs": [
        {
          "output_type": "stream",
          "name": "stderr",
          "text": [
            "/usr/local/lib/python3.11/dist-packages/keras/src/layers/core/dense.py:87: UserWarning: Do not pass an `input_shape`/`input_dim` argument to a layer. When using Sequential models, prefer using an `Input(shape)` object as the first layer in the model instead.\n",
            "  super().__init__(activity_regularizer=activity_regularizer, **kwargs)\n"
          ]
        }
      ]
    },
    {
      "cell_type": "code",
      "source": [
        "model.summary()"
      ],
      "metadata": {
        "colab": {
          "base_uri": "https://localhost:8080/",
          "height": 229
        },
        "id": "UZQ3cWRXwrax",
        "outputId": "b2bbdb25-55c6-4e41-8d1c-4d9371bf45fb"
      },
      "execution_count": null,
      "outputs": [
        {
          "output_type": "display_data",
          "data": {
            "text/plain": [
              "\u001b[1mModel: \"sequential_2\"\u001b[0m\n"
            ],
            "text/html": [
              "<pre style=\"white-space:pre;overflow-x:auto;line-height:normal;font-family:Menlo,'DejaVu Sans Mono',consolas,'Courier New',monospace\"><span style=\"font-weight: bold\">Model: \"sequential_2\"</span>\n",
              "</pre>\n"
            ]
          },
          "metadata": {}
        },
        {
          "output_type": "display_data",
          "data": {
            "text/plain": [
              "┏━━━━━━━━━━━━━━━━━━━━━━━━━━━━━━━━━┳━━━━━━━━━━━━━━━━━━━━━━━━┳━━━━━━━━━━━━━━━┓\n",
              "┃\u001b[1m \u001b[0m\u001b[1mLayer (type)                   \u001b[0m\u001b[1m \u001b[0m┃\u001b[1m \u001b[0m\u001b[1mOutput Shape          \u001b[0m\u001b[1m \u001b[0m┃\u001b[1m \u001b[0m\u001b[1m      Param #\u001b[0m\u001b[1m \u001b[0m┃\n",
              "┡━━━━━━━━━━━━━━━━━━━━━━━━━━━━━━━━━╇━━━━━━━━━━━━━━━━━━━━━━━━╇━━━━━━━━━━━━━━━┩\n",
              "│ dense_6 (\u001b[38;5;33mDense\u001b[0m)                 │ (\u001b[38;5;45mNone\u001b[0m, \u001b[38;5;34m64\u001b[0m)             │         \u001b[38;5;34m2,560\u001b[0m │\n",
              "├─────────────────────────────────┼────────────────────────┼───────────────┤\n",
              "│ dense_7 (\u001b[38;5;33mDense\u001b[0m)                 │ (\u001b[38;5;45mNone\u001b[0m, \u001b[38;5;34m32\u001b[0m)             │         \u001b[38;5;34m2,080\u001b[0m │\n",
              "├─────────────────────────────────┼────────────────────────┼───────────────┤\n",
              "│ dense_8 (\u001b[38;5;33mDense\u001b[0m)                 │ (\u001b[38;5;45mNone\u001b[0m, \u001b[38;5;34m1\u001b[0m)              │            \u001b[38;5;34m33\u001b[0m │\n",
              "└─────────────────────────────────┴────────────────────────┴───────────────┘\n"
            ],
            "text/html": [
              "<pre style=\"white-space:pre;overflow-x:auto;line-height:normal;font-family:Menlo,'DejaVu Sans Mono',consolas,'Courier New',monospace\">┏━━━━━━━━━━━━━━━━━━━━━━━━━━━━━━━━━┳━━━━━━━━━━━━━━━━━━━━━━━━┳━━━━━━━━━━━━━━━┓\n",
              "┃<span style=\"font-weight: bold\"> Layer (type)                    </span>┃<span style=\"font-weight: bold\"> Output Shape           </span>┃<span style=\"font-weight: bold\">       Param # </span>┃\n",
              "┡━━━━━━━━━━━━━━━━━━━━━━━━━━━━━━━━━╇━━━━━━━━━━━━━━━━━━━━━━━━╇━━━━━━━━━━━━━━━┩\n",
              "│ dense_6 (<span style=\"color: #0087ff; text-decoration-color: #0087ff\">Dense</span>)                 │ (<span style=\"color: #00d7ff; text-decoration-color: #00d7ff\">None</span>, <span style=\"color: #00af00; text-decoration-color: #00af00\">64</span>)             │         <span style=\"color: #00af00; text-decoration-color: #00af00\">2,560</span> │\n",
              "├─────────────────────────────────┼────────────────────────┼───────────────┤\n",
              "│ dense_7 (<span style=\"color: #0087ff; text-decoration-color: #0087ff\">Dense</span>)                 │ (<span style=\"color: #00d7ff; text-decoration-color: #00d7ff\">None</span>, <span style=\"color: #00af00; text-decoration-color: #00af00\">32</span>)             │         <span style=\"color: #00af00; text-decoration-color: #00af00\">2,080</span> │\n",
              "├─────────────────────────────────┼────────────────────────┼───────────────┤\n",
              "│ dense_8 (<span style=\"color: #0087ff; text-decoration-color: #0087ff\">Dense</span>)                 │ (<span style=\"color: #00d7ff; text-decoration-color: #00d7ff\">None</span>, <span style=\"color: #00af00; text-decoration-color: #00af00\">1</span>)              │            <span style=\"color: #00af00; text-decoration-color: #00af00\">33</span> │\n",
              "└─────────────────────────────────┴────────────────────────┴───────────────┘\n",
              "</pre>\n"
            ]
          },
          "metadata": {}
        },
        {
          "output_type": "display_data",
          "data": {
            "text/plain": [
              "\u001b[1m Total params: \u001b[0m\u001b[38;5;34m4,673\u001b[0m (18.25 KB)\n"
            ],
            "text/html": [
              "<pre style=\"white-space:pre;overflow-x:auto;line-height:normal;font-family:Menlo,'DejaVu Sans Mono',consolas,'Courier New',monospace\"><span style=\"font-weight: bold\"> Total params: </span><span style=\"color: #00af00; text-decoration-color: #00af00\">4,673</span> (18.25 KB)\n",
              "</pre>\n"
            ]
          },
          "metadata": {}
        },
        {
          "output_type": "display_data",
          "data": {
            "text/plain": [
              "\u001b[1m Trainable params: \u001b[0m\u001b[38;5;34m4,673\u001b[0m (18.25 KB)\n"
            ],
            "text/html": [
              "<pre style=\"white-space:pre;overflow-x:auto;line-height:normal;font-family:Menlo,'DejaVu Sans Mono',consolas,'Courier New',monospace\"><span style=\"font-weight: bold\"> Trainable params: </span><span style=\"color: #00af00; text-decoration-color: #00af00\">4,673</span> (18.25 KB)\n",
              "</pre>\n"
            ]
          },
          "metadata": {}
        },
        {
          "output_type": "display_data",
          "data": {
            "text/plain": [
              "\u001b[1m Non-trainable params: \u001b[0m\u001b[38;5;34m0\u001b[0m (0.00 B)\n"
            ],
            "text/html": [
              "<pre style=\"white-space:pre;overflow-x:auto;line-height:normal;font-family:Menlo,'DejaVu Sans Mono',consolas,'Courier New',monospace\"><span style=\"font-weight: bold\"> Non-trainable params: </span><span style=\"color: #00af00; text-decoration-color: #00af00\">0</span> (0.00 B)\n",
              "</pre>\n"
            ]
          },
          "metadata": {}
        }
      ]
    },
    {
      "cell_type": "code",
      "source": [
        "# 딥러닝 모델을 훈련시키는 코드\n",
        "history = model.fit(\n",
        "    X_train, y_train,\n",
        "    validation_data=(X_test, y_test),\n",
        "    epochs=25,\n",
        "    batch_size=32,\n",
        "    verbose=2\n",
        ")"
      ],
      "metadata": {
        "colab": {
          "base_uri": "https://localhost:8080/"
        },
        "id": "GjjhL138R62J",
        "outputId": "58ba8d39-fd70-4617-d217-70ff4e5edc4e"
      },
      "execution_count": null,
      "outputs": [
        {
          "output_type": "stream",
          "name": "stdout",
          "text": [
            "Epoch 1/25\n",
            "25/25 - 2s - 87ms/step - accuracy: 0.7586 - loss: 0.5443 - val_accuracy: 1.0000 - val_loss: 0.3215\n",
            "Epoch 2/25\n",
            "25/25 - 0s - 15ms/step - accuracy: 1.0000 - loss: 0.1924 - val_accuracy: 1.0000 - val_loss: 0.0979\n",
            "Epoch 3/25\n",
            "25/25 - 0s - 11ms/step - accuracy: 1.0000 - loss: 0.0560 - val_accuracy: 1.0000 - val_loss: 0.0306\n",
            "Epoch 4/25\n",
            "25/25 - 0s - 10ms/step - accuracy: 1.0000 - loss: 0.0205 - val_accuracy: 1.0000 - val_loss: 0.0137\n",
            "Epoch 5/25\n",
            "25/25 - 0s - 6ms/step - accuracy: 1.0000 - loss: 0.0104 - val_accuracy: 1.0000 - val_loss: 0.0080\n",
            "Epoch 6/25\n",
            "25/25 - 0s - 11ms/step - accuracy: 1.0000 - loss: 0.0065 - val_accuracy: 1.0000 - val_loss: 0.0054\n",
            "Epoch 7/25\n",
            "25/25 - 0s - 7ms/step - accuracy: 1.0000 - loss: 0.0045 - val_accuracy: 1.0000 - val_loss: 0.0039\n",
            "Epoch 8/25\n",
            "25/25 - 0s - 11ms/step - accuracy: 1.0000 - loss: 0.0033 - val_accuracy: 1.0000 - val_loss: 0.0029\n",
            "Epoch 9/25\n",
            "25/25 - 0s - 5ms/step - accuracy: 1.0000 - loss: 0.0026 - val_accuracy: 1.0000 - val_loss: 0.0023\n",
            "Epoch 10/25\n",
            "25/25 - 0s - 6ms/step - accuracy: 1.0000 - loss: 0.0020 - val_accuracy: 1.0000 - val_loss: 0.0018\n",
            "Epoch 11/25\n",
            "25/25 - 0s - 5ms/step - accuracy: 1.0000 - loss: 0.0016 - val_accuracy: 1.0000 - val_loss: 0.0015\n",
            "Epoch 12/25\n",
            "25/25 - 0s - 6ms/step - accuracy: 1.0000 - loss: 0.0014 - val_accuracy: 1.0000 - val_loss: 0.0013\n",
            "Epoch 13/25\n",
            "25/25 - 0s - 5ms/step - accuracy: 1.0000 - loss: 0.0011 - val_accuracy: 1.0000 - val_loss: 0.0011\n",
            "Epoch 14/25\n",
            "25/25 - 0s - 5ms/step - accuracy: 1.0000 - loss: 9.6596e-04 - val_accuracy: 1.0000 - val_loss: 9.1062e-04\n",
            "Epoch 15/25\n",
            "25/25 - 0s - 6ms/step - accuracy: 1.0000 - loss: 8.3136e-04 - val_accuracy: 1.0000 - val_loss: 7.8923e-04\n",
            "Epoch 16/25\n",
            "25/25 - 0s - 5ms/step - accuracy: 1.0000 - loss: 7.2375e-04 - val_accuracy: 1.0000 - val_loss: 6.9189e-04\n",
            "Epoch 17/25\n",
            "25/25 - 0s - 5ms/step - accuracy: 1.0000 - loss: 6.3661e-04 - val_accuracy: 1.0000 - val_loss: 6.1108e-04\n",
            "Epoch 18/25\n",
            "25/25 - 0s - 5ms/step - accuracy: 1.0000 - loss: 5.6369e-04 - val_accuracy: 1.0000 - val_loss: 5.4397e-04\n",
            "Epoch 19/25\n",
            "25/25 - 0s - 6ms/step - accuracy: 1.0000 - loss: 5.0284e-04 - val_accuracy: 1.0000 - val_loss: 4.8768e-04\n",
            "Epoch 20/25\n",
            "25/25 - 0s - 11ms/step - accuracy: 1.0000 - loss: 4.5139e-04 - val_accuracy: 1.0000 - val_loss: 4.3922e-04\n",
            "Epoch 21/25\n",
            "25/25 - 0s - 6ms/step - accuracy: 1.0000 - loss: 4.0728e-04 - val_accuracy: 1.0000 - val_loss: 3.9754e-04\n",
            "Epoch 22/25\n",
            "25/25 - 0s - 5ms/step - accuracy: 1.0000 - loss: 3.6935e-04 - val_accuracy: 1.0000 - val_loss: 3.6145e-04\n",
            "Epoch 23/25\n",
            "25/25 - 0s - 5ms/step - accuracy: 1.0000 - loss: 3.3644e-04 - val_accuracy: 1.0000 - val_loss: 3.3022e-04\n",
            "Epoch 24/25\n",
            "25/25 - 0s - 5ms/step - accuracy: 1.0000 - loss: 3.0772e-04 - val_accuracy: 1.0000 - val_loss: 3.0301e-04\n",
            "Epoch 25/25\n",
            "25/25 - 0s - 5ms/step - accuracy: 1.0000 - loss: 2.8274e-04 - val_accuracy: 1.0000 - val_loss: 2.7900e-04\n"
          ]
        }
      ]
    },
    {
      "cell_type": "markdown",
      "source": [
        "##5-1. 다층 퍼셉트론 모델 성능 결과\n",
        "\n",
        "❤ MLP 모델을 학습하고 난 다음 학습이 제대로 이루어졌는지 확인하기 위한 예측 성능 지표를 평가하고 출력하는 코드를 실행했습니다.\n",
        "\n",
        "❤ **결과**: 기대와는 다르게 데이터 셋이 적어서 그런지 몰라도 너무 지나치게 잘 예측하는 과적합이 의심되는 지표가 출력되었습니다.\n",
        "\n",
        "❤ 훈련 데이터 셋의 평가와 테스트 데이터 셋의 평가가 모두 100%로 예측을 성공하는 지표는 결코 모델이 좋다고 할 수 없기 때문에 다른 방법을 사용해보기로 했습니다."
      ],
      "metadata": {
        "id": "vq1lZqRexBOO"
      }
    },
    {
      "cell_type": "code",
      "source": [
        "# 훈련한 데이터로 예측하고 평가하는 코드\n",
        "y_train_pred = (model.predict(X_train) >= 0.5).astype(int).reshape(-1)\n",
        "y_test_pred = (model.predict(X_test) >= 0.5).astype(int).reshape(-1)\n",
        "\n",
        "print(\"Train 데이터 성능:\")\n",
        "print(classification_report(y_train, y_train_pred))\n",
        "print(\"Train 데이터 혼동 행렬:\")\n",
        "print(confusion_matrix(y_train, y_train_pred))\n",
        "\n",
        "print(\"\\nTest 데이터 성능:\")\n",
        "print(classification_report(y_test, y_test_pred))\n",
        "print(\"Test 데이터 혼동 행렬:\")\n",
        "print(confusion_matrix(y_test, y_test_pred))"
      ],
      "metadata": {
        "colab": {
          "base_uri": "https://localhost:8080/"
        },
        "id": "zA-t6YD8SFkj",
        "outputId": "beaf36ec-3d27-4880-d901-de29eec48918"
      },
      "execution_count": null,
      "outputs": [
        {
          "output_type": "stream",
          "name": "stdout",
          "text": [
            "\u001b[1m25/25\u001b[0m \u001b[32m━━━━━━━━━━━━━━━━━━━━\u001b[0m\u001b[37m\u001b[0m \u001b[1m0s\u001b[0m 3ms/step\n",
            "\u001b[1m7/7\u001b[0m \u001b[32m━━━━━━━━━━━━━━━━━━━━\u001b[0m\u001b[37m\u001b[0m \u001b[1m0s\u001b[0m 4ms/step \n",
            "Train 데이터 성능:\n",
            "              precision    recall  f1-score   support\n",
            "\n",
            "         0.0       1.00      1.00      1.00       473\n",
            "         1.0       1.00      1.00      1.00       314\n",
            "\n",
            "    accuracy                           1.00       787\n",
            "   macro avg       1.00      1.00      1.00       787\n",
            "weighted avg       1.00      1.00      1.00       787\n",
            "\n",
            "Train 데이터 혼동 행렬:\n",
            "[[473   0]\n",
            " [  0 314]]\n",
            "\n",
            "Test 데이터 성능:\n",
            "              precision    recall  f1-score   support\n",
            "\n",
            "         0.0       1.00      1.00      1.00       118\n",
            "         1.0       1.00      1.00      1.00        79\n",
            "\n",
            "    accuracy                           1.00       197\n",
            "   macro avg       1.00      1.00      1.00       197\n",
            "weighted avg       1.00      1.00      1.00       197\n",
            "\n",
            "Test 데이터 혼동 행렬:\n",
            "[[118   0]\n",
            " [  0  79]]\n"
          ]
        }
      ]
    },
    {
      "cell_type": "code",
      "source": [
        "from sklearn.metrics import classification_report, confusion_matrix\n",
        "\n",
        "# 훈련 데이터셋을 예측하는 코드\n",
        "y_train_pred_prob = model.predict(X_train)\n",
        "y_train_pred = (y_train_pred_prob > 0.5).astype(int).flatten()\n",
        "\n",
        "# 테스트 데이터셋을 예측하는 코드\n",
        "y_test_pred_prob = model.predict(X_test)\n",
        "y_test_pred = (y_test_pred_prob > 0.5).astype(int).flatten()"
      ],
      "metadata": {
        "colab": {
          "base_uri": "https://localhost:8080/"
        },
        "id": "8p_sPc8qSfKg",
        "outputId": "a21ff078-e0bb-4435-c5f0-601c067389a8"
      },
      "execution_count": null,
      "outputs": [
        {
          "output_type": "stream",
          "name": "stdout",
          "text": [
            "\u001b[1m25/25\u001b[0m \u001b[32m━━━━━━━━━━━━━━━━━━━━\u001b[0m\u001b[37m\u001b[0m \u001b[1m0s\u001b[0m 2ms/step \n",
            "\u001b[1m7/7\u001b[0m \u001b[32m━━━━━━━━━━━━━━━━━━━━\u001b[0m\u001b[37m\u001b[0m \u001b[1m0s\u001b[0m 4ms/step \n"
          ]
        }
      ]
    },
    {
      "cell_type": "code",
      "source": [
        "# 훈련 데이터셋을 평가하는 코드\n",
        "print(\"Train 데이터 성능:\")\n",
        "print(classification_report(y_train, y_train_pred))\n",
        "print(\"Train 데이터 혼동 행렬:\")\n",
        "print(confusion_matrix(y_train, y_train_pred))\n",
        "\n",
        "# 테스트 데이터셋을 평가하는 코드\n",
        "print(\"\\nTest 데이터 성능:\")\n",
        "print(classification_report(y_test, y_test_pred))\n",
        "print(\"Test 데이터 혼동 행렬:\")\n",
        "print(confusion_matrix(y_test, y_test_pred))"
      ],
      "metadata": {
        "colab": {
          "base_uri": "https://localhost:8080/"
        },
        "id": "bZmwHUszLkyZ",
        "outputId": "73a07493-e434-4fb5-ec39-3601770f6c3a"
      },
      "execution_count": null,
      "outputs": [
        {
          "output_type": "stream",
          "name": "stdout",
          "text": [
            "Train 데이터 성능:\n",
            "              precision    recall  f1-score   support\n",
            "\n",
            "         0.0       1.00      1.00      1.00       473\n",
            "         1.0       1.00      1.00      1.00       314\n",
            "\n",
            "    accuracy                           1.00       787\n",
            "   macro avg       1.00      1.00      1.00       787\n",
            "weighted avg       1.00      1.00      1.00       787\n",
            "\n",
            "Train 데이터 혼동 행렬:\n",
            "[[473   0]\n",
            " [  0 314]]\n",
            "\n",
            "Test 데이터 성능:\n",
            "              precision    recall  f1-score   support\n",
            "\n",
            "         0.0       1.00      1.00      1.00       118\n",
            "         1.0       1.00      1.00      1.00        79\n",
            "\n",
            "    accuracy                           1.00       197\n",
            "   macro avg       1.00      1.00      1.00       197\n",
            "weighted avg       1.00      1.00      1.00       197\n",
            "\n",
            "Test 데이터 혼동 행렬:\n",
            "[[118   0]\n",
            " [  0  79]]\n"
          ]
        }
      ]
    },
    {
      "cell_type": "markdown",
      "source": [
        "##  5-2. 다층 퍼셉트론 과적합 의심 문제 해결 첫 번째\n",
        "\n",
        "❤ 과적합 된 가능성이 있어서 데이터 양을 늘리는 방향으로 해결해볼 수 있다고 생각해서 데이터를 늘려봤습니다.\n",
        "\n",
        "❤ 데이터 양을 늘리는 코드에 대해서는 지식이 부족했기 때문에 Chat GPT의 도움을 받아 SMOTE라는 방법을 추천해주었고 코드를 실행해봤습니다.\n",
        "\n",
        "❤ SMOTE는 데이터 불균형을 완화시켜주는 코드로 한쪽으로 편향되는 문제점을 막고 과적합 문제에서도 유용하다고 알려져 있습니다.\n",
        "\n",
        "❤ 그 결과 SMOTE를 처리하기 전에는 314개였던 데이터가 처리하고 난 다음에는 473으로 조금 상승하였습니다.\n",
        "\n",
        "❤ 본격적으로 모델을 다시 학습하기 전에 주성분 분석으로 처리를 한 다음 데이터의 양상을 볼 수 있는 시각화도 진행해봤습니다.\n",
        "\n",
        "❤ 아까 위에서 했던 MLP 모델을 똑같이 구현했고 에포크 수만 30으로 늘려서 학습과 평가를 진행했습니다.\n",
        "\n",
        "\n",
        "\n",
        "\n",
        "\n"
      ],
      "metadata": {
        "id": "1qjKAhiHkw1G"
      }
    },
    {
      "cell_type": "code",
      "source": [
        "from imblearn.over_sampling import SMOTE\n",
        "from collections import Counter\n",
        "\n",
        "# 데이터 불균형을 조정하기위해 SMOTE 사용하는 코드\n",
        "print(\"Before SMOTE:\", Counter(y_train))\n",
        "\n",
        "smote = SMOTE(random_state=42)\n",
        "X_train_resampled, y_train_resampled = smote.fit_resample(X_train, y_train)\n",
        "\n",
        "print(\"After SMOTE:\", Counter(y_train_resampled))"
      ],
      "metadata": {
        "colab": {
          "base_uri": "https://localhost:8080/"
        },
        "id": "wNR_b30AlC8G",
        "outputId": "a62c3c9b-9e15-4ca8-c103-8c8cc7e085d0"
      },
      "execution_count": null,
      "outputs": [
        {
          "output_type": "stream",
          "name": "stdout",
          "text": [
            "Before SMOTE: Counter({np.float32(0.0): 473, np.float32(1.0): 314})\n",
            "After SMOTE: Counter({np.float32(1.0): 473, np.float32(0.0): 473})\n"
          ]
        }
      ]
    },
    {
      "cell_type": "code",
      "source": [
        "import matplotlib.pyplot as plt\n",
        "from sklearn.decomposition import PCA\n",
        "\n",
        "# 주성분 분석하는 코드\n",
        "pca = PCA(n_components=2)\n",
        "X_pca = pca.fit_transform(X_train_resampled)\n",
        "\n",
        "# 시각화하는 코드\n",
        "plt.figure(figsize=(6, 5))\n",
        "plt.scatter(X_pca[:, 0], X_pca[:, 1], c=y_train_resampled, cmap='coolwarm', alpha=0.7)\n",
        "plt.title('SMOTE 적용 후 데이터 분포 (PCA)')\n",
        "plt.xlabel('PC1')\n",
        "plt.ylabel('PC2')\n",
        "plt.grid(True)\n",
        "plt.show()"
      ],
      "metadata": {
        "colab": {
          "base_uri": "https://localhost:8080/",
          "height": 779
        },
        "id": "SRBC7RZVlk1B",
        "outputId": "11385b9f-8a5e-41f0-f708-9c5f2e79247d"
      },
      "execution_count": null,
      "outputs": [
        {
          "output_type": "stream",
          "name": "stderr",
          "text": [
            "/usr/local/lib/python3.11/dist-packages/IPython/core/pylabtools.py:151: UserWarning: Glyph 51201 (\\N{HANGUL SYLLABLE JEOG}) missing from font(s) DejaVu Sans.\n",
            "  fig.canvas.print_figure(bytes_io, **kw)\n",
            "/usr/local/lib/python3.11/dist-packages/IPython/core/pylabtools.py:151: UserWarning: Glyph 50857 (\\N{HANGUL SYLLABLE YONG}) missing from font(s) DejaVu Sans.\n",
            "  fig.canvas.print_figure(bytes_io, **kw)\n",
            "/usr/local/lib/python3.11/dist-packages/IPython/core/pylabtools.py:151: UserWarning: Glyph 54980 (\\N{HANGUL SYLLABLE HU}) missing from font(s) DejaVu Sans.\n",
            "  fig.canvas.print_figure(bytes_io, **kw)\n",
            "/usr/local/lib/python3.11/dist-packages/IPython/core/pylabtools.py:151: UserWarning: Glyph 45936 (\\N{HANGUL SYLLABLE DE}) missing from font(s) DejaVu Sans.\n",
            "  fig.canvas.print_figure(bytes_io, **kw)\n",
            "/usr/local/lib/python3.11/dist-packages/IPython/core/pylabtools.py:151: UserWarning: Glyph 51060 (\\N{HANGUL SYLLABLE I}) missing from font(s) DejaVu Sans.\n",
            "  fig.canvas.print_figure(bytes_io, **kw)\n",
            "/usr/local/lib/python3.11/dist-packages/IPython/core/pylabtools.py:151: UserWarning: Glyph 53552 (\\N{HANGUL SYLLABLE TEO}) missing from font(s) DejaVu Sans.\n",
            "  fig.canvas.print_figure(bytes_io, **kw)\n",
            "/usr/local/lib/python3.11/dist-packages/IPython/core/pylabtools.py:151: UserWarning: Glyph 48516 (\\N{HANGUL SYLLABLE BUN}) missing from font(s) DejaVu Sans.\n",
            "  fig.canvas.print_figure(bytes_io, **kw)\n",
            "/usr/local/lib/python3.11/dist-packages/IPython/core/pylabtools.py:151: UserWarning: Glyph 54252 (\\N{HANGUL SYLLABLE PO}) missing from font(s) DejaVu Sans.\n",
            "  fig.canvas.print_figure(bytes_io, **kw)\n"
          ]
        },
        {
          "output_type": "display_data",
          "data": {
            "text/plain": [
              "<Figure size 600x500 with 1 Axes>"
            ],
            "image/png": "[encoded data removed]"
          },
          "metadata": {}
        }
      ]
    },
    {
      "cell_type": "code",
      "source": [
        "from imblearn.over_sampling import SMOTE\n",
        "from collections import Counter\n",
        "\n",
        "# 훈련 데이터에 SMOTE를 적용해서 균형을 맞추는 코드\n",
        "smote = SMOTE(random_state=42)\n",
        "X_train_resampled, y_train_resampled = smote.fit_resample(X_train, y_train)\n",
        "\n",
        "print(\"Before SMOTE:\", Counter(y_train))\n",
        "print(\"After SMOTE:\", Counter(y_train_resampled))"
      ],
      "metadata": {
        "colab": {
          "base_uri": "https://localhost:8080/"
        },
        "id": "yDTMyp5Flur7",
        "outputId": "c29be1d7-eb32-4aa4-d4d2-817e8c23de64"
      },
      "execution_count": null,
      "outputs": [
        {
          "output_type": "stream",
          "name": "stdout",
          "text": [
            "Before SMOTE: Counter({np.float32(0.0): 473, np.float32(1.0): 314})\n",
            "After SMOTE: Counter({np.float32(1.0): 473, np.float32(0.0): 473})\n"
          ]
        }
      ]
    },
    {
      "cell_type": "code",
      "source": [
        "from tensorflow.keras.models import Sequential\n",
        "from tensorflow.keras.layers import Dense\n",
        "from tensorflow.keras.optimizers import Adam"
      ],
      "metadata": {
        "id": "cvBx6wsnlwqy"
      },
      "execution_count": null,
      "outputs": []
    },
    {
      "cell_type": "code",
      "source": [
        "# 모델 다시 생성하고 컴파일하는 코드\n",
        "model = Sequential()\n",
        "model.add(Dense(64, activation='relu', input_shape=(X_train.shape[1],)))\n",
        "model.add(Dense(32, activation='relu'))\n",
        "model.add(Dense(1, activation='sigmoid'))\n",
        "\n",
        "model.compile(optimizer=Adam(learning_rate=0.001),\n",
        "              loss='binary_crossentropy',\n",
        "              metrics=['accuracy'])"
      ],
      "metadata": {
        "colab": {
          "base_uri": "https://localhost:8080/"
        },
        "id": "HEdjk4tVMnIr",
        "outputId": "0d94ab35-32cf-480d-dbd1-745adf48d19c"
      },
      "execution_count": null,
      "outputs": [
        {
          "output_type": "stream",
          "name": "stderr",
          "text": [
            "/usr/local/lib/python3.11/dist-packages/keras/src/layers/core/dense.py:87: UserWarning: Do not pass an `input_shape`/`input_dim` argument to a layer. When using Sequential models, prefer using an `Input(shape)` object as the first layer in the model instead.\n",
            "  super().__init__(activity_regularizer=activity_regularizer, **kwargs)\n"
          ]
        }
      ]
    },
    {
      "cell_type": "code",
      "source": [
        "model.summary()"
      ],
      "metadata": {
        "colab": {
          "base_uri": "https://localhost:8080/",
          "height": 229
        },
        "id": "6ge_1k6DJI50",
        "outputId": "b794e209-8321-4a3b-aea4-a66afc49c686"
      },
      "execution_count": null,
      "outputs": [
        {
          "output_type": "display_data",
          "data": {
            "text/plain": [
              "\u001b[1mModel: \"sequential_3\"\u001b[0m\n"
            ],
            "text/html": [
              "<pre style=\"white-space:pre;overflow-x:auto;line-height:normal;font-family:Menlo,'DejaVu Sans Mono',consolas,'Courier New',monospace\"><span style=\"font-weight: bold\">Model: \"sequential_3\"</span>\n",
              "</pre>\n"
            ]
          },
          "metadata": {}
        },
        {
          "output_type": "display_data",
          "data": {
            "text/plain": [
              "┏━━━━━━━━━━━━━━━━━━━━━━━━━━━━━━━━━┳━━━━━━━━━━━━━━━━━━━━━━━━┳━━━━━━━━━━━━━━━┓\n",
              "┃\u001b[1m \u001b[0m\u001b[1mLayer (type)                   \u001b[0m\u001b[1m \u001b[0m┃\u001b[1m \u001b[0m\u001b[1mOutput Shape          \u001b[0m\u001b[1m \u001b[0m┃\u001b[1m \u001b[0m\u001b[1m      Param #\u001b[0m\u001b[1m \u001b[0m┃\n",
              "┡━━━━━━━━━━━━━━━━━━━━━━━━━━━━━━━━━╇━━━━━━━━━━━━━━━━━━━━━━━━╇━━━━━━━━━━━━━━━┩\n",
              "│ dense_9 (\u001b[38;5;33mDense\u001b[0m)                 │ (\u001b[38;5;45mNone\u001b[0m, \u001b[38;5;34m64\u001b[0m)             │         \u001b[38;5;34m2,560\u001b[0m │\n",
              "├─────────────────────────────────┼────────────────────────┼───────────────┤\n",
              "│ dense_10 (\u001b[38;5;33mDense\u001b[0m)                │ (\u001b[38;5;45mNone\u001b[0m, \u001b[38;5;34m32\u001b[0m)             │         \u001b[38;5;34m2,080\u001b[0m │\n",
              "├─────────────────────────────────┼────────────────────────┼───────────────┤\n",
              "│ dense_11 (\u001b[38;5;33mDense\u001b[0m)                │ (\u001b[38;5;45mNone\u001b[0m, \u001b[38;5;34m1\u001b[0m)              │            \u001b[38;5;34m33\u001b[0m │\n",
              "└─────────────────────────────────┴────────────────────────┴───────────────┘\n"
            ],
            "text/html": [
              "<pre style=\"white-space:pre;overflow-x:auto;line-height:normal;font-family:Menlo,'DejaVu Sans Mono',consolas,'Courier New',monospace\">┏━━━━━━━━━━━━━━━━━━━━━━━━━━━━━━━━━┳━━━━━━━━━━━━━━━━━━━━━━━━┳━━━━━━━━━━━━━━━┓\n",
              "┃<span style=\"font-weight: bold\"> Layer (type)                    </span>┃<span style=\"font-weight: bold\"> Output Shape           </span>┃<span style=\"font-weight: bold\">       Param # </span>┃\n",
              "┡━━━━━━━━━━━━━━━━━━━━━━━━━━━━━━━━━╇━━━━━━━━━━━━━━━━━━━━━━━━╇━━━━━━━━━━━━━━━┩\n",
              "│ dense_9 (<span style=\"color: #0087ff; text-decoration-color: #0087ff\">Dense</span>)                 │ (<span style=\"color: #00d7ff; text-decoration-color: #00d7ff\">None</span>, <span style=\"color: #00af00; text-decoration-color: #00af00\">64</span>)             │         <span style=\"color: #00af00; text-decoration-color: #00af00\">2,560</span> │\n",
              "├─────────────────────────────────┼────────────────────────┼───────────────┤\n",
              "│ dense_10 (<span style=\"color: #0087ff; text-decoration-color: #0087ff\">Dense</span>)                │ (<span style=\"color: #00d7ff; text-decoration-color: #00d7ff\">None</span>, <span style=\"color: #00af00; text-decoration-color: #00af00\">32</span>)             │         <span style=\"color: #00af00; text-decoration-color: #00af00\">2,080</span> │\n",
              "├─────────────────────────────────┼────────────────────────┼───────────────┤\n",
              "│ dense_11 (<span style=\"color: #0087ff; text-decoration-color: #0087ff\">Dense</span>)                │ (<span style=\"color: #00d7ff; text-decoration-color: #00d7ff\">None</span>, <span style=\"color: #00af00; text-decoration-color: #00af00\">1</span>)              │            <span style=\"color: #00af00; text-decoration-color: #00af00\">33</span> │\n",
              "└─────────────────────────────────┴────────────────────────┴───────────────┘\n",
              "</pre>\n"
            ]
          },
          "metadata": {}
        },
        {
          "output_type": "display_data",
          "data": {
            "text/plain": [
              "\u001b[1m Total params: \u001b[0m\u001b[38;5;34m4,673\u001b[0m (18.25 KB)\n"
            ],
            "text/html": [
              "<pre style=\"white-space:pre;overflow-x:auto;line-height:normal;font-family:Menlo,'DejaVu Sans Mono',consolas,'Courier New',monospace\"><span style=\"font-weight: bold\"> Total params: </span><span style=\"color: #00af00; text-decoration-color: #00af00\">4,673</span> (18.25 KB)\n",
              "</pre>\n"
            ]
          },
          "metadata": {}
        },
        {
          "output_type": "display_data",
          "data": {
            "text/plain": [
              "\u001b[1m Trainable params: \u001b[0m\u001b[38;5;34m4,673\u001b[0m (18.25 KB)\n"
            ],
            "text/html": [
              "<pre style=\"white-space:pre;overflow-x:auto;line-height:normal;font-family:Menlo,'DejaVu Sans Mono',consolas,'Courier New',monospace\"><span style=\"font-weight: bold\"> Trainable params: </span><span style=\"color: #00af00; text-decoration-color: #00af00\">4,673</span> (18.25 KB)\n",
              "</pre>\n"
            ]
          },
          "metadata": {}
        },
        {
          "output_type": "display_data",
          "data": {
            "text/plain": [
              "\u001b[1m Non-trainable params: \u001b[0m\u001b[38;5;34m0\u001b[0m (0.00 B)\n"
            ],
            "text/html": [
              "<pre style=\"white-space:pre;overflow-x:auto;line-height:normal;font-family:Menlo,'DejaVu Sans Mono',consolas,'Courier New',monospace\"><span style=\"font-weight: bold\"> Non-trainable params: </span><span style=\"color: #00af00; text-decoration-color: #00af00\">0</span> (0.00 B)\n",
              "</pre>\n"
            ]
          },
          "metadata": {}
        }
      ]
    },
    {
      "cell_type": "code",
      "source": [
        "# 모델 재훈련하는 코드\n",
        "history = model.fit(\n",
        "    X_train_resampled,\n",
        "    y_train_resampled,\n",
        "    validation_data=(X_test, y_test),\n",
        "    epochs=30,\n",
        "    batch_size=32,\n",
        "    verbose=1\n",
        ")"
      ],
      "metadata": {
        "colab": {
          "base_uri": "https://localhost:8080/"
        },
        "id": "PNckRviGMqIc",
        "outputId": "dd0412d9-4b31-4962-bc47-bc12524af7ca"
      },
      "execution_count": null,
      "outputs": [
        {
          "output_type": "stream",
          "name": "stdout",
          "text": [
            "Epoch 1/30\n",
            "\u001b[1m30/30\u001b[0m \u001b[32m━━━━━━━━━━━━━━━━━━━━\u001b[0m\u001b[37m\u001b[0m \u001b[1m2s\u001b[0m 11ms/step - accuracy: 0.6091 - loss: 0.6477 - val_accuracy: 1.0000 - val_loss: 0.2755\n",
            "Epoch 2/30\n",
            "\u001b[1m30/30\u001b[0m \u001b[32m━━━━━━━━━━━━━━━━━━━━\u001b[0m\u001b[37m\u001b[0m \u001b[1m0s\u001b[0m 4ms/step - accuracy: 1.0000 - loss: 0.1952 - val_accuracy: 1.0000 - val_loss: 0.0858\n",
            "Epoch 3/30\n",
            "\u001b[1m30/30\u001b[0m \u001b[32m━━━━━━━━━━━━━━━━━━━━\u001b[0m\u001b[37m\u001b[0m \u001b[1m0s\u001b[0m 4ms/step - accuracy: 1.0000 - loss: 0.0644 - val_accuracy: 1.0000 - val_loss: 0.0287\n",
            "Epoch 4/30\n",
            "\u001b[1m30/30\u001b[0m \u001b[32m━━━━━━━━━━━━━━━━━━━━\u001b[0m\u001b[37m\u001b[0m \u001b[1m0s\u001b[0m 4ms/step - accuracy: 1.0000 - loss: 0.0227 - val_accuracy: 1.0000 - val_loss: 0.0117\n",
            "Epoch 5/30\n",
            "\u001b[1m30/30\u001b[0m \u001b[32m━━━━━━━━━━━━━━━━━━━━\u001b[0m\u001b[37m\u001b[0m \u001b[1m0s\u001b[0m 4ms/step - accuracy: 1.0000 - loss: 0.0098 - val_accuracy: 1.0000 - val_loss: 0.0064\n",
            "Epoch 6/30\n",
            "\u001b[1m30/30\u001b[0m \u001b[32m━━━━━━━━━━━━━━━━━━━━\u001b[0m\u001b[37m\u001b[0m \u001b[1m0s\u001b[0m 4ms/step - accuracy: 1.0000 - loss: 0.0054 - val_accuracy: 1.0000 - val_loss: 0.0041\n",
            "Epoch 7/30\n",
            "\u001b[1m30/30\u001b[0m \u001b[32m━━━━━━━━━━━━━━━━━━━━\u001b[0m\u001b[37m\u001b[0m \u001b[1m0s\u001b[0m 4ms/step - accuracy: 1.0000 - loss: 0.0037 - val_accuracy: 1.0000 - val_loss: 0.0028\n",
            "Epoch 8/30\n",
            "\u001b[1m30/30\u001b[0m \u001b[32m━━━━━━━━━━━━━━━━━━━━\u001b[0m\u001b[37m\u001b[0m \u001b[1m0s\u001b[0m 4ms/step - accuracy: 1.0000 - loss: 0.0025 - val_accuracy: 1.0000 - val_loss: 0.0021\n",
            "Epoch 9/30\n",
            "\u001b[1m30/30\u001b[0m \u001b[32m━━━━━━━━━━━━━━━━━━━━\u001b[0m\u001b[37m\u001b[0m \u001b[1m0s\u001b[0m 4ms/step - accuracy: 1.0000 - loss: 0.0019 - val_accuracy: 1.0000 - val_loss: 0.0016\n",
            "Epoch 10/30\n",
            "\u001b[1m30/30\u001b[0m \u001b[32m━━━━━━━━━━━━━━━━━━━━\u001b[0m\u001b[37m\u001b[0m \u001b[1m0s\u001b[0m 4ms/step - accuracy: 1.0000 - loss: 0.0014 - val_accuracy: 1.0000 - val_loss: 0.0013\n",
            "Epoch 11/30\n",
            "\u001b[1m30/30\u001b[0m \u001b[32m━━━━━━━━━━━━━━━━━━━━\u001b[0m\u001b[37m\u001b[0m \u001b[1m0s\u001b[0m 4ms/step - accuracy: 1.0000 - loss: 0.0012 - val_accuracy: 1.0000 - val_loss: 0.0010\n",
            "Epoch 12/30\n",
            "\u001b[1m30/30\u001b[0m \u001b[32m━━━━━━━━━━━━━━━━━━━━\u001b[0m\u001b[37m\u001b[0m \u001b[1m0s\u001b[0m 5ms/step - accuracy: 1.0000 - loss: 9.0117e-04 - val_accuracy: 1.0000 - val_loss: 8.4352e-04\n",
            "Epoch 13/30\n",
            "\u001b[1m30/30\u001b[0m \u001b[32m━━━━━━━━━━━━━━━━━━━━\u001b[0m\u001b[37m\u001b[0m \u001b[1m0s\u001b[0m 4ms/step - accuracy: 1.0000 - loss: 7.9548e-04 - val_accuracy: 1.0000 - val_loss: 7.0731e-04\n",
            "Epoch 14/30\n",
            "\u001b[1m30/30\u001b[0m \u001b[32m━━━━━━━━━━━━━━━━━━━━\u001b[0m\u001b[37m\u001b[0m \u001b[1m0s\u001b[0m 4ms/step - accuracy: 1.0000 - loss: 6.5000e-04 - val_accuracy: 1.0000 - val_loss: 6.0326e-04\n",
            "Epoch 15/30\n",
            "\u001b[1m30/30\u001b[0m \u001b[32m━━━━━━━━━━━━━━━━━━━━\u001b[0m\u001b[37m\u001b[0m \u001b[1m0s\u001b[0m 4ms/step - accuracy: 1.0000 - loss: 5.5669e-04 - val_accuracy: 1.0000 - val_loss: 5.2046e-04\n",
            "Epoch 16/30\n",
            "\u001b[1m30/30\u001b[0m \u001b[32m━━━━━━━━━━━━━━━━━━━━\u001b[0m\u001b[37m\u001b[0m \u001b[1m0s\u001b[0m 4ms/step - accuracy: 1.0000 - loss: 4.8826e-04 - val_accuracy: 1.0000 - val_loss: 4.5371e-04\n",
            "Epoch 17/30\n",
            "\u001b[1m30/30\u001b[0m \u001b[32m━━━━━━━━━━━━━━━━━━━━\u001b[0m\u001b[37m\u001b[0m \u001b[1m0s\u001b[0m 4ms/step - accuracy: 1.0000 - loss: 4.2476e-04 - val_accuracy: 1.0000 - val_loss: 3.9971e-04\n",
            "Epoch 18/30\n",
            "\u001b[1m30/30\u001b[0m \u001b[32m━━━━━━━━━━━━━━━━━━━━\u001b[0m\u001b[37m\u001b[0m \u001b[1m0s\u001b[0m 4ms/step - accuracy: 1.0000 - loss: 3.7860e-04 - val_accuracy: 1.0000 - val_loss: 3.5389e-04\n",
            "Epoch 19/30\n",
            "\u001b[1m30/30\u001b[0m \u001b[32m━━━━━━━━━━━━━━━━━━━━\u001b[0m\u001b[37m\u001b[0m \u001b[1m0s\u001b[0m 4ms/step - accuracy: 1.0000 - loss: 3.3269e-04 - val_accuracy: 1.0000 - val_loss: 3.1564e-04\n",
            "Epoch 20/30\n",
            "\u001b[1m30/30\u001b[0m \u001b[32m━━━━━━━━━━━━━━━━━━━━\u001b[0m\u001b[37m\u001b[0m \u001b[1m0s\u001b[0m 7ms/step - accuracy: 1.0000 - loss: 2.9556e-04 - val_accuracy: 1.0000 - val_loss: 2.8332e-04\n",
            "Epoch 21/30\n",
            "\u001b[1m30/30\u001b[0m \u001b[32m━━━━━━━━━━━━━━━━━━━━\u001b[0m\u001b[37m\u001b[0m \u001b[1m0s\u001b[0m 6ms/step - accuracy: 1.0000 - loss: 2.5719e-04 - val_accuracy: 1.0000 - val_loss: 2.5593e-04\n",
            "Epoch 22/30\n",
            "\u001b[1m30/30\u001b[0m \u001b[32m━━━━━━━━━━━━━━━━━━━━\u001b[0m\u001b[37m\u001b[0m \u001b[1m0s\u001b[0m 6ms/step - accuracy: 1.0000 - loss: 2.4176e-04 - val_accuracy: 1.0000 - val_loss: 2.3204e-04\n",
            "Epoch 23/30\n",
            "\u001b[1m30/30\u001b[0m \u001b[32m━━━━━━━━━━━━━━━━━━━━\u001b[0m\u001b[37m\u001b[0m \u001b[1m0s\u001b[0m 7ms/step - accuracy: 1.0000 - loss: 2.1856e-04 - val_accuracy: 1.0000 - val_loss: 2.1164e-04\n",
            "Epoch 24/30\n",
            "\u001b[1m30/30\u001b[0m \u001b[32m━━━━━━━━━━━━━━━━━━━━\u001b[0m\u001b[37m\u001b[0m \u001b[1m0s\u001b[0m 6ms/step - accuracy: 1.0000 - loss: 1.9855e-04 - val_accuracy: 1.0000 - val_loss: 1.9395e-04\n",
            "Epoch 25/30\n",
            "\u001b[1m30/30\u001b[0m \u001b[32m━━━━━━━━━━━━━━━━━━━━\u001b[0m\u001b[37m\u001b[0m \u001b[1m0s\u001b[0m 6ms/step - accuracy: 1.0000 - loss: 1.7762e-04 - val_accuracy: 1.0000 - val_loss: 1.7836e-04\n",
            "Epoch 26/30\n",
            "\u001b[1m30/30\u001b[0m \u001b[32m━━━━━━━━━━━━━━━━━━━━\u001b[0m\u001b[37m\u001b[0m \u001b[1m0s\u001b[0m 7ms/step - accuracy: 1.0000 - loss: 1.6793e-04 - val_accuracy: 1.0000 - val_loss: 1.6450e-04\n",
            "Epoch 27/30\n",
            "\u001b[1m30/30\u001b[0m \u001b[32m━━━━━━━━━━━━━━━━━━━━\u001b[0m\u001b[37m\u001b[0m \u001b[1m0s\u001b[0m 7ms/step - accuracy: 1.0000 - loss: 1.5382e-04 - val_accuracy: 1.0000 - val_loss: 1.5215e-04\n",
            "Epoch 28/30\n",
            "\u001b[1m30/30\u001b[0m \u001b[32m━━━━━━━━━━━━━━━━━━━━\u001b[0m\u001b[37m\u001b[0m \u001b[1m0s\u001b[0m 7ms/step - accuracy: 1.0000 - loss: 1.4111e-04 - val_accuracy: 1.0000 - val_loss: 1.4114e-04\n",
            "Epoch 29/30\n",
            "\u001b[1m30/30\u001b[0m \u001b[32m━━━━━━━━━━━━━━━━━━━━\u001b[0m\u001b[37m\u001b[0m \u001b[1m0s\u001b[0m 7ms/step - accuracy: 1.0000 - loss: 1.3243e-04 - val_accuracy: 1.0000 - val_loss: 1.3138e-04\n",
            "Epoch 30/30\n",
            "\u001b[1m30/30\u001b[0m \u001b[32m━━━━━━━━━━━━━━━━━━━━\u001b[0m\u001b[37m\u001b[0m \u001b[1m0s\u001b[0m 4ms/step - accuracy: 1.0000 - loss: 1.2642e-04 - val_accuracy: 1.0000 - val_loss: 1.2246e-04\n"
          ]
        }
      ]
    },
    {
      "cell_type": "markdown",
      "source": [
        "## 5-3. SMOTE 처리 후 모델 평가의 성능\n",
        "\n",
        "❤ 데이터의 양이 늘어서 과적합의 문제가 조금을 해결될거라 믿었는데 여전히 같은 성능을 보이고 있어서 소용이 없었던 것 같습니다.\n",
        "\n",
        "❤ 데이터 양이 너무 적어서 과도하게 학습된 것이 근본적으로 해결이 안된 모습을 보이고 있습니다.\n",
        "\n",
        "❤ 다른 대안으로 우선 교차검증을 실행해보기로 결정했습니다."
      ],
      "metadata": {
        "id": "7jhPPMrHz8L4"
      }
    },
    {
      "cell_type": "code",
      "source": [
        "from sklearn.metrics import classification_report, confusion_matrix\n",
        "\n",
        "# 예측하는 코드\n",
        "y_pred_train = model.predict(X_train_resampled).round()\n",
        "y_pred_test = model.predict(X_test).round()"
      ],
      "metadata": {
        "colab": {
          "base_uri": "https://localhost:8080/"
        },
        "id": "MH02-P6gl1He",
        "outputId": "58077ceb-82a9-4fcb-cfff-ed81f5b552da"
      },
      "execution_count": null,
      "outputs": [
        {
          "output_type": "stream",
          "name": "stdout",
          "text": [
            "\u001b[1m30/30\u001b[0m \u001b[32m━━━━━━━━━━━━━━━━━━━━\u001b[0m\u001b[37m\u001b[0m \u001b[1m0s\u001b[0m 3ms/step\n",
            "\u001b[1m7/7\u001b[0m \u001b[32m━━━━━━━━━━━━━━━━━━━━\u001b[0m\u001b[37m\u001b[0m \u001b[1m0s\u001b[0m 4ms/step \n"
          ]
        }
      ]
    },
    {
      "cell_type": "code",
      "source": [
        "# 평가 지표들을 출력하는 코드\n",
        "print(\"Train 데이터 성능:\")\n",
        "print(classification_report(y_train_resampled, y_pred_train))\n",
        "print(\"Train 데이터 혼동 행렬:\")\n",
        "print(confusion_matrix(y_train_resampled, y_pred_train))\n",
        "\n",
        "print(\"\\nTest 데이터 성능:\")\n",
        "print(classification_report(y_test, y_pred_test))\n",
        "print(\"Test 데이터 혼동 행렬:\")\n",
        "print(confusion_matrix(y_test, y_pred_test))"
      ],
      "metadata": {
        "colab": {
          "base_uri": "https://localhost:8080/"
        },
        "id": "BL6Nb2SQM8Ct",
        "outputId": "4a64e3e0-6248-4e69-be8f-d9edb7fdcf24"
      },
      "execution_count": null,
      "outputs": [
        {
          "output_type": "stream",
          "name": "stdout",
          "text": [
            "Train 데이터 성능:\n",
            "              precision    recall  f1-score   support\n",
            "\n",
            "         0.0       1.00      1.00      1.00       473\n",
            "         1.0       1.00      1.00      1.00       473\n",
            "\n",
            "    accuracy                           1.00       946\n",
            "   macro avg       1.00      1.00      1.00       946\n",
            "weighted avg       1.00      1.00      1.00       946\n",
            "\n",
            "Train 데이터 혼동 행렬:\n",
            "[[473   0]\n",
            " [  0 473]]\n",
            "\n",
            "Test 데이터 성능:\n",
            "              precision    recall  f1-score   support\n",
            "\n",
            "         0.0       1.00      1.00      1.00       118\n",
            "         1.0       1.00      1.00      1.00        79\n",
            "\n",
            "    accuracy                           1.00       197\n",
            "   macro avg       1.00      1.00      1.00       197\n",
            "weighted avg       1.00      1.00      1.00       197\n",
            "\n",
            "Test 데이터 혼동 행렬:\n",
            "[[118   0]\n",
            " [  0  79]]\n"
          ]
        }
      ]
    },
    {
      "cell_type": "markdown",
      "source": [
        "## 5-4. 문제 해결을 위해 교차검증 실시해보기\n",
        "\n",
        "❤ 가장 먼저 교차검증을 위한 라이브러리들을 임포트 하였습니다.\n",
        "\n",
        "❤ **입력층**: 입력 차원은 input_dim으로 전처리된 입력 데이터의 특성 수에 대응되도록 구섷했고 원-핫 인코딩 등을 포함한 모든 특성을 실수형으로 모델에 전달하도록 구현했습니다.\n",
        "\n",
        "❤ **은닉층**: 은닉층은 1개로 구성했으며 기본값인 64로 형성했습니다. 또한 ReLu함수를 사용하여 구현했습니다.\n",
        "\n",
        "❤ **출력층**: 출력층은 분류 대상 클래스로 정의되었고 CrossEntropyLoss를 사용하는 구조입니다.\n",
        "\n",
        "❤ 전체 모델 흐름 요약\n",
        "\n",
        "Input (input_dim 차원)\n",
        "\n",
        "↓\n",
        "\n",
        "Linear (input_dim → hidden_dim)\n",
        "\n",
        "↓\n",
        "\n",
        "ReLU\n",
        "\n",
        "↓\n",
        "\n",
        "Linear (hidden_dim → output_dim)\n",
        "\n",
        "↓\n",
        "\n",
        "CrossEntropyLoss\n",
        "\n",
        "❤ 다음으로 장치 설정을 하고 5개의 폴드로 나누는 구조를 만들었습니다.\n",
        "\n",
        "❤ **교차 검증 학습**: 훈련 데이터와 테스트 데이터를 나누고 범주형 특성의 원핫인코딩을 비롯해서 칼럼을 정리한 다음 텐서 변환과 DataLoader 구성, MLP 모델 초기화와 학습을 하고 성능 평가를 진행하는 과정을 반복하는 구조로 구현했습니다.\n",
        "학습은 10 에포크동안 수행되고 배치 사이즈는 32입니다.\n"
      ],
      "metadata": {
        "id": "l5neVgHs0Xno"
      }
    },
    {
      "cell_type": "markdown",
      "source": [
        "## 교차검증 해보기"
      ],
      "metadata": {
        "id": "QSOFgt_hoUhI"
      }
    },
    {
      "cell_type": "code",
      "source": [
        "# 교차검증을 위한 라이브러리 임포트하는 코드\n",
        "from sklearn.preprocessing import LabelEncoder\n",
        "import numpy as np\n",
        "import torch\n",
        "import torch.nn as nn\n",
        "import torch.optim as optim\n",
        "from torch.utils.data import DataLoader, TensorDataset\n",
        "from sklearn.metrics import accuracy_score\n",
        "\n",
        "# MLP 모델 코드\n",
        "class MLP(nn.Module):\n",
        "    def __init__(self, input_dim, hidden_dim=64, output_dim=2):\n",
        "        super(MLP, self).__init__()\n",
        "        self.model = nn.Sequential(\n",
        "            nn.Linear(input_dim, hidden_dim),\n",
        "            nn.ReLU(),\n",
        "            nn.Linear(hidden_dim, output_dim)\n",
        "        )\n",
        "\n",
        "    def forward(self, x):\n",
        "        return self.model(x)"
      ],
      "metadata": {
        "id": "BJkiXGJHSmaE"
      },
      "execution_count": null,
      "outputs": []
    },
    {
      "cell_type": "code",
      "source": [
        "# 장치를 설정하고 검증 코드 준비하는 코드\n",
        "device = torch.device(\"cuda\" if torch.cuda.is_available() else \"cpu\")\n",
        "\n",
        "import torch\n",
        "from sklearn.model_selection import StratifiedKFold\n",
        "skf = StratifiedKFold(n_splits=5, shuffle=True, random_state=42)"
      ],
      "metadata": {
        "id": "mW1Lk6bASoeb"
      },
      "execution_count": null,
      "outputs": []
    },
    {
      "cell_type": "code",
      "source": [
        "# 교차검증을 위한 라이브러리 임포트하는 코드\n",
        "from sklearn.preprocessing import LabelEncoder\n",
        "import numpy as np\n",
        "import torch\n",
        "import torch.nn as nn\n",
        "import torch.optim as optim\n",
        "from torch.utils.data import DataLoader, TensorDataset\n",
        "from sklearn.metrics import accuracy_score\n",
        "\n",
        "#y 전체에 라벨 인코더를 적용하는 코드\n",
        "le = LabelEncoder()\n",
        "y_encoded = pd.Series(le.fit_transform(y))\n",
        "\n",
        "fold_accuracies = []\n",
        "\n",
        "# 5층 교차검증을 순차적으로 완료하는 코드\n",
        "for fold, (train_idx, val_idx) in enumerate(skf.split(X, y_encoded)):\n",
        "    X_train, X_val = X.iloc[train_idx], X.iloc[val_idx]\n",
        "    y_train, y_val = y_encoded.iloc[train_idx], y_encoded.iloc[val_idx]\n",
        "\n",
        "    X_train = pd.get_dummies(X_train).astype(float)\n",
        "    X_val = pd.get_dummies(X_val).astype(float)\n",
        "    X_val = X_val.reindex(columns=X_train.columns, fill_value=0)\n",
        "\n",
        "    train_dataset = TensorDataset(torch.tensor(X_train.values, dtype=torch.float32),\n",
        "                                  torch.tensor(y_train.values, dtype=torch.long))\n",
        "    val_dataset = TensorDataset(torch.tensor(X_val.values, dtype=torch.float32),\n",
        "                                torch.tensor(y_val.values, dtype=torch.long))\n",
        "\n",
        "    train_loader = DataLoader(train_dataset, batch_size=32, shuffle=True)\n",
        "    val_loader = DataLoader(val_dataset, batch_size=32, shuffle=False)\n",
        "\n",
        "    model = MLP(input_dim=X_train.shape[1], output_dim=len(set(y))).to(device)\n",
        "    criterion = nn.CrossEntropyLoss()\n",
        "    optimizer = optim.Adam(model.parameters(), lr=0.001)\n",
        "\n",
        "# 모델 학습하는 코드\n",
        "    model.train()\n",
        "    for epoch in range(10):\n",
        "        running_loss = 0.0\n",
        "        for batch_idx, (inputs, labels) in enumerate(train_loader):\n",
        "            inputs, labels = inputs.to(device), labels.to(device)\n",
        "\n",
        "            optimizer.zero_grad()\n",
        "            outputs = model(inputs)\n",
        "            loss = criterion(outputs, labels)\n",
        "            loss.backward()\n",
        "            optimizer.step()\n",
        "\n",
        "            running_loss += loss.item()\n",
        "            if (batch_idx + 1) % 10 == 0:\n",
        "                print(f\"Fold {fold}, Epoch {epoch+1}, Batch {batch_idx+1}, Loss: {running_loss / 10:.4f}\")\n",
        "                running_loss = 0.0\n",
        "\n",
        "# 평가하는 코드\n",
        "    model.eval()\n",
        "    preds = []\n",
        "    true = []\n",
        "    with torch.no_grad():\n",
        "        for inputs, labels in val_loader:\n",
        "            inputs = inputs.to(device)\n",
        "            outputs = model(inputs)\n",
        "            _, predicted = torch.max(outputs, 1)\n",
        "            preds.extend(predicted.cpu().numpy())\n",
        "            true.extend(labels.numpy())\n",
        "\n",
        "    acc = accuracy_score(true, preds)\n",
        "    fold_accuracies.append(acc)\n",
        "    print(f\"Fold {fold} Accuracy: {acc:.4f}\")\n",
        "\n",
        "print(f\"\\nAverage Accuracy over {len(fold_accuracies)} folds: {np.mean(fold_accuracies):.4f}\")\n"
      ],
      "metadata": {
        "colab": {
          "base_uri": "https://localhost:8080/"
        },
        "id": "zpPERt1tV8tz",
        "outputId": "2bb58632-2547-45f8-bba5-883e9c3a575f"
      },
      "execution_count": null,
      "outputs": [
        {
          "output_type": "stream",
          "name": "stdout",
          "text": [
            "Fold 0, Epoch 1, Batch 10, Loss: 84.6225\n",
            "Fold 0, Epoch 1, Batch 20, Loss: 24.2292\n",
            "Fold 0, Epoch 2, Batch 10, Loss: 9.2285\n",
            "Fold 0, Epoch 2, Batch 20, Loss: 6.9993\n",
            "Fold 0, Epoch 3, Batch 10, Loss: 4.8864\n",
            "Fold 0, Epoch 3, Batch 20, Loss: 5.9034\n",
            "Fold 0, Epoch 4, Batch 10, Loss: 3.6337\n",
            "Fold 0, Epoch 4, Batch 20, Loss: 3.6152\n",
            "Fold 0, Epoch 5, Batch 10, Loss: 3.9712\n",
            "Fold 0, Epoch 5, Batch 20, Loss: 4.1138\n",
            "Fold 0, Epoch 6, Batch 10, Loss: 3.5334\n",
            "Fold 0, Epoch 6, Batch 20, Loss: 4.1835\n",
            "Fold 0, Epoch 7, Batch 10, Loss: 2.0804\n",
            "Fold 0, Epoch 7, Batch 20, Loss: 2.5302\n",
            "Fold 0, Epoch 8, Batch 10, Loss: 1.7693\n",
            "Fold 0, Epoch 8, Batch 20, Loss: 3.2944\n",
            "Fold 0, Epoch 9, Batch 10, Loss: 1.4426\n",
            "Fold 0, Epoch 9, Batch 20, Loss: 2.5315\n",
            "Fold 0, Epoch 10, Batch 10, Loss: 1.4487\n",
            "Fold 0, Epoch 10, Batch 20, Loss: 1.4749\n",
            "Fold 0 Accuracy: 0.7868\n",
            "Fold 1, Epoch 1, Batch 10, Loss: 37.3094\n",
            "Fold 1, Epoch 1, Batch 20, Loss: 10.9970\n",
            "Fold 1, Epoch 2, Batch 10, Loss: 3.2100\n",
            "Fold 1, Epoch 2, Batch 20, Loss: 0.9059\n",
            "Fold 1, Epoch 3, Batch 10, Loss: 1.5320\n",
            "Fold 1, Epoch 3, Batch 20, Loss: 1.9550\n",
            "Fold 1, Epoch 4, Batch 10, Loss: 3.5385\n",
            "Fold 1, Epoch 4, Batch 20, Loss: 3.9115\n",
            "Fold 1, Epoch 5, Batch 10, Loss: 2.5901\n",
            "Fold 1, Epoch 5, Batch 20, Loss: 1.4905\n",
            "Fold 1, Epoch 6, Batch 10, Loss: 2.0957\n",
            "Fold 1, Epoch 6, Batch 20, Loss: 1.1434\n",
            "Fold 1, Epoch 7, Batch 10, Loss: 1.0765\n",
            "Fold 1, Epoch 7, Batch 20, Loss: 0.5154\n",
            "Fold 1, Epoch 8, Batch 10, Loss: 0.8817\n",
            "Fold 1, Epoch 8, Batch 20, Loss: 0.4437\n",
            "Fold 1, Epoch 9, Batch 10, Loss: 0.4640\n",
            "Fold 1, Epoch 9, Batch 20, Loss: 0.4126\n",
            "Fold 1, Epoch 10, Batch 10, Loss: 0.6779\n",
            "Fold 1, Epoch 10, Batch 20, Loss: 1.4410\n",
            "Fold 1 Accuracy: 0.8782\n",
            "Fold 2, Epoch 1, Batch 10, Loss: 187.4667\n",
            "Fold 2, Epoch 1, Batch 20, Loss: 35.1000\n",
            "Fold 2, Epoch 2, Batch 10, Loss: 21.3453\n",
            "Fold 2, Epoch 2, Batch 20, Loss: 10.8073\n",
            "Fold 2, Epoch 3, Batch 10, Loss: 4.9733\n",
            "Fold 2, Epoch 3, Batch 20, Loss: 2.1891\n",
            "Fold 2, Epoch 4, Batch 10, Loss: 3.5750\n",
            "Fold 2, Epoch 4, Batch 20, Loss: 2.0354\n",
            "Fold 2, Epoch 5, Batch 10, Loss: 1.6624\n",
            "Fold 2, Epoch 5, Batch 20, Loss: 1.9419\n",
            "Fold 2, Epoch 6, Batch 10, Loss: 1.9001\n",
            "Fold 2, Epoch 6, Batch 20, Loss: 1.5743\n",
            "Fold 2, Epoch 7, Batch 10, Loss: 2.5987\n",
            "Fold 2, Epoch 7, Batch 20, Loss: 1.6814\n",
            "Fold 2, Epoch 8, Batch 10, Loss: 0.8116\n",
            "Fold 2, Epoch 8, Batch 20, Loss: 1.7591\n",
            "Fold 2, Epoch 9, Batch 10, Loss: 2.8055\n",
            "Fold 2, Epoch 9, Batch 20, Loss: 2.0845\n",
            "Fold 2, Epoch 10, Batch 10, Loss: 5.3565\n",
            "Fold 2, Epoch 10, Batch 20, Loss: 2.2790\n",
            "Fold 2 Accuracy: 0.8020\n",
            "Fold 3, Epoch 1, Batch 10, Loss: 84.0070\n",
            "Fold 3, Epoch 1, Batch 20, Loss: 39.5718\n",
            "Fold 3, Epoch 2, Batch 10, Loss: 8.4864\n",
            "Fold 3, Epoch 2, Batch 20, Loss: 4.4509\n",
            "Fold 3, Epoch 3, Batch 10, Loss: 0.9402\n",
            "Fold 3, Epoch 3, Batch 20, Loss: 0.9970\n",
            "Fold 3, Epoch 4, Batch 10, Loss: 1.6531\n",
            "Fold 3, Epoch 4, Batch 20, Loss: 2.4131\n",
            "Fold 3, Epoch 5, Batch 10, Loss: 2.0750\n",
            "Fold 3, Epoch 5, Batch 20, Loss: 4.1320\n",
            "Fold 3, Epoch 6, Batch 10, Loss: 1.1510\n",
            "Fold 3, Epoch 6, Batch 20, Loss: 2.1591\n",
            "Fold 3, Epoch 7, Batch 10, Loss: 5.4177\n",
            "Fold 3, Epoch 7, Batch 20, Loss: 6.0539\n",
            "Fold 3, Epoch 8, Batch 10, Loss: 3.3214\n",
            "Fold 3, Epoch 8, Batch 20, Loss: 2.7635\n",
            "Fold 3, Epoch 9, Batch 10, Loss: 1.3901\n",
            "Fold 3, Epoch 9, Batch 20, Loss: 1.5583\n",
            "Fold 3, Epoch 10, Batch 10, Loss: 0.5595\n",
            "Fold 3, Epoch 10, Batch 20, Loss: 1.0500\n",
            "Fold 3 Accuracy: 0.8883\n",
            "Fold 4, Epoch 1, Batch 10, Loss: 115.8226\n",
            "Fold 4, Epoch 1, Batch 20, Loss: 10.9873\n",
            "Fold 4, Epoch 2, Batch 10, Loss: 7.3019\n",
            "Fold 4, Epoch 2, Batch 20, Loss: 2.5031\n",
            "Fold 4, Epoch 3, Batch 10, Loss: 4.0562\n",
            "Fold 4, Epoch 3, Batch 20, Loss: 6.3774\n",
            "Fold 4, Epoch 4, Batch 10, Loss: 0.8617\n",
            "Fold 4, Epoch 4, Batch 20, Loss: 0.9364\n",
            "Fold 4, Epoch 5, Batch 10, Loss: 2.5378\n",
            "Fold 4, Epoch 5, Batch 20, Loss: 2.2831\n",
            "Fold 4, Epoch 6, Batch 10, Loss: 1.6350\n",
            "Fold 4, Epoch 6, Batch 20, Loss: 1.8608\n",
            "Fold 4, Epoch 7, Batch 10, Loss: 2.2016\n",
            "Fold 4, Epoch 7, Batch 20, Loss: 1.4782\n",
            "Fold 4, Epoch 8, Batch 10, Loss: 0.6161\n",
            "Fold 4, Epoch 8, Batch 20, Loss: 0.9695\n",
            "Fold 4, Epoch 9, Batch 10, Loss: 0.5580\n",
            "Fold 4, Epoch 9, Batch 20, Loss: 0.9553\n",
            "Fold 4, Epoch 10, Batch 10, Loss: 0.9176\n",
            "Fold 4, Epoch 10, Batch 20, Loss: 0.6642\n",
            "Fold 4 Accuracy: 0.8265\n",
            "\n",
            "Average Accuracy over 5 folds: 0.8364\n"
          ]
        }
      ]
    },
    {
      "cell_type": "code",
      "source": [
        "splits = list(skf.split(X, y_encoded))\n",
        "print(f\"Number of folds: {len(splits)}\")"
      ],
      "metadata": {
        "colab": {
          "base_uri": "https://localhost:8080/"
        },
        "id": "92vju7_iTvsB",
        "outputId": "1661e98c-b4e4-4d7a-9d0a-0d965346da61"
      },
      "execution_count": null,
      "outputs": [
        {
          "output_type": "stream",
          "name": "stdout",
          "text": [
            "Number of folds: 5\n"
          ]
        }
      ]
    },
    {
      "cell_type": "markdown",
      "source": [
        "# 5-4. MLP 모델 구현 결과 분석\n",
        "\n",
        "❤ **첫 번째 MLP**: 우선 데이터 셋의 양이 적어서 그런건지 아닌지 모르겠지만 과적합이 의심되는 결과가 나타난 결과를 얻었습니다.\n",
        "\n",
        "❤ **두 번째 MLP**: SMOTE를 사용하여 데이터를 늘리는 방향으로 다시 모델을 구현하고 학습하였지만 데이터가 늘어난 양이 충분하지 않아서 성능은 그대로 과적합 상태를 유지한 결과를 얻었습니다.\n",
        "\n",
        "❤ **세 번째 MLP**: 마지막으로 5-FOLD 교차 검증을 실행해본 결과 각 폴드의 에포크 마다 손실이 감소하는 경향을 보이고 정확도도 차이는 있지만 대부분 65% 이상으로 꽤 괜찮은 정확도를 나타내고 있습니다. 평균 정확도도 성능이 많이 올라서 과적합이 어느 정도 해결된 모습을 보인다고 분석할 수 있지만 확실하게 단정지을 수 없습니다.\n",
        "\n",
        "❤ 다층 퍼셉트론은 초반에 과적합이 심하게 발생하였고 교차 검증으로 어느 정도 과적합을 해결하면서 성능을 안정적으로 만들어 결과를 도출하였습니다."
      ],
      "metadata": {
        "id": "a_3J48RSplhn"
      }
    },
    {
      "cell_type": "markdown",
      "source": [
        "## 6. TabNet 모델 구조\n",
        "\n",
        "❤ **TabNet이란?** : TabNet은 Google Cloud의 연구팀에서 2019년에 발표한 테이블 데이터에 특화된 딥러닝 모델입니다. Attention 기반의 Feature selection을 톧해서 각 단계별로 알맞은 특성을 선택해 학습하는 알고리즘입니다. 다른 모델과 비교했을때 딥러닝 분야에서 뛰어난 성능을 보이고 추론 속도가 빠른 장점을 가지고 있습니다. 각 단계에서 어떤 특성이 사용되었는지 알 수 있기 때문에 모델을 이해하기 쉽다는 특징도 있습니다.\n",
        "\n",
        "❤ Tabet 모델을 구현하기 위한 전단계로 기본적으로 타겟 변수를 인코딩하고 데이터 타입을 수치형 배열로 출력하는 코드를 작성했습니다. 그리고 장치 설정도 해주었습니다.\n",
        "\n",
        "❤ **모델 구조**: TabNet 모델의 분류기를 초기화 해주고 각 디코더와 어텐션 크기를 64, 학습 단계수는 5, 연결 가중치는 1.5, 규제 계수는 1e-4로 설정했습니다. 옵티마이저는 Adam이고 스케줄러를 사용해 학습률을 조정했습니다.\n",
        "\n",
        "❤ **모델 학습**: 학습 데이터로 모델을 학습하고 검증 데이터도 함께 전달해서 학습 중 정확도를 출력합니다. 조기 종료를 사용해서 10 에포크 동안 개선이 전혀 없다면 학습을 중단하도록 구현했습니다."
      ],
      "metadata": {
        "id": "nu5zt2UmZAwB"
      }
    },
    {
      "cell_type": "markdown",
      "source": [
        "# TabNet 모델 구현하기"
      ],
      "metadata": {
        "id": "0wL6bFyG7-rQ"
      }
    },
    {
      "cell_type": "code",
      "source": [
        "# TabNet 라이브러리 설치\n",
        "!pip install pytorch-tabnet"
      ],
      "metadata": {
        "id": "bAALzs6i8B13",
        "colab": {
          "base_uri": "https://localhost:8080/"
        },
        "outputId": "baf29cd9-ae90-4710-a09f-e6302ce2b22c"
      },
      "execution_count": null,
      "outputs": [
        {
          "output_type": "stream",
          "name": "stdout",
          "text": [
            "Requirement already satisfied: pytorch-tabnet in /usr/local/lib/python3.11/dist-packages (4.1.0)\n",
            "Requirement already satisfied: numpy>=1.17 in /usr/local/lib/python3.11/dist-packages (from pytorch-tabnet) (2.0.2)\n",
            "Requirement already satisfied: scikit_learn>0.21 in /usr/local/lib/python3.11/dist-packages (from pytorch-tabnet) (1.6.1)\n",
            "Requirement already satisfied: scipy>1.4 in /usr/local/lib/python3.11/dist-packages (from pytorch-tabnet) (1.15.3)\n",
            "Requirement already satisfied: torch>=1.3 in /usr/local/lib/python3.11/dist-packages (from pytorch-tabnet) (2.6.0+cu124)\n",
            "Requirement already satisfied: tqdm>=4.36 in /usr/local/lib/python3.11/dist-packages (from pytorch-tabnet) (4.67.1)\n",
            "Requirement already satisfied: joblib>=1.2.0 in /usr/local/lib/python3.11/dist-packages (from scikit_learn>0.21->pytorch-tabnet) (1.5.1)\n",
            "Requirement already satisfied: threadpoolctl>=3.1.0 in /usr/local/lib/python3.11/dist-packages (from scikit_learn>0.21->pytorch-tabnet) (3.6.0)\n",
            "Requirement already satisfied: filelock in /usr/local/lib/python3.11/dist-packages (from torch>=1.3->pytorch-tabnet) (3.18.0)\n",
            "Requirement already satisfied: typing-extensions>=4.10.0 in /usr/local/lib/python3.11/dist-packages (from torch>=1.3->pytorch-tabnet) (4.13.2)\n",
            "Requirement already satisfied: networkx in /usr/local/lib/python3.11/dist-packages (from torch>=1.3->pytorch-tabnet) (3.5)\n",
            "Requirement already satisfied: jinja2 in /usr/local/lib/python3.11/dist-packages (from torch>=1.3->pytorch-tabnet) (3.1.6)\n",
            "Requirement already satisfied: fsspec in /usr/local/lib/python3.11/dist-packages (from torch>=1.3->pytorch-tabnet) (2025.3.2)\n",
            "Requirement already satisfied: nvidia-cuda-nvrtc-cu12==12.4.127 in /usr/local/lib/python3.11/dist-packages (from torch>=1.3->pytorch-tabnet) (12.4.127)\n",
            "Requirement already satisfied: nvidia-cuda-runtime-cu12==12.4.127 in /usr/local/lib/python3.11/dist-packages (from torch>=1.3->pytorch-tabnet) (12.4.127)\n",
            "Requirement already satisfied: nvidia-cuda-cupti-cu12==12.4.127 in /usr/local/lib/python3.11/dist-packages (from torch>=1.3->pytorch-tabnet) (12.4.127)\n",
            "Requirement already satisfied: nvidia-cudnn-cu12==9.1.0.70 in /usr/local/lib/python3.11/dist-packages (from torch>=1.3->pytorch-tabnet) (9.1.0.70)\n",
            "Requirement already satisfied: nvidia-cublas-cu12==12.4.5.8 in /usr/local/lib/python3.11/dist-packages (from torch>=1.3->pytorch-tabnet) (12.4.5.8)\n",
            "Requirement already satisfied: nvidia-cufft-cu12==11.2.1.3 in /usr/local/lib/python3.11/dist-packages (from torch>=1.3->pytorch-tabnet) (11.2.1.3)\n",
            "Requirement already satisfied: nvidia-curand-cu12==10.3.5.147 in /usr/local/lib/python3.11/dist-packages (from torch>=1.3->pytorch-tabnet) (10.3.5.147)\n",
            "Requirement already satisfied: nvidia-cusolver-cu12==11.6.1.9 in /usr/local/lib/python3.11/dist-packages (from torch>=1.3->pytorch-tabnet) (11.6.1.9)\n",
            "Requirement already satisfied: nvidia-cusparse-cu12==12.3.1.170 in /usr/local/lib/python3.11/dist-packages (from torch>=1.3->pytorch-tabnet) (12.3.1.170)\n",
            "Requirement already satisfied: nvidia-cusparselt-cu12==0.6.2 in /usr/local/lib/python3.11/dist-packages (from torch>=1.3->pytorch-tabnet) (0.6.2)\n",
            "Requirement already satisfied: nvidia-nccl-cu12==2.21.5 in /usr/local/lib/python3.11/dist-packages (from torch>=1.3->pytorch-tabnet) (2.21.5)\n",
            "Requirement already satisfied: nvidia-nvtx-cu12==12.4.127 in /usr/local/lib/python3.11/dist-packages (from torch>=1.3->pytorch-tabnet) (12.4.127)\n",
            "Requirement already satisfied: nvidia-nvjitlink-cu12==12.4.127 in /usr/local/lib/python3.11/dist-packages (from torch>=1.3->pytorch-tabnet) (12.4.127)\n",
            "Requirement already satisfied: triton==3.2.0 in /usr/local/lib/python3.11/dist-packages (from torch>=1.3->pytorch-tabnet) (3.2.0)\n",
            "Requirement already satisfied: sympy==1.13.1 in /usr/local/lib/python3.11/dist-packages (from torch>=1.3->pytorch-tabnet) (1.13.1)\n",
            "Requirement already satisfied: mpmath<1.4,>=1.1.0 in /usr/local/lib/python3.11/dist-packages (from sympy==1.13.1->torch>=1.3->pytorch-tabnet) (1.3.0)\n",
            "Requirement already satisfied: MarkupSafe>=2.0 in /usr/local/lib/python3.11/dist-packages (from jinja2->torch>=1.3->pytorch-tabnet) (3.0.2)\n"
          ]
        }
      ]
    },
    {
      "cell_type": "code",
      "source": [
        "# 관련 라이브러리 임포트하는 코드\n",
        "import numpy as np\n",
        "from pytorch_tabnet.tab_model import TabNetClassifier\n",
        "from sklearn.metrics import classification_report\n",
        "import torch\n",
        "from sklearn.preprocessing import LabelEncoder"
      ],
      "metadata": {
        "id": "cUg-KT7p-K6O"
      },
      "execution_count": null,
      "outputs": []
    },
    {
      "cell_type": "code",
      "source": [
        "# 문자형 타겟 변수를 수치형으로 변환하는 코드\n",
        "le = LabelEncoder()\n",
        "y_train = le.fit_transform(y_train)\n",
        "y_test = le.transform(y_test)"
      ],
      "metadata": {
        "id": "5TDh6XIU-ky5"
      },
      "execution_count": null,
      "outputs": []
    },
    {
      "cell_type": "code",
      "source": [
        "# 데이터를 넘파이 배열로 변환하는 코드\n",
        "X_train = np.array(X_train).astype(np.float32)\n",
        "X_test = np.array(X_test).astype(np.float32)\n",
        "y_train = np.array(y_train).astype(int)\n",
        "y_test = np.array(y_test).astype(int)"
      ],
      "metadata": {
        "id": "Ldsy0JX6-MYb"
      },
      "execution_count": null,
      "outputs": []
    },
    {
      "cell_type": "code",
      "source": [
        "# 장치 설정하는 코드\n",
        "device = torch.device(\"cuda\" if torch.cuda.is_available() else \"cpu\")\n",
        "print(f\"Using device: {device}\")"
      ],
      "metadata": {
        "colab": {
          "base_uri": "https://localhost:8080/"
        },
        "id": "n8Jn-R6q-Rdm",
        "outputId": "dc526f27-bd85-495f-bb76-3588d225863e"
      },
      "execution_count": null,
      "outputs": [
        {
          "output_type": "stream",
          "name": "stdout",
          "text": [
            "Using device: cpu\n"
          ]
        }
      ]
    },
    {
      "cell_type": "code",
      "source": [
        "# TabNet 모델을 구현하는 코드\n",
        "clf = TabNetClassifier(\n",
        "    device_name=device.type,\n",
        "    n_d=64,\n",
        "    n_a=64,\n",
        "    n_steps=5,\n",
        "    gamma=1.5,\n",
        "    lambda_sparse=1e-4,\n",
        "    optimizer_fn=torch.optim.Adam,\n",
        "    optimizer_params=dict(lr=2e-2),\n",
        "    scheduler_params={\"step_size\":10, \"gamma\":0.9},\n",
        "    scheduler_fn=torch.optim.lr_scheduler.StepLR,\n",
        "    verbose=1\n",
        ")"
      ],
      "metadata": {
        "colab": {
          "base_uri": "https://localhost:8080/"
        },
        "id": "L4yseMhV-WuP",
        "outputId": "47adf1ac-cca3-41ee-c582-70cdab7fd4de"
      },
      "execution_count": null,
      "outputs": [
        {
          "output_type": "stream",
          "name": "stderr",
          "text": [
            "/usr/local/lib/python3.11/dist-packages/pytorch_tabnet/abstract_model.py:82: UserWarning: Device used : cpu\n",
            "  warnings.warn(f\"Device used : {self.device}\")\n"
          ]
        }
      ]
    },
    {
      "cell_type": "code",
      "source": [
        "# 모델 학습하는 코드\n",
        "clf.fit(\n",
        "    X_train=X_train, y_train=y_train,\n",
        "    eval_set=[(X_test, y_test)],\n",
        "    eval_name=[\"test\"],\n",
        "    eval_metric=[\"accuracy\"],\n",
        "    max_epochs=100,\n",
        "    patience=10,\n",
        "    batch_size=256,\n",
        "    virtual_batch_size=128,\n",
        "    num_workers=0,\n",
        "    drop_last=False\n",
        ")"
      ],
      "metadata": {
        "colab": {
          "base_uri": "https://localhost:8080/"
        },
        "id": "sWO1tSD-WxvM",
        "outputId": "2a0e6249-6ea7-4fb2-c25e-caeef65da251"
      },
      "execution_count": null,
      "outputs": [
        {
          "output_type": "stream",
          "name": "stdout",
          "text": [
            "epoch 0  | loss: 1.01845 | test_accuracy: 0.75127 |  0:00:00s\n",
            "epoch 1  | loss: 0.44464 | test_accuracy: 0.79188 |  0:00:00s\n",
            "epoch 2  | loss: 0.51668 | test_accuracy: 0.79188 |  0:00:01s\n",
            "epoch 3  | loss: 0.38292 | test_accuracy: 0.87817 |  0:00:01s\n",
            "epoch 4  | loss: 0.14286 | test_accuracy: 0.82741 |  0:00:02s\n",
            "epoch 5  | loss: 0.04497 | test_accuracy: 0.90355 |  0:00:02s\n",
            "epoch 6  | loss: 0.021   | test_accuracy: 0.86802 |  0:00:03s\n",
            "epoch 7  | loss: 0.007   | test_accuracy: 0.86802 |  0:00:03s\n",
            "epoch 8  | loss: 0.0896  | test_accuracy: 0.86802 |  0:00:04s\n",
            "epoch 9  | loss: 0.08589 | test_accuracy: 0.86802 |  0:00:04s\n",
            "epoch 10 | loss: 0.02242 | test_accuracy: 0.80203 |  0:00:05s\n",
            "epoch 11 | loss: 0.01954 | test_accuracy: 0.73096 |  0:00:06s\n",
            "epoch 12 | loss: 0.00655 | test_accuracy: 0.73096 |  0:00:07s\n",
            "epoch 13 | loss: 0.05316 | test_accuracy: 0.6599  |  0:00:08s\n",
            "epoch 14 | loss: 0.01982 | test_accuracy: 0.6599  |  0:00:09s\n",
            "epoch 15 | loss: 0.05136 | test_accuracy: 0.6599  |  0:00:10s\n",
            "\n",
            "Early stopping occurred at epoch 15 with best_epoch = 5 and best_test_accuracy = 0.90355\n"
          ]
        },
        {
          "output_type": "stream",
          "name": "stderr",
          "text": [
            "/usr/local/lib/python3.11/dist-packages/pytorch_tabnet/callbacks.py:172: UserWarning: Best weights from best epoch are automatically used!\n",
            "  warnings.warn(wrn_msg)\n"
          ]
        }
      ]
    },
    {
      "cell_type": "markdown",
      "source": [
        "## 6-1. 첫 번째 TabNet 모델 성능 평가\n",
        "\n",
        "❤ MLP 모델과 비교했을 때 템넷 모델은 성능이 안정적인 모습을 보입니다. 하지만 코드를 실행할 때마다 조금씩 결과가 다르게 나오고 성능이 과도하게 높을 때도 있어서 그럴 때는 과적합이 의심되지만 지금의 결과는 안정적으로 학습되었다고 할 수 있을만한 결과입니다.\n",
        "\n",
        "❤ **예측 결과 시각화**: 예측 결과를 시각화해서 만든 그래프를 보면 클래스 0과 1을 어느 정도 예측하는 수치가 나오고 있고 전체 성능도 90프로로 높은 수치를 보이고 있습니다.\n",
        "\n",
        "❤ **특성 중요도 시각화**: TabNet의 장점인 특성 중요도를 시각화 해봤습니다. 그래프에서 보면 어떤 특성들이 학습에서 중요하게 작용했는지 알 수 있습니다."
      ],
      "metadata": {
        "id": "SAKnUvlfg_fZ"
      }
    },
    {
      "cell_type": "code",
      "source": [
        "# 평가하고 결과 출력하는 코드\n",
        "y_pred = clf.predict(X_test)\n",
        "\n",
        "print(\"Classification Report:\")\n",
        "print(classification_report(y_test, y_pred))"
      ],
      "metadata": {
        "colab": {
          "base_uri": "https://localhost:8080/"
        },
        "id": "u39JqKIO-osB",
        "outputId": "6d3a3114-730c-47c5-c887-1c043c7faf09"
      },
      "execution_count": null,
      "outputs": [
        {
          "output_type": "stream",
          "name": "stdout",
          "text": [
            "Classification Report:\n",
            "              precision    recall  f1-score   support\n",
            "\n",
            "           0       0.91      0.93      0.92       118\n",
            "           1       0.89      0.86      0.88        79\n",
            "\n",
            "    accuracy                           0.90       197\n",
            "   macro avg       0.90      0.90      0.90       197\n",
            "weighted avg       0.90      0.90      0.90       197\n",
            "\n"
          ]
        }
      ]
    },
    {
      "cell_type": "code",
      "source": [
        "# 예측된 확률을 알아보는 코드\n",
        "proba = clf.predict_proba(X_test)\n",
        "\n",
        "recovered_idx = 0\n",
        "recovered_proba = proba[:, recovered_idx]\n",
        "\n",
        "# 치료 가능성에 대한 예측을 출력하는 코드\n",
        "recovered_proba = proba[:, recovered_idx]"
      ],
      "metadata": {
        "id": "2nRh1HIVX5s0"
      },
      "execution_count": null,
      "outputs": []
    },
    {
      "cell_type": "code",
      "source": [
        "import matplotlib.pyplot as plt\n",
        "\n",
        "# 시각화하는 코드\n",
        "plt.figure(figsize=(8, 5))\n",
        "plt.hist(recovered_proba, bins=30, color='skyblue', edgecolor='black')\n",
        "plt.title(\"Distribution of Predicted Recovery Probability\")\n",
        "plt.xlabel(\"Predicted Probability of Recovery\")\n",
        "plt.ylabel(\"Number of Patients\")\n",
        "plt.grid(True)\n",
        "plt.show()"
      ],
      "metadata": {
        "colab": {
          "base_uri": "https://localhost:8080/",
          "height": 487
        },
        "id": "EICIlYHQ_gA9",
        "outputId": "1c4fe1ed-0ea1-43d5-b9bd-1cf012a0948a"
      },
      "execution_count": null,
      "outputs": [
        {
          "output_type": "display_data",
          "data": {
            "text/plain": [
              "<Figure size 800x500 with 1 Axes>"
            ],
            "image/png": "[encoded data removed]"
          },
          "metadata": {}
        }
      ]
    },
    {
      "cell_type": "code",
      "source": [
        "# 중요한 특성을 시각화하는 코드\n",
        "plt.figure(figsize=(10, 5))\n",
        "plt.bar(range(len(clf.feature_importances_)), clf.feature_importances_)\n",
        "plt.title(\"Feature Importances\")\n",
        "plt.show()"
      ],
      "metadata": {
        "colab": {
          "base_uri": "https://localhost:8080/",
          "height": 468
        },
        "id": "PsywCPzh-z1I",
        "outputId": "f5b67d1d-8f3c-45a6-cf90-cd7a2fe246d1"
      },
      "execution_count": null,
      "outputs": [
        {
          "output_type": "display_data",
          "data": {
            "text/plain": [
              "<Figure size 1000x500 with 1 Axes>"
            ],
            "image/png": "[encoded data removed]"
          },
          "metadata": {}
        }
      ]
    },
    {
      "cell_type": "markdown",
      "source": [
        "## 6-2. TabNet 모델 개선해서 다시 학습해보기\n",
        "\n",
        "❤ MLP와 마찬가지로 SMOTE를 사용해 데이터 불균형을 완화하는 방식으로 진행하고 하이퍼파라미터 조정 방식으로 문제 해결을 시도했습니다.\n",
        "\n",
        "❤ **모델 구조**: 디코더와 어텐션의 수를 8로 설정해 모델의 용량을 줄였고, 단계 수를 3으로 설정해 특성 선택과 변환율을 3단계로 수행합니다. 학습률은 0.02로 Adam 옵티마이저로 동일하게 설정했습니다. 10 단계마다 학습률을 0.9로 줄이는 옵티마이저 설정도 했습니다.\n",
        "\n",
        "❤ **모델 오류**: 데이터의 변수 설정이 모델과 맞지 않아 오류가 나서 데이터 타입을 확인하고 알맞게 조정하는 코드를 거쳐 다시 모델을 실행했습니다.\n",
        "\n"
      ],
      "metadata": {
        "id": "sJfwEVseql6q"
      }
    },
    {
      "cell_type": "code",
      "source": [
        "from sklearn.model_selection import train_test_split\n",
        "from imblearn.over_sampling import SMOTE\n",
        "\n",
        "# 데이터를 분할하는 코드\n",
        "X_train, X_test, y_train, y_test = train_test_split(X, y, stratify=y, test_size=0.2, random_state=42)\n",
        "\n",
        "# 데이터 불균형을 처리하는 코드\n",
        "smote = SMOTE(random_state=42)\n",
        "X_train_res, y_train_res = smote.fit_resample(X_train, y_train)"
      ],
      "metadata": {
        "id": "kmz-3g8uqlv1"
      },
      "execution_count": null,
      "outputs": []
    },
    {
      "cell_type": "code",
      "source": [
        "from pytorch_tabnet.tab_model import TabNetClassifier\n",
        "\n",
        "# TabNet 모델 구현하는 코드\n",
        "clf = TabNetClassifier(\n",
        "    n_d=8, n_a=8,\n",
        "    n_steps=3,\n",
        "    gamma=1.3,\n",
        "    lambda_sparse=1e-4,\n",
        "    optimizer_params=dict(lr=2e-2),\n",
        "    scheduler_params={\"step_size\":10, \"gamma\":0.9},\n",
        "    scheduler_fn=torch.optim.lr_scheduler.StepLR,\n",
        "    mask_type='entmax',    #\n",
        "    verbose=1,\n",
        "    seed=42\n",
        ")"
      ],
      "metadata": {
        "colab": {
          "base_uri": "https://localhost:8080/"
        },
        "id": "Cm3o9wuPq6oC",
        "outputId": "9127fa12-d23d-4e9e-85f1-c8936fdfe930"
      },
      "execution_count": null,
      "outputs": [
        {
          "output_type": "stream",
          "name": "stderr",
          "text": [
            "/usr/local/lib/python3.11/dist-packages/pytorch_tabnet/abstract_model.py:82: UserWarning: Device used : cpu\n",
            "  warnings.warn(f\"Device used : {self.device}\")\n"
          ]
        }
      ]
    },
    {
      "cell_type": "markdown",
      "source": [
        "## * 모델 학습 오류로 변환 다시 실행"
      ],
      "metadata": {
        "id": "h2L2KiNcrhpr"
      }
    },
    {
      "cell_type": "code",
      "source": [
        "# 데이터 타입과 결측값을 확인하는 코드\n",
        "print(X_train_res.dtypes)\n",
        "print(X_train_res.isnull().sum())"
      ],
      "metadata": {
        "colab": {
          "base_uri": "https://localhost:8080/"
        },
        "id": "TG32qGaIrdtE",
        "outputId": "5f9141ed-7a28-46be-c52b-883182ac3811",
        "collapsed": true
      },
      "execution_count": null,
      "outputs": [
        {
          "output_type": "stream",
          "name": "stdout",
          "text": [
            "Age                                               int64\n",
            "Cost                                              int64\n",
            "Length_of_Stay                                    int64\n",
            "Satisfaction                                      int64\n",
            "Outcome_Label                                     int64\n",
            "Gender_Female                                      bool\n",
            "Gender_Male                                        bool\n",
            "Condition_Allergic Reaction                        bool\n",
            "Condition_Appendicitis                             bool\n",
            "Condition_Cancer                                   bool\n",
            "Condition_Childbirth                               bool\n",
            "Condition_Diabetes                                 bool\n",
            "Condition_Fractured Arm                            bool\n",
            "Condition_Fractured Leg                            bool\n",
            "Condition_Heart Attack                             bool\n",
            "Condition_Heart Disease                            bool\n",
            "Condition_Hypertension                             bool\n",
            "Condition_Kidney Stones                            bool\n",
            "Condition_Osteoarthritis                           bool\n",
            "Condition_Prostate Cancer                          bool\n",
            "Condition_Respiratory Infection                    bool\n",
            "Condition_Stroke                                   bool\n",
            "Procedure_Angioplasty                              bool\n",
            "Procedure_Antibiotics and Rest                     bool\n",
            "Procedure_Appendectomy                             bool\n",
            "Procedure_CT Scan and Medication                   bool\n",
            "Procedure_Cardiac Catheterization                  bool\n",
            "Procedure_Cast and Physical Therapy                bool\n",
            "Procedure_Delivery and Postnatal Care              bool\n",
            "Procedure_Epinephrine Injection                    bool\n",
            "Procedure_Insulin Therapy                          bool\n",
            "Procedure_Lithotripsy                              bool\n",
            "Procedure_Medication and Counseling                bool\n",
            "Procedure_Physical Therapy and Pain Management     bool\n",
            "Procedure_Radiation Therapy                        bool\n",
            "Procedure_Surgery and Chemotherapy                 bool\n",
            "Procedure_X-Ray and Splint                         bool\n",
            "Readmission_No                                     bool\n",
            "Readmission_Yes                                    bool\n",
            "dtype: object\n",
            "Age                                               0\n",
            "Cost                                              0\n",
            "Length_of_Stay                                    0\n",
            "Satisfaction                                      0\n",
            "Outcome_Label                                     0\n",
            "Gender_Female                                     0\n",
            "Gender_Male                                       0\n",
            "Condition_Allergic Reaction                       0\n",
            "Condition_Appendicitis                            0\n",
            "Condition_Cancer                                  0\n",
            "Condition_Childbirth                              0\n",
            "Condition_Diabetes                                0\n",
            "Condition_Fractured Arm                           0\n",
            "Condition_Fractured Leg                           0\n",
            "Condition_Heart Attack                            0\n",
            "Condition_Heart Disease                           0\n",
            "Condition_Hypertension                            0\n",
            "Condition_Kidney Stones                           0\n",
            "Condition_Osteoarthritis                          0\n",
            "Condition_Prostate Cancer                         0\n",
            "Condition_Respiratory Infection                   0\n",
            "Condition_Stroke                                  0\n",
            "Procedure_Angioplasty                             0\n",
            "Procedure_Antibiotics and Rest                    0\n",
            "Procedure_Appendectomy                            0\n",
            "Procedure_CT Scan and Medication                  0\n",
            "Procedure_Cardiac Catheterization                 0\n",
            "Procedure_Cast and Physical Therapy               0\n",
            "Procedure_Delivery and Postnatal Care             0\n",
            "Procedure_Epinephrine Injection                   0\n",
            "Procedure_Insulin Therapy                         0\n",
            "Procedure_Lithotripsy                             0\n",
            "Procedure_Medication and Counseling               0\n",
            "Procedure_Physical Therapy and Pain Management    0\n",
            "Procedure_Radiation Therapy                       0\n",
            "Procedure_Surgery and Chemotherapy                0\n",
            "Procedure_X-Ray and Splint                        0\n",
            "Readmission_No                                    0\n",
            "Readmission_Yes                                   0\n",
            "dtype: int64\n"
          ]
        }
      ]
    },
    {
      "cell_type": "code",
      "source": [
        "from sklearn.preprocessing import LabelEncoder\n",
        "\n",
        "# 문자형 범수를 처리하는 코드\n",
        "for col in X_train_res.columns:\n",
        "    if X_train_res[col].dtype == 'object':\n",
        "        le = LabelEncoder()\n",
        "        X_train_res[col] = le.fit_transform(X_train_res[col].astype(str))\n",
        "\n",
        "# 결측값을 처리하는 코드\n",
        "X_train_res = X_train_res.fillna(0)"
      ],
      "metadata": {
        "id": "sWFaDX4CYu3M"
      },
      "execution_count": null,
      "outputs": []
    },
    {
      "cell_type": "code",
      "source": [
        "# 테스트 데이터 셋에도 같은 처리하는 코드\n",
        "for col in X_test.columns:\n",
        "    if X_test[col].dtype == 'object':\n",
        "        le = LabelEncoder()\n",
        "        X_test[col] = le.fit_transform(X_test[col].astype(str))\n",
        "X_test = X_test.fillna(0)"
      ],
      "metadata": {
        "id": "RJ5Yg61lYx84"
      },
      "execution_count": null,
      "outputs": []
    },
    {
      "cell_type": "code",
      "source": [
        "# 다시 데이터 타입과 결측값 확인하는 코드\n",
        "print(X_train_res.dtypes)\n",
        "print(X_train_res.isnull().sum())\n",
        "print(X_train_res.head())"
      ],
      "metadata": {
        "colab": {
          "base_uri": "https://localhost:8080/"
        },
        "id": "WhHcqCA1r69s",
        "outputId": "b1abe44e-c4e7-4886-a8b3-c57bb3b69ed6",
        "collapsed": true
      },
      "execution_count": null,
      "outputs": [
        {
          "output_type": "stream",
          "name": "stdout",
          "text": [
            "Age                                               int64\n",
            "Cost                                              int64\n",
            "Length_of_Stay                                    int64\n",
            "Satisfaction                                      int64\n",
            "Outcome_Label                                     int64\n",
            "Gender_Female                                      bool\n",
            "Gender_Male                                        bool\n",
            "Condition_Allergic Reaction                        bool\n",
            "Condition_Appendicitis                             bool\n",
            "Condition_Cancer                                   bool\n",
            "Condition_Childbirth                               bool\n",
            "Condition_Diabetes                                 bool\n",
            "Condition_Fractured Arm                            bool\n",
            "Condition_Fractured Leg                            bool\n",
            "Condition_Heart Attack                             bool\n",
            "Condition_Heart Disease                            bool\n",
            "Condition_Hypertension                             bool\n",
            "Condition_Kidney Stones                            bool\n",
            "Condition_Osteoarthritis                           bool\n",
            "Condition_Prostate Cancer                          bool\n",
            "Condition_Respiratory Infection                    bool\n",
            "Condition_Stroke                                   bool\n",
            "Procedure_Angioplasty                              bool\n",
            "Procedure_Antibiotics and Rest                     bool\n",
            "Procedure_Appendectomy                             bool\n",
            "Procedure_CT Scan and Medication                   bool\n",
            "Procedure_Cardiac Catheterization                  bool\n",
            "Procedure_Cast and Physical Therapy                bool\n",
            "Procedure_Delivery and Postnatal Care              bool\n",
            "Procedure_Epinephrine Injection                    bool\n",
            "Procedure_Insulin Therapy                          bool\n",
            "Procedure_Lithotripsy                              bool\n",
            "Procedure_Medication and Counseling                bool\n",
            "Procedure_Physical Therapy and Pain Management     bool\n",
            "Procedure_Radiation Therapy                        bool\n",
            "Procedure_Surgery and Chemotherapy                 bool\n",
            "Procedure_X-Ray and Splint                         bool\n",
            "Readmission_No                                     bool\n",
            "Readmission_Yes                                    bool\n",
            "dtype: object\n",
            "Age                                               0\n",
            "Cost                                              0\n",
            "Length_of_Stay                                    0\n",
            "Satisfaction                                      0\n",
            "Outcome_Label                                     0\n",
            "Gender_Female                                     0\n",
            "Gender_Male                                       0\n",
            "Condition_Allergic Reaction                       0\n",
            "Condition_Appendicitis                            0\n",
            "Condition_Cancer                                  0\n",
            "Condition_Childbirth                              0\n",
            "Condition_Diabetes                                0\n",
            "Condition_Fractured Arm                           0\n",
            "Condition_Fractured Leg                           0\n",
            "Condition_Heart Attack                            0\n",
            "Condition_Heart Disease                           0\n",
            "Condition_Hypertension                            0\n",
            "Condition_Kidney Stones                           0\n",
            "Condition_Osteoarthritis                          0\n",
            "Condition_Prostate Cancer                         0\n",
            "Condition_Respiratory Infection                   0\n",
            "Condition_Stroke                                  0\n",
            "Procedure_Angioplasty                             0\n",
            "Procedure_Antibiotics and Rest                    0\n",
            "Procedure_Appendectomy                            0\n",
            "Procedure_CT Scan and Medication                  0\n",
            "Procedure_Cardiac Catheterization                 0\n",
            "Procedure_Cast and Physical Therapy               0\n",
            "Procedure_Delivery and Postnatal Care             0\n",
            "Procedure_Epinephrine Injection                   0\n",
            "Procedure_Insulin Therapy                         0\n",
            "Procedure_Lithotripsy                             0\n",
            "Procedure_Medication and Counseling               0\n",
            "Procedure_Physical Therapy and Pain Management    0\n",
            "Procedure_Radiation Therapy                       0\n",
            "Procedure_Surgery and Chemotherapy                0\n",
            "Procedure_X-Ray and Splint                        0\n",
            "Readmission_No                                    0\n",
            "Readmission_Yes                                   0\n",
            "dtype: int64\n",
            "   Age   Cost  Length_of_Stay  Satisfaction  Outcome_Label  Gender_Female  \\\n",
            "0   68   1000              36             4              1          False   \n",
            "1   72   1000              25             4              1          False   \n",
            "2   78  10000              71             2              1          False   \n",
            "3   32  12000               7             4              0           True   \n",
            "4   55   6000              40             3              0          False   \n",
            "\n",
            "   Gender_Male  Condition_Allergic Reaction  Condition_Appendicitis  \\\n",
            "0         True                        False                   False   \n",
            "1         True                        False                   False   \n",
            "2         True                        False                   False   \n",
            "3        False                        False                   False   \n",
            "4         True                        False                   False   \n",
            "\n",
            "   Condition_Cancer  ...  Procedure_Epinephrine Injection  \\\n",
            "0             False  ...                            False   \n",
            "1             False  ...                            False   \n",
            "2             False  ...                            False   \n",
            "3             False  ...                            False   \n",
            "4             False  ...                            False   \n",
            "\n",
            "   Procedure_Insulin Therapy  Procedure_Lithotripsy  \\\n",
            "0                      False                  False   \n",
            "1                      False                  False   \n",
            "2                      False                  False   \n",
            "3                      False                  False   \n",
            "4                      False                   True   \n",
            "\n",
            "   Procedure_Medication and Counseling  \\\n",
            "0                                 True   \n",
            "1                                 True   \n",
            "2                                False   \n",
            "3                                False   \n",
            "4                                False   \n",
            "\n",
            "   Procedure_Physical Therapy and Pain Management  \\\n",
            "0                                           False   \n",
            "1                                           False   \n",
            "2                                           False   \n",
            "3                                           False   \n",
            "4                                           False   \n",
            "\n",
            "   Procedure_Radiation Therapy  Procedure_Surgery and Chemotherapy  \\\n",
            "0                        False                               False   \n",
            "1                        False                               False   \n",
            "2                        False                               False   \n",
            "3                        False                               False   \n",
            "4                        False                               False   \n",
            "\n",
            "   Procedure_X-Ray and Splint  Readmission_No  Readmission_Yes  \n",
            "0                       False            True            False  \n",
            "1                       False            True            False  \n",
            "2                       False            True            False  \n",
            "3                       False            True            False  \n",
            "4                       False            True            False  \n",
            "\n",
            "[5 rows x 39 columns]\n"
          ]
        }
      ]
    },
    {
      "cell_type": "code",
      "source": [
        "from sklearn.preprocessing import LabelEncoder\n",
        "\n",
        "encoders = {}\n",
        "\n",
        "# 데이터 별로 인코딩하는 코드\n",
        "for col in X_train_res.columns:\n",
        "    if X_train_res[col].dtype == 'object':\n",
        "        le = LabelEncoder()\n",
        "        X_train_res[col] = le.fit_transform(X_train_res[col].astype(str))\n",
        "        if col in X_test.columns:\n",
        "            X_test[col] = le.transform(X_test[col].astype(str))\n",
        "        encoders[col] = le"
      ],
      "metadata": {
        "id": "8TWlzvFpan1-"
      },
      "execution_count": null,
      "outputs": []
    },
    {
      "cell_type": "code",
      "source": [
        "# NAN값을 0으로 채우는 전처리 코드\n",
        "X_train_res = X_train_res.fillna(0)\n",
        "X_test = X_test.fillna(0)"
      ],
      "metadata": {
        "id": "JdXr7PHTr_Qb"
      },
      "execution_count": null,
      "outputs": []
    },
    {
      "cell_type": "code",
      "source": [
        "# 데이터 타입 확인하는 코드\n",
        "print(X_train_res.dtypes)\n",
        "print(X_test.dtypes)"
      ],
      "metadata": {
        "colab": {
          "base_uri": "https://localhost:8080/"
        },
        "id": "0SLN8IJhsM04",
        "outputId": "b7cc4d05-18d0-450b-a3d0-9723ed079dfe",
        "collapsed": true
      },
      "execution_count": null,
      "outputs": [
        {
          "output_type": "stream",
          "name": "stdout",
          "text": [
            "Age                                               int64\n",
            "Cost                                              int64\n",
            "Length_of_Stay                                    int64\n",
            "Satisfaction                                      int64\n",
            "Outcome_Label                                     int64\n",
            "Gender_Female                                      bool\n",
            "Gender_Male                                        bool\n",
            "Condition_Allergic Reaction                        bool\n",
            "Condition_Appendicitis                             bool\n",
            "Condition_Cancer                                   bool\n",
            "Condition_Childbirth                               bool\n",
            "Condition_Diabetes                                 bool\n",
            "Condition_Fractured Arm                            bool\n",
            "Condition_Fractured Leg                            bool\n",
            "Condition_Heart Attack                             bool\n",
            "Condition_Heart Disease                            bool\n",
            "Condition_Hypertension                             bool\n",
            "Condition_Kidney Stones                            bool\n",
            "Condition_Osteoarthritis                           bool\n",
            "Condition_Prostate Cancer                          bool\n",
            "Condition_Respiratory Infection                    bool\n",
            "Condition_Stroke                                   bool\n",
            "Procedure_Angioplasty                              bool\n",
            "Procedure_Antibiotics and Rest                     bool\n",
            "Procedure_Appendectomy                             bool\n",
            "Procedure_CT Scan and Medication                   bool\n",
            "Procedure_Cardiac Catheterization                  bool\n",
            "Procedure_Cast and Physical Therapy                bool\n",
            "Procedure_Delivery and Postnatal Care              bool\n",
            "Procedure_Epinephrine Injection                    bool\n",
            "Procedure_Insulin Therapy                          bool\n",
            "Procedure_Lithotripsy                              bool\n",
            "Procedure_Medication and Counseling                bool\n",
            "Procedure_Physical Therapy and Pain Management     bool\n",
            "Procedure_Radiation Therapy                        bool\n",
            "Procedure_Surgery and Chemotherapy                 bool\n",
            "Procedure_X-Ray and Splint                         bool\n",
            "Readmission_No                                     bool\n",
            "Readmission_Yes                                    bool\n",
            "dtype: object\n",
            "Age                                               int64\n",
            "Cost                                              int64\n",
            "Length_of_Stay                                    int64\n",
            "Satisfaction                                      int64\n",
            "Outcome_Label                                     int64\n",
            "Gender_Female                                      bool\n",
            "Gender_Male                                        bool\n",
            "Condition_Allergic Reaction                        bool\n",
            "Condition_Appendicitis                             bool\n",
            "Condition_Cancer                                   bool\n",
            "Condition_Childbirth                               bool\n",
            "Condition_Diabetes                                 bool\n",
            "Condition_Fractured Arm                            bool\n",
            "Condition_Fractured Leg                            bool\n",
            "Condition_Heart Attack                             bool\n",
            "Condition_Heart Disease                            bool\n",
            "Condition_Hypertension                             bool\n",
            "Condition_Kidney Stones                            bool\n",
            "Condition_Osteoarthritis                           bool\n",
            "Condition_Prostate Cancer                          bool\n",
            "Condition_Respiratory Infection                    bool\n",
            "Condition_Stroke                                   bool\n",
            "Procedure_Angioplasty                              bool\n",
            "Procedure_Antibiotics and Rest                     bool\n",
            "Procedure_Appendectomy                             bool\n",
            "Procedure_CT Scan and Medication                   bool\n",
            "Procedure_Cardiac Catheterization                  bool\n",
            "Procedure_Cast and Physical Therapy                bool\n",
            "Procedure_Delivery and Postnatal Care              bool\n",
            "Procedure_Epinephrine Injection                    bool\n",
            "Procedure_Insulin Therapy                          bool\n",
            "Procedure_Lithotripsy                              bool\n",
            "Procedure_Medication and Counseling                bool\n",
            "Procedure_Physical Therapy and Pain Management     bool\n",
            "Procedure_Radiation Therapy                        bool\n",
            "Procedure_Surgery and Chemotherapy                 bool\n",
            "Procedure_X-Ray and Splint                         bool\n",
            "Readmission_No                                     bool\n",
            "Readmission_Yes                                    bool\n",
            "dtype: object\n"
          ]
        }
      ]
    },
    {
      "cell_type": "code",
      "source": [
        "# bool 타입 데이터를 int 형태로 변환하는 코드\n",
        "bool_cols = X_train_res.select_dtypes(include=['bool']).columns\n",
        "X_train_res[bool_cols] = X_train_res[bool_cols].astype(int)\n",
        "X_test[bool_cols] = X_test[bool_cols].astype(int)"
      ],
      "metadata": {
        "id": "1mPpyUwpsc6Z"
      },
      "execution_count": null,
      "outputs": []
    },
    {
      "cell_type": "code",
      "source": [
        " # bool이 int로 바뀌었는지 확인하는 코드\n",
        "print(X_train_res.dtypes)\n",
        "print(X_test.dtypes)"
      ],
      "metadata": {
        "colab": {
          "base_uri": "https://localhost:8080/"
        },
        "id": "rl-yu09EsetP",
        "outputId": "7522ac58-1cb6-4d25-a433-3a3726475c47",
        "collapsed": true
      },
      "execution_count": null,
      "outputs": [
        {
          "output_type": "stream",
          "name": "stdout",
          "text": [
            "Age                                               int64\n",
            "Cost                                              int64\n",
            "Length_of_Stay                                    int64\n",
            "Satisfaction                                      int64\n",
            "Outcome_Label                                     int64\n",
            "Gender_Female                                     int64\n",
            "Gender_Male                                       int64\n",
            "Condition_Allergic Reaction                       int64\n",
            "Condition_Appendicitis                            int64\n",
            "Condition_Cancer                                  int64\n",
            "Condition_Childbirth                              int64\n",
            "Condition_Diabetes                                int64\n",
            "Condition_Fractured Arm                           int64\n",
            "Condition_Fractured Leg                           int64\n",
            "Condition_Heart Attack                            int64\n",
            "Condition_Heart Disease                           int64\n",
            "Condition_Hypertension                            int64\n",
            "Condition_Kidney Stones                           int64\n",
            "Condition_Osteoarthritis                          int64\n",
            "Condition_Prostate Cancer                         int64\n",
            "Condition_Respiratory Infection                   int64\n",
            "Condition_Stroke                                  int64\n",
            "Procedure_Angioplasty                             int64\n",
            "Procedure_Antibiotics and Rest                    int64\n",
            "Procedure_Appendectomy                            int64\n",
            "Procedure_CT Scan and Medication                  int64\n",
            "Procedure_Cardiac Catheterization                 int64\n",
            "Procedure_Cast and Physical Therapy               int64\n",
            "Procedure_Delivery and Postnatal Care             int64\n",
            "Procedure_Epinephrine Injection                   int64\n",
            "Procedure_Insulin Therapy                         int64\n",
            "Procedure_Lithotripsy                             int64\n",
            "Procedure_Medication and Counseling               int64\n",
            "Procedure_Physical Therapy and Pain Management    int64\n",
            "Procedure_Radiation Therapy                       int64\n",
            "Procedure_Surgery and Chemotherapy                int64\n",
            "Procedure_X-Ray and Splint                        int64\n",
            "Readmission_No                                    int64\n",
            "Readmission_Yes                                   int64\n",
            "dtype: object\n",
            "Age                                               int64\n",
            "Cost                                              int64\n",
            "Length_of_Stay                                    int64\n",
            "Satisfaction                                      int64\n",
            "Outcome_Label                                     int64\n",
            "Gender_Female                                     int64\n",
            "Gender_Male                                       int64\n",
            "Condition_Allergic Reaction                       int64\n",
            "Condition_Appendicitis                            int64\n",
            "Condition_Cancer                                  int64\n",
            "Condition_Childbirth                              int64\n",
            "Condition_Diabetes                                int64\n",
            "Condition_Fractured Arm                           int64\n",
            "Condition_Fractured Leg                           int64\n",
            "Condition_Heart Attack                            int64\n",
            "Condition_Heart Disease                           int64\n",
            "Condition_Hypertension                            int64\n",
            "Condition_Kidney Stones                           int64\n",
            "Condition_Osteoarthritis                          int64\n",
            "Condition_Prostate Cancer                         int64\n",
            "Condition_Respiratory Infection                   int64\n",
            "Condition_Stroke                                  int64\n",
            "Procedure_Angioplasty                             int64\n",
            "Procedure_Antibiotics and Rest                    int64\n",
            "Procedure_Appendectomy                            int64\n",
            "Procedure_CT Scan and Medication                  int64\n",
            "Procedure_Cardiac Catheterization                 int64\n",
            "Procedure_Cast and Physical Therapy               int64\n",
            "Procedure_Delivery and Postnatal Care             int64\n",
            "Procedure_Epinephrine Injection                   int64\n",
            "Procedure_Insulin Therapy                         int64\n",
            "Procedure_Lithotripsy                             int64\n",
            "Procedure_Medication and Counseling               int64\n",
            "Procedure_Physical Therapy and Pain Management    int64\n",
            "Procedure_Radiation Therapy                       int64\n",
            "Procedure_Surgery and Chemotherapy                int64\n",
            "Procedure_X-Ray and Splint                        int64\n",
            "Readmission_No                                    int64\n",
            "Readmission_Yes                                   int64\n",
            "dtype: object\n"
          ]
        }
      ]
    },
    {
      "cell_type": "code",
      "source": [
        "# 모델을 학습하는 코드\n",
        "clf.fit(\n",
        "    X_train_res.values, y_train_res.values,\n",
        "    eval_set=[(X_train_res.values, y_train_res.values), (X_test.values, y_test.values)],\n",
        "    eval_name=['train', 'valid'],\n",
        "    eval_metric=['accuracy'],\n",
        "    max_epochs=100,\n",
        "    patience=20,\n",
        "    batch_size=256,\n",
        "    virtual_batch_size=128,\n",
        "    num_workers=0,\n",
        "    drop_last=False\n",
        ")"
      ],
      "metadata": {
        "colab": {
          "base_uri": "https://localhost:8080/"
        },
        "id": "EGQW7xfyrE_l",
        "outputId": "f36b98da-8b25-49f4-ff9a-4ea66e7d6ad8"
      },
      "execution_count": null,
      "outputs": [
        {
          "output_type": "stream",
          "name": "stdout",
          "text": [
            "epoch 0  | loss: 0.65842 | train_accuracy: 0.58245 | valid_accuracy: 0.5533  |  0:00:00s\n",
            "epoch 1  | loss: 0.44481 | train_accuracy: 0.58879 | valid_accuracy: 0.53807 |  0:00:00s\n",
            "epoch 2  | loss: 0.22426 | train_accuracy: 0.63214 | valid_accuracy: 0.59391 |  0:00:00s\n",
            "epoch 3  | loss: 0.0725  | train_accuracy: 0.98626 | valid_accuracy: 0.99492 |  0:00:01s\n",
            "epoch 4  | loss: 0.02069 | train_accuracy: 1.0     | valid_accuracy: 1.0     |  0:00:01s\n",
            "epoch 5  | loss: 0.00596 | train_accuracy: 1.0     | valid_accuracy: 1.0     |  0:00:01s\n",
            "epoch 6  | loss: 0.0018  | train_accuracy: 1.0     | valid_accuracy: 1.0     |  0:00:02s\n",
            "epoch 7  | loss: 0.00089 | train_accuracy: 1.0     | valid_accuracy: 1.0     |  0:00:02s\n",
            "epoch 8  | loss: 0.00052 | train_accuracy: 1.0     | valid_accuracy: 1.0     |  0:00:02s\n",
            "epoch 9  | loss: 0.00038 | train_accuracy: 1.0     | valid_accuracy: 1.0     |  0:00:03s\n",
            "epoch 10 | loss: 0.00148 | train_accuracy: 1.0     | valid_accuracy: 1.0     |  0:00:03s\n",
            "epoch 11 | loss: 0.00026 | train_accuracy: 1.0     | valid_accuracy: 1.0     |  0:00:03s\n",
            "epoch 12 | loss: 0.00029 | train_accuracy: 1.0     | valid_accuracy: 1.0     |  0:00:03s\n",
            "epoch 13 | loss: 0.00029 | train_accuracy: 1.0     | valid_accuracy: 1.0     |  0:00:04s\n",
            "epoch 14 | loss: 0.00035 | train_accuracy: 1.0     | valid_accuracy: 1.0     |  0:00:04s\n",
            "epoch 15 | loss: 0.00034 | train_accuracy: 1.0     | valid_accuracy: 1.0     |  0:00:04s\n",
            "epoch 16 | loss: 0.0003  | train_accuracy: 1.0     | valid_accuracy: 1.0     |  0:00:05s\n",
            "epoch 17 | loss: 0.00032 | train_accuracy: 1.0     | valid_accuracy: 1.0     |  0:00:05s\n",
            "epoch 18 | loss: 0.0003  | train_accuracy: 1.0     | valid_accuracy: 1.0     |  0:00:05s\n",
            "epoch 19 | loss: 0.00026 | train_accuracy: 1.0     | valid_accuracy: 1.0     |  0:00:06s\n",
            "epoch 20 | loss: 0.00025 | train_accuracy: 1.0     | valid_accuracy: 1.0     |  0:00:06s\n",
            "epoch 21 | loss: 0.00025 | train_accuracy: 1.0     | valid_accuracy: 1.0     |  0:00:06s\n",
            "epoch 22 | loss: 0.00022 | train_accuracy: 1.0     | valid_accuracy: 1.0     |  0:00:06s\n",
            "epoch 23 | loss: 0.00023 | train_accuracy: 1.0     | valid_accuracy: 1.0     |  0:00:07s\n",
            "epoch 24 | loss: 0.00025 | train_accuracy: 1.0     | valid_accuracy: 1.0     |  0:00:07s\n",
            "\n",
            "Early stopping occurred at epoch 24 with best_epoch = 4 and best_valid_accuracy = 1.0\n"
          ]
        },
        {
          "output_type": "stream",
          "name": "stderr",
          "text": [
            "/usr/local/lib/python3.11/dist-packages/pytorch_tabnet/callbacks.py:172: UserWarning: Best weights from best epoch are automatically used!\n",
            "  warnings.warn(wrn_msg)\n"
          ]
        }
      ]
    },
    {
      "cell_type": "markdown",
      "source": [
        "## 6-2. 모델 수정 후 성능 평가\n",
        "\n",
        "❤ 기대와 달리 여러 파라미터를 조정하고 모델을 개선했음에도 과적합은 해결되지 않는 문제가 지속되고 있습니다.\n",
        "\n",
        "❤ 그에 따라 훈련 데이터와 테스트 데이터만이 아닌 검증 데이터 셋도 평가하는 코드를 만들어 비교해보는 모델을 만들었습니다.\n",
        "\n",
        "❤ **모델 구조**: 검증 데이터 셋을 가지고 모델을 학습하고 평가하기 위해서 데이터 타입에 따라 필요한 전처리들을 수행하고 모델을 학습했습니다."
      ],
      "metadata": {
        "id": "VS2YMAPykRHO"
      }
    },
    {
      "cell_type": "code",
      "source": [
        "from sklearn.metrics import classification_report, confusion_matrix, accuracy_score\n",
        "\n",
        "# 예측하는 코드\n",
        "y_pred = clf.predict(X_test.values)\n",
        "\n",
        "# 평가 관련 지표 출력하는 코드\n",
        "print(\"Classification Report:\")\n",
        "print(classification_report(y_test.values, y_pred))\n",
        "\n",
        "print(\"Confusion Matrix:\")\n",
        "print(confusion_matrix(y_test.values, y_pred))\n",
        "\n",
        "print(\"Accuracy:\", accuracy_score(y_test.values, y_pred))"
      ],
      "metadata": {
        "colab": {
          "base_uri": "https://localhost:8080/"
        },
        "id": "0u0OZemvrUX9",
        "outputId": "1f65ad4d-54f2-4717-a3ba-a7a816654aeb"
      },
      "execution_count": null,
      "outputs": [
        {
          "output_type": "stream",
          "name": "stdout",
          "text": [
            "Classification Report:\n",
            "              precision    recall  f1-score   support\n",
            "\n",
            "           0       1.00      1.00      1.00       118\n",
            "           1       1.00      1.00      1.00        79\n",
            "\n",
            "    accuracy                           1.00       197\n",
            "   macro avg       1.00      1.00      1.00       197\n",
            "weighted avg       1.00      1.00      1.00       197\n",
            "\n",
            "Confusion Matrix:\n",
            "[[118   0]\n",
            " [  0  79]]\n",
            "Accuracy: 1.0\n"
          ]
        }
      ]
    },
    {
      "cell_type": "code",
      "source": [
        "from sklearn.model_selection import train_test_split\n",
        "\n",
        "# 데이터 분할하는 코드\n",
        "X_train_full, X_test, y_train_full, y_test = train_test_split(\n",
        "    X, y, stratify=y, test_size=0.2, random_state=42)\n",
        "\n",
        "# 훈련 데이터를 검증 데이터 셋으로 분할하는 코드\n",
        "X_train, X_val, y_train, y_val = train_test_split(\n",
        "    X_train_full, y_train_full, stratify=y_train_full, test_size=0.2, random_state=42)"
      ],
      "metadata": {
        "id": "wHybf9mQWQbk"
      },
      "execution_count": null,
      "outputs": []
    },
    {
      "cell_type": "code",
      "source": [
        "# bool 타입 데이터를 int 형태로 변환하는 코드\n",
        "X_train = X_train.astype({col: 'int' for col in X_train.select_dtypes(include='bool').columns})\n",
        "X_val = X_val.astype({col: 'int' for col in X_val.select_dtypes(include='bool').columns})"
      ],
      "metadata": {
        "id": "OarqkOq-tam2"
      },
      "execution_count": null,
      "outputs": []
    },
    {
      "cell_type": "code",
      "source": [
        "# 데이터 타입 별 개수를 출력하는 코드\n",
        "print(X_train.dtypes.value_counts())"
      ],
      "metadata": {
        "colab": {
          "base_uri": "https://localhost:8080/"
        },
        "id": "r5V650vHtcd2",
        "outputId": "699279a1-80a6-488f-8023-d9e6d95f06ea"
      },
      "execution_count": null,
      "outputs": [
        {
          "output_type": "stream",
          "name": "stdout",
          "text": [
            "int64    39\n",
            "Name: count, dtype: int64\n"
          ]
        }
      ]
    },
    {
      "cell_type": "code",
      "source": [
        "# 각 데이터를 넘파이 배열로 변환하는 코드\n",
        "X_train_np = X_train.values.astype(np.float32)\n",
        "X_val_np = X_val.values.astype(np.float32)\n",
        "y_train_np = y_train.values\n",
        "y_val_np = y_val.values"
      ],
      "metadata": {
        "id": "rfoBItditfa1"
      },
      "execution_count": null,
      "outputs": []
    },
    {
      "cell_type": "code",
      "source": [
        "# 정수형으로 변환하는 코드\n",
        "X_val = X_val.astype({col: 'int' for col in X_val.select_dtypes(include='bool').columns})"
      ],
      "metadata": {
        "id": "khqCoaPjttzG"
      },
      "execution_count": null,
      "outputs": []
    },
    {
      "cell_type": "code",
      "source": [
        "# 넘파이 배열로 바꾸고 정수형으로 변환하는 코드\n",
        "X_val_np = X_val.values.astype(np.float32)\n",
        "y_val_pred = clf.predict(X_val_np)"
      ],
      "metadata": {
        "id": "kVSt_YRttvB7"
      },
      "execution_count": null,
      "outputs": []
    },
    {
      "cell_type": "code",
      "source": [
        "# 학습하는 코드\n",
        "clf.fit(\n",
        "    X_train_np, y_train_np,\n",
        "    eval_set=[(X_val_np, y_val_np)],\n",
        "    eval_name=['val'],\n",
        "    eval_metric=['accuracy'],\n",
        "    max_epochs=100,\n",
        "    patience=20\n",
        ")"
      ],
      "metadata": {
        "colab": {
          "base_uri": "https://localhost:8080/"
        },
        "id": "4xzIXvAgtEfS",
        "outputId": "f13956e1-afe8-4652-d931-d756af4a3e22"
      },
      "execution_count": null,
      "outputs": [
        {
          "output_type": "stream",
          "name": "stdout",
          "text": [
            "epoch 0  | loss: 0.0     | val_accuracy: 0.60127 |  0:00:00s\n",
            "epoch 1  | loss: 0.0     | val_accuracy: 0.60127 |  0:00:00s\n",
            "epoch 2  | loss: 0.0     | val_accuracy: 0.60127 |  0:00:00s\n",
            "epoch 3  | loss: 0.0     | val_accuracy: 0.60127 |  0:00:00s\n",
            "epoch 4  | loss: 0.0     | val_accuracy: 0.60127 |  0:00:00s\n",
            "epoch 5  | loss: 0.0     | val_accuracy: 0.60127 |  0:00:00s\n",
            "epoch 6  | loss: 0.0     | val_accuracy: 0.60127 |  0:00:00s\n",
            "epoch 7  | loss: 0.0     | val_accuracy: 0.60127 |  0:00:00s\n",
            "epoch 8  | loss: 0.0     | val_accuracy: 0.60127 |  0:00:00s\n"
          ]
        },
        {
          "output_type": "stream",
          "name": "stderr",
          "text": [
            "/usr/local/lib/python3.11/dist-packages/torch/optim/lr_scheduler.py:227: UserWarning: Detected call of `lr_scheduler.step()` before `optimizer.step()`. In PyTorch 1.1.0 and later, you should call them in the opposite order: `optimizer.step()` before `lr_scheduler.step()`.  Failure to do this will result in PyTorch skipping the first value of the learning rate schedule. See more details at https://pytorch.org/docs/stable/optim.html#how-to-adjust-learning-rate\n",
            "  warnings.warn(\n"
          ]
        },
        {
          "output_type": "stream",
          "name": "stdout",
          "text": [
            "epoch 9  | loss: 0.0     | val_accuracy: 0.60127 |  0:00:00s\n",
            "epoch 10 | loss: 0.0     | val_accuracy: 0.60127 |  0:00:00s\n",
            "epoch 11 | loss: 0.0     | val_accuracy: 0.60127 |  0:00:00s\n",
            "epoch 12 | loss: 0.0     | val_accuracy: 0.60127 |  0:00:00s\n",
            "epoch 13 | loss: 0.0     | val_accuracy: 0.60127 |  0:00:00s\n",
            "epoch 14 | loss: 0.0     | val_accuracy: 0.60127 |  0:00:00s\n",
            "epoch 15 | loss: 0.0     | val_accuracy: 0.60127 |  0:00:00s\n",
            "epoch 16 | loss: 0.0     | val_accuracy: 0.60127 |  0:00:00s\n",
            "epoch 17 | loss: 0.0     | val_accuracy: 0.60127 |  0:00:00s\n",
            "epoch 18 | loss: 0.0     | val_accuracy: 0.60127 |  0:00:00s\n",
            "epoch 19 | loss: 0.0     | val_accuracy: 0.60127 |  0:00:00s\n",
            "epoch 20 | loss: 0.0     | val_accuracy: 0.60127 |  0:00:00s\n",
            "\n",
            "Early stopping occurred at epoch 20 with best_epoch = 0 and best_val_accuracy = 0.60127\n"
          ]
        },
        {
          "output_type": "stream",
          "name": "stderr",
          "text": [
            "/usr/local/lib/python3.11/dist-packages/pytorch_tabnet/callbacks.py:172: UserWarning: Best weights from best epoch are automatically used!\n",
            "  warnings.warn(wrn_msg)\n"
          ]
        }
      ]
    },
    {
      "cell_type": "markdown",
      "source": [
        "## 6-2. 모델 수정 후 성능 평가\n",
        "\n",
        "❤ 밑의 성능 지표를 보면 정확도는 낮은 편이지만 1 클래스에 대해서 0 클래스보다 예측을 못하고 있는 문제점이 발새했습니다.\n",
        "\n",
        "❤ 클래스 1을 예측하게 하기 위해서 데이터 불균형을 완화하고 클래스 가중치를 부여하는 방향, threshold 값 조정, 데이터 전처리 수정 방향으로 모델을 개선해 학습을 해보았습니다.\n",
        "\n",
        "❤ **데이터 전처리 수정**: bool 타입의 데이터를 int형으로 전처리 해주고 특정 수치형 칼럼들에 대해서 스케일링을 해주었습니다. 또한 데이터를 넘파이 배열로 변환해 모델을 다시 학습하였습니다."
      ],
      "metadata": {
        "id": "iyxKdPZalHw_"
      }
    },
    {
      "cell_type": "code",
      "source": [
        "# 예측하는 코드\n",
        "y_val_pred = clf.predict(X_val_np)\n",
        "\n",
        "# 평가 출력하는 코드\n",
        "from sklearn.metrics import classification_report\n",
        "print(classification_report(y_val_np, y_val_pred))"
      ],
      "metadata": {
        "colab": {
          "base_uri": "https://localhost:8080/"
        },
        "id": "OhZxBYcXcKk3",
        "outputId": "98ace941-5da3-4219-d026-b53abb90d07e"
      },
      "execution_count": null,
      "outputs": [
        {
          "output_type": "stream",
          "name": "stdout",
          "text": [
            "              precision    recall  f1-score   support\n",
            "\n",
            "           0       0.60      1.00      0.75        95\n",
            "           1       0.00      0.00      0.00        63\n",
            "\n",
            "    accuracy                           0.60       158\n",
            "   macro avg       0.30      0.50      0.38       158\n",
            "weighted avg       0.36      0.60      0.45       158\n",
            "\n"
          ]
        },
        {
          "output_type": "stream",
          "name": "stderr",
          "text": [
            "/usr/local/lib/python3.11/dist-packages/sklearn/metrics/_classification.py:1565: UndefinedMetricWarning: Precision is ill-defined and being set to 0.0 in labels with no predicted samples. Use `zero_division` parameter to control this behavior.\n",
            "  _warn_prf(average, modifier, f\"{metric.capitalize()} is\", len(result))\n",
            "/usr/local/lib/python3.11/dist-packages/sklearn/metrics/_classification.py:1565: UndefinedMetricWarning: Precision is ill-defined and being set to 0.0 in labels with no predicted samples. Use `zero_division` parameter to control this behavior.\n",
            "  _warn_prf(average, modifier, f\"{metric.capitalize()} is\", len(result))\n",
            "/usr/local/lib/python3.11/dist-packages/sklearn/metrics/_classification.py:1565: UndefinedMetricWarning: Precision is ill-defined and being set to 0.0 in labels with no predicted samples. Use `zero_division` parameter to control this behavior.\n",
            "  _warn_prf(average, modifier, f\"{metric.capitalize()} is\", len(result))\n"
          ]
        }
      ]
    },
    {
      "cell_type": "code",
      "source": [
        "from sklearn.preprocessing import StandardScaler\n",
        "\n",
        "# bool 타입을 int로 변환하는 코드\n",
        "for df in [X_train, X_val]:\n",
        "    df[df.select_dtypes(include='bool').columns] = df.select_dtypes(include='bool').astype(int)\n",
        "\n",
        "# 스케일링하는 코드\n",
        "scaler = StandardScaler()\n",
        "num_cols = ['Age', 'Cost', 'Length_of_Stay', 'Satisfaction']\n",
        "X_train[num_cols] = scaler.fit_transform(X_train[num_cols])\n",
        "X_val[num_cols] = scaler.transform(X_val[num_cols])\n",
        "\n",
        "# 넘파이로 변환하는 코드\n",
        "X_train_np = X_train.values.astype(np.float32)\n",
        "X_val_np = X_val.values.astype(np.float32)\n",
        "y_train_np = y_train.values\n",
        "y_val_np = y_val.values"
      ],
      "metadata": {
        "id": "qWsIygWPt9yq"
      },
      "execution_count": null,
      "outputs": []
    },
    {
      "cell_type": "code",
      "source": [
        "from pytorch_tabnet.tab_model import TabNetClassifier\n",
        "\n",
        "# 모델 구현하는 코드\n",
        "clf = TabNetClassifier(\n",
        "    n_d=8, n_a=8,\n",
        "    n_steps=3,\n",
        "    gamma=1.5,\n",
        "    lambda_sparse=1e-3,\n",
        "    optimizer_params=dict(lr=0.02),\n",
        "    mask_type='entmax'\n",
        ")"
      ],
      "metadata": {
        "colab": {
          "base_uri": "https://localhost:8080/"
        },
        "id": "DUSwTae1cbmz",
        "outputId": "ec9e5147-83a9-42f9-94ce-85b0e3c7fc95"
      },
      "execution_count": null,
      "outputs": [
        {
          "output_type": "stream",
          "name": "stderr",
          "text": [
            "/usr/local/lib/python3.11/dist-packages/pytorch_tabnet/abstract_model.py:82: UserWarning: Device used : cpu\n",
            "  warnings.warn(f\"Device used : {self.device}\")\n"
          ]
        }
      ]
    },
    {
      "cell_type": "code",
      "source": [
        "from IPython.display import Image\n",
        "\n",
        "# draw.io로 만들어본 위의 모델(제일 성능이 좋은 모델만 만들었습니다.)\n",
        "Image('/content/drive/MyDrive/tabnet_model.png')"
      ],
      "metadata": {
        "colab": {
          "base_uri": "https://localhost:8080/",
          "height": 418
        },
        "id": "_vTDWwyKRAYe",
        "outputId": "98a7fbb8-0ba7-4ae5-df8f-e81e931a09b4"
      },
      "execution_count": 232,
      "outputs": [
        {
          "output_type": "execute_result",
          "data": {
            "image/png": "[encoded data removed]",
            "text/plain": [
              "<IPython.core.display.Image object>"
            ]
          },
          "metadata": {},
          "execution_count": 232
        }
      ]
    },
    {
      "cell_type": "code",
      "source": [
        "# 모델 학습하는 코드\n",
        "clf.fit(\n",
        "    X_train_np, y_train_np,\n",
        "    eval_set=[(X_val_np, y_val_np)],\n",
        "    eval_name=['val'],\n",
        "    eval_metric=['accuracy'],\n",
        "    max_epochs=100,\n",
        "    patience=20,\n",
        "    batch_size=256,\n",
        "    virtual_batch_size=64,\n",
        "    num_workers=0,\n",
        "    drop_last=False\n",
        ")"
      ],
      "metadata": {
        "colab": {
          "base_uri": "https://localhost:8080/"
        },
        "id": "FSLfmU6fcf_X",
        "outputId": "138a1b95-7efd-4e62-eb82-69748830769b"
      },
      "execution_count": null,
      "outputs": [
        {
          "output_type": "stream",
          "name": "stdout",
          "text": [
            "epoch 0  | loss: 0.83847 | val_accuracy: 0.60759 |  0:00:00s\n",
            "epoch 1  | loss: 0.45783 | val_accuracy: 0.50633 |  0:00:00s\n",
            "epoch 2  | loss: 0.32204 | val_accuracy: 0.61392 |  0:00:00s\n",
            "epoch 3  | loss: 0.26743 | val_accuracy: 0.72785 |  0:00:01s\n",
            "epoch 4  | loss: 0.15055 | val_accuracy: 0.81013 |  0:00:01s\n",
            "epoch 5  | loss: 0.0976  | val_accuracy: 0.88608 |  0:00:01s\n",
            "epoch 6  | loss: 0.04427 | val_accuracy: 0.93671 |  0:00:02s\n",
            "epoch 7  | loss: 0.02632 | val_accuracy: 0.87342 |  0:00:02s\n",
            "epoch 8  | loss: 0.01255 | val_accuracy: 0.86076 |  0:00:03s\n",
            "epoch 9  | loss: 0.00614 | val_accuracy: 0.84177 |  0:00:03s\n",
            "epoch 10 | loss: 0.00399 | val_accuracy: 0.8481  |  0:00:03s\n",
            "epoch 11 | loss: 0.01504 | val_accuracy: 0.84177 |  0:00:04s\n",
            "epoch 12 | loss: 0.00822 | val_accuracy: 0.83544 |  0:00:04s\n",
            "epoch 13 | loss: 0.00381 | val_accuracy: 0.83544 |  0:00:04s\n",
            "epoch 14 | loss: 0.01958 | val_accuracy: 0.84177 |  0:00:04s\n",
            "epoch 15 | loss: 0.00297 | val_accuracy: 0.85443 |  0:00:04s\n",
            "epoch 16 | loss: 0.00413 | val_accuracy: 0.86076 |  0:00:04s\n",
            "epoch 17 | loss: 0.00624 | val_accuracy: 0.86076 |  0:00:05s\n",
            "epoch 18 | loss: 0.00618 | val_accuracy: 0.86076 |  0:00:05s\n",
            "epoch 19 | loss: 0.00273 | val_accuracy: 0.86076 |  0:00:05s\n",
            "epoch 20 | loss: 0.00247 | val_accuracy: 0.86076 |  0:00:05s\n",
            "epoch 21 | loss: 0.00183 | val_accuracy: 0.86076 |  0:00:05s\n",
            "epoch 22 | loss: 0.04106 | val_accuracy: 0.85443 |  0:00:06s\n",
            "epoch 23 | loss: 0.00249 | val_accuracy: 0.83544 |  0:00:06s\n",
            "epoch 24 | loss: 0.00201 | val_accuracy: 0.82911 |  0:00:06s\n",
            "epoch 25 | loss: 0.01124 | val_accuracy: 0.75949 |  0:00:06s\n",
            "epoch 26 | loss: 0.07401 | val_accuracy: 0.73418 |  0:00:06s\n",
            "\n",
            "Early stopping occurred at epoch 26 with best_epoch = 6 and best_val_accuracy = 0.93671\n"
          ]
        },
        {
          "output_type": "stream",
          "name": "stderr",
          "text": [
            "/usr/local/lib/python3.11/dist-packages/pytorch_tabnet/callbacks.py:172: UserWarning: Best weights from best epoch are automatically used!\n",
            "  warnings.warn(wrn_msg)\n"
          ]
        }
      ]
    },
    {
      "cell_type": "markdown",
      "source": [
        "## 6-2. 데이터 전처리 수정 후 예측 성능 평가\n",
        "\n",
        "❤ **검증 데이터 셋 성능**: 이 성능 지표를 보면 아까와 달리 1클래스에 대해서 완벽히 예측하는 모습을 보이고 있고 정밀도는 클래스 0은 100%, 클래스 1은 86%이고 재현율도 각각 94%,93%로 높습니다. 정확도도 지금까지 학습한 모델에서 제일 좋은 94%가 나왔습니다. 이 지표를 보면 과적합이 완전히 사라졌다는 것을 알 수 있고 모델의 성능도 좋다는 결과를 얻을 수 있습니다.\n",
        "\n",
        "❤ 아직 모델의 데이터의 불균형이 남아있음에도 높은 성능을 보이고 있습니다.\n",
        "\n",
        "❤ **테스트 데이터 셋 성능** : 검증 데이터는 높은 성능을 보이는 반면 테스트 데이터 셋은 검증 데이터 셋 성능보다 많이 떨어지는 모습을 보이고 있습니다. 검증 데이터와 달리 테스트 데이터는 여전히 클래스 1을 예측하지 못하는 결과를 보이고 그에 따라 전체적인 정확도도 떨어진 모습입니다.\n",
        "\n",
        "❤ **Regularization 강화 모델**: 테스트 데이터의 성능도 같이 높이기 위해 Regularization 강화를 실시했습니다. 우선 TabNet 모델을 초기화해서 재설정하고 학습률을 0.02로 변경해주었습니다. 그리고 mask_type='sparsemax'라는 코드를 사용하여 최소한의 특성을 선택하는 방식으로 모델을 구현했습니다."
      ],
      "metadata": {
        "id": "nuBCG7gxnFvN"
      }
    },
    {
      "cell_type": "code",
      "source": [
        "# 예측하는 코드\n",
        "y_val_pred = clf.predict(X_val_np)\n",
        "from sklearn.metrics import classification_report\n",
        "print(classification_report(y_val_np, y_val_pred))"
      ],
      "metadata": {
        "colab": {
          "base_uri": "https://localhost:8080/"
        },
        "id": "Zh66eKVncmhI",
        "outputId": "a7a5ccb6-efbb-46e6-e6e1-2a7a6f804473"
      },
      "execution_count": null,
      "outputs": [
        {
          "output_type": "stream",
          "name": "stdout",
          "text": [
            "              precision    recall  f1-score   support\n",
            "\n",
            "           0       1.00      0.89      0.94        95\n",
            "           1       0.86      1.00      0.93        63\n",
            "\n",
            "    accuracy                           0.94       158\n",
            "   macro avg       0.93      0.95      0.94       158\n",
            "weighted avg       0.95      0.94      0.94       158\n",
            "\n"
          ]
        }
      ]
    },
    {
      "cell_type": "code",
      "source": [
        "for col in X_train.columns:\n",
        "    if col not in patient.columns:\n",
        "        patient[col] = 0\n",
        "\n",
        "patient = patient[X_train.columns]\n",
        "\n",
        "\n",
        "bool_cols = patient.select_dtypes(include='bool').columns\n",
        "patient[bool_cols] = patient[bool_cols].astype(int)\n",
        "\n",
        "\n",
        "num_cols = ['Age', 'Cost', 'Length_of_Stay', 'Satisfaction']\n",
        "patient[num_cols] = scaler.transform(patient[num_cols])\n",
        "\n",
        "\n",
        "patient_np = patient.values.astype(np.float32)\n",
        "\n",
        "y_pred = clf.predict(patient_np)\n",
        "\n",
        "print(\"예측 결과:\", y_pred)"
      ],
      "metadata": {
        "colab": {
          "base_uri": "https://localhost:8080/"
        },
        "id": "iLRGsJ7aKc4Z",
        "outputId": "be4ad608-45fb-4909-c525-f7589467a114"
      },
      "execution_count": null,
      "outputs": [
        {
          "output_type": "stream",
          "name": "stderr",
          "text": [
            "<ipython-input-190-685120d58819>:9: SettingWithCopyWarning: \n",
            "A value is trying to be set on a copy of a slice from a DataFrame.\n",
            "Try using .loc[row_indexer,col_indexer] = value instead\n",
            "\n",
            "See the caveats in the documentation: https://pandas.pydata.org/pandas-docs/stable/user_guide/indexing.html#returning-a-view-versus-a-copy\n",
            "  patient[bool_cols] = patient[bool_cols].astype(int)\n",
            "<ipython-input-190-685120d58819>:13: SettingWithCopyWarning: \n",
            "A value is trying to be set on a copy of a slice from a DataFrame.\n",
            "Try using .loc[row_indexer,col_indexer] = value instead\n",
            "\n",
            "See the caveats in the documentation: https://pandas.pydata.org/pandas-docs/stable/user_guide/indexing.html#returning-a-view-versus-a-copy\n",
            "  patient[num_cols] = scaler.transform(patient[num_cols])\n"
          ]
        },
        {
          "output_type": "stream",
          "name": "stdout",
          "text": [
            "예측 결과: [0 1 0 1 0 1 0 0 1 0 1 0 0 0 1 0 1 0 1 0 1 0 0 1 0 1 0 0 0 1 0 1 0 1 0 1 0\n",
            " 0 1 0 1 0 0 1 1 0 1 0 1 0 1 0 0 1 0 1 0 0 0 0 1 0 1 0 1 0 0 1 0 1 0 0 1 1\n",
            " 0 1 0 1 0 1 0 0 1 0 1 0 0 0 1 0 1 0 1 0 1 0 0 1 0 1 0 0 1 1 0 1 0 1 0 1 0\n",
            " 0 1 0 1 0 0 0 1 1 0 1 0 1 0 0 1 0 1 0 0 0 1 0 1 0 1 0 1 0 0 1 0 1 0 0 0 1\n",
            " 0 1 0 1 0 1 0 0 1 0 1 0 0 0 1 0 1 0 1 0 1 1 0 1 0 1 0 0 0 1 0 0 1 0 1 0 0\n",
            " 1 0 1 0 0 0 1 0 1 0 1 0 1 1 0 1 0 1 0 0 0 1 0 1 0 1 0 1 0 0 1 0 1 0 0 0 1\n",
            " 0 1 0 1 0 1 1 0 1 0 1 0 0 0 1 0 1 1 0 1 0 0 1 0 1 0 0 0 1 0 1 0 1 0 1 1 0\n",
            " 1 0 1 0 0 0 1 0 1 0 1 0 1 0 0 1 0 1 0 0 0 1 0 1 0 1 0 1 1 0 1 1 0 0 0 1 0\n",
            " 1 0 1 0 1 0 0 1 0 1 0 0 0 1 0 1 0 1 0 1 1 0 1 0 1 0 0 0 1 0 1 0 1 0 1 1 0\n",
            " 1 0 1 0 0 0 1 0 1 0 1 0 1 1 0 1 0 0 0 0 1 0 1 0 1 0 1 1 0 1 0 1 0 0 0 1 0\n",
            " 1 0 1 0 1 1 0 1 0 1 0 0 0 1 0 1 0 1 0 1 1 0 1 0 1 0 0 0 1 0 1 0 1 0 1 1 0\n",
            " 1 0 1 0 0 1 0 1 0 1 0 1 1 0 1 0 1 0 0 0 1 0 1 0 1 0 1 1 0 1 0 1 0 0 0 1 0\n",
            " 1 0 1 0 1 1 0 1 0 1 0 0 0 1 0 1 0 1 0 1 1 0 1 0 1 0 0 1 0 1 0 1 0 1 1 0 1\n",
            " 0 1 0 0 0 1 0 1 0 1 0 1 1 0 1 0 1 0 0 0 1 0 1 0 1 0 1 1 0 1 0 1 0 0 0 1 0\n",
            " 1 0 1 0 1 1 0 1 0 1 0 0 1 0 1 0 1 0 1 1 0 1 0 1 0 0 0 1 0 1 0 1 0 1 1 0 1\n",
            " 0 1 0 0 0 1 0 1 0 1 0 1 1 0 1 0 1 0 0 0 1 0 1 0 1 0 1 1 0 1 0 1 0 0 0 0 1\n",
            " 0 1 0 1 1 0 1 0 1 0 0 0 1 0 1 0 1 0 1 1 0 1 0 1 0 0 0 1 0 1 0 1 0 1 1 0 1\n",
            " 0 1 0 0 0 1 0 1 0 1 0 1 1 0 1 0 1 0 1 0 1 1 0 1 0 1 1 0 1 0 1 0 0 0 1 0 1\n",
            " 0 1 0 1 1 0 1 0 1 0 1 0 1 0 1 0 1 0 1 1 0 1 0 1 0 0 0 1 0 1 0 1 0 1 1 0 1\n",
            " 0 1 0 1 0 1 0 0 1 0 1 1 0 1 0 1 0 0 0 1 0 1 0 1 0 1 1 0 1 0 1 0 1 0 1 0 1\n",
            " 0 1 0 1 1 0 1 0 1 0 0 0 1 0 1 0 1 0 1 1 0 1 0 1 0 1 0 1 0 1 0 0 1 1 0 1 0\n",
            " 1 0 0 0 1 0 1 0 1 0 1 1 0 1 0 1 0 1 0 1 0 1 0 1 0 1 1 0 1 0 1 0 0 0 1 0 1\n",
            " 0 1 0 1 1 0 1 0 1 0 1 0 1 0 1 0 1 1 1 0 1 0 1 0 0 1 1 0 1 0 1 0 1 1 0 1 0\n",
            " 1 0 1 0 1 0 1 0 1 0 1 1 0 1 0 1 0 0 1 1 0 1 0 1 0 1 1 0 1 0 1 0 1 1 1 0 1\n",
            " 0 1 0 1 0 1 0 1 0 0 1 1 0 1 0 1 0 1 1 0 1 0 1 0 1 1 1 0 1 0 1 0 1 1 0 1 0\n",
            " 1 0 0 1 1 0 1 0 1 0 1 1 0 1 0 1 0 1 1 1 0 1 0 1 0 1 0 1 0 1 0 0 1 1 0 1 0\n",
            " 1 0 1 1 0 1 0 1 1 1 1 1 0 1 0 1 0 1 1 0 1 0]\n"
          ]
        }
      ]
    },
    {
      "cell_type": "markdown",
      "source": [
        "## ❤ 성능이 좋게 나온 모델을 바탕으로 새로운 데이터 예측해보기"
      ],
      "metadata": {
        "id": "eS3RvNJ0MuFw"
      }
    },
    {
      "cell_type": "code",
      "source": [
        "import pandas as pd\n",
        "import numpy as np\n",
        "\n",
        "# 새로운 환자 데이터 입력하기\n",
        "def predict_treatment_possibility(condition_input, X_train, scaler, clf):\n",
        "\n",
        "    patient_dict = {\n",
        "        'Age': 50,\n",
        "        'Cost': 5000,\n",
        "        'Length_of_Stay': 5,\n",
        "        'Outcome': 0,\n",
        "        'Satisfaction': 3,\n",
        "        'Outcome_Label': 0,\n",
        "        'Condition': condition_input,\n",
        "        'Gender': 'Male',\n",
        "        'Procedure': 'Medication and Counseling',\n",
        "        'Readmission': 'No'\n",
        "    }\n",
        "\n",
        "\n",
        "    patient = pd.DataFrame([patient_dict])\n",
        "\n",
        "    # 원핫인코딩\n",
        "    categorical_cols = ['Gender', 'Condition', 'Procedure', 'Readmission']\n",
        "    patient_encoded = pd.get_dummies(patient, columns=categorical_cols)\n",
        "\n",
        "\n",
        "    for col in X_train.columns:\n",
        "        if col not in patient_encoded.columns:\n",
        "            patient_encoded[col] = 0\n",
        "    patient_encoded = patient_encoded[X_train.columns]\n",
        "\n",
        "    # 수치형 인코딩하기\n",
        "    num_cols = ['Age', 'Cost', 'Length_of_Stay', 'Satisfaction']\n",
        "    patient_encoded[num_cols] = scaler.transform(patient_encoded[num_cols])\n",
        "\n",
        "\n",
        "    patient_np = patient_encoded.values.astype(np.float32)\n",
        "\n",
        "    # 예측하기\n",
        "    pred = clf.predict(patient_np)\n",
        "\n",
        "    # 출력하기\n",
        "    print(f\"입력하신 질병 '{condition_input}' 에 대한 치료 가능성 예측 결과: {pred[0]}\")"
      ],
      "metadata": {
        "id": "73p6H9N-MN0B"
      },
      "execution_count": null,
      "outputs": []
    },
    {
      "cell_type": "code",
      "source": [
        "condition = input(\"예측할 질병명을 입력하세요: \")\n",
        "predict_treatment_possibility(condition, X_train, scaler, clf)"
      ],
      "metadata": {
        "colab": {
          "base_uri": "https://localhost:8080/"
        },
        "id": "E6Z5OFYjMmQK",
        "outputId": "811d6585-111a-4faf-cdbe-26883d94ca9b"
      },
      "execution_count": null,
      "outputs": [
        {
          "output_type": "stream",
          "name": "stdout",
          "text": [
            "예측할 질병명을 입력하세요: Cancer\n",
            "입력하신 질병 'Cancer' 에 대한 치료 가능성 예측 결과: 1\n"
          ]
        }
      ]
    },
    {
      "cell_type": "markdown",
      "source": [
        "# 테스트 데이터 셋 평가"
      ],
      "metadata": {
        "id": "OpjSODmbvC2Q"
      }
    },
    {
      "cell_type": "code",
      "source": [
        "# 테스트 데이터 셋 평가하는 코드\n",
        "X_test_fixed = X_test.copy()\n",
        "for col in X_test_fixed.columns:\n",
        "    if X_test_fixed[col].dtype == 'bool':\n",
        "        X_test_fixed[col] = X_test_fixed[col].astype(int)\n",
        "\n",
        "y_test_pred = clf.predict(X_test_fixed.values)"
      ],
      "metadata": {
        "id": "2QUnnxYcvMJ2"
      },
      "execution_count": null,
      "outputs": []
    },
    {
      "cell_type": "code",
      "source": [
        "from sklearn.metrics import classification_report, confusion_matrix, accuracy_score\n",
        "\n",
        "# 테스트 데이터 셋 평가 지표 출력하는 코드\n",
        "print(\"Test Set Performance:\")\n",
        "print(classification_report(y_test, y_test_pred))\n",
        "print(\"Confusion Matrix:\")\n",
        "print(confusion_matrix(y_test, y_test_pred))\n",
        "print(\"Accuracy:\", accuracy_score(y_test, y_test_pred))"
      ],
      "metadata": {
        "colab": {
          "base_uri": "https://localhost:8080/"
        },
        "id": "0tnb0CSYvFzI",
        "outputId": "815df23f-0980-406e-b4a9-ccf9a566e438"
      },
      "execution_count": null,
      "outputs": [
        {
          "output_type": "stream",
          "name": "stdout",
          "text": [
            "Test Set Performance:\n",
            "              precision    recall  f1-score   support\n",
            "\n",
            "           0       0.59      0.95      0.72       118\n",
            "           1       0.00      0.00      0.00        79\n",
            "\n",
            "    accuracy                           0.57       197\n",
            "   macro avg       0.29      0.47      0.36       197\n",
            "weighted avg       0.35      0.57      0.43       197\n",
            "\n",
            "Confusion Matrix:\n",
            "[[112   6]\n",
            " [ 79   0]]\n",
            "Accuracy: 0.5685279187817259\n"
          ]
        }
      ]
    },
    {
      "cell_type": "markdown",
      "source": [
        "# Regularization 강화"
      ],
      "metadata": {
        "id": "CX8zS0j9v2p1"
      }
    },
    {
      "cell_type": "code",
      "source": [
        "from pytorch_tabnet.tab_model import TabNetClassifier\n",
        "\n",
        "# 모델 재설정하는 코드\n",
        "clf = TabNetClassifier(\n",
        "    lambda_sparse=1e-3,\n",
        "    optimizer_params=dict(lr=2e-2, weight_decay=1e-5),\n",
        "    mask_type='sparsemax'\n",
        ")"
      ],
      "metadata": {
        "colab": {
          "base_uri": "https://localhost:8080/"
        },
        "id": "2VuW4jzFv4uT",
        "outputId": "8dc72996-611f-4172-fc33-9025bb00a636"
      },
      "execution_count": null,
      "outputs": [
        {
          "output_type": "stream",
          "name": "stderr",
          "text": [
            "/usr/local/lib/python3.11/dist-packages/pytorch_tabnet/abstract_model.py:82: UserWarning: Device used : cpu\n",
            "  warnings.warn(f\"Device used : {self.device}\")\n"
          ]
        }
      ]
    },
    {
      "cell_type": "code",
      "source": [
        "# 재설정한 모델 학습하는 코드\n",
        "clf.fit(\n",
        "    X_train.values, y_train.values,\n",
        "    eval_set=[(X_val.values, y_val.values)],\n",
        "    eval_name=['val'],\n",
        "    eval_metric=['accuracy'],\n",
        "    max_epochs=100,\n",
        "    patience=20,\n",
        "    batch_size=256,\n",
        "    virtual_batch_size=64,\n",
        "    num_workers=0,\n",
        "    drop_last=False\n",
        ")"
      ],
      "metadata": {
        "colab": {
          "base_uri": "https://localhost:8080/"
        },
        "id": "t27d5YvOwD-O",
        "outputId": "6f754136-23d0-453d-8ae4-42d6ade4e5cb"
      },
      "execution_count": null,
      "outputs": [
        {
          "output_type": "stream",
          "name": "stdout",
          "text": [
            "epoch 0  | loss: 1.03083 | val_accuracy: 0.72152 |  0:00:00s\n",
            "epoch 1  | loss: 0.67134 | val_accuracy: 0.72785 |  0:00:00s\n",
            "epoch 2  | loss: 0.50963 | val_accuracy: 0.77848 |  0:00:00s\n",
            "epoch 3  | loss: 0.41165 | val_accuracy: 0.75316 |  0:00:01s\n",
            "epoch 4  | loss: 0.30921 | val_accuracy: 0.76582 |  0:00:01s\n",
            "epoch 5  | loss: 0.26804 | val_accuracy: 0.84177 |  0:00:01s\n",
            "epoch 6  | loss: 0.17506 | val_accuracy: 0.91772 |  0:00:02s\n",
            "epoch 7  | loss: 0.10413 | val_accuracy: 1.0     |  0:00:02s\n",
            "epoch 8  | loss: 0.06897 | val_accuracy: 0.98101 |  0:00:03s\n",
            "epoch 9  | loss: 0.02198 | val_accuracy: 0.96203 |  0:00:03s\n",
            "epoch 10 | loss: 0.01327 | val_accuracy: 0.91772 |  0:00:03s\n",
            "epoch 11 | loss: 0.01456 | val_accuracy: 0.93671 |  0:00:04s\n",
            "epoch 12 | loss: 0.00711 | val_accuracy: 0.94304 |  0:00:04s\n",
            "epoch 13 | loss: 0.00541 | val_accuracy: 0.96203 |  0:00:04s\n",
            "epoch 14 | loss: 0.00834 | val_accuracy: 0.93671 |  0:00:04s\n",
            "epoch 15 | loss: 0.00743 | val_accuracy: 0.83544 |  0:00:04s\n",
            "epoch 16 | loss: 0.00597 | val_accuracy: 0.82911 |  0:00:04s\n",
            "epoch 17 | loss: 0.01127 | val_accuracy: 0.81013 |  0:00:04s\n",
            "epoch 18 | loss: 0.00606 | val_accuracy: 0.82278 |  0:00:04s\n",
            "epoch 19 | loss: 0.0219  | val_accuracy: 0.82278 |  0:00:04s\n",
            "epoch 20 | loss: 0.0017  | val_accuracy: 0.82911 |  0:00:04s\n",
            "epoch 21 | loss: 0.00109 | val_accuracy: 0.8481  |  0:00:05s\n",
            "epoch 22 | loss: 0.00227 | val_accuracy: 0.8481  |  0:00:05s\n",
            "epoch 23 | loss: 0.00181 | val_accuracy: 0.8481  |  0:00:05s\n",
            "epoch 24 | loss: 0.00228 | val_accuracy: 0.84177 |  0:00:05s\n",
            "epoch 25 | loss: 0.0031  | val_accuracy: 0.82911 |  0:00:05s\n",
            "epoch 26 | loss: 0.01137 | val_accuracy: 0.87342 |  0:00:05s\n",
            "epoch 27 | loss: 0.00136 | val_accuracy: 0.86076 |  0:00:05s\n",
            "\n",
            "Early stopping occurred at epoch 27 with best_epoch = 7 and best_val_accuracy = 1.0\n"
          ]
        },
        {
          "output_type": "stream",
          "name": "stderr",
          "text": [
            "/usr/local/lib/python3.11/dist-packages/pytorch_tabnet/callbacks.py:172: UserWarning: Best weights from best epoch are automatically used!\n",
            "  warnings.warn(wrn_msg)\n"
          ]
        }
      ]
    },
    {
      "cell_type": "markdown",
      "source": [
        "## 6-3.Regularization 강화 모델 성능 평가\n",
        "\n",
        "❤ **검증 데이터 성능**: 강화를 한 다음에 갑자기 검증 데이터 셋의 성능이 과적합된 모습의 결과가 나왔습니다.\n",
        "\n",
        "❤ **테스트 데이터 성능**: 오히려 테스트 데이터 셋은 아까 성능보다 나아진 모습으로 클래스 1에 대해서 예측을 하기 시작했습니다."
      ],
      "metadata": {
        "id": "b7bQ_0qmw1Ao"
      }
    },
    {
      "cell_type": "code",
      "source": [
        "# 예측한 결과를 출력하는 코드\n",
        "y_val_pred = clf.predict(X_val.values)\n",
        "from sklearn.metrics import classification_report\n",
        "print(classification_report(y_val, y_val_pred))"
      ],
      "metadata": {
        "colab": {
          "base_uri": "https://localhost:8080/"
        },
        "id": "vkqOG2UEwP8P",
        "outputId": "b030999c-f3ca-4a4f-e24a-b166a6b75175"
      },
      "execution_count": null,
      "outputs": [
        {
          "output_type": "stream",
          "name": "stdout",
          "text": [
            "              precision    recall  f1-score   support\n",
            "\n",
            "           0       1.00      1.00      1.00        95\n",
            "           1       1.00      1.00      1.00        63\n",
            "\n",
            "    accuracy                           1.00       158\n",
            "   macro avg       1.00      1.00      1.00       158\n",
            "weighted avg       1.00      1.00      1.00       158\n",
            "\n"
          ]
        }
      ]
    },
    {
      "cell_type": "code",
      "source": [
        "# 테스트 데이터 셋 성능 출력하는 코드\n",
        "y_test_pred = clf.predict(X_test.to_numpy(dtype=np.float32))\n",
        "print(classification_report(y_test, y_test_pred))"
      ],
      "metadata": {
        "colab": {
          "base_uri": "https://localhost:8080/"
        },
        "id": "ZbbFzXhpwRf7",
        "outputId": "6b5b6764-75ee-4b0d-859e-51346619b9e1"
      },
      "execution_count": null,
      "outputs": [
        {
          "output_type": "stream",
          "name": "stdout",
          "text": [
            "              precision    recall  f1-score   support\n",
            "\n",
            "           0       0.46      0.40      0.43       118\n",
            "           1       0.25      0.30      0.28        79\n",
            "\n",
            "    accuracy                           0.36       197\n",
            "   macro avg       0.36      0.35      0.35       197\n",
            "weighted avg       0.38      0.36      0.37       197\n",
            "\n"
          ]
        }
      ]
    },
    {
      "cell_type": "code",
      "source": [
        "# 데이터 타입 출력하는 코드\n",
        "print(X_test.dtypes)"
      ],
      "metadata": {
        "colab": {
          "base_uri": "https://localhost:8080/"
        },
        "id": "oI8enzNpwd7e",
        "outputId": "a766de6d-23fa-4406-958a-9128f2f9d5f6",
        "collapsed": true
      },
      "execution_count": null,
      "outputs": [
        {
          "output_type": "stream",
          "name": "stdout",
          "text": [
            "Age                                               int64\n",
            "Cost                                              int64\n",
            "Length_of_Stay                                    int64\n",
            "Satisfaction                                      int64\n",
            "Outcome_Label                                     int64\n",
            "Gender_Female                                      bool\n",
            "Gender_Male                                        bool\n",
            "Condition_Allergic Reaction                        bool\n",
            "Condition_Appendicitis                             bool\n",
            "Condition_Cancer                                   bool\n",
            "Condition_Childbirth                               bool\n",
            "Condition_Diabetes                                 bool\n",
            "Condition_Fractured Arm                            bool\n",
            "Condition_Fractured Leg                            bool\n",
            "Condition_Heart Attack                             bool\n",
            "Condition_Heart Disease                            bool\n",
            "Condition_Hypertension                             bool\n",
            "Condition_Kidney Stones                            bool\n",
            "Condition_Osteoarthritis                           bool\n",
            "Condition_Prostate Cancer                          bool\n",
            "Condition_Respiratory Infection                    bool\n",
            "Condition_Stroke                                   bool\n",
            "Procedure_Angioplasty                              bool\n",
            "Procedure_Antibiotics and Rest                     bool\n",
            "Procedure_Appendectomy                             bool\n",
            "Procedure_CT Scan and Medication                   bool\n",
            "Procedure_Cardiac Catheterization                  bool\n",
            "Procedure_Cast and Physical Therapy                bool\n",
            "Procedure_Delivery and Postnatal Care              bool\n",
            "Procedure_Epinephrine Injection                    bool\n",
            "Procedure_Insulin Therapy                          bool\n",
            "Procedure_Lithotripsy                              bool\n",
            "Procedure_Medication and Counseling                bool\n",
            "Procedure_Physical Therapy and Pain Management     bool\n",
            "Procedure_Radiation Therapy                        bool\n",
            "Procedure_Surgery and Chemotherapy                 bool\n",
            "Procedure_X-Ray and Splint                         bool\n",
            "Readmission_No                                     bool\n",
            "Readmission_Yes                                    bool\n",
            "dtype: object\n"
          ]
        }
      ]
    },
    {
      "cell_type": "code",
      "source": [
        "# 데이터에 문자열이 있는지 확인하는 코드\n",
        "for col in X_test.columns:\n",
        "    if X_test[col].dtype == 'object':\n",
        "        print(col, X_test[col].unique())\n",
        "\n",
        "\n",
        "X_test = X_test.select_dtypes(exclude=['object'])"
      ],
      "metadata": {
        "id": "KE7KQnqXwgh3"
      },
      "execution_count": null,
      "outputs": []
    },
    {
      "cell_type": "markdown",
      "source": [
        "## 6-4. TabNet 모델 분류기 사용\n",
        "\n",
        "❤ 비교적 깊은 모델 형태로 넣어봤습니다. 처음 TabNet 모델을 사용할 때와 같은 모델 구조이고 이전보다 더 나은 아키텍쳐와 옵티마이저를 사용했습니다."
      ],
      "metadata": {
        "id": "Ft78SHJ7qg1q"
      }
    },
    {
      "cell_type": "code",
      "source": [
        "# TabNet 분류기 정의히는 코드\n",
        "device = torch.device(\"cuda\" if torch.cuda.is_available() else \"cpu\")\n",
        "\n",
        "clf = TabNetClassifier(\n",
        "    device_name=device.type,\n",
        "    n_d=64, n_a=64,\n",
        "    n_steps=5,\n",
        "    gamma=1.5,\n",
        "    lambda_sparse=1e-4,\n",
        "    optimizer_fn=torch.optim.Adam,\n",
        "    optimizer_params=dict(lr=2e-2),\n",
        "    scheduler_params={\"step_size\":10, \"gamma\":0.9},\n",
        "    scheduler_fn=torch.optim.lr_scheduler.StepLR,\n",
        "    verbose=1\n",
        ")"
      ],
      "metadata": {
        "colab": {
          "base_uri": "https://localhost:8080/"
        },
        "id": "2qjfhuTjAH0u",
        "outputId": "6ec04ba6-9c38-47d2-b839-bc737029c740"
      },
      "execution_count": null,
      "outputs": [
        {
          "output_type": "stream",
          "name": "stderr",
          "text": [
            "/usr/local/lib/python3.11/dist-packages/pytorch_tabnet/abstract_model.py:82: UserWarning: Device used : cpu\n",
            "  warnings.warn(f\"Device used : {self.device}\")\n"
          ]
        }
      ]
    },
    {
      "cell_type": "code",
      "source": [
        "# 모델 학습하는 코드\n",
        "clf.fit(\n",
        "    X_train.values,\n",
        "    y_train.values,\n",
        "    eval_set=[(X_test.values, y_test.values)],\n",
        "    max_epochs=100,\n",
        "    patience=10,\n",
        "    batch_size=256,\n",
        "    virtual_batch_size=128,\n",
        "    num_workers=0,\n",
        "    drop_last=False\n",
        ")"
      ],
      "metadata": {
        "colab": {
          "base_uri": "https://localhost:8080/"
        },
        "id": "55K9qmGWdRh0",
        "outputId": "24402506-e1d9-4b61-f7d5-6723d50feb26"
      },
      "execution_count": null,
      "outputs": [
        {
          "output_type": "stream",
          "name": "stdout",
          "text": [
            "epoch 0  | loss: 1.09414 | val_0_auc: 0.5457  |  0:00:00s\n",
            "epoch 1  | loss: 0.29029 | val_0_auc: 0.54184 |  0:00:00s\n",
            "epoch 2  | loss: 0.03192 | val_0_auc: 0.89396 |  0:00:00s\n",
            "epoch 3  | loss: 0.02183 | val_0_auc: 0.44068 |  0:00:00s\n",
            "epoch 4  | loss: 0.00515 | val_0_auc: 0.86081 |  0:00:01s\n",
            "epoch 5  | loss: 0.00595 | val_0_auc: 0.86081 |  0:00:01s\n",
            "epoch 6  | loss: 0.00044 | val_0_auc: 0.81013 |  0:00:01s\n",
            "epoch 7  | loss: 0.0003  | val_0_auc: 0.81013 |  0:00:01s\n",
            "epoch 8  | loss: 0.00447 | val_0_auc: 0.81013 |  0:00:02s\n",
            "epoch 9  | loss: 0.00015 | val_0_auc: 0.75424 |  0:00:02s\n",
            "epoch 10 | loss: 0.00018 | val_0_auc: 0.95795 |  0:00:02s\n",
            "epoch 11 | loss: 0.00086 | val_0_auc: 1.0     |  0:00:02s\n",
            "epoch 12 | loss: 6e-05   | val_0_auc: 0.94615 |  0:00:02s\n",
            "epoch 13 | loss: 3e-05   | val_0_auc: 0.9262  |  0:00:03s\n",
            "epoch 14 | loss: 3e-05   | val_0_auc: 0.90356 |  0:00:03s\n",
            "epoch 15 | loss: 2e-05   | val_0_auc: 0.88136 |  0:00:03s\n",
            "epoch 16 | loss: 2e-05   | val_0_auc: 0.88136 |  0:00:03s\n",
            "epoch 17 | loss: 2e-05   | val_0_auc: 0.90678 |  0:00:03s\n",
            "epoch 18 | loss: 1e-05   | val_0_auc: 0.90678 |  0:00:04s\n",
            "epoch 19 | loss: 1e-05   | val_0_auc: 0.90678 |  0:00:04s\n",
            "epoch 20 | loss: 2e-05   | val_0_auc: 0.90678 |  0:00:04s\n",
            "epoch 21 | loss: 1e-05   | val_0_auc: 0.91912 |  0:00:04s\n",
            "\n",
            "Early stopping occurred at epoch 21 with best_epoch = 11 and best_val_0_auc = 1.0\n"
          ]
        },
        {
          "output_type": "stream",
          "name": "stderr",
          "text": [
            "/usr/local/lib/python3.11/dist-packages/pytorch_tabnet/callbacks.py:172: UserWarning: Best weights from best epoch are automatically used!\n",
            "  warnings.warn(wrn_msg)\n"
          ]
        }
      ]
    },
    {
      "cell_type": "markdown",
      "source": [
        "## 6-4. 꽤 균형 잡힌 예측\n",
        "\n",
        "❤ **분류기 모델 성능**: bool 칼럼을 int 형태로 변환해주고 예측 성능을 출력해본 결과 0으로 예측한 건 다 맞지만 많은 0을 놓치고 1로 잘못 에측하고 있다는 것을 알 수 있습니다. 또한 1에 대해서 민감하게 반응하지만 그만큼 1에 대해서 놓치는 것도 많습니다. 전체적으로 74%를 보이지만 이건 데이터 불균형의 영향을 받을 수 있기 때문에 클래스 불균형 조정이 필요합니다.\n",
        "\n",
        "❤ **클래스 가중치 조절**: 먼저 클래스의 가중치를 조절하는 방향으로 모델을 개선해 학습을 해보았습니다. 클래스 가중치를 계산해 그것을 바탕으로 모델을 학습하는 구조입니다."
      ],
      "metadata": {
        "id": "Gg6wIUuONPKL"
      }
    },
    {
      "cell_type": "code",
      "source": [
        "# bool 컬럼을 int로 변환하는 코드\n",
        "X_test_fixed = X_test.copy()\n",
        "bool_cols = X_test_fixed.select_dtypes(include='bool').columns\n",
        "X_test_fixed[bool_cols] = X_test_fixed[bool_cols].astype(int)\n",
        "\n",
        "# 예측하는 코드\n",
        "y_pred = clf.predict(X_test_fixed.values)\n",
        "\n",
        "# 평가한 지표를 출력하는 코드\n",
        "from sklearn.metrics import classification_report, confusion_matrix, accuracy_score\n",
        "\n",
        "print(\"Classification Report:\")\n",
        "print(classification_report(y_test, y_pred))\n",
        "\n",
        "print(\"Confusion Matrix:\")\n",
        "print(confusion_matrix(y_test, y_pred))\n",
        "\n",
        "print(\"Accuracy:\", accuracy_score(y_test, y_pred))"
      ],
      "metadata": {
        "colab": {
          "base_uri": "https://localhost:8080/"
        },
        "id": "MvGZujNgXPmV",
        "outputId": "fa442ee8-171f-41e2-ee43-36158292faec"
      },
      "execution_count": null,
      "outputs": [
        {
          "output_type": "stream",
          "name": "stdout",
          "text": [
            "Classification Report:\n",
            "              precision    recall  f1-score   support\n",
            "\n",
            "           0       1.00      0.56      0.72       118\n",
            "           1       0.60      1.00      0.75        79\n",
            "\n",
            "    accuracy                           0.74       197\n",
            "   macro avg       0.80      0.78      0.73       197\n",
            "weighted avg       0.84      0.74      0.73       197\n",
            "\n",
            "Confusion Matrix:\n",
            "[[66 52]\n",
            " [ 0 79]]\n",
            "Accuracy: 0.7360406091370558\n"
          ]
        }
      ]
    },
    {
      "cell_type": "code",
      "source": [
        "# 관련 라이브러리 임포트하는 코드\n",
        "import torch\n",
        "import torch.nn as nn\n",
        "from sklearn.utils.class_weight import compute_class_weight\n",
        "import numpy as np"
      ],
      "metadata": {
        "id": "Hakk_7IdxStv"
      },
      "execution_count": null,
      "outputs": []
    },
    {
      "cell_type": "code",
      "source": [
        "# 장치 설정하는 코드\n",
        "device = torch.device(\"cuda\" if torch.cuda.is_available() else \"cpu\")\n",
        "\n",
        "# 클래스 가중치 계산하는 코드\n",
        "class_weights_np = compute_class_weight('balanced', classes=np.unique(y_train), y=y_train)\n",
        "print(\"Class weights:\", class_weights_np)\n",
        "\n",
        "# tensor로 변환하는 코드\n",
        "class_weights_tensor = torch.tensor(class_weights_np, dtype=torch.float32).to(device)\n",
        "\n",
        "# 손실함수 정의하는 코드\n",
        "weighted_loss_fn = nn.CrossEntropyLoss(weight=class_weights_tensor)"
      ],
      "metadata": {
        "colab": {
          "base_uri": "https://localhost:8080/"
        },
        "id": "FteyVzSrdgbt",
        "outputId": "3612b1ff-791f-4e10-faa8-d689124a30bb"
      },
      "execution_count": null,
      "outputs": [
        {
          "output_type": "stream",
          "name": "stdout",
          "text": [
            "Class weights: [0.83201058 1.25298805]\n"
          ]
        }
      ]
    },
    {
      "cell_type": "code",
      "source": [
        "# 모델 학습하는 코드\n",
        "clf.fit(\n",
        "    X_train=X_train.values, y_train=y_train.values,\n",
        "    eval_set=[(X_val.values, y_val.values)],\n",
        "    eval_name=[\"val\"],\n",
        "    eval_metric=[\"accuracy\"],\n",
        "    max_epochs=100,\n",
        "    patience=10,\n",
        "    batch_size=256,\n",
        "    virtual_batch_size=128,\n",
        "    loss_fn=weighted_loss_fn\n",
        ")"
      ],
      "metadata": {
        "colab": {
          "base_uri": "https://localhost:8080/"
        },
        "id": "RoEQRD5VdnbP",
        "outputId": "d36e09b8-722e-4e97-9ca7-1de8395d534a"
      },
      "execution_count": null,
      "outputs": [
        {
          "output_type": "stream",
          "name": "stdout",
          "text": [
            "epoch 0  | loss: 1.25894 | val_accuracy: 0.51266 |  0:00:00s\n",
            "epoch 1  | loss: 0.71755 | val_accuracy: 0.74051 |  0:00:00s\n",
            "epoch 2  | loss: 0.27228 | val_accuracy: 0.87342 |  0:00:00s\n",
            "epoch 3  | loss: 0.21263 | val_accuracy: 0.79114 |  0:00:00s\n",
            "epoch 4  | loss: 0.05936 | val_accuracy: 0.86709 |  0:00:00s\n",
            "epoch 5  | loss: 0.02876 | val_accuracy: 0.81013 |  0:00:01s\n",
            "epoch 6  | loss: 0.01059 | val_accuracy: 0.98734 |  0:00:01s\n",
            "epoch 7  | loss: 0.00262 | val_accuracy: 0.93038 |  0:00:01s\n",
            "epoch 8  | loss: 0.00522 | val_accuracy: 0.98101 |  0:00:01s\n",
            "epoch 9  | loss: 0.00061 | val_accuracy: 0.99367 |  0:00:01s\n",
            "epoch 10 | loss: 0.06234 | val_accuracy: 1.0     |  0:00:01s\n",
            "epoch 11 | loss: 0.00069 | val_accuracy: 0.99367 |  0:00:01s\n",
            "epoch 12 | loss: 0.00208 | val_accuracy: 0.98101 |  0:00:02s\n",
            "epoch 13 | loss: 8e-05   | val_accuracy: 0.98734 |  0:00:02s\n",
            "epoch 14 | loss: 0.00282 | val_accuracy: 1.0     |  0:00:02s\n",
            "epoch 15 | loss: 0.00037 | val_accuracy: 1.0     |  0:00:02s\n",
            "epoch 16 | loss: 0.00181 | val_accuracy: 1.0     |  0:00:02s\n",
            "epoch 17 | loss: 7e-05   | val_accuracy: 1.0     |  0:00:02s\n",
            "epoch 18 | loss: 0.00039 | val_accuracy: 1.0     |  0:00:03s\n",
            "epoch 19 | loss: 0.00081 | val_accuracy: 1.0     |  0:00:03s\n",
            "epoch 20 | loss: 0.00018 | val_accuracy: 0.98734 |  0:00:03s\n",
            "\n",
            "Early stopping occurred at epoch 20 with best_epoch = 10 and best_val_accuracy = 1.0\n"
          ]
        },
        {
          "output_type": "stream",
          "name": "stderr",
          "text": [
            "/usr/local/lib/python3.11/dist-packages/pytorch_tabnet/callbacks.py:172: UserWarning: Best weights from best epoch are automatically used!\n",
            "  warnings.warn(wrn_msg)\n"
          ]
        }
      ]
    },
    {
      "cell_type": "code",
      "source": [
        "import numpy as np\n",
        "\n",
        "# 예측을 넘파이 배열로 변환하는 코드\n",
        "y_pred = clf.predict(X_test.to_numpy(dtype=np.float32))"
      ],
      "metadata": {
        "id": "zb0jogjrxxZM"
      },
      "execution_count": null,
      "outputs": []
    },
    {
      "cell_type": "code",
      "source": [
        "# 데이터 타입 출력하는 코드\n",
        "print(X_test.dtypes)"
      ],
      "metadata": {
        "colab": {
          "base_uri": "https://localhost:8080/"
        },
        "id": "R_ZXEpfox7nx",
        "outputId": "858e6394-bac2-45d8-aa38-66cac6b462e7",
        "collapsed": true
      },
      "execution_count": null,
      "outputs": [
        {
          "output_type": "stream",
          "name": "stdout",
          "text": [
            "Age                                               int64\n",
            "Cost                                              int64\n",
            "Length_of_Stay                                    int64\n",
            "Satisfaction                                      int64\n",
            "Outcome_Label                                     int64\n",
            "Gender_Female                                      bool\n",
            "Gender_Male                                        bool\n",
            "Condition_Allergic Reaction                        bool\n",
            "Condition_Appendicitis                             bool\n",
            "Condition_Cancer                                   bool\n",
            "Condition_Childbirth                               bool\n",
            "Condition_Diabetes                                 bool\n",
            "Condition_Fractured Arm                            bool\n",
            "Condition_Fractured Leg                            bool\n",
            "Condition_Heart Attack                             bool\n",
            "Condition_Heart Disease                            bool\n",
            "Condition_Hypertension                             bool\n",
            "Condition_Kidney Stones                            bool\n",
            "Condition_Osteoarthritis                           bool\n",
            "Condition_Prostate Cancer                          bool\n",
            "Condition_Respiratory Infection                    bool\n",
            "Condition_Stroke                                   bool\n",
            "Procedure_Angioplasty                              bool\n",
            "Procedure_Antibiotics and Rest                     bool\n",
            "Procedure_Appendectomy                             bool\n",
            "Procedure_CT Scan and Medication                   bool\n",
            "Procedure_Cardiac Catheterization                  bool\n",
            "Procedure_Cast and Physical Therapy                bool\n",
            "Procedure_Delivery and Postnatal Care              bool\n",
            "Procedure_Epinephrine Injection                    bool\n",
            "Procedure_Insulin Therapy                          bool\n",
            "Procedure_Lithotripsy                              bool\n",
            "Procedure_Medication and Counseling                bool\n",
            "Procedure_Physical Therapy and Pain Management     bool\n",
            "Procedure_Radiation Therapy                        bool\n",
            "Procedure_Surgery and Chemotherapy                 bool\n",
            "Procedure_X-Ray and Splint                         bool\n",
            "Readmission_No                                     bool\n",
            "Readmission_Yes                                    bool\n",
            "dtype: object\n"
          ]
        }
      ]
    },
    {
      "cell_type": "markdown",
      "source": [
        "## 6-5. 클래스 가중치 조절 성능 평가\n",
        "\n",
        "❤ 성능 지표를 보면 클래스 0과 1 모두 좋은 성능 지표를 나타내고 있고 그말은 잘못 예측하는 것이 많이 줄었다는 의미입니다. 전체적인 정확도도 비교적 괜찮은 89%로 나왔습니다.\n",
        "\n",
        "❤ **클래스 불균형 조정**: TabNet에서는 직접적으로 클래스 불균형 조정을 지원하지 않아 불가능했습니다."
      ],
      "metadata": {
        "id": "7DbWxw2atFln"
      }
    },
    {
      "cell_type": "code",
      "source": [
        "# 모든 값을 float32 타입의 넘파이 배열로 변환하는 코드\n",
        "X_test_np = X_test.astype(np.float32).to_numpy()\n",
        "\n",
        "# 예측 수행하는 코드\n",
        "y_pred = clf.predict(X_test_np)\n",
        "\n",
        "# 결과 출력하는 코드\n",
        "from sklearn.metrics import classification_report\n",
        "print(classification_report(y_test, y_pred))"
      ],
      "metadata": {
        "colab": {
          "base_uri": "https://localhost:8080/"
        },
        "id": "JbPskrsyyJft",
        "outputId": "c59cc9fe-7b1e-4ac4-cbdc-1eb2931f26d7"
      },
      "execution_count": null,
      "outputs": [
        {
          "output_type": "stream",
          "name": "stdout",
          "text": [
            "              precision    recall  f1-score   support\n",
            "\n",
            "           0       0.89      0.93      0.91       118\n",
            "           1       0.89      0.84      0.86        79\n",
            "\n",
            "    accuracy                           0.89       197\n",
            "   macro avg       0.89      0.88      0.89       197\n",
            "weighted avg       0.89      0.89      0.89       197\n",
            "\n"
          ]
        }
      ]
    },
    {
      "cell_type": "markdown",
      "source": [
        "## 7. Entity Embedding + MLP 모델 구조\n",
        "\n",
        "1.  **Entity Embedding + MLP 모델이란?**: Entity Embedding + MLP 모델은 범주형 변수를 효과적으로 다루기 위해 임베딩 레이어와 다층 퍼셉트론을 합친 모델로 주로 범주형 데이터와 상호작용이 중요한 표 형태에 사용되는 모델입니다.\n",
        "\n",
        " ❤ 1단계 : 입력 처리 - 범주형 특성에 대해서 임베딩 레이어를 적용한다.\n",
        "\n",
        " ❤ 2단계 : Embedding + Concatenation - 모든 임베딩 된 범주형 데이터를 하나의 벡터로 합친다.\n",
        "\n",
        " ❤ 3단계 : MLP 모델 실행\n",
        "\n",
        "\n",
        "2.  **모델 구조**:\n",
        "\n",
        "❤ 범주형 데이터와 수치형 데이터를 임베딩하여 모델 학습에 맞게 전처리하고 데이터를 나누었습니다.\n",
        "\n",
        "<div align=\"center\">⬇</div>\n",
        "\n",
        "❤ 여러 개의 임베딩 층을 생성하고 각각 크기를 갖는 임베딩을 학습하도록 구성했습니다. 임베딩 차원은 min(50, (카테고리 개수 + 1) // 2)로 설정하여 적당한 크기로 벡터 차원을 줄였습니다. 첫 번째 연결층은 128, 두 번째는 64, 출력층은 2차원입니다. 활성화 함수는 ReLu를 사용했습니다.\n",
        "\n",
        "<div align=\"center\">⬇</div>\n",
        "\n",
        "\n",
        "❤ 순전파 과정\n",
        "\n",
        "❤ x_cat에서 각 열별로 임베딩 벡터를 구함.\n",
        "\n",
        "❤ 임베딩 벡터들을 가로로 이어 붙여 하나의 임베딩 벡터로 만듦.\n",
        "\n",
        "❤ 수치형 변수 x_num을 임베딩 벡터와 이어 붙임.\n",
        "\n",
        "❤ 완전 연결층 fc1 → ReLU → 드롭아웃.\n",
        "\n",
        "❤ 완전 연결층 fc2 → ReLU → 드롭아웃.\n",
        "\n",
        "❤ 출력층 fc3를 통과시켜 최종 로짓 생성.\n",
        "\n",
        "❤ 드롭아웃은 0.3, 학습률은 0.001, 배치 크기는 64, 에포크는 20입니다.\n",
        "\n",
        "<div align=\"center\">⬇</div>\n",
        "\n",
        "❤ 학습 루프는 미니 배치 단위로 데이터를 불러와 모델에 전달하고 모델 출력과 크로스엔트로피 계산 후에 역전파 후 가중치 업데이트를 진행합니다. 그리고 각 에포크별 평균 손실을 출력하는 과정으로 학습됩니다.\n",
        "\n",
        "\n",
        "\n",
        "\n"
      ],
      "metadata": {
        "id": "jEuaL2uy6T9U"
      }
    },
    {
      "cell_type": "markdown",
      "source": [
        "# Entity Embedding + MLP 모델 구현하기"
      ],
      "metadata": {
        "id": "ssjulZYIzbbC"
      }
    },
    {
      "cell_type": "code",
      "source": [
        "# 데이터에 존재하는 칼럼 확인하는 코드\n",
        "print(X_train.columns)"
      ],
      "metadata": {
        "colab": {
          "base_uri": "https://localhost:8080/"
        },
        "id": "NO0D87zG1am_",
        "outputId": "a9965f75-2392-4a46-c666-49b5ee4371e4"
      },
      "execution_count": null,
      "outputs": [
        {
          "output_type": "stream",
          "name": "stdout",
          "text": [
            "Index(['Age', 'Cost', 'Length_of_Stay', 'Satisfaction', 'Outcome_Label',\n",
            "       'Gender_Female', 'Gender_Male', 'Condition_Allergic Reaction',\n",
            "       'Condition_Appendicitis', 'Condition_Cancer', 'Condition_Childbirth',\n",
            "       'Condition_Diabetes', 'Condition_Fractured Arm',\n",
            "       'Condition_Fractured Leg', 'Condition_Heart Attack',\n",
            "       'Condition_Heart Disease', 'Condition_Hypertension',\n",
            "       'Condition_Kidney Stones', 'Condition_Osteoarthritis',\n",
            "       'Condition_Prostate Cancer', 'Condition_Respiratory Infection',\n",
            "       'Condition_Stroke', 'Procedure_Angioplasty',\n",
            "       'Procedure_Antibiotics and Rest', 'Procedure_Appendectomy',\n",
            "       'Procedure_CT Scan and Medication', 'Procedure_Cardiac Catheterization',\n",
            "       'Procedure_Cast and Physical Therapy',\n",
            "       'Procedure_Delivery and Postnatal Care',\n",
            "       'Procedure_Epinephrine Injection', 'Procedure_Insulin Therapy',\n",
            "       'Procedure_Lithotripsy', 'Procedure_Medication and Counseling',\n",
            "       'Procedure_Physical Therapy and Pain Management',\n",
            "       'Procedure_Radiation Therapy', 'Procedure_Surgery and Chemotherapy',\n",
            "       'Procedure_X-Ray and Splint', 'Readmission_No', 'Readmission_Yes'],\n",
            "      dtype='object')\n"
          ]
        }
      ]
    },
    {
      "cell_type": "code",
      "source": [
        "# 관련 라이브러리 임포트하는 코드\n",
        "import pandas as pd\n",
        "import numpy as np\n",
        "import torch\n",
        "from sklearn.model_selection import train_test_split\n",
        "from sklearn.preprocessing import LabelEncoder, StandardScaler\n",
        "from torch.utils.data import Dataset, DataLoader\n",
        "import torch.nn as nn\n",
        "import torch.optim as optim"
      ],
      "metadata": {
        "id": "y64WzUyyzkhk"
      },
      "execution_count": null,
      "outputs": []
    },
    {
      "cell_type": "code",
      "source": [
        "# 타켓 데이터 인코딩하는 코드\n",
        "label_encoder = LabelEncoder()\n",
        "patient['Outcome_Label'] = label_encoder.fit_transform(patient['Outcome_Label'])\n",
        "\n",
        "# 칼럼 구분하는 코드\n",
        "numerical_cols = ['Age', 'Cost', 'Length_of_Stay', 'Satisfaction']\n",
        "\n",
        "categorical_cols = [\n",
        "    'Gender_Female', 'Gender_Male',\n",
        "    'Condition_Allergic Reaction', 'Condition_Appendicitis',\n",
        "    'Condition_Cancer', 'Condition_Childbirth', 'Condition_Diabetes',\n",
        "    'Condition_Fractured Arm', 'Condition_Fractured Leg',\n",
        "    'Condition_Heart Attack', 'Condition_Heart Disease',\n",
        "    'Condition_Hypertension', 'Condition_Kidney Stones',\n",
        "    'Condition_Osteoarthritis', 'Condition_Prostate Cancer',\n",
        "    'Condition_Respiratory Infection', 'Condition_Stroke',\n",
        "    'Procedure_Angioplasty', 'Procedure_Antibiotics and Rest',\n",
        "    'Procedure_Appendectomy', 'Procedure_CT Scan and Medication',\n",
        "    'Procedure_Cardiac Catheterization',\n",
        "    'Procedure_Cast and Physical Therapy',\n",
        "    'Procedure_Delivery and Postnatal Care',\n",
        "    'Procedure_Epinephrine Injection', 'Procedure_Insulin Therapy',\n",
        "    'Procedure_Lithotripsy', 'Procedure_Medication and Counseling',\n",
        "    'Procedure_Physical Therapy and Pain Management',\n",
        "    'Procedure_Radiation Therapy', 'Procedure_Surgery and Chemotherapy',\n",
        "    'Procedure_X-Ray and Splint',\n",
        "    'Readmission_No', 'Readmission_Yes'\n",
        "]\n",
        "\n",
        "# 카테고리 인코딩하는 코드\n",
        "for col in categorical_cols:\n",
        "    patient[col] = patient[col].astype('category').cat.codes\n",
        "\n",
        "# 데이터 나누는 코드\n",
        "X = patient[numerical_cols + categorical_cols]\n",
        "y = patient['Outcome_Label']\n",
        "X_train, X_test, y_train, y_test = train_test_split(X, y, test_size=0.2, stratify=y, random_state=42)"
      ],
      "metadata": {
        "id": "kulDFBiyeSDn"
      },
      "execution_count": null,
      "outputs": []
    },
    {
      "cell_type": "code",
      "source": [
        "# 모델 구현하는 코드\n",
        "class MedicalDataset(Dataset):\n",
        "    def __init__(self, X, y, cat_cols, num_cols):\n",
        "        self.y = torch.tensor(y.values, dtype=torch.long)\n",
        "        self.cat_data = torch.tensor(X[cat_cols].values, dtype=torch.long)\n",
        "        self.num_data = torch.tensor(X[num_cols].values, dtype=torch.float32)\n",
        "\n",
        "    def __len__(self):\n",
        "        return len(self.y)\n",
        "\n",
        "    def __getitem__(self, idx):\n",
        "        return self.cat_data[idx], self.num_data[idx], self.y[idx]"
      ],
      "metadata": {
        "id": "KvwgfmFw0d5e"
      },
      "execution_count": null,
      "outputs": []
    },
    {
      "cell_type": "code",
      "source": [
        "# 데이터를 배치 단위로 만드는 코드\n",
        "train_dataset = MedicalDataset(X_train, y_train, categorical_cols, numerical_cols)\n",
        "test_dataset = MedicalDataset(X_test, y_test, categorical_cols, numerical_cols)\n",
        "\n",
        "train_loader = DataLoader(train_dataset, batch_size=64, shuffle=True)\n",
        "test_loader = DataLoader(test_dataset, batch_size=64)"
      ],
      "metadata": {
        "id": "eLvzrU0oehiJ"
      },
      "execution_count": null,
      "outputs": []
    },
    {
      "cell_type": "code",
      "source": [
        "# 모델 재구현하는 코드\n",
        "class EntityEmbeddingModel(nn.Module):\n",
        "    def __init__(self, embedding_sizes, num_numerical, hidden_units=128, dropout=0.3):\n",
        "        super().__init__()\n",
        "        self.embeddings = nn.ModuleList([nn.Embedding(categories, size) for categories, size in embedding_sizes])\n",
        "        emb_dim = sum([size for _, size in embedding_sizes])\n",
        "        self.fc1 = nn.Linear(emb_dim + num_numerical, hidden_units)\n",
        "        self.fc2 = nn.Linear(hidden_units, 64)\n",
        "        self.fc3 = nn.Linear(64, 2)\n",
        "        self.dropout = nn.Dropout(dropout)\n",
        "        self.relu = nn.ReLU()\n",
        "\n",
        "    def forward(self, x_cat, x_num):\n",
        "        x = [emb(x_cat[:, i]) for i, emb in enumerate(self.embeddings)]\n",
        "        x = torch.cat(x, dim=1)\n",
        "        x = torch.cat([x, x_num], dim=1)\n",
        "        x = self.dropout(self.relu(self.fc1(x)))\n",
        "        x = self.dropout(self.relu(self.fc2(x)))\n",
        "        return self.fc3(x)"
      ],
      "metadata": {
        "id": "VbucNzLX1pif"
      },
      "execution_count": null,
      "outputs": []
    },
    {
      "cell_type": "code",
      "source": [
        "# 임베딩 사이즈 정의하는 코드\n",
        "embedding_sizes = [(int(df[col].nunique()), min(50, (df[col].nunique() + 1) // 2)) for col in categorical_cols]\n",
        "\n",
        "model = EntityEmbeddingModel(embedding_sizes, num_numerical=len(numerical_cols)).to(\"cuda\" if torch.cuda.is_available() else \"cpu\")\n",
        "criterion = nn.CrossEntropyLoss()\n",
        "optimizer = optim.Adam(model.parameters(), lr=0.001)\n",
        "\n",
        "# 학습 루프를 만드는 코드\n",
        "device = torch.device(\"cuda\" if torch.cuda.is_available() else \"cpu\")\n",
        "for epoch in range(20):\n",
        "    model.train()\n",
        "    total_loss = 0\n",
        "    for cat, num, label in train_loader:\n",
        "        cat, num, label = cat.to(device), num.to(device), label.to(device)\n",
        "        optimizer.zero_grad()\n",
        "        output = model(cat, num)\n",
        "        loss = criterion(output, label)\n",
        "        loss.backward()\n",
        "        optimizer.step()\n",
        "        total_loss += loss.item()\n",
        "    print(f\"Epoch {epoch+1}, Loss: {total_loss/len(train_loader):.4f}\")"
      ],
      "metadata": {
        "colab": {
          "base_uri": "https://localhost:8080/"
        },
        "id": "dnEeR6451rJX",
        "outputId": "961f0e6b-7ef0-4a2b-e1c4-df13a61c1427"
      },
      "execution_count": null,
      "outputs": [
        {
          "output_type": "stream",
          "name": "stdout",
          "text": [
            "Epoch 1, Loss: 0.6236\n",
            "Epoch 2, Loss: 0.4778\n",
            "Epoch 3, Loss: 0.2880\n",
            "Epoch 4, Loss: 0.1358\n",
            "Epoch 5, Loss: 0.0584\n",
            "Epoch 6, Loss: 0.0227\n",
            "Epoch 7, Loss: 0.0120\n",
            "Epoch 8, Loss: 0.0095\n",
            "Epoch 9, Loss: 0.0060\n",
            "Epoch 10, Loss: 0.0040\n",
            "Epoch 11, Loss: 0.0041\n",
            "Epoch 12, Loss: 0.0024\n",
            "Epoch 13, Loss: 0.0032\n",
            "Epoch 14, Loss: 0.0016\n",
            "Epoch 15, Loss: 0.0021\n",
            "Epoch 16, Loss: 0.0010\n",
            "Epoch 17, Loss: 0.0023\n",
            "Epoch 18, Loss: 0.0019\n",
            "Epoch 19, Loss: 0.0009\n",
            "Epoch 20, Loss: 0.0011\n"
          ]
        }
      ]
    },
    {
      "cell_type": "markdown",
      "source": [
        "## 7-1. Entity Embedding + MLP 모델 성능 평가\n",
        "\n",
        "❤ 아래 지표를 보면 과적합이 의심됩니다.\n",
        "\n",
        "❤ 모델의 성능을 향상시키기 위해서 클래스 가중치를 넣어 모델을 재구현했습니다.\n",
        "\n",
        "❤ **클래스 가중치 넣기**: 우선 SMOTE를 사용하여 데이터의 양을 늘린 다음에 데이터를 분할해주고 클래스 별 가중치를 계산하고 손실함수를 사용해 모델에 가중치를 추가해 학습을 진행했습니다.\n",
        "\n",
        "\n"
      ],
      "metadata": {
        "id": "yI5m90FG2LXU"
      }
    },
    {
      "cell_type": "code",
      "source": [
        "from sklearn.metrics import classification_report\n",
        "\n",
        "# 모델 평가하는 코드\n",
        "model.eval()\n",
        "all_preds, all_labels = [], []\n",
        "\n",
        "with torch.no_grad():\n",
        "    for cat, num, label in test_loader:\n",
        "        cat, num = cat.to(device), num.to(device)\n",
        "        output = model(cat, num)\n",
        "        preds = torch.argmax(output, dim=1).cpu().numpy()\n",
        "        all_preds.extend(preds)\n",
        "        all_labels.extend(label.numpy())\n",
        "\n",
        "# 성능 출력하는 코드\n",
        "print(classification_report(all_labels, all_preds))"
      ],
      "metadata": {
        "colab": {
          "base_uri": "https://localhost:8080/"
        },
        "id": "jqBkzVj31tLh",
        "outputId": "87379922-7a3c-4550-87b3-55e92149671c"
      },
      "execution_count": null,
      "outputs": [
        {
          "output_type": "stream",
          "name": "stdout",
          "text": [
            "              precision    recall  f1-score   support\n",
            "\n",
            "           0       1.00      1.00      1.00       118\n",
            "           1       1.00      1.00      1.00        79\n",
            "\n",
            "    accuracy                           1.00       197\n",
            "   macro avg       1.00      1.00      1.00       197\n",
            "weighted avg       1.00      1.00      1.00       197\n",
            "\n"
          ]
        }
      ]
    },
    {
      "cell_type": "markdown",
      "source": [
        "# 클래스 가중치 넣기"
      ],
      "metadata": {
        "id": "wKOii_D22Qzw"
      }
    },
    {
      "cell_type": "code",
      "source": [
        "from imblearn.over_sampling import SMOTE\n",
        "from sklearn.model_selection import train_test_split\n",
        "\n",
        "# 데이터 분할하는 코드\n",
        "X_train, X_test, y_train, y_test = train_test_split(\n",
        "    X, y, stratify=y, test_size=0.2, random_state=42\n",
        ")\n",
        "\n",
        "# SMOTE 적용하는 코드\n",
        "smote = SMOTE(random_state=42)\n",
        "X_train_smote, y_train_smote = smote.fit_resample(X_train, y_train)\n",
        "\n",
        "print(\"Before SMOTE:\", y_train.value_counts())\n",
        "print(\"After SMOTE:\", y_train_smote.value_counts())"
      ],
      "metadata": {
        "colab": {
          "base_uri": "https://localhost:8080/"
        },
        "id": "2_inXZDVj8p7",
        "outputId": "2ef5af10-3283-420e-c4f7-7ca1ec184f5d"
      },
      "execution_count": null,
      "outputs": [
        {
          "output_type": "stream",
          "name": "stdout",
          "text": [
            "Before SMOTE: Outcome_Label\n",
            "0    473\n",
            "1    314\n",
            "Name: count, dtype: int64\n",
            "After SMOTE: Outcome_Label\n",
            "1    473\n",
            "0    473\n",
            "Name: count, dtype: int64\n"
          ]
        }
      ]
    },
    {
      "cell_type": "code",
      "source": [
        "import torch\n",
        "\n",
        "# 칼럼 리스트 확인하는 코드\n",
        "all_cols = ['Age', 'Cost', 'Length_of_Stay', 'Satisfaction', 'Gender_Female',\n",
        "       'Gender_Male', 'Condition_Allergic Reaction', 'Condition_Appendicitis',\n",
        "       'Condition_Cancer', 'Condition_Childbirth', 'Condition_Diabetes',\n",
        "       'Condition_Fractured Arm', 'Condition_Fractured Leg',\n",
        "       'Condition_Heart Attack', 'Condition_Heart Disease',\n",
        "       'Condition_Hypertension', 'Condition_Kidney Stones',\n",
        "       'Condition_Osteoarthritis', 'Condition_Prostate Cancer',\n",
        "       'Condition_Respiratory Infection', 'Condition_Stroke',\n",
        "       'Procedure_Angioplasty', 'Procedure_Antibiotics and Rest',\n",
        "       'Procedure_Appendectomy', 'Procedure_CT Scan and Medication',\n",
        "       'Procedure_Cardiac Catheterization',\n",
        "       'Procedure_Cast and Physical Therapy',\n",
        "       'Procedure_Delivery and Postnatal Care',\n",
        "       'Procedure_Epinephrine Injection', 'Procedure_Insulin Therapy',\n",
        "       'Procedure_Lithotripsy', 'Procedure_Medication and Counseling',\n",
        "       'Procedure_Physical Therapy and Pain Management',\n",
        "       'Procedure_Radiation Therapy', 'Procedure_Surgery and Chemotherapy',\n",
        "       'Procedure_X-Ray and Splint', 'Readmission_No', 'Readmission_Yes']\n",
        "\n",
        "# 수치형 칼럼 코드\n",
        "num_cols = ['Age', 'Cost', 'Length_of_Stay', 'Satisfaction']\n",
        "\n",
        "# 범주형 칼럼 코드\n",
        "cat_cols = [col for col in all_cols if col not in num_cols]"
      ],
      "metadata": {
        "id": "lzFqiMuwkMqD"
      },
      "execution_count": null,
      "outputs": []
    },
    {
      "cell_type": "code",
      "source": [
        "# 데이터 분리하는 코드\n",
        "X_train_cat = X_train[cat_cols]\n",
        "X_train_num = X_train[num_cols]\n",
        "\n",
        "# 텐서 변환하는 코드\n",
        "X_train_cat_tensor = torch.tensor(X_train_cat.values, dtype=torch.float32).to(device)\n",
        "X_train_num_tensor = torch.tensor(X_train_num.values, dtype=torch.float32).to(device)\n",
        "y_train_tensor = torch.tensor(y_train.values, dtype=torch.long).to(device)\n",
        "\n",
        "# 확인용 출력 코드\n",
        "print(\"Categorical tensor shape:\", X_train_cat_tensor.shape)\n",
        "print(\"Numerical tensor shape:\", X_train_num_tensor.shape)\n",
        "print(\"Target tensor shape:\", y_train_tensor.shape)"
      ],
      "metadata": {
        "colab": {
          "base_uri": "https://localhost:8080/"
        },
        "id": "dNIT4shxfHTu",
        "outputId": "b26e314f-e6b5-4c7e-e368-96b47f6bf606"
      },
      "execution_count": null,
      "outputs": [
        {
          "output_type": "stream",
          "name": "stdout",
          "text": [
            "Categorical tensor shape: torch.Size([787, 34])\n",
            "Numerical tensor shape: torch.Size([787, 4])\n",
            "Target tensor shape: torch.Size([787])\n"
          ]
        }
      ]
    },
    {
      "cell_type": "code",
      "source": [
        "import numpy as np\n",
        "from sklearn.utils.class_weight import compute_class_weight\n",
        "\n",
        "# 넘파이 배열로 전달하는 코드\n",
        "classes = np.array([0, 1])\n",
        "class_weights = compute_class_weight(class_weight='balanced', classes=classes, y=y_train_smote)\n",
        "\n",
        "# 텐서로 변환하는 코드\n",
        "weights_tensor = torch.tensor(class_weights, dtype=torch.float32).to(device)\n",
        "\n",
        "# 가중치 포함한 손실함수 정의하는 코드\n",
        "criterion = nn.CrossEntropyLoss(weight=weights_tensor)"
      ],
      "metadata": {
        "id": "syVTnuwuePA5"
      },
      "execution_count": null,
      "outputs": []
    },
    {
      "cell_type": "code",
      "source": [
        "# 범주형과 수치형 정의하는 코드\n",
        "num_cols = ['Age', 'Cost', 'Length_of_Stay', 'Satisfaction']\n",
        "cat_cols = [col for col in X_test.columns if col not in num_cols]\n",
        "\n",
        "X_test_cat = X_test[cat_cols]\n",
        "X_test_num = X_test[num_cols]\n",
        "\n",
        "# 텐서 변환하는 코드\n",
        "X_test_cat_tensor = torch.tensor(X_test_cat.values, dtype=torch.float32).to(device)\n",
        "X_test_num_tensor = torch.tensor(X_test_num.values, dtype=torch.float32).to(device)\n",
        "\n",
        "y_test_tensor = torch.tensor(y_test.values, dtype=torch.long).to(device)\n",
        "\n",
        "print(\"X_test_cat_tensor shape:\", X_test_cat_tensor.shape)\n",
        "print(\"X_test_num_tensor shape:\", X_test_num_tensor.shape)\n",
        "print(\"y_test_tensor shape:\", y_test_tensor.shape)"
      ],
      "metadata": {
        "colab": {
          "base_uri": "https://localhost:8080/"
        },
        "id": "oAFBu2QrfzoE",
        "outputId": "b72bfc54-fd9f-4e10-b9cc-9c5b0733b19a"
      },
      "execution_count": null,
      "outputs": [
        {
          "output_type": "stream",
          "name": "stdout",
          "text": [
            "X_test_cat_tensor shape: torch.Size([197, 34])\n",
            "X_test_num_tensor shape: torch.Size([197, 4])\n",
            "y_test_tensor shape: torch.Size([197])\n"
          ]
        }
      ]
    },
    {
      "cell_type": "code",
      "source": [
        "# 모델 추론하는 코드\n",
        "X_test_cat_tensor = torch.tensor(X_test_cat.values, dtype=torch.long).to(device)\n",
        "X_test_num_tensor = torch.tensor(X_test_num.values, dtype=torch.float32).to(device)\n",
        "\n",
        "with torch.no_grad():\n",
        "    probs = model(X_test_cat_tensor, X_test_num_tensor).softmax(dim=1)[:, 1].cpu().numpy()"
      ],
      "metadata": {
        "id": "YIfId6C_emqu"
      },
      "execution_count": null,
      "outputs": []
    },
    {
      "cell_type": "code",
      "source": [
        "from sklearn.metrics import precision_recall_curve\n",
        "\n",
        "# 최적 임계값을 찾는 코드\n",
        "prec, rec, thresholds = precision_recall_curve(y_test, probs)\n",
        "f1 = 2 * prec * rec / (prec + rec + 1e-8)\n",
        "best_threshold = thresholds[np.argmax(f1)]\n",
        "print(f\"Best threshold by F1: {best_threshold:.4f}\")"
      ],
      "metadata": {
        "colab": {
          "base_uri": "https://localhost:8080/"
        },
        "id": "Eu66cB7hepPG",
        "outputId": "9a441af0-eeb6-4b7d-93ba-29ba84b152b8"
      },
      "execution_count": null,
      "outputs": [
        {
          "output_type": "stream",
          "name": "stdout",
          "text": [
            "Best threshold by F1: 0.9987\n"
          ]
        }
      ]
    },
    {
      "cell_type": "code",
      "source": [
        "# 모델 평가하는 코드\n",
        "model.eval()\n",
        "with torch.no_grad():\n",
        "    outputs = model(X_test_cat_tensor, X_test_num_tensor)\n",
        "    probs = torch.softmax(outputs, dim=1)[:, 1].cpu().numpy()"
      ],
      "metadata": {
        "id": "NVhU8Px3ezJb"
      },
      "execution_count": null,
      "outputs": []
    },
    {
      "cell_type": "markdown",
      "source": [
        "## 7-2. 가중치 조절 후 성능 평가\n",
        "\n",
        "❤ 가중치를 조절하고 난 다음에도 여전히 과적합의 결과를 얻었습니다."
      ],
      "metadata": {
        "id": "2BGj5Ft9_RWu"
      }
    },
    {
      "cell_type": "code",
      "source": [
        "# 예측하는 코드\n",
        "y_pred = (probs >= best_threshold).astype(int)"
      ],
      "metadata": {
        "id": "ZzK_tNHge3Cn"
      },
      "execution_count": null,
      "outputs": []
    },
    {
      "cell_type": "code",
      "source": [
        "from sklearn.metrics import classification_report, confusion_matrix, accuracy_score, roc_auc_score\n",
        "\n",
        "# 각종 지표 출력하는 코드\n",
        "print(\"Classification Report:\")\n",
        "print(classification_report(y_test, y_pred))\n",
        "\n",
        "print(\"Confusion Matrix:\")\n",
        "print(confusion_matrix(y_test, y_pred))\n",
        "\n",
        "print(f\"Accuracy: {accuracy_score(y_test, y_pred):.4f}\")\n",
        "print(f\"ROC AUC: {roc_auc_score(y_test, probs):.4f}\")"
      ],
      "metadata": {
        "colab": {
          "base_uri": "https://localhost:8080/"
        },
        "id": "aolBmiUTe43z",
        "outputId": "b7a7f50b-ce62-4be0-e652-30f2d5cc7426"
      },
      "execution_count": null,
      "outputs": [
        {
          "output_type": "stream",
          "name": "stdout",
          "text": [
            "Classification Report:\n",
            "              precision    recall  f1-score   support\n",
            "\n",
            "           0       1.00      1.00      1.00       118\n",
            "           1       1.00      1.00      1.00        79\n",
            "\n",
            "    accuracy                           1.00       197\n",
            "   macro avg       1.00      1.00      1.00       197\n",
            "weighted avg       1.00      1.00      1.00       197\n",
            "\n",
            "Confusion Matrix:\n",
            "[[118   0]\n",
            " [  0  79]]\n",
            "Accuracy: 1.0000\n",
            "ROC AUC: 1.0000\n"
          ]
        }
      ]
    },
    {
      "cell_type": "markdown",
      "source": [
        "## 8. 프로젝트 결과\n",
        "\n",
        "\n",
        "\n",
        "1. MLP 모델\n",
        "\n",
        "❤ 기본적인 데이터의 전처리만 수행하고 MLP 모델을 돌렸을 때 성능은 모든 클래스를 100프로로 예측한 좋은 성능이지만 과적합을 의심할 수 있는 결과가 나타났습니다.\n",
        "\n",
        "❤ 데이터의 양이 부족한 것을 이유로 생각해서 SMOTE라는 메서드를 사용해 데이터 양을 늘리고 다시 다층 퍼셉트론 모델로 학습했지만 과적합이라는 결과는 똑같았습니다.\n",
        "\n",
        "❤ 계속해서 같은 결과가 나타나기 때문에 교차검증을 통해서 학습을 해보았는데 각 폴드 학습이 진행됨에 따라 손실이 낮아지는 것을 확인할 수 있었고 5-FOLD의 평균 정확도가 80프로가 넘어 성능이 개선된 것을 확인할 수 있었습니다.\n",
        "\n",
        "2. TabNet 모델\n",
        "\n",
        "❤ 텝넷 모델도 마찬가지로 기본적인 전처리만 수행한 후 모델을 돌려봤는데 성능이 MLP와 같은 결과로 과적합이 확인되었습니다.\n",
        "\n",
        "❤ 고유한 특성인 특성 중요도 시각화나 성능 시각화를 확인해봐도 출력한 성능지표와 동일한 결과가 나왔습니다.\n",
        "\n",
        "❤ SMOTE와 하이퍼파라미터 조정을 한 후 모델을 다시 돌려봤을 때도 모든 성능의 지표가 100%로 여전히 과적합을 나타내고 있었습니다.\n",
        "\n",
        "❤ 훈련 데이터 성능말고 검증 데이터로 모델을 학습하고 평가했을 때는 과적합이 아닌 성능이 너무 낮게 나왔고 하이퍼파라미터 조정 후에 성능 평가에는 정확도가 90프로가 넘는 결과로 과적합도 완화되었고 성능도 좋게 나왔습니다.\n",
        "\n",
        "❤ 하지만 테스트 데이터 셋의 평가가 검증 데이터보다 너무 낮게 나와서 Regularization 강화와 클래스 불균형을 조정하여 모델을 다시 학습 했지만 성능이 살짝만 오른 유의미한 결과가 나오지 않았습니다.\n",
        "\n",
        "3. Entity Embedding + MLP 모델\n",
        "\n",
        "❤ 기본적인 Entity Embedding + MLP 모델의 구조로 학습하고 평가한 성능은 과적합으로 나왔습니다.\n",
        "\n",
        "❤ 클래스 가중치를 넣고 다시 학습을 했을 때도 기본적인 Entity Embedding + MLP 모델 결과와 비슷한 결과를 얻었습니다.\n",
        "\n"
      ],
      "metadata": {
        "id": "P7hp1S65_pAx"
      }
    },
    {
      "cell_type": "markdown",
      "source": [
        "## 9. 최종 결론&레퍼런스 개선점\n",
        "\n",
        "❤ **최종 결론**\n",
        "\n",
        ": 하나의 데이터 셋을 가지고 3개의 모델의 성능을 비교하면서 예측하는 프로젝트를 진행했는데 생각보다 데이터 셋이 충분하지 않아 원하는 결과가 나오지 않았고 그나마 TabNet 모델로 예측한 것이 제일 성능도 좋게 나와서 실생활에 조금은 사용이 가능한 모델인 것 같습니다.\n",
        "\n",
        "\n",
        "❤ **레퍼런스 개선점**\n",
        "\n",
        ": 우선 데이터의 양이 절대적으로 부족했던 것이 문제였던 것 같습니다. 처음 데이터 셋을 정할 때 이 정도의 양이라면 충분할 것이라 생각했는데 모델을 구현하고 학습, 평가를 진행하면서 데이터가 많이 부족하다고 생각했습니다. 따라서 데이터를 더 많이 수집해 모델을 돌리는 것이 하나의 개선점이라고 생각합니다. 두 번째는 모델을 3개를 같이 비교하면서 중간에 데이터가 꼬이기도 하고 아직 모델을 구현하는 것이 미숙하기 때문에 오류가 많이 났던 것이 아쉬웠습니다. 다음번에 개선한다면 각 모델에 대해서 더 심도있게 공부하고 데이터 셋에 맞는 모델을 구현해보는 것이 좋을 것 같습니다."
      ],
      "metadata": {
        "id": "8P_RDReTDUu1"
      }
    },
    {
      "cell_type": "markdown",
      "source": [
        "## 10. kaggle에 있는 다른 사람의 코드와 다른 점\n",
        "\n",
        "❤ **비교**: 캐글에 있는 다른 사람의 프로젝트는 목표 예측이 환자와 의사를 매칭하는 시스템을 만드는 것이었고 나의 프로젝트 목표는 질병 별로 환자의 치료 결과를 예측하는 것이었다. 또한 나는 여러 모델을 사용하면서 성능이 제일 나은 모델을 선택하였지만 다른 사람들은 아예 기계적인 모델을 사용하지 않은 사람도 있고 규칙 기반에만 치중된 것들도 있었다. 하지만 나의 프로젝트는 학습 시간이 길다는 점과 데이터의 양에 민감하게 반응한다는 점에서 단점이라고 생각합니다.\n",
        "\n"
      ],
      "metadata": {
        "id": "_vCvTNMiFJyY"
      }
    },
    {
      "cell_type": "markdown",
      "source": [
        "## 11. 추후 발전 방향\n",
        "\n",
        "❤ 데이터의 양을 늘리고 효과적인 모델로 학습해서 성능을 최대로 올린 다음 UI를 제작하거나 앱을 만들어 각종 질병 별로 치료 가능성을 보여주는 방향이 좋을 것 같습니다. 환자들이 각자의 질병을 입력하면 그것을 토대로 모델이 예측한 결과를 화면으로 보여주면 실용성이 있을 거라 생각합니다. 환자들도 막연한 불안감을 해소할 수 있고 궁금증을 해결할 수 있습니다. 질병의 종류도 지금은 많이 부족하지만 데이터를 더 수집해서 많은 질병을 예측할 수 있다면 좋을 것 같습니다."
      ],
      "metadata": {
        "id": "Rz2XWt8zHVsG"
      }
    },
    {
      "cell_type": "markdown",
      "source": [
        "## 12. 프로젝트 진행 소감\n",
        "\n",
        "✌ 딥러닝 프로젝트를 수행하면서 정말 다양한 모델들에 대해서 공부하고 코드를 구현할 수 있는 값진 경험을 하게 되었습니다. 우선 데이터 셋을 정할 때부터 제가 평소에 관심있던 분야를 선택할 수 있었다는 점이 좋았습니다. kaggle이라는 데이터 셋의 사이트도 알게 되었고 데이터를 분석하면서 세상에 존재하는 수많은 데이터들이 어떻게 보관되고 저장되는지도 알게 되었습니다.\n",
        "\n",
        "본격적으로 프로젝트를 시작하고 목표한 것들을 하나둘씩 이룰때는 쾌감을 느꼈지만 코드가 오류가 나거나 모델의 성능이 원하는만큼 나오지 않을 때는 힘들기도 했습니다. 하지만 주어진 환경에서 최대한 높은 성능이 나오도록 노력했고 비록 챗 지피티의 도움을 받은 것들이 있지만 왜 그렇게 알고리즘이 구성되는지, 오류가 나는지, 코드를 구현해야하는지 이해하고 작성했습니다.\n",
        "\n",
        "추후 발전 방향에도 기록한 것과 같이 나중에는 이 프로젝트의 연장선으로 더 완벽한 성능을 구현해서 사이트나 앱을 만들어보고 싶다는 생각을 했습니다. 저를 포함해서 많은 사람들이 제가 만든 것을 사용한다고 생각하면 정말 기쁠 것 같습니다. 결론적으로 이번 프로젝트를 통해서 딥러닝에 대해서 더 깊에 알게되었고 개발자의 묘미를 알게된 프로젝트였습니다!"
      ],
      "metadata": {
        "id": "mc3eTMa_yNZb"
      }
    }
  ]
}