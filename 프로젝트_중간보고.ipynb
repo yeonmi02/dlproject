{
  "nbformat": 4,
  "nbformat_minor": 0,
  "metadata": {
    "colab": {
      "provenance": [],
      "authorship_tag": "ABX9TyPy0vaVzK3PrRnZAiZuvaqD",
      "include_colab_link": true
    },
    "kernelspec": {
      "name": "python3",
      "display_name": "Python 3"
    },
    "language_info": {
      "name": "python"
    }
  },
  "cells": [
    {
      "cell_type": "markdown",
      "metadata": {
        "id": "view-in-github",
        "colab_type": "text"
      },
      "source": [
        "<a href=\"https://colab.research.google.com/github/yeonmi02/dlproject/blob/main/%ED%94%84%EB%A1%9C%EC%A0%9D%ED%8A%B8_%EC%A4%91%EA%B0%84%EB%B3%B4%EA%B3%A0.ipynb\" target=\"_parent\"><img src=\"https://colab.research.google.com/assets/colab-badge.svg\" alt=\"Open In Colab\"/></a>"
      ]
    },
    {
      "cell_type": "markdown",
      "source": [
        "# 프로젝트 중간보고서\n",
        "\n",
        "## 1. 프로젝트 개요\n",
        " - 프로젝트 이름 : 병원 환자 치료 예측\n",
        " - 작성자 : 김연미\n",
        " - 작성일 : 2025년 5월 13일\n",
        "\n",
        "## 2. 데이터 셋 EDA 분석 결과 [링크 텍스트](https://github.com/yeonmi02/dlproject/blob/main/%ED%94%84%EB%A1%9C%EC%A0%9D%ED%8A%B8_%EB%8D%B0%EC%9D%B4%ED%84%B0%EC%85%8B_EDA.ipynb)\n",
        "\n",
        "\n",
        "1.   데이터 타입\n",
        "\n",
        "- 수치형: Age, Cost, Length_of_Stay, Satisfaction\n",
        "- 범주형: Gender, Condition, Procedure, Readmission, Outcome\n",
        "\n",
        "\n",
        "\n",
        "2.   Gender\n",
        "- Female: 524명 (53.3%), Male: 460명 (46.7%)로 여자 환자가 남자 환자보다 조금 더 많이 차지하고 있다.\n",
        "\n",
        "3. Condition\n",
        "- Condition 15개의 질병 중에 가장 많은 질병은 Fractured Leg로 67건이 발생했다.\n",
        "\n",
        "4. Procedure\n",
        "- 그에 따른 칼럼 시술은 15개 중에 Cast and Physical Therapy이 가장 많은 67건을 차지했다.\n",
        "\n",
        "5. Readmission\n",
        "- 회복률은 0%가 73.2%이고 100%가 26.8%이다.\n",
        "\n",
        "6. Outcome\n",
        "- 프로젝트 타켓 목표인 치료 결과 칼럼에서는 Recovered이 591명으로 60.1%이고 Stable이 393명으로 39.9%를 차지했다.\n",
        "\n",
        "\n",
        "## 3. 현재까지 진행 결과\n",
        "- 데이터 EDA를 분석한 결과를 바탕으로 병원 환자들의 치료 예측을 하기로 했던 목표가 적합하다는 판단을 내렸고 본격적인 데이터 전처리와 사용할 기법을 정리했습니다.\n",
        "\n",
        "- 사용할 데이터에는 결측치가 없다는 점에서 데이터 전처리에서 간단하게 할 수 있지만 범주형 데이터가 존재하기 때문에 그에 맞는 전처리가 필요할 것으로 보입니다.칼럼에 따라서 다음과 같이 전처리를 구상해봤습니다.\n",
        "\n",
        "  -- Label Encoding 또는 One-hot Encoding: Gender, Condition, Procedure, Readmission\n",
        "\n",
        "  -- 정규화: Cost, Length_of_Stay, Satisfaction, Age\n",
        "\n",
        "  -- Target Encoding: LabelEncoder을 사용하여 Outcome을 숫자로 변환\n",
        "\n",
        "- 하지만 사용할 데이터의 이상한 부분은 Outcome이 과도하게 분리되어 있다는 점에서 현실과 동떨어진 느낌이 있습니다. 그래서 딥러닝 모델이 과적합될 가능성이 있다고 생각해 보완이 필요할 것 같습니다.\n",
        "\n",
        "- 데이터를 분석하는 시간이 꽤 걸렸고 범주형 데이터를 어떻게 처리하면 좋을지 구상하는데 어려움을 겪어서 아직 전처리를 해보진 못했습니다. 하지만 전처리를 하고 난 다음의 계획까지는 구상을 해보았습니다.\n",
        "\n",
        "- 진행할 프로젝트는 환자 치료 예측이기 때문에 다중분류에 속한다는 판단을 내렸고 그에 따라 딥러닝 모델까지 구상해봤습니다.\n",
        "\n",
        "  -- 먼저 수업시간에 배운 내용을 활용에 다층 퍼셉트론모델을 사용하여서 예측을 해보려고 합니다.\n",
        "\n",
        "  -- 그리고 새로운 방식으로 예측을 해보고 싶은 생각도 있어서 구글 서치와 챗 지피티에 도움을 받은 결과 TabNet(Google AI)와 Entity Embedding + MLP를 추천해줘서 알고리즘에 대한 학습을 하고 구상을 할 생각입니다.\n",
        "\n",
        "  -- 간단히 알고리즘에 대해서 진행할 프로젝트와 적합한 모델인지 공부를 해 본 결과 TabNet는 테이블 데이터를 예측하는데 많이 사용하고 구현이 복잡하다는 단점이 있지만 성능이 다층 퍼셉트론보다 좋고 중요한 특성에 집중하는 알고리즘이라는 점에서 충분히 가치가 있는 것 같습니다.\n",
        "\n",
        "  -- Entity Embedding + MLP모델은 범주형 변수에 대해서 유리한 알고리즘이고 표현력이 좋은 모델이라는 평가가 많아서 한 번 사용할만한 알고리즘인 것 같습니다. 또한 실제 의료 데이터를 분석하는 기관에서도 많이 사용하는 모델이라고 하니 적용해보고 싶습니다.\n",
        "\n",
        "\n",
        "  ## 4. 앞으로 주차별 계획\n",
        "\n",
        "  - 12주차\n",
        "    \n",
        "    -- 데이터 분석에 많은 시간이 걸린만큼 빠르게 진행을 해야할 것으로 생각이 되어서 비교적 간단한 데이터 전처리를 진행하고 시간이 된다면 다층 퍼셉트론 구현까지 마무리하는 것이 12주차의 목표입니다.\n",
        "\n",
        "  - 13주차\n",
        "\n",
        "    -- 다층 퍼셉트론까지 마무리 했다면 서치 결과로 알아낸 TabNet과 Entity Embedding + MLP 알고리즘의 코드를 분석하고 내가 예측에 사용할 데이터에 맞는 코드로 실행을 해보고 어떤 모델이 제일 성능이 높은지와 예측하는 정확도를 파악하고 캐글에 나와있는 다른 사람들과의 예측 코드와 차이점을 비교하여 내가 사용한 모델과 다른 사람들이 사용한 모델의 각 장단점을 분석하고 어느 방향성이 더 유용한지도 분석해보고 싶습니다.\n",
        "\n",
        "  - 14주차\n",
        "\n",
        "   -- 12,13주차에서 보안할 점이 있다면 수정하고 왜 내가 이 알고리즘을 선택했는지, 선택한 알고리즘이 적합했는지, 처음에 목표했던 바와 같은 결과가 나왔는지 아니면 의외의 결과가 나왔는지, 실제 활용할 수 있는 분 등을 포함해서 최종 제출을 위한 보고서를 제작할 것입니다.\n",
        "\n",
        "\n",
        "\n"
      ],
      "metadata": {
        "id": "_UAs_UVxaAjO"
      }
    }
  ]
}