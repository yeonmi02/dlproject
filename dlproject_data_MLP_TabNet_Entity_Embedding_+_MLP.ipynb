{
  "nbformat": 4,
  "nbformat_minor": 0,
  "metadata": {
    "colab": {
      "provenance": [],
      "mount_file_id": "1oFGAx0foi2ms5A_G7Xe5jAziilOP9MyS",
      "authorship_tag": "ABX9TyMZbeECtyUlp1aJlDtGWky0",
      "include_colab_link": true
    },
    "kernelspec": {
      "name": "python3",
      "display_name": "Python 3"
    },
    "language_info": {
      "name": "python"
    }
  },
  "cells": [
    {
      "cell_type": "markdown",
      "metadata": {
        "id": "view-in-github",
        "colab_type": "text"
      },
      "source": [
        "<a href=\"https://colab.research.google.com/github/yeonmi02/dlproject/blob/main/dlproject_data_MLP_TabNet_Entity_Embedding_%2B_MLP.ipynb\" target=\"_parent\"><img src=\"https://colab.research.google.com/assets/colab-badge.svg\" alt=\"Open In Colab\"/></a>"
      ]
    },
    {
      "cell_type": "markdown",
      "source": [
        "#데이터 불러오기"
      ],
      "metadata": {
        "id": "0h_Na1gUcWHU"
      }
    },
    {
      "cell_type": "code",
      "execution_count": 183,
      "metadata": {
        "colab": {
          "base_uri": "https://localhost:8080/",
          "height": 363
        },
        "id": "2koS7yHlPWmK",
        "outputId": "3fbc31db-0c1d-4a38-a657-0a820645b91c"
      },
      "outputs": [
        {
          "output_type": "execute_result",
          "data": {
            "text/plain": [
              "   Patient_ID  Age  Gender          Condition                  Procedure  \\\n",
              "0           1   45  Female      Heart Disease                Angioplasty   \n",
              "1           2   60    Male           Diabetes            Insulin Therapy   \n",
              "2           3   32  Female      Fractured Arm           X-Ray and Splint   \n",
              "3           4   75    Male             Stroke     CT Scan and Medication   \n",
              "4           5   50  Female             Cancer   Surgery and Chemotherapy   \n",
              "5           6   68    Male       Hypertension  Medication and Counseling   \n",
              "6           7   55  Female       Appendicitis               Appendectomy   \n",
              "7           8   40    Male      Fractured Leg  Cast and Physical Therapy   \n",
              "8           9   70  Female       Heart Attack    Cardiac Catheterization   \n",
              "9          10   25    Male  Allergic Reaction      Epinephrine Injection   \n",
              "\n",
              "    Cost  Length_of_Stay Readmission    Outcome  Satisfaction  \n",
              "0  15000               5          No  Recovered             4  \n",
              "1   2000               3         Yes     Stable             3  \n",
              "2    500               1          No  Recovered             5  \n",
              "3  10000               7         Yes     Stable             2  \n",
              "4  25000              10          No  Recovered             4  \n",
              "5   1000               2          No     Stable             4  \n",
              "6   8000               4          No  Recovered             3  \n",
              "7   3000               6          No  Recovered             4  \n",
              "8  18000               8         Yes     Stable             2  \n",
              "9    100               1          No  Recovered             5  "
            ],
            "text/html": [
              "\n",
              "  <div id=\"df-06b5ce6d-5cbf-4a7f-9bf3-c7b6624a8203\" class=\"colab-df-container\">\n",
              "    <div>\n",
              "<style scoped>\n",
              "    .dataframe tbody tr th:only-of-type {\n",
              "        vertical-align: middle;\n",
              "    }\n",
              "\n",
              "    .dataframe tbody tr th {\n",
              "        vertical-align: top;\n",
              "    }\n",
              "\n",
              "    .dataframe thead th {\n",
              "        text-align: right;\n",
              "    }\n",
              "</style>\n",
              "<table border=\"1\" class=\"dataframe\">\n",
              "  <thead>\n",
              "    <tr style=\"text-align: right;\">\n",
              "      <th></th>\n",
              "      <th>Patient_ID</th>\n",
              "      <th>Age</th>\n",
              "      <th>Gender</th>\n",
              "      <th>Condition</th>\n",
              "      <th>Procedure</th>\n",
              "      <th>Cost</th>\n",
              "      <th>Length_of_Stay</th>\n",
              "      <th>Readmission</th>\n",
              "      <th>Outcome</th>\n",
              "      <th>Satisfaction</th>\n",
              "    </tr>\n",
              "  </thead>\n",
              "  <tbody>\n",
              "    <tr>\n",
              "      <th>0</th>\n",
              "      <td>1</td>\n",
              "      <td>45</td>\n",
              "      <td>Female</td>\n",
              "      <td>Heart Disease</td>\n",
              "      <td>Angioplasty</td>\n",
              "      <td>15000</td>\n",
              "      <td>5</td>\n",
              "      <td>No</td>\n",
              "      <td>Recovered</td>\n",
              "      <td>4</td>\n",
              "    </tr>\n",
              "    <tr>\n",
              "      <th>1</th>\n",
              "      <td>2</td>\n",
              "      <td>60</td>\n",
              "      <td>Male</td>\n",
              "      <td>Diabetes</td>\n",
              "      <td>Insulin Therapy</td>\n",
              "      <td>2000</td>\n",
              "      <td>3</td>\n",
              "      <td>Yes</td>\n",
              "      <td>Stable</td>\n",
              "      <td>3</td>\n",
              "    </tr>\n",
              "    <tr>\n",
              "      <th>2</th>\n",
              "      <td>3</td>\n",
              "      <td>32</td>\n",
              "      <td>Female</td>\n",
              "      <td>Fractured Arm</td>\n",
              "      <td>X-Ray and Splint</td>\n",
              "      <td>500</td>\n",
              "      <td>1</td>\n",
              "      <td>No</td>\n",
              "      <td>Recovered</td>\n",
              "      <td>5</td>\n",
              "    </tr>\n",
              "    <tr>\n",
              "      <th>3</th>\n",
              "      <td>4</td>\n",
              "      <td>75</td>\n",
              "      <td>Male</td>\n",
              "      <td>Stroke</td>\n",
              "      <td>CT Scan and Medication</td>\n",
              "      <td>10000</td>\n",
              "      <td>7</td>\n",
              "      <td>Yes</td>\n",
              "      <td>Stable</td>\n",
              "      <td>2</td>\n",
              "    </tr>\n",
              "    <tr>\n",
              "      <th>4</th>\n",
              "      <td>5</td>\n",
              "      <td>50</td>\n",
              "      <td>Female</td>\n",
              "      <td>Cancer</td>\n",
              "      <td>Surgery and Chemotherapy</td>\n",
              "      <td>25000</td>\n",
              "      <td>10</td>\n",
              "      <td>No</td>\n",
              "      <td>Recovered</td>\n",
              "      <td>4</td>\n",
              "    </tr>\n",
              "    <tr>\n",
              "      <th>5</th>\n",
              "      <td>6</td>\n",
              "      <td>68</td>\n",
              "      <td>Male</td>\n",
              "      <td>Hypertension</td>\n",
              "      <td>Medication and Counseling</td>\n",
              "      <td>1000</td>\n",
              "      <td>2</td>\n",
              "      <td>No</td>\n",
              "      <td>Stable</td>\n",
              "      <td>4</td>\n",
              "    </tr>\n",
              "    <tr>\n",
              "      <th>6</th>\n",
              "      <td>7</td>\n",
              "      <td>55</td>\n",
              "      <td>Female</td>\n",
              "      <td>Appendicitis</td>\n",
              "      <td>Appendectomy</td>\n",
              "      <td>8000</td>\n",
              "      <td>4</td>\n",
              "      <td>No</td>\n",
              "      <td>Recovered</td>\n",
              "      <td>3</td>\n",
              "    </tr>\n",
              "    <tr>\n",
              "      <th>7</th>\n",
              "      <td>8</td>\n",
              "      <td>40</td>\n",
              "      <td>Male</td>\n",
              "      <td>Fractured Leg</td>\n",
              "      <td>Cast and Physical Therapy</td>\n",
              "      <td>3000</td>\n",
              "      <td>6</td>\n",
              "      <td>No</td>\n",
              "      <td>Recovered</td>\n",
              "      <td>4</td>\n",
              "    </tr>\n",
              "    <tr>\n",
              "      <th>8</th>\n",
              "      <td>9</td>\n",
              "      <td>70</td>\n",
              "      <td>Female</td>\n",
              "      <td>Heart Attack</td>\n",
              "      <td>Cardiac Catheterization</td>\n",
              "      <td>18000</td>\n",
              "      <td>8</td>\n",
              "      <td>Yes</td>\n",
              "      <td>Stable</td>\n",
              "      <td>2</td>\n",
              "    </tr>\n",
              "    <tr>\n",
              "      <th>9</th>\n",
              "      <td>10</td>\n",
              "      <td>25</td>\n",
              "      <td>Male</td>\n",
              "      <td>Allergic Reaction</td>\n",
              "      <td>Epinephrine Injection</td>\n",
              "      <td>100</td>\n",
              "      <td>1</td>\n",
              "      <td>No</td>\n",
              "      <td>Recovered</td>\n",
              "      <td>5</td>\n",
              "    </tr>\n",
              "  </tbody>\n",
              "</table>\n",
              "</div>\n",
              "    <div class=\"colab-df-buttons\">\n",
              "\n",
              "  <div class=\"colab-df-container\">\n",
              "    <button class=\"colab-df-convert\" onclick=\"convertToInteractive('df-06b5ce6d-5cbf-4a7f-9bf3-c7b6624a8203')\"\n",
              "            title=\"Convert this dataframe to an interactive table.\"\n",
              "            style=\"display:none;\">\n",
              "\n",
              "  <svg xmlns=\"http://www.w3.org/2000/svg\" height=\"24px\" viewBox=\"0 -960 960 960\">\n",
              "    <path d=\"M120-120v-720h720v720H120Zm60-500h600v-160H180v160Zm220 220h160v-160H400v160Zm0 220h160v-160H400v160ZM180-400h160v-160H180v160Zm440 0h160v-160H620v160ZM180-180h160v-160H180v160Zm440 0h160v-160H620v160Z\"/>\n",
              "  </svg>\n",
              "    </button>\n",
              "\n",
              "  <style>\n",
              "    .colab-df-container {\n",
              "      display:flex;\n",
              "      gap: 12px;\n",
              "    }\n",
              "\n",
              "    .colab-df-convert {\n",
              "      background-color: #E8F0FE;\n",
              "      border: none;\n",
              "      border-radius: 50%;\n",
              "      cursor: pointer;\n",
              "      display: none;\n",
              "      fill: #1967D2;\n",
              "      height: 32px;\n",
              "      padding: 0 0 0 0;\n",
              "      width: 32px;\n",
              "    }\n",
              "\n",
              "    .colab-df-convert:hover {\n",
              "      background-color: #E2EBFA;\n",
              "      box-shadow: 0px 1px 2px rgba(60, 64, 67, 0.3), 0px 1px 3px 1px rgba(60, 64, 67, 0.15);\n",
              "      fill: #174EA6;\n",
              "    }\n",
              "\n",
              "    .colab-df-buttons div {\n",
              "      margin-bottom: 4px;\n",
              "    }\n",
              "\n",
              "    [theme=dark] .colab-df-convert {\n",
              "      background-color: #3B4455;\n",
              "      fill: #D2E3FC;\n",
              "    }\n",
              "\n",
              "    [theme=dark] .colab-df-convert:hover {\n",
              "      background-color: #434B5C;\n",
              "      box-shadow: 0px 1px 3px 1px rgba(0, 0, 0, 0.15);\n",
              "      filter: drop-shadow(0px 1px 2px rgba(0, 0, 0, 0.3));\n",
              "      fill: #FFFFFF;\n",
              "    }\n",
              "  </style>\n",
              "\n",
              "    <script>\n",
              "      const buttonEl =\n",
              "        document.querySelector('#df-06b5ce6d-5cbf-4a7f-9bf3-c7b6624a8203 button.colab-df-convert');\n",
              "      buttonEl.style.display =\n",
              "        google.colab.kernel.accessAllowed ? 'block' : 'none';\n",
              "\n",
              "      async function convertToInteractive(key) {\n",
              "        const element = document.querySelector('#df-06b5ce6d-5cbf-4a7f-9bf3-c7b6624a8203');\n",
              "        const dataTable =\n",
              "          await google.colab.kernel.invokeFunction('convertToInteractive',\n",
              "                                                    [key], {});\n",
              "        if (!dataTable) return;\n",
              "\n",
              "        const docLinkHtml = 'Like what you see? Visit the ' +\n",
              "          '<a target=\"_blank\" href=https://colab.research.google.com/notebooks/data_table.ipynb>data table notebook</a>'\n",
              "          + ' to learn more about interactive tables.';\n",
              "        element.innerHTML = '';\n",
              "        dataTable['output_type'] = 'display_data';\n",
              "        await google.colab.output.renderOutput(dataTable, element);\n",
              "        const docLink = document.createElement('div');\n",
              "        docLink.innerHTML = docLinkHtml;\n",
              "        element.appendChild(docLink);\n",
              "      }\n",
              "    </script>\n",
              "  </div>\n",
              "\n",
              "\n",
              "    <div id=\"df-6101a1c3-4448-4f04-8d4b-2b34d1adeb66\">\n",
              "      <button class=\"colab-df-quickchart\" onclick=\"quickchart('df-6101a1c3-4448-4f04-8d4b-2b34d1adeb66')\"\n",
              "                title=\"Suggest charts\"\n",
              "                style=\"display:none;\">\n",
              "\n",
              "<svg xmlns=\"http://www.w3.org/2000/svg\" height=\"24px\"viewBox=\"0 0 24 24\"\n",
              "     width=\"24px\">\n",
              "    <g>\n",
              "        <path d=\"M19 3H5c-1.1 0-2 .9-2 2v14c0 1.1.9 2 2 2h14c1.1 0 2-.9 2-2V5c0-1.1-.9-2-2-2zM9 17H7v-7h2v7zm4 0h-2V7h2v10zm4 0h-2v-4h2v4z\"/>\n",
              "    </g>\n",
              "</svg>\n",
              "      </button>\n",
              "\n",
              "<style>\n",
              "  .colab-df-quickchart {\n",
              "      --bg-color: #E8F0FE;\n",
              "      --fill-color: #1967D2;\n",
              "      --hover-bg-color: #E2EBFA;\n",
              "      --hover-fill-color: #174EA6;\n",
              "      --disabled-fill-color: #AAA;\n",
              "      --disabled-bg-color: #DDD;\n",
              "  }\n",
              "\n",
              "  [theme=dark] .colab-df-quickchart {\n",
              "      --bg-color: #3B4455;\n",
              "      --fill-color: #D2E3FC;\n",
              "      --hover-bg-color: #434B5C;\n",
              "      --hover-fill-color: #FFFFFF;\n",
              "      --disabled-bg-color: #3B4455;\n",
              "      --disabled-fill-color: #666;\n",
              "  }\n",
              "\n",
              "  .colab-df-quickchart {\n",
              "    background-color: var(--bg-color);\n",
              "    border: none;\n",
              "    border-radius: 50%;\n",
              "    cursor: pointer;\n",
              "    display: none;\n",
              "    fill: var(--fill-color);\n",
              "    height: 32px;\n",
              "    padding: 0;\n",
              "    width: 32px;\n",
              "  }\n",
              "\n",
              "  .colab-df-quickchart:hover {\n",
              "    background-color: var(--hover-bg-color);\n",
              "    box-shadow: 0 1px 2px rgba(60, 64, 67, 0.3), 0 1px 3px 1px rgba(60, 64, 67, 0.15);\n",
              "    fill: var(--button-hover-fill-color);\n",
              "  }\n",
              "\n",
              "  .colab-df-quickchart-complete:disabled,\n",
              "  .colab-df-quickchart-complete:disabled:hover {\n",
              "    background-color: var(--disabled-bg-color);\n",
              "    fill: var(--disabled-fill-color);\n",
              "    box-shadow: none;\n",
              "  }\n",
              "\n",
              "  .colab-df-spinner {\n",
              "    border: 2px solid var(--fill-color);\n",
              "    border-color: transparent;\n",
              "    border-bottom-color: var(--fill-color);\n",
              "    animation:\n",
              "      spin 1s steps(1) infinite;\n",
              "  }\n",
              "\n",
              "  @keyframes spin {\n",
              "    0% {\n",
              "      border-color: transparent;\n",
              "      border-bottom-color: var(--fill-color);\n",
              "      border-left-color: var(--fill-color);\n",
              "    }\n",
              "    20% {\n",
              "      border-color: transparent;\n",
              "      border-left-color: var(--fill-color);\n",
              "      border-top-color: var(--fill-color);\n",
              "    }\n",
              "    30% {\n",
              "      border-color: transparent;\n",
              "      border-left-color: var(--fill-color);\n",
              "      border-top-color: var(--fill-color);\n",
              "      border-right-color: var(--fill-color);\n",
              "    }\n",
              "    40% {\n",
              "      border-color: transparent;\n",
              "      border-right-color: var(--fill-color);\n",
              "      border-top-color: var(--fill-color);\n",
              "    }\n",
              "    60% {\n",
              "      border-color: transparent;\n",
              "      border-right-color: var(--fill-color);\n",
              "    }\n",
              "    80% {\n",
              "      border-color: transparent;\n",
              "      border-right-color: var(--fill-color);\n",
              "      border-bottom-color: var(--fill-color);\n",
              "    }\n",
              "    90% {\n",
              "      border-color: transparent;\n",
              "      border-bottom-color: var(--fill-color);\n",
              "    }\n",
              "  }\n",
              "</style>\n",
              "\n",
              "      <script>\n",
              "        async function quickchart(key) {\n",
              "          const quickchartButtonEl =\n",
              "            document.querySelector('#' + key + ' button');\n",
              "          quickchartButtonEl.disabled = true;  // To prevent multiple clicks.\n",
              "          quickchartButtonEl.classList.add('colab-df-spinner');\n",
              "          try {\n",
              "            const charts = await google.colab.kernel.invokeFunction(\n",
              "                'suggestCharts', [key], {});\n",
              "          } catch (error) {\n",
              "            console.error('Error during call to suggestCharts:', error);\n",
              "          }\n",
              "          quickchartButtonEl.classList.remove('colab-df-spinner');\n",
              "          quickchartButtonEl.classList.add('colab-df-quickchart-complete');\n",
              "        }\n",
              "        (() => {\n",
              "          let quickchartButtonEl =\n",
              "            document.querySelector('#df-6101a1c3-4448-4f04-8d4b-2b34d1adeb66 button');\n",
              "          quickchartButtonEl.style.display =\n",
              "            google.colab.kernel.accessAllowed ? 'block' : 'none';\n",
              "        })();\n",
              "      </script>\n",
              "    </div>\n",
              "\n",
              "    </div>\n",
              "  </div>\n"
            ],
            "application/vnd.google.colaboratory.intrinsic+json": {
              "type": "dataframe",
              "variable_name": "patient",
              "summary": "{\n  \"name\": \"patient\",\n  \"rows\": 984,\n  \"fields\": [\n    {\n      \"column\": \"Patient_ID\",\n      \"properties\": {\n        \"dtype\": \"number\",\n        \"std\": 288,\n        \"min\": 1,\n        \"max\": 1000,\n        \"num_unique_values\": 984,\n        \"samples\": [\n          624,\n          459,\n          744\n        ],\n        \"semantic_type\": \"\",\n        \"description\": \"\"\n      }\n    },\n    {\n      \"column\": \"Age\",\n      \"properties\": {\n        \"dtype\": \"number\",\n        \"std\": 14,\n        \"min\": 25,\n        \"max\": 78,\n        \"num_unique_values\": 22,\n        \"samples\": [\n          45,\n          52,\n          70\n        ],\n        \"semantic_type\": \"\",\n        \"description\": \"\"\n      }\n    },\n    {\n      \"column\": \"Gender\",\n      \"properties\": {\n        \"dtype\": \"category\",\n        \"num_unique_values\": 2,\n        \"samples\": [\n          \"Male\",\n          \"Female\"\n        ],\n        \"semantic_type\": \"\",\n        \"description\": \"\"\n      }\n    },\n    {\n      \"column\": \"Condition\",\n      \"properties\": {\n        \"dtype\": \"category\",\n        \"num_unique_values\": 15,\n        \"samples\": [\n          \"Allergic Reaction\",\n          \"Prostate Cancer\"\n        ],\n        \"semantic_type\": \"\",\n        \"description\": \"\"\n      }\n    },\n    {\n      \"column\": \"Procedure\",\n      \"properties\": {\n        \"dtype\": \"category\",\n        \"num_unique_values\": 15,\n        \"samples\": [\n          \"Epinephrine Injection\",\n          \"Radiation Therapy\"\n        ],\n        \"semantic_type\": \"\",\n        \"description\": \"\"\n      }\n    },\n    {\n      \"column\": \"Cost\",\n      \"properties\": {\n        \"dtype\": \"number\",\n        \"std\": 7761,\n        \"min\": 100,\n        \"max\": 25000,\n        \"num_unique_values\": 15,\n        \"samples\": [\n          100,\n          20000\n        ],\n        \"semantic_type\": \"\",\n        \"description\": \"\"\n      }\n    },\n    {\n      \"column\": \"Length_of_Stay\",\n      \"properties\": {\n        \"dtype\": \"number\",\n        \"std\": 19,\n        \"min\": 1,\n        \"max\": 76,\n        \"num_unique_values\": 76,\n        \"samples\": [\n          10,\n          36\n        ],\n        \"semantic_type\": \"\",\n        \"description\": \"\"\n      }\n    },\n    {\n      \"column\": \"Readmission\",\n      \"properties\": {\n        \"dtype\": \"category\",\n        \"num_unique_values\": 2,\n        \"samples\": [\n          \"Yes\",\n          \"No\"\n        ],\n        \"semantic_type\": \"\",\n        \"description\": \"\"\n      }\n    },\n    {\n      \"column\": \"Outcome\",\n      \"properties\": {\n        \"dtype\": \"category\",\n        \"num_unique_values\": 2,\n        \"samples\": [\n          \"Stable\",\n          \"Recovered\"\n        ],\n        \"semantic_type\": \"\",\n        \"description\": \"\"\n      }\n    },\n    {\n      \"column\": \"Satisfaction\",\n      \"properties\": {\n        \"dtype\": \"number\",\n        \"std\": 0,\n        \"min\": 2,\n        \"max\": 5,\n        \"num_unique_values\": 4,\n        \"samples\": [\n          3,\n          2\n        ],\n        \"semantic_type\": \"\",\n        \"description\": \"\"\n      }\n    }\n  ]\n}"
            }
          },
          "metadata": {},
          "execution_count": 183
        }
      ],
      "source": [
        "import pandas as pd\n",
        "import matplotlib.pyplot as plt\n",
        "import seaborn as sns\n",
        "\n",
        "\n",
        "patient = pd.read_csv('/content/drive/MyDrive/hospital data analysis.csv')\n",
        "patient.head(10)"
      ]
    },
    {
      "cell_type": "markdown",
      "source": [
        "# 데이터 전처리 하기"
      ],
      "metadata": {
        "id": "SmblY86qcrDx"
      }
    },
    {
      "cell_type": "code",
      "source": [
        "import pandas as pd\n",
        "from sklearn.preprocessing import LabelEncoder, StandardScaler\n",
        "from sklearn.model_selection import train_test_split"
      ],
      "metadata": {
        "id": "OD97T3bXe0xZ"
      },
      "execution_count": 184,
      "outputs": []
    },
    {
      "cell_type": "code",
      "source": [
        "print(patient.columns.tolist())"
      ],
      "metadata": {
        "id": "i_yyw-cifLiL",
        "outputId": "9679494c-801f-4e96-8a5d-1f8c3fd0700f",
        "colab": {
          "base_uri": "https://localhost:8080/"
        }
      },
      "execution_count": 185,
      "outputs": [
        {
          "output_type": "stream",
          "name": "stdout",
          "text": [
            "['Patient_ID', 'Age', 'Gender', 'Condition', 'Procedure', 'Cost', 'Length_of_Stay', 'Readmission', 'Outcome', 'Satisfaction']\n"
          ]
        }
      ]
    },
    {
      "cell_type": "code",
      "source": [
        "if 'Patient_ID' in patient.columns:\n",
        "    patient.drop(columns=['Patient_ID'], inplace=True)"
      ],
      "metadata": {
        "id": "hV494_c9e3fq"
      },
      "execution_count": 186,
      "outputs": []
    },
    {
      "cell_type": "code",
      "source": [
        "patient.fillna({\n",
        "    'Age': patient['Age'].median(),\n",
        "    'Gender': patient['Gender'].mode()[0],\n",
        "    'Condition': 'Unknown',\n",
        "    'Procedure': 'Unknown',\n",
        "    'Cost': patient['Cost'].median(),\n",
        "    'Length_of_Stay': patient['Length_of_Stay'].median(),\n",
        "    'Readmission': 'No',\n",
        "    'Outcome': 'Unknown',\n",
        "    'Satisfaction': patient['Satisfaction'].mode()[0]\n",
        "}, inplace=True)"
      ],
      "metadata": {
        "id": "SjSNe5gme9lP"
      },
      "execution_count": 187,
      "outputs": []
    },
    {
      "cell_type": "code",
      "source": [
        "le = LabelEncoder()\n",
        "patient['Outcome_Label'] = le.fit_transform(patient['Outcome'])"
      ],
      "metadata": {
        "id": "Fl9BP_Yfl6F7"
      },
      "execution_count": 188,
      "outputs": []
    },
    {
      "cell_type": "code",
      "source": [
        "categorical_cols = ['Gender', 'Condition', 'Procedure', 'Readmission']\n",
        "patient = pd.get_dummies(patient, columns=categorical_cols)"
      ],
      "metadata": {
        "id": "p-NDzWJfl-Dm"
      },
      "execution_count": 189,
      "outputs": []
    },
    {
      "cell_type": "code",
      "source": [
        "patient.drop(columns=[col for col in patient.columns if col.startswith('Outcome_')], inplace=True)"
      ],
      "metadata": {
        "id": "jn4yXU96mBho"
      },
      "execution_count": 190,
      "outputs": []
    },
    {
      "cell_type": "code",
      "source": [
        "# 원핫인코딩\n",
        "X = patient.drop(columns=['Outcome'])\n",
        "y = patient['Outcome']"
      ],
      "metadata": {
        "id": "YkcNkyVXmEuA"
      },
      "execution_count": 191,
      "outputs": []
    },
    {
      "cell_type": "code",
      "source": [
        "# 정규화\n",
        "scaler = StandardScaler()\n",
        "X_scaled = scaler.fit_transform(X)"
      ],
      "metadata": {
        "id": "Dcx-4FT8mYDZ"
      },
      "execution_count": 192,
      "outputs": []
    },
    {
      "cell_type": "code",
      "source": [
        "# 데이터 분할\n",
        "X_train, X_test, y_train, y_test = train_test_split(\n",
        "    X_scaled, y, test_size=0.2, random_state=42, stratify=y\n",
        ")"
      ],
      "metadata": {
        "id": "jdhVVzQRmr6b"
      },
      "execution_count": 193,
      "outputs": []
    },
    {
      "cell_type": "code",
      "source": [
        "print(\"데이터 전처리 완료함\")\n",
        "print(\"X_train shape:\", X_train.shape)\n",
        "print(\"y label mapping:\", dict(zip(le.classes_, le.transform(le.classes_))))"
      ],
      "metadata": {
        "colab": {
          "base_uri": "https://localhost:8080/"
        },
        "id": "gsxbzyNrmx2T",
        "outputId": "7642b447-76c7-4d08-c8ed-3c656326722f"
      },
      "execution_count": 194,
      "outputs": [
        {
          "output_type": "stream",
          "name": "stdout",
          "text": [
            "데이터 전처리 완료함\n",
            "X_train shape: (787, 38)\n",
            "y label mapping: {'Recovered': np.int64(0), 'Stable': np.int64(1)}\n"
          ]
        }
      ]
    },
    {
      "cell_type": "code",
      "source": [
        "X_scaled.shape\n",
        "y.shape"
      ],
      "metadata": {
        "colab": {
          "base_uri": "https://localhost:8080/"
        },
        "id": "GfjvMVPhVeTY",
        "outputId": "0ae96d70-4512-483a-8e12-1db5414a0bd9"
      },
      "execution_count": 195,
      "outputs": [
        {
          "output_type": "execute_result",
          "data": {
            "text/plain": [
              "(984,)"
            ]
          },
          "metadata": {},
          "execution_count": 195
        }
      ]
    },
    {
      "cell_type": "code",
      "source": [
        "from sklearn.preprocessing import LabelEncoder\n",
        "\n",
        "le = LabelEncoder()\n",
        "y_train_encoded = le.fit_transform(y_train)\n",
        "y_test_encoded = le.transform(y_test)"
      ],
      "metadata": {
        "id": "bZEXMVJdZicT"
      },
      "execution_count": 196,
      "outputs": []
    },
    {
      "cell_type": "code",
      "source": [
        "print(type(y_train))\n",
        "print(y_train[:10])\n",
        "print([type(x) for x in y_train[:10]])"
      ],
      "metadata": {
        "colab": {
          "base_uri": "https://localhost:8080/"
        },
        "id": "7Cex-WUXaPCS",
        "outputId": "de00233d-7bc5-4f1d-e9a1-3c734cab1433"
      },
      "execution_count": 197,
      "outputs": [
        {
          "output_type": "stream",
          "name": "stdout",
          "text": [
            "<class 'pandas.core.series.Series'>\n",
            "507       Stable\n",
            "345       Stable\n",
            "933       Stable\n",
            "71     Recovered\n",
            "544    Recovered\n",
            "645       Stable\n",
            "532       Stable\n",
            "905       Stable\n",
            "658    Recovered\n",
            "562       Stable\n",
            "Name: Outcome, dtype: object\n",
            "[<class 'str'>, <class 'str'>, <class 'str'>, <class 'str'>, <class 'str'>, <class 'str'>, <class 'str'>, <class 'str'>, <class 'str'>, <class 'str'>]\n"
          ]
        }
      ]
    },
    {
      "cell_type": "code",
      "source": [
        "# 라벨 값 종류 확인\n",
        "print(\"라벨 종류:\", patient['Outcome'].unique())\n",
        "\n",
        "# 라벨 분포\n",
        "print(\"라벨 분포:\")\n",
        "print(patient['Outcome'].value_counts())\n",
        "\n",
        "# 결측치 확인\n",
        "missing_labels = patient['Outcome'].isnull().sum()\n",
        "print(f\"라벨 결측치 개수: {missing_labels}\")"
      ],
      "metadata": {
        "colab": {
          "base_uri": "https://localhost:8080/"
        },
        "id": "4gRecIVnDvrd",
        "outputId": "375a993d-29c8-41e5-9fe3-e9ecf679f726"
      },
      "execution_count": 198,
      "outputs": [
        {
          "output_type": "stream",
          "name": "stdout",
          "text": [
            "라벨 종류: ['Recovered' 'Stable']\n",
            "라벨 분포:\n",
            "Outcome\n",
            "Recovered    591\n",
            "Stable       393\n",
            "Name: count, dtype: int64\n",
            "라벨 결측치 개수: 0\n"
          ]
        }
      ]
    },
    {
      "cell_type": "code",
      "source": [
        "import pandas as pd\n",
        "\n",
        "print(\"Train 라벨 분포:\")\n",
        "print(pd.Series(y_train).value_counts(normalize=True))\n",
        "\n",
        "print(\"\\nTest 라벨 분포:\")\n",
        "print(pd.Series(y_test).value_counts(normalize=True))"
      ],
      "metadata": {
        "colab": {
          "base_uri": "https://localhost:8080/"
        },
        "id": "zIBs6FqOEWFX",
        "outputId": "2ead6a24-3a07-4c55-eb07-d2e63334fcfc"
      },
      "execution_count": 199,
      "outputs": [
        {
          "output_type": "stream",
          "name": "stdout",
          "text": [
            "Train 라벨 분포:\n",
            "Outcome\n",
            "Recovered    0.601017\n",
            "Stable       0.398983\n",
            "Name: proportion, dtype: float64\n",
            "\n",
            "Test 라벨 분포:\n",
            "Outcome\n",
            "Recovered    0.598985\n",
            "Stable       0.401015\n",
            "Name: proportion, dtype: float64\n"
          ]
        }
      ]
    },
    {
      "cell_type": "code",
      "source": [
        "import numpy as np\n",
        "\n",
        "# 만약 DataFrame/Series라면 넘파이 배열로 변환\n",
        "if 'pandas' in str(type(X_train)):\n",
        "    X_train = X_train.to_numpy(dtype=np.float32)\n",
        "    X_test = X_test.to_numpy(dtype=np.float32)\n",
        "\n",
        "if 'pandas' in str(type(y_train)):\n",
        "    # 문자열 라벨 -> 숫자 라벨로 변환하는 예시 (binary case)\n",
        "    from sklearn.preprocessing import LabelEncoder\n",
        "    le = LabelEncoder()\n",
        "    y_train = le.fit_transform(y_train)\n",
        "    y_test = le.transform(y_test)\n",
        "\n",
        "    # 넘파이 배열로 변환\n",
        "    y_train = y_train.astype(np.float32)\n",
        "    y_test = y_test.astype(np.float32)"
      ],
      "metadata": {
        "id": "xYAhGIS4SBEb"
      },
      "execution_count": 239,
      "outputs": []
    },
    {
      "cell_type": "markdown",
      "source": [
        "# 다층 퍼셉트론 모델 구현하기"
      ],
      "metadata": {
        "id": "m7KLG813VhGg"
      }
    },
    {
      "cell_type": "code",
      "source": [
        "import numpy as np\n",
        "import pandas as pd\n",
        "from sklearn.model_selection import train_test_split\n",
        "from sklearn.preprocessing import LabelEncoder, StandardScaler\n",
        "from sklearn.metrics import classification_report, confusion_matrix\n",
        "from tensorflow.keras.models import Sequential\n",
        "from tensorflow.keras.layers import Dense\n",
        "from tensorflow.keras.optimizers import Adam"
      ],
      "metadata": {
        "id": "aibygHbVQc6-"
      },
      "execution_count": 231,
      "outputs": []
    },
    {
      "cell_type": "code",
      "source": [
        "model = Sequential([\n",
        "    Dense(64, activation='relu', input_shape=(X_train.shape[1],)),\n",
        "    Dense(32, activation='relu'),\n",
        "    Dense(1, activation='sigmoid')  # 이진 분류 출력층\n",
        "])\n",
        "\n",
        "model.compile(\n",
        "    optimizer='adam',\n",
        "    loss='binary_crossentropy',\n",
        "    metrics=['accuracy']\n",
        ")"
      ],
      "metadata": {
        "colab": {
          "base_uri": "https://localhost:8080/"
        },
        "id": "ZZu6AhRSR5NO",
        "outputId": "0bde2d98-446b-442c-8d55-ca5f847705a2"
      },
      "execution_count": 237,
      "outputs": [
        {
          "output_type": "stream",
          "name": "stderr",
          "text": [
            "/usr/local/lib/python3.11/dist-packages/keras/src/layers/core/dense.py:87: UserWarning: Do not pass an `input_shape`/`input_dim` argument to a layer. When using Sequential models, prefer using an `Input(shape)` object as the first layer in the model instead.\n",
            "  super().__init__(activity_regularizer=activity_regularizer, **kwargs)\n"
          ]
        }
      ]
    },
    {
      "cell_type": "code",
      "source": [
        "history = model.fit(\n",
        "    X_train, y_train,\n",
        "    validation_data=(X_test, y_test),\n",
        "    epochs=25,\n",
        "    batch_size=32,\n",
        "    verbose=2\n",
        ")"
      ],
      "metadata": {
        "colab": {
          "base_uri": "https://localhost:8080/"
        },
        "id": "GjjhL138R62J",
        "outputId": "e3820ff7-6e41-49c4-de6c-a63fb6d11c89"
      },
      "execution_count": 240,
      "outputs": [
        {
          "output_type": "stream",
          "name": "stdout",
          "text": [
            "Epoch 1/25\n"
          ]
        },
        {
          "output_type": "stream",
          "name": "stderr",
          "text": [
            "/usr/local/lib/python3.11/dist-packages/tensorflow/python/data/ops/structured_function.py:258: UserWarning: Even though the `tf.config.experimental_run_functions_eagerly` option is set, this option does not apply to tf.data functions. To force eager execution of tf.data functions, please use `tf.data.experimental.enable_debug_mode()`.\n",
            "  warnings.warn(\n"
          ]
        },
        {
          "output_type": "stream",
          "name": "stdout",
          "text": [
            "25/25 - 2s - 75ms/step - accuracy: 0.8590 - loss: 0.4539 - val_accuracy: 0.9949 - val_loss: 0.2553\n",
            "Epoch 2/25\n",
            "25/25 - 1s - 55ms/step - accuracy: 1.0000 - loss: 0.1578 - val_accuracy: 1.0000 - val_loss: 0.0841\n",
            "Epoch 3/25\n",
            "25/25 - 3s - 102ms/step - accuracy: 1.0000 - loss: 0.0497 - val_accuracy: 1.0000 - val_loss: 0.0277\n",
            "Epoch 4/25\n",
            "25/25 - 1s - 54ms/step - accuracy: 1.0000 - loss: 0.0184 - val_accuracy: 1.0000 - val_loss: 0.0126\n",
            "Epoch 5/25\n",
            "25/25 - 3s - 102ms/step - accuracy: 1.0000 - loss: 0.0092 - val_accuracy: 1.0000 - val_loss: 0.0071\n",
            "Epoch 6/25\n",
            "25/25 - 3s - 133ms/step - accuracy: 1.0000 - loss: 0.0055 - val_accuracy: 1.0000 - val_loss: 0.0046\n",
            "Epoch 7/25\n",
            "25/25 - 2s - 79ms/step - accuracy: 1.0000 - loss: 0.0037 - val_accuracy: 1.0000 - val_loss: 0.0032\n",
            "Epoch 8/25\n",
            "25/25 - 3s - 115ms/step - accuracy: 1.0000 - loss: 0.0026 - val_accuracy: 1.0000 - val_loss: 0.0024\n",
            "Epoch 9/25\n",
            "25/25 - 2s - 76ms/step - accuracy: 1.0000 - loss: 0.0020 - val_accuracy: 1.0000 - val_loss: 0.0018\n",
            "Epoch 10/25\n",
            "25/25 - 1s - 53ms/step - accuracy: 1.0000 - loss: 0.0016 - val_accuracy: 1.0000 - val_loss: 0.0015\n",
            "Epoch 11/25\n",
            "25/25 - 3s - 103ms/step - accuracy: 1.0000 - loss: 0.0013 - val_accuracy: 1.0000 - val_loss: 0.0012\n",
            "Epoch 12/25\n",
            "25/25 - 2s - 67ms/step - accuracy: 1.0000 - loss: 0.0010 - val_accuracy: 1.0000 - val_loss: 0.0010\n",
            "Epoch 13/25\n",
            "25/25 - 3s - 111ms/step - accuracy: 1.0000 - loss: 8.7790e-04 - val_accuracy: 1.0000 - val_loss: 8.5412e-04\n",
            "Epoch 14/25\n",
            "25/25 - 1s - 55ms/step - accuracy: 1.0000 - loss: 7.4984e-04 - val_accuracy: 1.0000 - val_loss: 7.3467e-04\n",
            "Epoch 15/25\n",
            "25/25 - 2s - 100ms/step - accuracy: 1.0000 - loss: 6.4853e-04 - val_accuracy: 1.0000 - val_loss: 6.3906e-04\n",
            "Epoch 16/25\n",
            "25/25 - 2s - 61ms/step - accuracy: 1.0000 - loss: 5.6716e-04 - val_accuracy: 1.0000 - val_loss: 5.6109e-04\n",
            "Epoch 17/25\n",
            "25/25 - 1s - 54ms/step - accuracy: 1.0000 - loss: 5.0007e-04 - val_accuracy: 1.0000 - val_loss: 4.9859e-04\n",
            "Epoch 18/25\n",
            "25/25 - 3s - 102ms/step - accuracy: 1.0000 - loss: 4.4505e-04 - val_accuracy: 1.0000 - val_loss: 4.4440e-04\n",
            "Epoch 19/25\n",
            "25/25 - 3s - 128ms/step - accuracy: 1.0000 - loss: 3.9840e-04 - val_accuracy: 1.0000 - val_loss: 3.9936e-04\n",
            "Epoch 20/25\n",
            "25/25 - 2s - 63ms/step - accuracy: 1.0000 - loss: 3.5881e-04 - val_accuracy: 1.0000 - val_loss: 3.6074e-04\n",
            "Epoch 21/25\n",
            "25/25 - 1s - 54ms/step - accuracy: 1.0000 - loss: 3.2513e-04 - val_accuracy: 1.0000 - val_loss: 3.2715e-04\n",
            "Epoch 22/25\n",
            "25/25 - 3s - 102ms/step - accuracy: 1.0000 - loss: 2.9564e-04 - val_accuracy: 1.0000 - val_loss: 2.9865e-04\n",
            "Epoch 23/25\n",
            "25/25 - 3s - 102ms/step - accuracy: 1.0000 - loss: 2.7038e-04 - val_accuracy: 1.0000 - val_loss: 2.7314e-04\n",
            "Epoch 24/25\n",
            "25/25 - 3s - 101ms/step - accuracy: 1.0000 - loss: 2.4797e-04 - val_accuracy: 1.0000 - val_loss: 2.5141e-04\n",
            "Epoch 25/25\n",
            "25/25 - 3s - 128ms/step - accuracy: 1.0000 - loss: 2.2862e-04 - val_accuracy: 1.0000 - val_loss: 2.3169e-04\n"
          ]
        }
      ]
    },
    {
      "cell_type": "code",
      "source": [
        "# 3. 예측 및 평가 (threshold=0.5)\n",
        "y_train_pred = (model.predict(X_train) >= 0.5).astype(int).reshape(-1)\n",
        "y_test_pred = (model.predict(X_test) >= 0.5).astype(int).reshape(-1)\n",
        "\n",
        "print(\"Train 데이터 성능:\")\n",
        "print(classification_report(y_train, y_train_pred))\n",
        "print(\"Train 데이터 혼동 행렬:\")\n",
        "print(confusion_matrix(y_train, y_train_pred))\n",
        "\n",
        "print(\"\\nTest 데이터 성능:\")\n",
        "print(classification_report(y_test, y_test_pred))\n",
        "print(\"Test 데이터 혼동 행렬:\")\n",
        "print(confusion_matrix(y_test, y_test_pred))"
      ],
      "metadata": {
        "colab": {
          "base_uri": "https://localhost:8080/"
        },
        "id": "zA-t6YD8SFkj",
        "outputId": "9775a21f-c323-4ee1-ab43-033714ba5223"
      },
      "execution_count": 241,
      "outputs": [
        {
          "output_type": "stream",
          "name": "stdout",
          "text": [
            "\u001b[1m25/25\u001b[0m \u001b[32m━━━━━━━━━━━━━━━━━━━━\u001b[0m\u001b[37m\u001b[0m \u001b[1m0s\u001b[0m 6ms/step\n",
            "\u001b[1m7/7\u001b[0m \u001b[32m━━━━━━━━━━━━━━━━━━━━\u001b[0m\u001b[37m\u001b[0m \u001b[1m0s\u001b[0m 8ms/step \n",
            "Train 데이터 성능:\n",
            "              precision    recall  f1-score   support\n",
            "\n",
            "         0.0       1.00      1.00      1.00       473\n",
            "         1.0       1.00      1.00      1.00       314\n",
            "\n",
            "    accuracy                           1.00       787\n",
            "   macro avg       1.00      1.00      1.00       787\n",
            "weighted avg       1.00      1.00      1.00       787\n",
            "\n",
            "Train 데이터 혼동 행렬:\n",
            "[[473   0]\n",
            " [  0 314]]\n",
            "\n",
            "Test 데이터 성능:\n",
            "              precision    recall  f1-score   support\n",
            "\n",
            "         0.0       1.00      1.00      1.00       118\n",
            "         1.0       1.00      1.00      1.00        79\n",
            "\n",
            "    accuracy                           1.00       197\n",
            "   macro avg       1.00      1.00      1.00       197\n",
            "weighted avg       1.00      1.00      1.00       197\n",
            "\n",
            "Test 데이터 혼동 행렬:\n",
            "[[118   0]\n",
            " [  0  79]]\n"
          ]
        }
      ]
    },
    {
      "cell_type": "code",
      "source": [
        "from sklearn.metrics import classification_report, confusion_matrix\n",
        "\n",
        "# 훈련 데이터셋 예측\n",
        "y_train_pred_prob = model.predict(X_train)\n",
        "y_train_pred = (y_train_pred_prob > 0.5).astype(int).flatten()\n",
        "\n",
        "# 테스트 데이터셋 예측\n",
        "y_test_pred_prob = model.predict(X_test)\n",
        "y_test_pred = (y_test_pred_prob > 0.5).astype(int).flatten()\n",
        "\n",
        "# 훈련 데이터셋 평가\n",
        "print(\"Train 데이터 성능:\")\n",
        "print(classification_report(y_train, y_train_pred))\n",
        "print(\"Train 데이터 혼동 행렬:\")\n",
        "print(confusion_matrix(y_train, y_train_pred))\n",
        "\n",
        "# 테스트 데이터셋 평가\n",
        "print(\"\\nTest 데이터 성능:\")\n",
        "print(classification_report(y_test, y_test_pred))\n",
        "print(\"Test 데이터 혼동 행렬:\")\n",
        "print(confusion_matrix(y_test, y_test_pred))"
      ],
      "metadata": {
        "colab": {
          "base_uri": "https://localhost:8080/"
        },
        "id": "8p_sPc8qSfKg",
        "outputId": "cdc0959b-22d7-4540-e90e-693d9d80b7b3"
      },
      "execution_count": 242,
      "outputs": [
        {
          "output_type": "stream",
          "name": "stdout",
          "text": [
            "\r\u001b[1m 1/25\u001b[0m \u001b[37m━━━━━━━━━━━━━━━━━━━━\u001b[0m \u001b[1m2s\u001b[0m 90ms/step"
          ]
        },
        {
          "output_type": "stream",
          "name": "stderr",
          "text": [
            "/usr/local/lib/python3.11/dist-packages/tensorflow/python/data/ops/structured_function.py:258: UserWarning: Even though the `tf.config.experimental_run_functions_eagerly` option is set, this option does not apply to tf.data functions. To force eager execution of tf.data functions, please use `tf.data.experimental.enable_debug_mode()`.\n",
            "  warnings.warn(\n"
          ]
        },
        {
          "output_type": "stream",
          "name": "stdout",
          "text": [
            "\u001b[1m25/25\u001b[0m \u001b[32m━━━━━━━━━━━━━━━━━━━━\u001b[0m\u001b[37m\u001b[0m \u001b[1m1s\u001b[0m 19ms/step\n",
            "\u001b[1m7/7\u001b[0m \u001b[32m━━━━━━━━━━━━━━━━━━━━\u001b[0m\u001b[37m\u001b[0m \u001b[1m0s\u001b[0m 22ms/step\n",
            "Train 데이터 성능:\n",
            "              precision    recall  f1-score   support\n",
            "\n",
            "         0.0       1.00      1.00      1.00       473\n",
            "         1.0       1.00      1.00      1.00       314\n",
            "\n",
            "    accuracy                           1.00       787\n",
            "   macro avg       1.00      1.00      1.00       787\n",
            "weighted avg       1.00      1.00      1.00       787\n",
            "\n",
            "Train 데이터 혼동 행렬:\n",
            "[[473   0]\n",
            " [  0 314]]\n",
            "\n",
            "Test 데이터 성능:\n",
            "              precision    recall  f1-score   support\n",
            "\n",
            "         0.0       1.00      1.00      1.00       118\n",
            "         1.0       1.00      1.00      1.00        79\n",
            "\n",
            "    accuracy                           1.00       197\n",
            "   macro avg       1.00      1.00      1.00       197\n",
            "weighted avg       1.00      1.00      1.00       197\n",
            "\n",
            "Test 데이터 혼동 행렬:\n",
            "[[118   0]\n",
            " [  0  79]]\n"
          ]
        }
      ]
    },
    {
      "cell_type": "markdown",
      "source": [
        "##  * 문제점\n",
        "\n",
        "- 과적합 된 가능성이 있어서 데이터 양을 늘리는 방향으로 해결해볼 수 있다\n",
        "\n",
        "\n",
        "\n",
        "\n",
        "\n"
      ],
      "metadata": {
        "id": "1qjKAhiHkw1G"
      }
    },
    {
      "cell_type": "code",
      "source": [
        "from imblearn.over_sampling import SMOTE\n",
        "from collections import Counter\n",
        "\n",
        "# X_train, y_train: 훈련 데이터\n",
        "print(\"Before SMOTE:\", Counter(y_train))\n",
        "\n",
        "# SMOTE 적용\n",
        "smote = SMOTE(random_state=42)\n",
        "X_train_resampled, y_train_resampled = smote.fit_resample(X_train, y_train)\n",
        "\n",
        "print(\"After SMOTE:\", Counter(y_train_resampled))"
      ],
      "metadata": {
        "colab": {
          "base_uri": "https://localhost:8080/"
        },
        "id": "wNR_b30AlC8G",
        "outputId": "1bdbff63-8a9c-467f-8b2e-6fc2fc6f8e00"
      },
      "execution_count": 243,
      "outputs": [
        {
          "output_type": "stream",
          "name": "stdout",
          "text": [
            "Before SMOTE: Counter({np.float32(0.0): 473, np.float32(1.0): 314})\n",
            "After SMOTE: Counter({np.float32(1.0): 473, np.float32(0.0): 473})\n"
          ]
        }
      ]
    },
    {
      "cell_type": "code",
      "source": [
        "import matplotlib.pyplot as plt\n",
        "from sklearn.decomposition import PCA\n",
        "\n",
        "pca = PCA(n_components=2)\n",
        "X_pca = pca.fit_transform(X_train_resampled)\n",
        "\n",
        "plt.figure(figsize=(6, 5))\n",
        "plt.scatter(X_pca[:, 0], X_pca[:, 1], c=y_train_resampled, cmap='coolwarm', alpha=0.7)\n",
        "plt.title('SMOTE 적용 후 데이터 분포 (PCA)')\n",
        "plt.xlabel('PC1')\n",
        "plt.ylabel('PC2')\n",
        "plt.grid(True)\n",
        "plt.show()"
      ],
      "metadata": {
        "colab": {
          "base_uri": "https://localhost:8080/",
          "height": 779
        },
        "id": "SRBC7RZVlk1B",
        "outputId": "7fd28158-215d-4abc-e8a1-d365e91e7dbb"
      },
      "execution_count": 244,
      "outputs": [
        {
          "output_type": "stream",
          "name": "stderr",
          "text": [
            "/usr/local/lib/python3.11/dist-packages/IPython/core/pylabtools.py:151: UserWarning: Glyph 51201 (\\N{HANGUL SYLLABLE JEOG}) missing from font(s) DejaVu Sans.\n",
            "  fig.canvas.print_figure(bytes_io, **kw)\n",
            "/usr/local/lib/python3.11/dist-packages/IPython/core/pylabtools.py:151: UserWarning: Glyph 50857 (\\N{HANGUL SYLLABLE YONG}) missing from font(s) DejaVu Sans.\n",
            "  fig.canvas.print_figure(bytes_io, **kw)\n",
            "/usr/local/lib/python3.11/dist-packages/IPython/core/pylabtools.py:151: UserWarning: Glyph 54980 (\\N{HANGUL SYLLABLE HU}) missing from font(s) DejaVu Sans.\n",
            "  fig.canvas.print_figure(bytes_io, **kw)\n",
            "/usr/local/lib/python3.11/dist-packages/IPython/core/pylabtools.py:151: UserWarning: Glyph 45936 (\\N{HANGUL SYLLABLE DE}) missing from font(s) DejaVu Sans.\n",
            "  fig.canvas.print_figure(bytes_io, **kw)\n",
            "/usr/local/lib/python3.11/dist-packages/IPython/core/pylabtools.py:151: UserWarning: Glyph 51060 (\\N{HANGUL SYLLABLE I}) missing from font(s) DejaVu Sans.\n",
            "  fig.canvas.print_figure(bytes_io, **kw)\n",
            "/usr/local/lib/python3.11/dist-packages/IPython/core/pylabtools.py:151: UserWarning: Glyph 53552 (\\N{HANGUL SYLLABLE TEO}) missing from font(s) DejaVu Sans.\n",
            "  fig.canvas.print_figure(bytes_io, **kw)\n",
            "/usr/local/lib/python3.11/dist-packages/IPython/core/pylabtools.py:151: UserWarning: Glyph 48516 (\\N{HANGUL SYLLABLE BUN}) missing from font(s) DejaVu Sans.\n",
            "  fig.canvas.print_figure(bytes_io, **kw)\n",
            "/usr/local/lib/python3.11/dist-packages/IPython/core/pylabtools.py:151: UserWarning: Glyph 54252 (\\N{HANGUL SYLLABLE PO}) missing from font(s) DejaVu Sans.\n",
            "  fig.canvas.print_figure(bytes_io, **kw)\n"
          ]
        },
        {
          "output_type": "display_data",
          "data": {
            "text/plain": [
              "<Figure size 600x500 with 1 Axes>"
            ],
            "image/png": "[encoded data removed]"
          },
          "metadata": {}
        }
      ]
    },
    {
      "cell_type": "code",
      "source": [
        "from imblearn.over_sampling import SMOTE\n",
        "from collections import Counter\n",
        "\n",
        "# SMOTE 적용\n",
        "smote = SMOTE(random_state=42)\n",
        "X_train_resampled, y_train_resampled = smote.fit_resample(X_train, y_train)\n",
        "\n",
        "print(\"Before SMOTE:\", Counter(y_train))\n",
        "print(\"After SMOTE:\", Counter(y_train_resampled))"
      ],
      "metadata": {
        "colab": {
          "base_uri": "https://localhost:8080/"
        },
        "id": "yDTMyp5Flur7",
        "outputId": "2a5e7a39-39dd-4b11-c056-050f2b7c224d"
      },
      "execution_count": 245,
      "outputs": [
        {
          "output_type": "stream",
          "name": "stdout",
          "text": [
            "Before SMOTE: Counter({np.float32(0.0): 473, np.float32(1.0): 314})\n",
            "After SMOTE: Counter({np.float32(1.0): 473, np.float32(0.0): 473})\n"
          ]
        }
      ]
    },
    {
      "cell_type": "code",
      "source": [
        "from tensorflow.keras.models import Sequential\n",
        "from tensorflow.keras.layers import Dense\n",
        "from tensorflow.keras.optimizers import Adam\n",
        "\n",
        "# 기존 모델 초기화 (간단 예시, 네트워크는 네가 쓰던 걸로 바꿔도 돼)\n",
        "model = Sequential()\n",
        "model.add(Dense(64, activation='relu', input_shape=(X_train.shape[1],)))\n",
        "model.add(Dense(32, activation='relu'))\n",
        "model.add(Dense(1, activation='sigmoid'))  # 이진 분류일 경우\n",
        "\n",
        "model.compile(optimizer=Adam(learning_rate=0.001),\n",
        "              loss='binary_crossentropy',\n",
        "              metrics=['accuracy'])\n",
        "\n",
        "# 재훈련\n",
        "history = model.fit(\n",
        "    X_train_resampled,\n",
        "    y_train_resampled,\n",
        "    validation_data=(X_test, y_test),\n",
        "    epochs=30,\n",
        "    batch_size=32,\n",
        "    verbose=1\n",
        ")"
      ],
      "metadata": {
        "colab": {
          "base_uri": "https://localhost:8080/"
        },
        "id": "cvBx6wsnlwqy",
        "outputId": "6f79f814-3700-469d-c686-6c435f78a6da"
      },
      "execution_count": 246,
      "outputs": [
        {
          "output_type": "stream",
          "name": "stderr",
          "text": [
            "/usr/local/lib/python3.11/dist-packages/keras/src/layers/core/dense.py:87: UserWarning: Do not pass an `input_shape`/`input_dim` argument to a layer. When using Sequential models, prefer using an `Input(shape)` object as the first layer in the model instead.\n",
            "  super().__init__(activity_regularizer=activity_regularizer, **kwargs)\n",
            "/usr/local/lib/python3.11/dist-packages/tensorflow/python/data/ops/structured_function.py:258: UserWarning: Even though the `tf.config.experimental_run_functions_eagerly` option is set, this option does not apply to tf.data functions. To force eager execution of tf.data functions, please use `tf.data.experimental.enable_debug_mode()`.\n",
            "  warnings.warn(\n"
          ]
        },
        {
          "output_type": "stream",
          "name": "stdout",
          "text": [
            "Epoch 1/30\n",
            "\u001b[1m30/30\u001b[0m \u001b[32m━━━━━━━━━━━━━━━━━━━━\u001b[0m\u001b[37m\u001b[0m \u001b[1m3s\u001b[0m 110ms/step - accuracy: 0.7359 - loss: 0.5833 - val_accuracy: 1.0000 - val_loss: 0.2513\n",
            "Epoch 2/30\n",
            "\u001b[1m30/30\u001b[0m \u001b[32m━━━━━━━━━━━━━━━━━━━━\u001b[0m\u001b[37m\u001b[0m \u001b[1m4s\u001b[0m 85ms/step - accuracy: 1.0000 - loss: 0.2022 - val_accuracy: 1.0000 - val_loss: 0.0770\n",
            "Epoch 3/30\n",
            "\u001b[1m30/30\u001b[0m \u001b[32m━━━━━━━━━━━━━━━━━━━━\u001b[0m\u001b[37m\u001b[0m \u001b[1m3s\u001b[0m 90ms/step - accuracy: 1.0000 - loss: 0.0626 - val_accuracy: 1.0000 - val_loss: 0.0251\n",
            "Epoch 4/30\n",
            "\u001b[1m30/30\u001b[0m \u001b[32m━━━━━━━━━━━━━━━━━━━━\u001b[0m\u001b[37m\u001b[0m \u001b[1m4s\u001b[0m 69ms/step - accuracy: 1.0000 - loss: 0.0210 - val_accuracy: 1.0000 - val_loss: 0.0111\n",
            "Epoch 5/30\n",
            "\u001b[1m30/30\u001b[0m \u001b[32m━━━━━━━━━━━━━━━━━━━━\u001b[0m\u001b[37m\u001b[0m \u001b[1m3s\u001b[0m 72ms/step - accuracy: 1.0000 - loss: 0.0096 - val_accuracy: 1.0000 - val_loss: 0.0062\n",
            "Epoch 6/30\n",
            "\u001b[1m30/30\u001b[0m \u001b[32m━━━━━━━━━━━━━━━━━━━━\u001b[0m\u001b[37m\u001b[0m \u001b[1m4s\u001b[0m 148ms/step - accuracy: 1.0000 - loss: 0.0054 - val_accuracy: 1.0000 - val_loss: 0.0039\n",
            "Epoch 7/30\n",
            "\u001b[1m30/30\u001b[0m \u001b[32m━━━━━━━━━━━━━━━━━━━━\u001b[0m\u001b[37m\u001b[0m \u001b[1m3s\u001b[0m 79ms/step - accuracy: 1.0000 - loss: 0.0037 - val_accuracy: 1.0000 - val_loss: 0.0027\n",
            "Epoch 8/30\n",
            "\u001b[1m30/30\u001b[0m \u001b[32m━━━━━━━━━━━━━━━━━━━━\u001b[0m\u001b[37m\u001b[0m \u001b[1m2s\u001b[0m 62ms/step - accuracy: 1.0000 - loss: 0.0025 - val_accuracy: 1.0000 - val_loss: 0.0020\n",
            "Epoch 9/30\n",
            "\u001b[1m30/30\u001b[0m \u001b[32m━━━━━━━━━━━━━━━━━━━━\u001b[0m\u001b[37m\u001b[0m \u001b[1m3s\u001b[0m 62ms/step - accuracy: 1.0000 - loss: 0.0019 - val_accuracy: 1.0000 - val_loss: 0.0015\n",
            "Epoch 10/30\n",
            "\u001b[1m30/30\u001b[0m \u001b[32m━━━━━━━━━━━━━━━━━━━━\u001b[0m\u001b[37m\u001b[0m \u001b[1m2s\u001b[0m 64ms/step - accuracy: 1.0000 - loss: 0.0014 - val_accuracy: 1.0000 - val_loss: 0.0012\n",
            "Epoch 11/30\n",
            "\u001b[1m30/30\u001b[0m \u001b[32m━━━━━━━━━━━━━━━━━━━━\u001b[0m\u001b[37m\u001b[0m \u001b[1m3s\u001b[0m 63ms/step - accuracy: 1.0000 - loss: 0.0011 - val_accuracy: 1.0000 - val_loss: 9.4105e-04\n",
            "Epoch 12/30\n",
            "\u001b[1m30/30\u001b[0m \u001b[32m━━━━━━━━━━━━━━━━━━━━\u001b[0m\u001b[37m\u001b[0m \u001b[1m3s\u001b[0m 93ms/step - accuracy: 1.0000 - loss: 9.2280e-04 - val_accuracy: 1.0000 - val_loss: 7.5715e-04\n",
            "Epoch 13/30\n",
            "\u001b[1m30/30\u001b[0m \u001b[32m━━━━━━━━━━━━━━━━━━━━\u001b[0m\u001b[37m\u001b[0m \u001b[1m4s\u001b[0m 63ms/step - accuracy: 1.0000 - loss: 6.8123e-04 - val_accuracy: 1.0000 - val_loss: 5.4632e-04\n",
            "Epoch 14/30\n",
            "\u001b[1m30/30\u001b[0m \u001b[32m━━━━━━━━━━━━━━━━━━━━\u001b[0m\u001b[37m\u001b[0m \u001b[1m2s\u001b[0m 65ms/step - accuracy: 1.0000 - loss: 5.1664e-04 - val_accuracy: 1.0000 - val_loss: 4.3602e-04\n",
            "Epoch 15/30\n",
            "\u001b[1m30/30\u001b[0m \u001b[32m━━━━━━━━━━━━━━━━━━━━\u001b[0m\u001b[37m\u001b[0m \u001b[1m2s\u001b[0m 62ms/step - accuracy: 1.0000 - loss: 4.1035e-04 - val_accuracy: 1.0000 - val_loss: 3.6515e-04\n",
            "Epoch 16/30\n",
            "\u001b[1m30/30\u001b[0m \u001b[32m━━━━━━━━━━━━━━━━━━━━\u001b[0m\u001b[37m\u001b[0m \u001b[1m4s\u001b[0m 107ms/step - accuracy: 1.0000 - loss: 3.5043e-04 - val_accuracy: 1.0000 - val_loss: 3.1115e-04\n",
            "Epoch 17/30\n",
            "\u001b[1m30/30\u001b[0m \u001b[32m━━━━━━━━━━━━━━━━━━━━\u001b[0m\u001b[37m\u001b[0m \u001b[1m3s\u001b[0m 86ms/step - accuracy: 1.0000 - loss: 2.9692e-04 - val_accuracy: 1.0000 - val_loss: 2.6946e-04\n",
            "Epoch 18/30\n",
            "\u001b[1m30/30\u001b[0m \u001b[32m━━━━━━━━━━━━━━━━━━━━\u001b[0m\u001b[37m\u001b[0m \u001b[1m4s\u001b[0m 65ms/step - accuracy: 1.0000 - loss: 2.5438e-04 - val_accuracy: 1.0000 - val_loss: 2.3576e-04\n",
            "Epoch 19/30\n",
            "\u001b[1m30/30\u001b[0m \u001b[32m━━━━━━━━━━━━━━━━━━━━\u001b[0m\u001b[37m\u001b[0m \u001b[1m3s\u001b[0m 66ms/step - accuracy: 1.0000 - loss: 2.2207e-04 - val_accuracy: 1.0000 - val_loss: 2.0837e-04\n",
            "Epoch 20/30\n",
            "\u001b[1m30/30\u001b[0m \u001b[32m━━━━━━━━━━━━━━━━━━━━\u001b[0m\u001b[37m\u001b[0m \u001b[1m3s\u001b[0m 75ms/step - accuracy: 1.0000 - loss: 1.9816e-04 - val_accuracy: 1.0000 - val_loss: 1.8550e-04\n",
            "Epoch 21/30\n",
            "\u001b[1m30/30\u001b[0m \u001b[32m━━━━━━━━━━━━━━━━━━━━\u001b[0m\u001b[37m\u001b[0m \u001b[1m4s\u001b[0m 134ms/step - accuracy: 1.0000 - loss: 1.8026e-04 - val_accuracy: 1.0000 - val_loss: 1.6632e-04\n",
            "Epoch 22/30\n",
            "\u001b[1m30/30\u001b[0m \u001b[32m━━━━━━━━━━━━━━━━━━━━\u001b[0m\u001b[37m\u001b[0m \u001b[1m3s\u001b[0m 65ms/step - accuracy: 1.0000 - loss: 1.6085e-04 - val_accuracy: 1.0000 - val_loss: 1.5001e-04\n",
            "Epoch 23/30\n",
            "\u001b[1m30/30\u001b[0m \u001b[32m━━━━━━━━━━━━━━━━━━━━\u001b[0m\u001b[37m\u001b[0m \u001b[1m3s\u001b[0m 68ms/step - accuracy: 1.0000 - loss: 1.4075e-04 - val_accuracy: 1.0000 - val_loss: 1.3604e-04\n",
            "Epoch 24/30\n",
            "\u001b[1m30/30\u001b[0m \u001b[32m━━━━━━━━━━━━━━━━━━━━\u001b[0m\u001b[37m\u001b[0m \u001b[1m2s\u001b[0m 62ms/step - accuracy: 1.0000 - loss: 1.2678e-04 - val_accuracy: 1.0000 - val_loss: 1.2392e-04\n",
            "Epoch 25/30\n",
            "\u001b[1m30/30\u001b[0m \u001b[32m━━━━━━━━━━━━━━━━━━━━\u001b[0m\u001b[37m\u001b[0m \u001b[1m3s\u001b[0m 81ms/step - accuracy: 1.0000 - loss: 1.1925e-04 - val_accuracy: 1.0000 - val_loss: 1.1327e-04\n",
            "Epoch 26/30\n",
            "\u001b[1m30/30\u001b[0m \u001b[32m━━━━━━━━━━━━━━━━━━━━\u001b[0m\u001b[37m\u001b[0m \u001b[1m3s\u001b[0m 95ms/step - accuracy: 1.0000 - loss: 1.0693e-04 - val_accuracy: 1.0000 - val_loss: 1.0409e-04\n",
            "Epoch 27/30\n",
            "\u001b[1m30/30\u001b[0m \u001b[32m━━━━━━━━━━━━━━━━━━━━\u001b[0m\u001b[37m\u001b[0m \u001b[1m4s\u001b[0m 68ms/step - accuracy: 1.0000 - loss: 9.9375e-05 - val_accuracy: 1.0000 - val_loss: 9.6002e-05\n",
            "Epoch 28/30\n",
            "\u001b[1m30/30\u001b[0m \u001b[32m━━━━━━━━━━━━━━━━━━━━\u001b[0m\u001b[37m\u001b[0m \u001b[1m2s\u001b[0m 64ms/step - accuracy: 1.0000 - loss: 9.0969e-05 - val_accuracy: 1.0000 - val_loss: 8.8695e-05\n",
            "Epoch 29/30\n",
            "\u001b[1m30/30\u001b[0m \u001b[32m━━━━━━━━━━━━━━━━━━━━\u001b[0m\u001b[37m\u001b[0m \u001b[1m2s\u001b[0m 64ms/step - accuracy: 1.0000 - loss: 8.5385e-05 - val_accuracy: 1.0000 - val_loss: 8.2156e-05\n",
            "Epoch 30/30\n",
            "\u001b[1m30/30\u001b[0m \u001b[32m━━━━━━━━━━━━━━━━━━━━\u001b[0m\u001b[37m\u001b[0m \u001b[1m3s\u001b[0m 81ms/step - accuracy: 1.0000 - loss: 7.8920e-05 - val_accuracy: 1.0000 - val_loss: 7.6326e-05\n"
          ]
        }
      ]
    },
    {
      "cell_type": "code",
      "source": [
        "from sklearn.metrics import classification_report, confusion_matrix\n",
        "\n",
        "# 예측\n",
        "y_pred_train = model.predict(X_train_resampled).round()\n",
        "y_pred_test = model.predict(X_test).round()\n",
        "\n",
        "# 평가 지표 출력\n",
        "print(\"Train 데이터 성능:\")\n",
        "print(classification_report(y_train_resampled, y_pred_train))\n",
        "print(\"Train 데이터 혼동 행렬:\")\n",
        "print(confusion_matrix(y_train_resampled, y_pred_train))\n",
        "\n",
        "print(\"\\nTest 데이터 성능:\")\n",
        "print(classification_report(y_test, y_pred_test))\n",
        "print(\"Test 데이터 혼동 행렬:\")\n",
        "print(confusion_matrix(y_test, y_pred_test))"
      ],
      "metadata": {
        "colab": {
          "base_uri": "https://localhost:8080/"
        },
        "id": "MH02-P6gl1He",
        "outputId": "efe14ca0-f812-4fad-e4b4-a18df3559d8b"
      },
      "execution_count": 247,
      "outputs": [
        {
          "output_type": "stream",
          "name": "stdout",
          "text": [
            "\u001b[1m30/30\u001b[0m \u001b[32m━━━━━━━━━━━━━━━━━━━━\u001b[0m\u001b[37m\u001b[0m \u001b[1m0s\u001b[0m 6ms/step\n",
            "\u001b[1m7/7\u001b[0m \u001b[32m━━━━━━━━━━━━━━━━━━━━\u001b[0m\u001b[37m\u001b[0m \u001b[1m0s\u001b[0m 10ms/step\n",
            "Train 데이터 성능:\n",
            "              precision    recall  f1-score   support\n",
            "\n",
            "         0.0       1.00      1.00      1.00       473\n",
            "         1.0       1.00      1.00      1.00       473\n",
            "\n",
            "    accuracy                           1.00       946\n",
            "   macro avg       1.00      1.00      1.00       946\n",
            "weighted avg       1.00      1.00      1.00       946\n",
            "\n",
            "Train 데이터 혼동 행렬:\n",
            "[[473   0]\n",
            " [  0 473]]\n",
            "\n",
            "Test 데이터 성능:\n",
            "              precision    recall  f1-score   support\n",
            "\n",
            "         0.0       1.00      1.00      1.00       118\n",
            "         1.0       1.00      1.00      1.00        79\n",
            "\n",
            "    accuracy                           1.00       197\n",
            "   macro avg       1.00      1.00      1.00       197\n",
            "weighted avg       1.00      1.00      1.00       197\n",
            "\n",
            "Test 데이터 혼동 행렬:\n",
            "[[118   0]\n",
            " [  0  79]]\n"
          ]
        }
      ]
    },
    {
      "cell_type": "markdown",
      "source": [
        "## 교차검증 해보기"
      ],
      "metadata": {
        "id": "QSOFgt_hoUhI"
      }
    },
    {
      "cell_type": "code",
      "source": [
        "from sklearn.model_selection import StratifiedKFold\n",
        "from sklearn.metrics import classification_report, confusion_matrix\n",
        "from imblearn.over_sampling import SMOTE\n",
        "from sklearn.ensemble import RandomForestClassifier  # 또는 사용하는 모델로 교체\n",
        "import numpy as np"
      ],
      "metadata": {
        "id": "Erbkj03doW6D"
      },
      "execution_count": 248,
      "outputs": []
    },
    {
      "cell_type": "code",
      "source": [
        "X = patient.drop(columns=['Outcome'])\n",
        "y = patient['Outcome']\n",
        "\n",
        "kfold = StratifiedKFold(n_splits=5, shuffle=True, random_state=42)\n",
        "fold = 1\n",
        "\n",
        "all_y_true = []\n",
        "all_y_pred = []"
      ],
      "metadata": {
        "id": "bSJyys6toZVv"
      },
      "execution_count": 250,
      "outputs": []
    },
    {
      "cell_type": "code",
      "source": [
        "for train_idx, test_idx in kfold.split(X, y):\n",
        "    X_train, X_test = X.iloc[train_idx], X.iloc[test_idx]\n",
        "    y_train, y_test = y.iloc[train_idx], y.iloc[test_idx]\n",
        "\n",
        "    # SMOTE를 학습 세트에만 적용\n",
        "    smote = SMOTE(random_state=42)\n",
        "    X_train_resampled, y_train_resampled = smote.fit_resample(X_train, y_train)\n",
        "\n",
        "    # 모델 학습\n",
        "    model = RandomForestClassifier(random_state=42)\n",
        "    model.fit(X_train_resampled, y_train_resampled)"
      ],
      "metadata": {
        "id": "8Db_V68IonGY"
      },
      "execution_count": 253,
      "outputs": []
    },
    {
      "cell_type": "code",
      "source": [
        "    # 예측 및 평가\n",
        "    y_pred = model.predict(X_test)\n",
        "\n",
        "    print(f\"Fold {fold} 결과:\")\n",
        "    print(confusion_matrix(y_test, y_pred))\n",
        "    print(classification_report(y_test, y_pred))\n",
        "\n",
        "    all_y_true.extend(y_test)\n",
        "    all_y_pred.extend(y_pred)\n",
        "\n",
        "    fold += 1"
      ],
      "metadata": {
        "colab": {
          "base_uri": "https://localhost:8080/"
        },
        "id": "iA1_9JMsov6E",
        "outputId": "c057f26d-25c3-4bc2-817a-821ddff602df"
      },
      "execution_count": 255,
      "outputs": [
        {
          "output_type": "stream",
          "name": "stdout",
          "text": [
            "Fold 2 결과:\n",
            "[[118   0]\n",
            " [  0  78]]\n",
            "              precision    recall  f1-score   support\n",
            "\n",
            "   Recovered       1.00      1.00      1.00       118\n",
            "      Stable       1.00      1.00      1.00        78\n",
            "\n",
            "    accuracy                           1.00       196\n",
            "   macro avg       1.00      1.00      1.00       196\n",
            "weighted avg       1.00      1.00      1.00       196\n",
            "\n"
          ]
        }
      ]
    },
    {
      "cell_type": "code",
      "source": [
        "# 전체 평균 성능\n",
        "print(\"전체 Fold 평균 결과:\")\n",
        "print(confusion_matrix(all_y_true, all_y_pred))\n",
        "print(classification_report(all_y_true, all_y_pred))"
      ],
      "metadata": {
        "colab": {
          "base_uri": "https://localhost:8080/"
        },
        "id": "YCyBDtVMo0HG",
        "outputId": "eeef2e12-66d2-4bdb-ad2a-35e4aeb10952"
      },
      "execution_count": 256,
      "outputs": [
        {
          "output_type": "stream",
          "name": "stdout",
          "text": [
            "전체 Fold 평균 결과:\n",
            "[[236   0]\n",
            " [  0 156]]\n",
            "              precision    recall  f1-score   support\n",
            "\n",
            "   Recovered       1.00      1.00      1.00       236\n",
            "      Stable       1.00      1.00      1.00       156\n",
            "\n",
            "    accuracy                           1.00       392\n",
            "   macro avg       1.00      1.00      1.00       392\n",
            "weighted avg       1.00      1.00      1.00       392\n",
            "\n"
          ]
        }
      ]
    },
    {
      "cell_type": "markdown",
      "source": [
        "# MLP 모델 구현 후기\n",
        "\n",
        "### 1. 우선 데이터 셋의 양이 적어서 그런건지 아닌지 모르겠지만 과적합이 의심되는 결과가 나타나고 있고 데이터 셋도 늘려봤지만 성능이 100%로 그대로여서 소용이 없었습니다.\n",
        "\n",
        "### 2. 정말 데이터가 잘 학습되고 모델이 잘 형성되어서 성능이 완벽한 MLP가 만들어진 것인지 모르겠어서 다른 모델로도 학습을 해보려고 합니다."
      ],
      "metadata": {
        "id": "a_3J48RSplhn"
      }
    },
    {
      "cell_type": "markdown",
      "source": [
        "# TabNet 모델 구현하기"
      ],
      "metadata": {
        "id": "0wL6bFyG7-rQ"
      }
    },
    {
      "cell_type": "code",
      "source": [
        "# TabNet 라이브러리 설치\n",
        "!pip install pytorch-tabnet"
      ],
      "metadata": {
        "id": "bAALzs6i8B13",
        "colab": {
          "base_uri": "https://localhost:8080/"
        },
        "outputId": "9566f10b-f7f0-4775-f50b-221f4779ca8b"
      },
      "execution_count": 257,
      "outputs": [
        {
          "output_type": "stream",
          "name": "stdout",
          "text": [
            "Requirement already satisfied: pytorch-tabnet in /usr/local/lib/python3.11/dist-packages (4.1.0)\n",
            "Requirement already satisfied: numpy>=1.17 in /usr/local/lib/python3.11/dist-packages (from pytorch-tabnet) (2.0.2)\n",
            "Requirement already satisfied: scikit_learn>0.21 in /usr/local/lib/python3.11/dist-packages (from pytorch-tabnet) (1.6.1)\n",
            "Requirement already satisfied: scipy>1.4 in /usr/local/lib/python3.11/dist-packages (from pytorch-tabnet) (1.15.3)\n",
            "Requirement already satisfied: torch>=1.3 in /usr/local/lib/python3.11/dist-packages (from pytorch-tabnet) (2.6.0+cu124)\n",
            "Requirement already satisfied: tqdm>=4.36 in /usr/local/lib/python3.11/dist-packages (from pytorch-tabnet) (4.67.1)\n",
            "Requirement already satisfied: joblib>=1.2.0 in /usr/local/lib/python3.11/dist-packages (from scikit_learn>0.21->pytorch-tabnet) (1.5.0)\n",
            "Requirement already satisfied: threadpoolctl>=3.1.0 in /usr/local/lib/python3.11/dist-packages (from scikit_learn>0.21->pytorch-tabnet) (3.6.0)\n",
            "Requirement already satisfied: filelock in /usr/local/lib/python3.11/dist-packages (from torch>=1.3->pytorch-tabnet) (3.18.0)\n",
            "Requirement already satisfied: typing-extensions>=4.10.0 in /usr/local/lib/python3.11/dist-packages (from torch>=1.3->pytorch-tabnet) (4.13.2)\n",
            "Requirement already satisfied: networkx in /usr/local/lib/python3.11/dist-packages (from torch>=1.3->pytorch-tabnet) (3.4.2)\n",
            "Requirement already satisfied: jinja2 in /usr/local/lib/python3.11/dist-packages (from torch>=1.3->pytorch-tabnet) (3.1.6)\n",
            "Requirement already satisfied: fsspec in /usr/local/lib/python3.11/dist-packages (from torch>=1.3->pytorch-tabnet) (2025.3.2)\n",
            "Requirement already satisfied: nvidia-cuda-nvrtc-cu12==12.4.127 in /usr/local/lib/python3.11/dist-packages (from torch>=1.3->pytorch-tabnet) (12.4.127)\n",
            "Requirement already satisfied: nvidia-cuda-runtime-cu12==12.4.127 in /usr/local/lib/python3.11/dist-packages (from torch>=1.3->pytorch-tabnet) (12.4.127)\n",
            "Requirement already satisfied: nvidia-cuda-cupti-cu12==12.4.127 in /usr/local/lib/python3.11/dist-packages (from torch>=1.3->pytorch-tabnet) (12.4.127)\n",
            "Requirement already satisfied: nvidia-cudnn-cu12==9.1.0.70 in /usr/local/lib/python3.11/dist-packages (from torch>=1.3->pytorch-tabnet) (9.1.0.70)\n",
            "Requirement already satisfied: nvidia-cublas-cu12==12.4.5.8 in /usr/local/lib/python3.11/dist-packages (from torch>=1.3->pytorch-tabnet) (12.4.5.8)\n",
            "Requirement already satisfied: nvidia-cufft-cu12==11.2.1.3 in /usr/local/lib/python3.11/dist-packages (from torch>=1.3->pytorch-tabnet) (11.2.1.3)\n",
            "Requirement already satisfied: nvidia-curand-cu12==10.3.5.147 in /usr/local/lib/python3.11/dist-packages (from torch>=1.3->pytorch-tabnet) (10.3.5.147)\n",
            "Requirement already satisfied: nvidia-cusolver-cu12==11.6.1.9 in /usr/local/lib/python3.11/dist-packages (from torch>=1.3->pytorch-tabnet) (11.6.1.9)\n",
            "Requirement already satisfied: nvidia-cusparse-cu12==12.3.1.170 in /usr/local/lib/python3.11/dist-packages (from torch>=1.3->pytorch-tabnet) (12.3.1.170)\n",
            "Requirement already satisfied: nvidia-cusparselt-cu12==0.6.2 in /usr/local/lib/python3.11/dist-packages (from torch>=1.3->pytorch-tabnet) (0.6.2)\n",
            "Requirement already satisfied: nvidia-nccl-cu12==2.21.5 in /usr/local/lib/python3.11/dist-packages (from torch>=1.3->pytorch-tabnet) (2.21.5)\n",
            "Requirement already satisfied: nvidia-nvtx-cu12==12.4.127 in /usr/local/lib/python3.11/dist-packages (from torch>=1.3->pytorch-tabnet) (12.4.127)\n",
            "Requirement already satisfied: nvidia-nvjitlink-cu12==12.4.127 in /usr/local/lib/python3.11/dist-packages (from torch>=1.3->pytorch-tabnet) (12.4.127)\n",
            "Requirement already satisfied: triton==3.2.0 in /usr/local/lib/python3.11/dist-packages (from torch>=1.3->pytorch-tabnet) (3.2.0)\n",
            "Requirement already satisfied: sympy==1.13.1 in /usr/local/lib/python3.11/dist-packages (from torch>=1.3->pytorch-tabnet) (1.13.1)\n",
            "Requirement already satisfied: mpmath<1.4,>=1.1.0 in /usr/local/lib/python3.11/dist-packages (from sympy==1.13.1->torch>=1.3->pytorch-tabnet) (1.3.0)\n",
            "Requirement already satisfied: MarkupSafe>=2.0 in /usr/local/lib/python3.11/dist-packages (from jinja2->torch>=1.3->pytorch-tabnet) (3.0.2)\n"
          ]
        }
      ]
    },
    {
      "cell_type": "code",
      "source": [
        "import numpy as np\n",
        "from pytorch_tabnet.tab_model import TabNetClassifier\n",
        "from sklearn.metrics import classification_report\n",
        "import torch\n",
        "from sklearn.preprocessing import LabelEncoder"
      ],
      "metadata": {
        "id": "cUg-KT7p-K6O"
      },
      "execution_count": 258,
      "outputs": []
    },
    {
      "cell_type": "code",
      "source": [
        "le = LabelEncoder()\n",
        "y_train = le.fit_transform(y_train)\n",
        "y_test = le.transform(y_test)"
      ],
      "metadata": {
        "id": "5TDh6XIU-ky5"
      },
      "execution_count": 259,
      "outputs": []
    },
    {
      "cell_type": "code",
      "source": [
        "# 데이터 넘파이 배열로 바꿈\n",
        "X_train = np.array(X_train).astype(np.float32)\n",
        "X_test = np.array(X_test).astype(np.float32)\n",
        "y_train = np.array(y_train).astype(int)\n",
        "y_test = np.array(y_test).astype(int)"
      ],
      "metadata": {
        "id": "Ldsy0JX6-MYb"
      },
      "execution_count": 260,
      "outputs": []
    },
    {
      "cell_type": "code",
      "source": [
        "# gpu가능 여부\n",
        "device = torch.device(\"cuda\" if torch.cuda.is_available() else \"cpu\")\n",
        "print(f\"Using device: {device}\")"
      ],
      "metadata": {
        "colab": {
          "base_uri": "https://localhost:8080/"
        },
        "id": "n8Jn-R6q-Rdm",
        "outputId": "11771c46-88cb-46f4-c12f-968eaa4a013c"
      },
      "execution_count": 261,
      "outputs": [
        {
          "output_type": "stream",
          "name": "stdout",
          "text": [
            "Using device: cpu\n"
          ]
        }
      ]
    },
    {
      "cell_type": "code",
      "source": [
        "# 모델 구현 및 학습\n",
        "clf = TabNetClassifier(\n",
        "    device_name=device.type,\n",
        "    n_d=64,\n",
        "    n_a=64,\n",
        "    n_steps=5,\n",
        "    gamma=1.5,\n",
        "    lambda_sparse=1e-4,\n",
        "    optimizer_fn=torch.optim.Adam,\n",
        "    optimizer_params=dict(lr=2e-2),\n",
        "    scheduler_params={\"step_size\":10, \"gamma\":0.9},\n",
        "    scheduler_fn=torch.optim.lr_scheduler.StepLR,\n",
        "    verbose=1\n",
        ")\n",
        "\n",
        "clf.fit(\n",
        "    X_train=X_train, y_train=y_train,\n",
        "    eval_set=[(X_test, y_test)],\n",
        "    eval_name=[\"test\"],\n",
        "    eval_metric=[\"accuracy\"],\n",
        "    max_epochs=100,\n",
        "    patience=10,\n",
        "    batch_size=256,\n",
        "    virtual_batch_size=128,\n",
        "    num_workers=0,\n",
        "    drop_last=False\n",
        ")"
      ],
      "metadata": {
        "colab": {
          "base_uri": "https://localhost:8080/"
        },
        "id": "L4yseMhV-WuP",
        "outputId": "c55a7c83-f31e-4c03-a105-6d7e1d0ff9fe"
      },
      "execution_count": 262,
      "outputs": [
        {
          "output_type": "stream",
          "name": "stderr",
          "text": [
            "/usr/local/lib/python3.11/dist-packages/pytorch_tabnet/abstract_model.py:82: UserWarning: Device used : cpu\n",
            "  warnings.warn(f\"Device used : {self.device}\")\n"
          ]
        },
        {
          "output_type": "stream",
          "name": "stdout",
          "text": [
            "epoch 0  | loss: 0.83758 | test_accuracy: 0.4898  |  0:00:01s\n",
            "epoch 1  | loss: 0.37828 | test_accuracy: 0.46939 |  0:00:02s\n",
            "epoch 2  | loss: 0.37995 | test_accuracy: 0.44388 |  0:00:03s\n",
            "epoch 3  | loss: 0.1309  | test_accuracy: 0.42347 |  0:00:03s\n",
            "epoch 4  | loss: 0.04893 | test_accuracy: 0.42347 |  0:00:04s\n",
            "epoch 5  | loss: 0.03625 | test_accuracy: 0.47449 |  0:00:05s\n",
            "epoch 6  | loss: 0.01171 | test_accuracy: 0.46939 |  0:00:07s\n",
            "epoch 7  | loss: 0.02636 | test_accuracy: 0.56122 |  0:00:07s\n",
            "epoch 8  | loss: 0.01302 | test_accuracy: 0.60204 |  0:00:08s\n",
            "epoch 9  | loss: 0.01685 | test_accuracy: 0.55102 |  0:00:09s\n",
            "epoch 10 | loss: 0.00631 | test_accuracy: 0.54592 |  0:00:10s\n",
            "epoch 11 | loss: 0.02351 | test_accuracy: 0.64796 |  0:00:10s\n",
            "epoch 12 | loss: 0.02349 | test_accuracy: 0.65816 |  0:00:11s\n",
            "epoch 13 | loss: 0.00767 | test_accuracy: 0.63265 |  0:00:13s\n",
            "epoch 14 | loss: 0.00405 | test_accuracy: 0.58163 |  0:00:14s\n",
            "epoch 15 | loss: 0.00217 | test_accuracy: 0.58163 |  0:00:16s\n",
            "epoch 16 | loss: 0.03372 | test_accuracy: 0.62245 |  0:00:16s\n",
            "epoch 17 | loss: 0.01847 | test_accuracy: 0.65816 |  0:00:17s\n",
            "epoch 18 | loss: 0.00139 | test_accuracy: 0.66327 |  0:00:17s\n",
            "epoch 19 | loss: 0.00369 | test_accuracy: 0.65816 |  0:00:18s\n",
            "epoch 20 | loss: 0.03175 | test_accuracy: 0.64796 |  0:00:19s\n",
            "epoch 21 | loss: 0.01605 | test_accuracy: 0.62245 |  0:00:20s\n",
            "epoch 22 | loss: 0.02533 | test_accuracy: 0.60714 |  0:00:21s\n",
            "epoch 23 | loss: 0.04319 | test_accuracy: 0.58163 |  0:00:21s\n",
            "epoch 24 | loss: 0.0448  | test_accuracy: 0.58163 |  0:00:22s\n",
            "epoch 25 | loss: 0.01719 | test_accuracy: 0.68878 |  0:00:22s\n",
            "epoch 26 | loss: 0.00153 | test_accuracy: 0.80102 |  0:00:22s\n",
            "epoch 27 | loss: 0.00106 | test_accuracy: 0.83673 |  0:00:23s\n",
            "epoch 28 | loss: 0.01784 | test_accuracy: 0.80102 |  0:00:23s\n",
            "epoch 29 | loss: 0.00169 | test_accuracy: 0.78061 |  0:00:24s\n",
            "epoch 30 | loss: 0.0115  | test_accuracy: 0.85204 |  0:00:24s\n",
            "epoch 31 | loss: 0.00133 | test_accuracy: 0.88776 |  0:00:24s\n",
            "epoch 32 | loss: 0.00019 | test_accuracy: 0.95918 |  0:00:25s\n",
            "epoch 33 | loss: 0.00014 | test_accuracy: 1.0     |  0:00:25s\n",
            "epoch 34 | loss: 0.00063 | test_accuracy: 1.0     |  0:00:25s\n",
            "epoch 35 | loss: 0.00019 | test_accuracy: 1.0     |  0:00:26s\n",
            "epoch 36 | loss: 0.00419 | test_accuracy: 1.0     |  0:00:26s\n",
            "epoch 37 | loss: 0.00072 | test_accuracy: 1.0     |  0:00:27s\n",
            "epoch 38 | loss: 0.01555 | test_accuracy: 1.0     |  0:00:27s\n",
            "epoch 39 | loss: 0.00143 | test_accuracy: 1.0     |  0:00:28s\n",
            "epoch 40 | loss: 0.00103 | test_accuracy: 1.0     |  0:00:28s\n",
            "epoch 41 | loss: 0.0191  | test_accuracy: 1.0     |  0:00:29s\n",
            "epoch 42 | loss: 0.06648 | test_accuracy: 1.0     |  0:00:29s\n",
            "epoch 43 | loss: 0.01271 | test_accuracy: 1.0     |  0:00:30s\n",
            "\n",
            "Early stopping occurred at epoch 43 with best_epoch = 33 and best_test_accuracy = 1.0\n"
          ]
        },
        {
          "output_type": "stream",
          "name": "stderr",
          "text": [
            "/usr/local/lib/python3.11/dist-packages/pytorch_tabnet/callbacks.py:172: UserWarning: Best weights from best epoch are automatically used!\n",
            "  warnings.warn(wrn_msg)\n"
          ]
        }
      ]
    },
    {
      "cell_type": "code",
      "source": [
        "# 평가\n",
        "y_pred = clf.predict(X_test)\n",
        "\n",
        "print(\"Classification Report:\")\n",
        "print(classification_report(y_test, y_pred))"
      ],
      "metadata": {
        "colab": {
          "base_uri": "https://localhost:8080/"
        },
        "id": "u39JqKIO-osB",
        "outputId": "eb2d5d6e-fba4-44d2-da34-5afb11f2f315"
      },
      "execution_count": 263,
      "outputs": [
        {
          "output_type": "stream",
          "name": "stdout",
          "text": [
            "Classification Report:\n",
            "              precision    recall  f1-score   support\n",
            "\n",
            "           0       1.00      1.00      1.00       118\n",
            "           1       1.00      1.00      1.00        78\n",
            "\n",
            "    accuracy                           1.00       196\n",
            "   macro avg       1.00      1.00      1.00       196\n",
            "weighted avg       1.00      1.00      1.00       196\n",
            "\n"
          ]
        }
      ]
    },
    {
      "cell_type": "code",
      "source": [
        "# 예측 확률\n",
        "proba = clf.predict_proba(X_test)\n",
        "\n",
        "recovered_idx = list(le.classes_).index(\"Recovered\")\n",
        "\n",
        "# 치료 가능성\n",
        "recovered_proba = proba[:, recovered_idx]"
      ],
      "metadata": {
        "id": "5QuwesOc_bkB"
      },
      "execution_count": 264,
      "outputs": []
    },
    {
      "cell_type": "code",
      "source": [
        "import matplotlib.pyplot as plt\n",
        "\n",
        "plt.figure(figsize=(8, 5))\n",
        "plt.hist(recovered_proba, bins=30, color='skyblue', edgecolor='black')\n",
        "plt.title(\"Distribution of Predicted Recovery Probability\")\n",
        "plt.xlabel(\"Predicted Probability of Recovery\")\n",
        "plt.ylabel(\"Number of Patients\")\n",
        "plt.grid(True)\n",
        "plt.show()\n"
      ],
      "metadata": {
        "colab": {
          "base_uri": "https://localhost:8080/",
          "height": 487
        },
        "id": "EICIlYHQ_gA9",
        "outputId": "b572fa27-63c8-4f72-f959-531dcbea1b45"
      },
      "execution_count": 265,
      "outputs": [
        {
          "output_type": "display_data",
          "data": {
            "text/plain": [
              "<Figure size 800x500 with 1 Axes>"
            ],
            "image/png": "[encoded data removed]"
          },
          "metadata": {}
        }
      ]
    },
    {
      "cell_type": "code",
      "source": [
        "# 시각화\n",
        "plt.figure(figsize=(10, 5))\n",
        "plt.bar(range(len(clf.feature_importances_)), clf.feature_importances_)\n",
        "plt.title(\"Feature Importances\")\n",
        "plt.show()"
      ],
      "metadata": {
        "colab": {
          "base_uri": "https://localhost:8080/",
          "height": 468
        },
        "id": "PsywCPzh-z1I",
        "outputId": "0767db87-7722-48ce-dd3e-0b142806d870"
      },
      "execution_count": 266,
      "outputs": [
        {
          "output_type": "display_data",
          "data": {
            "text/plain": [
              "<Figure size 1000x500 with 1 Axes>"
            ],
            "image/png": "[encoded data removed]"
          },
          "metadata": {}
        }
      ]
    },
    {
      "cell_type": "markdown",
      "source": [
        "## * 문제점 : MLP와 역시 과적합 문제 발생\n",
        "\n",
        "1. SMOTE을 사용하는 방식의 오류일 수 있으므로 올바르게 조정한다\n",
        "2. 하이퍼파라미터 조정 방식으로 문제 해결"
      ],
      "metadata": {
        "id": "sJfwEVseql6q"
      }
    },
    {
      "cell_type": "code",
      "source": [
        "from sklearn.model_selection import train_test_split\n",
        "from imblearn.over_sampling import SMOTE\n",
        "\n",
        "X_train, X_test, y_train, y_test = train_test_split(X, y, stratify=y, test_size=0.2, random_state=42)\n",
        "\n",
        "smote = SMOTE(random_state=42)\n",
        "X_train_res, y_train_res = smote.fit_resample(X_train, y_train)"
      ],
      "metadata": {
        "id": "kmz-3g8uqlv1"
      },
      "execution_count": 269,
      "outputs": []
    },
    {
      "cell_type": "code",
      "source": [
        "from pytorch_tabnet.tab_model import TabNetClassifier\n",
        "\n",
        "clf = TabNetClassifier(\n",
        "    n_d=8, n_a=8,          # 피처 처리 단위 감소 (기본은 64)\n",
        "    n_steps=3,             # 레이어 깊이 줄임\n",
        "    gamma=1.3,             # 주의 집중 계수\n",
        "    lambda_sparse=1e-4,    # 희소성 유도\n",
        "    optimizer_params=dict(lr=2e-2),  # 과적합 방지를 위한 학습률 조정\n",
        "    scheduler_params={\"step_size\":10, \"gamma\":0.9},\n",
        "    scheduler_fn=torch.optim.lr_scheduler.StepLR,\n",
        "    mask_type='entmax',    # 일반적으로 entmax가 softmax보다 안정적\n",
        "    verbose=1,\n",
        "    seed=42\n",
        ")"
      ],
      "metadata": {
        "colab": {
          "base_uri": "https://localhost:8080/"
        },
        "id": "Cm3o9wuPq6oC",
        "outputId": "fefeeadf-73e8-4e98-a4bd-447e8dd64896"
      },
      "execution_count": 270,
      "outputs": [
        {
          "output_type": "stream",
          "name": "stderr",
          "text": [
            "/usr/local/lib/python3.11/dist-packages/pytorch_tabnet/abstract_model.py:82: UserWarning: Device used : cpu\n",
            "  warnings.warn(f\"Device used : {self.device}\")\n"
          ]
        }
      ]
    },
    {
      "cell_type": "markdown",
      "source": [
        "## * 모델 학습 오류로 변환 다시 실행"
      ],
      "metadata": {
        "id": "h2L2KiNcrhpr"
      }
    },
    {
      "cell_type": "code",
      "source": [
        "print(X_train_res.dtypes)\n",
        "print(X_train_res.isnull().sum())  # 결측치도 확인\n",
        "\n",
        "# 숫자형으로 변환 (예: 범주형 -> 숫자형 인코딩)\n",
        "# 예를 들어 Label Encoding\n",
        "from sklearn.preprocessing import LabelEncoder\n",
        "\n",
        "for col in X_train_res.columns:\n",
        "    if X_train_res[col].dtype == 'object':\n",
        "        le = LabelEncoder()\n",
        "        X_train_res[col] = le.fit_transform(X_train_res[col].astype(str))\n",
        "\n",
        "# 결측치 처리도 필요하면 (평균 대체 등)\n",
        "X_train_res = X_train_res.fillna(0)\n",
        "\n",
        "# 테스트 데이터도 동일하게 처리\n",
        "for col in X_test.columns:\n",
        "    if X_test[col].dtype == 'object':\n",
        "        le = LabelEncoder()\n",
        "        X_test[col] = le.fit_transform(X_test[col].astype(str))\n",
        "X_test = X_test.fillna(0)"
      ],
      "metadata": {
        "colab": {
          "base_uri": "https://localhost:8080/"
        },
        "id": "TG32qGaIrdtE",
        "outputId": "8a0f6fbc-02a8-46d0-87b6-ba2a18cfc81d"
      },
      "execution_count": 274,
      "outputs": [
        {
          "output_type": "stream",
          "name": "stdout",
          "text": [
            "Age                                               int64\n",
            "Cost                                              int64\n",
            "Length_of_Stay                                    int64\n",
            "Satisfaction                                      int64\n",
            "Gender_Female                                      bool\n",
            "Gender_Male                                        bool\n",
            "Condition_Allergic Reaction                        bool\n",
            "Condition_Appendicitis                             bool\n",
            "Condition_Cancer                                   bool\n",
            "Condition_Childbirth                               bool\n",
            "Condition_Diabetes                                 bool\n",
            "Condition_Fractured Arm                            bool\n",
            "Condition_Fractured Leg                            bool\n",
            "Condition_Heart Attack                             bool\n",
            "Condition_Heart Disease                            bool\n",
            "Condition_Hypertension                             bool\n",
            "Condition_Kidney Stones                            bool\n",
            "Condition_Osteoarthritis                           bool\n",
            "Condition_Prostate Cancer                          bool\n",
            "Condition_Respiratory Infection                    bool\n",
            "Condition_Stroke                                   bool\n",
            "Procedure_Angioplasty                              bool\n",
            "Procedure_Antibiotics and Rest                     bool\n",
            "Procedure_Appendectomy                             bool\n",
            "Procedure_CT Scan and Medication                   bool\n",
            "Procedure_Cardiac Catheterization                  bool\n",
            "Procedure_Cast and Physical Therapy                bool\n",
            "Procedure_Delivery and Postnatal Care              bool\n",
            "Procedure_Epinephrine Injection                    bool\n",
            "Procedure_Insulin Therapy                          bool\n",
            "Procedure_Lithotripsy                              bool\n",
            "Procedure_Medication and Counseling                bool\n",
            "Procedure_Physical Therapy and Pain Management     bool\n",
            "Procedure_Radiation Therapy                        bool\n",
            "Procedure_Surgery and Chemotherapy                 bool\n",
            "Procedure_X-Ray and Splint                         bool\n",
            "Readmission_No                                     bool\n",
            "Readmission_Yes                                    bool\n",
            "dtype: object\n",
            "Age                                               0\n",
            "Cost                                              0\n",
            "Length_of_Stay                                    0\n",
            "Satisfaction                                      0\n",
            "Gender_Female                                     0\n",
            "Gender_Male                                       0\n",
            "Condition_Allergic Reaction                       0\n",
            "Condition_Appendicitis                            0\n",
            "Condition_Cancer                                  0\n",
            "Condition_Childbirth                              0\n",
            "Condition_Diabetes                                0\n",
            "Condition_Fractured Arm                           0\n",
            "Condition_Fractured Leg                           0\n",
            "Condition_Heart Attack                            0\n",
            "Condition_Heart Disease                           0\n",
            "Condition_Hypertension                            0\n",
            "Condition_Kidney Stones                           0\n",
            "Condition_Osteoarthritis                          0\n",
            "Condition_Prostate Cancer                         0\n",
            "Condition_Respiratory Infection                   0\n",
            "Condition_Stroke                                  0\n",
            "Procedure_Angioplasty                             0\n",
            "Procedure_Antibiotics and Rest                    0\n",
            "Procedure_Appendectomy                            0\n",
            "Procedure_CT Scan and Medication                  0\n",
            "Procedure_Cardiac Catheterization                 0\n",
            "Procedure_Cast and Physical Therapy               0\n",
            "Procedure_Delivery and Postnatal Care             0\n",
            "Procedure_Epinephrine Injection                   0\n",
            "Procedure_Insulin Therapy                         0\n",
            "Procedure_Lithotripsy                             0\n",
            "Procedure_Medication and Counseling               0\n",
            "Procedure_Physical Therapy and Pain Management    0\n",
            "Procedure_Radiation Therapy                       0\n",
            "Procedure_Surgery and Chemotherapy                0\n",
            "Procedure_X-Ray and Splint                        0\n",
            "Readmission_No                                    0\n",
            "Readmission_Yes                                   0\n",
            "dtype: int64\n"
          ]
        }
      ]
    },
    {
      "cell_type": "code",
      "source": [
        "print(X_train_res.dtypes)        # 각 컬럼 데이터 타입 확인\n",
        "print(X_train_res.isnull().sum())  # 결측치 체크\n",
        "print(X_train_res.head())"
      ],
      "metadata": {
        "colab": {
          "base_uri": "https://localhost:8080/"
        },
        "id": "WhHcqCA1r69s",
        "outputId": "67503368-b8f2-4b58-d7b6-a7f51e812b45"
      },
      "execution_count": 277,
      "outputs": [
        {
          "output_type": "stream",
          "name": "stdout",
          "text": [
            "Age                                               int64\n",
            "Cost                                              int64\n",
            "Length_of_Stay                                    int64\n",
            "Satisfaction                                      int64\n",
            "Gender_Female                                      bool\n",
            "Gender_Male                                        bool\n",
            "Condition_Allergic Reaction                        bool\n",
            "Condition_Appendicitis                             bool\n",
            "Condition_Cancer                                   bool\n",
            "Condition_Childbirth                               bool\n",
            "Condition_Diabetes                                 bool\n",
            "Condition_Fractured Arm                            bool\n",
            "Condition_Fractured Leg                            bool\n",
            "Condition_Heart Attack                             bool\n",
            "Condition_Heart Disease                            bool\n",
            "Condition_Hypertension                             bool\n",
            "Condition_Kidney Stones                            bool\n",
            "Condition_Osteoarthritis                           bool\n",
            "Condition_Prostate Cancer                          bool\n",
            "Condition_Respiratory Infection                    bool\n",
            "Condition_Stroke                                   bool\n",
            "Procedure_Angioplasty                              bool\n",
            "Procedure_Antibiotics and Rest                     bool\n",
            "Procedure_Appendectomy                             bool\n",
            "Procedure_CT Scan and Medication                   bool\n",
            "Procedure_Cardiac Catheterization                  bool\n",
            "Procedure_Cast and Physical Therapy                bool\n",
            "Procedure_Delivery and Postnatal Care              bool\n",
            "Procedure_Epinephrine Injection                    bool\n",
            "Procedure_Insulin Therapy                          bool\n",
            "Procedure_Lithotripsy                              bool\n",
            "Procedure_Medication and Counseling                bool\n",
            "Procedure_Physical Therapy and Pain Management     bool\n",
            "Procedure_Radiation Therapy                        bool\n",
            "Procedure_Surgery and Chemotherapy                 bool\n",
            "Procedure_X-Ray and Splint                         bool\n",
            "Readmission_No                                     bool\n",
            "Readmission_Yes                                    bool\n",
            "dtype: object\n",
            "Age                                               0\n",
            "Cost                                              0\n",
            "Length_of_Stay                                    0\n",
            "Satisfaction                                      0\n",
            "Gender_Female                                     0\n",
            "Gender_Male                                       0\n",
            "Condition_Allergic Reaction                       0\n",
            "Condition_Appendicitis                            0\n",
            "Condition_Cancer                                  0\n",
            "Condition_Childbirth                              0\n",
            "Condition_Diabetes                                0\n",
            "Condition_Fractured Arm                           0\n",
            "Condition_Fractured Leg                           0\n",
            "Condition_Heart Attack                            0\n",
            "Condition_Heart Disease                           0\n",
            "Condition_Hypertension                            0\n",
            "Condition_Kidney Stones                           0\n",
            "Condition_Osteoarthritis                          0\n",
            "Condition_Prostate Cancer                         0\n",
            "Condition_Respiratory Infection                   0\n",
            "Condition_Stroke                                  0\n",
            "Procedure_Angioplasty                             0\n",
            "Procedure_Antibiotics and Rest                    0\n",
            "Procedure_Appendectomy                            0\n",
            "Procedure_CT Scan and Medication                  0\n",
            "Procedure_Cardiac Catheterization                 0\n",
            "Procedure_Cast and Physical Therapy               0\n",
            "Procedure_Delivery and Postnatal Care             0\n",
            "Procedure_Epinephrine Injection                   0\n",
            "Procedure_Insulin Therapy                         0\n",
            "Procedure_Lithotripsy                             0\n",
            "Procedure_Medication and Counseling               0\n",
            "Procedure_Physical Therapy and Pain Management    0\n",
            "Procedure_Radiation Therapy                       0\n",
            "Procedure_Surgery and Chemotherapy                0\n",
            "Procedure_X-Ray and Splint                        0\n",
            "Readmission_No                                    0\n",
            "Readmission_Yes                                   0\n",
            "dtype: int64\n",
            "   Age   Cost  Length_of_Stay  Satisfaction  Gender_Female  Gender_Male  \\\n",
            "0   68   1000              36             4          False         True   \n",
            "1   72   1000              25             4          False         True   \n",
            "2   78  10000              71             2          False         True   \n",
            "3   32  12000               7             4           True        False   \n",
            "4   55   6000              40             3          False         True   \n",
            "\n",
            "   Condition_Allergic Reaction  Condition_Appendicitis  Condition_Cancer  \\\n",
            "0                        False                   False             False   \n",
            "1                        False                   False             False   \n",
            "2                        False                   False             False   \n",
            "3                        False                   False             False   \n",
            "4                        False                   False             False   \n",
            "\n",
            "   Condition_Childbirth  ...  Procedure_Epinephrine Injection  \\\n",
            "0                 False  ...                            False   \n",
            "1                 False  ...                            False   \n",
            "2                 False  ...                            False   \n",
            "3                  True  ...                            False   \n",
            "4                 False  ...                            False   \n",
            "\n",
            "   Procedure_Insulin Therapy  Procedure_Lithotripsy  \\\n",
            "0                      False                  False   \n",
            "1                      False                  False   \n",
            "2                      False                  False   \n",
            "3                      False                  False   \n",
            "4                      False                   True   \n",
            "\n",
            "   Procedure_Medication and Counseling  \\\n",
            "0                                 True   \n",
            "1                                 True   \n",
            "2                                False   \n",
            "3                                False   \n",
            "4                                False   \n",
            "\n",
            "   Procedure_Physical Therapy and Pain Management  \\\n",
            "0                                           False   \n",
            "1                                           False   \n",
            "2                                           False   \n",
            "3                                           False   \n",
            "4                                           False   \n",
            "\n",
            "   Procedure_Radiation Therapy  Procedure_Surgery and Chemotherapy  \\\n",
            "0                        False                               False   \n",
            "1                        False                               False   \n",
            "2                        False                               False   \n",
            "3                        False                               False   \n",
            "4                        False                               False   \n",
            "\n",
            "   Procedure_X-Ray and Splint  Readmission_No  Readmission_Yes  \n",
            "0                       False            True            False  \n",
            "1                       False            True            False  \n",
            "2                       False            True            False  \n",
            "3                       False            True            False  \n",
            "4                       False            True            False  \n",
            "\n",
            "[5 rows x 38 columns]\n"
          ]
        }
      ]
    },
    {
      "cell_type": "code",
      "source": [
        "from sklearn.preprocessing import LabelEncoder\n",
        "\n",
        "for col in X_train_res.columns:\n",
        "    if X_train_res[col].dtype == 'object':\n",
        "        le = LabelEncoder()\n",
        "        X_train_res[col] = le.fit_transform(X_train_res[col].astype(str))\n",
        "\n",
        "for col in X_test.columns:\n",
        "    if X_test[col].dtype == 'object':\n",
        "        le = LabelEncoder()\n",
        "        X_test[col] = le.fit_transform(X_test[col].astype(str))"
      ],
      "metadata": {
        "id": "bGHlfnpfr91v"
      },
      "execution_count": 278,
      "outputs": []
    },
    {
      "cell_type": "code",
      "source": [
        "X_train_res = X_train_res.fillna(0)\n",
        "X_test = X_test.fillna(0)"
      ],
      "metadata": {
        "id": "JdXr7PHTr_Qb"
      },
      "execution_count": 279,
      "outputs": []
    },
    {
      "cell_type": "code",
      "source": [
        "print(X_train_res.dtypes)  # 각 컬럼 타입 꼼꼼히 확인\n",
        "print(X_test.dtypes)"
      ],
      "metadata": {
        "colab": {
          "base_uri": "https://localhost:8080/"
        },
        "id": "0SLN8IJhsM04",
        "outputId": "c2a6eeb2-7860-4291-bffb-511d75e6e1a9"
      },
      "execution_count": 290,
      "outputs": [
        {
          "output_type": "stream",
          "name": "stdout",
          "text": [
            "Age                                               int64\n",
            "Cost                                              int64\n",
            "Length_of_Stay                                    int64\n",
            "Satisfaction                                      int64\n",
            "Gender_Female                                     int64\n",
            "Gender_Male                                       int64\n",
            "Condition_Allergic Reaction                       int64\n",
            "Condition_Appendicitis                            int64\n",
            "Condition_Cancer                                  int64\n",
            "Condition_Childbirth                              int64\n",
            "Condition_Diabetes                                int64\n",
            "Condition_Fractured Arm                           int64\n",
            "Condition_Fractured Leg                           int64\n",
            "Condition_Heart Attack                            int64\n",
            "Condition_Heart Disease                           int64\n",
            "Condition_Hypertension                            int64\n",
            "Condition_Kidney Stones                           int64\n",
            "Condition_Osteoarthritis                          int64\n",
            "Condition_Prostate Cancer                         int64\n",
            "Condition_Respiratory Infection                   int64\n",
            "Condition_Stroke                                  int64\n",
            "Procedure_Angioplasty                             int64\n",
            "Procedure_Antibiotics and Rest                    int64\n",
            "Procedure_Appendectomy                            int64\n",
            "Procedure_CT Scan and Medication                  int64\n",
            "Procedure_Cardiac Catheterization                 int64\n",
            "Procedure_Cast and Physical Therapy               int64\n",
            "Procedure_Delivery and Postnatal Care             int64\n",
            "Procedure_Epinephrine Injection                   int64\n",
            "Procedure_Insulin Therapy                         int64\n",
            "Procedure_Lithotripsy                             int64\n",
            "Procedure_Medication and Counseling               int64\n",
            "Procedure_Physical Therapy and Pain Management    int64\n",
            "Procedure_Radiation Therapy                       int64\n",
            "Procedure_Surgery and Chemotherapy                int64\n",
            "Procedure_X-Ray and Splint                        int64\n",
            "Readmission_No                                    int64\n",
            "Readmission_Yes                                   int64\n",
            "dtype: object\n",
            "Age                                               int64\n",
            "Cost                                              int64\n",
            "Length_of_Stay                                    int64\n",
            "Satisfaction                                      int64\n",
            "Gender_Female                                      bool\n",
            "Gender_Male                                        bool\n",
            "Condition_Allergic Reaction                        bool\n",
            "Condition_Appendicitis                             bool\n",
            "Condition_Cancer                                   bool\n",
            "Condition_Childbirth                               bool\n",
            "Condition_Diabetes                                 bool\n",
            "Condition_Fractured Arm                            bool\n",
            "Condition_Fractured Leg                            bool\n",
            "Condition_Heart Attack                             bool\n",
            "Condition_Heart Disease                            bool\n",
            "Condition_Hypertension                             bool\n",
            "Condition_Kidney Stones                            bool\n",
            "Condition_Osteoarthritis                           bool\n",
            "Condition_Prostate Cancer                          bool\n",
            "Condition_Respiratory Infection                    bool\n",
            "Condition_Stroke                                   bool\n",
            "Procedure_Angioplasty                              bool\n",
            "Procedure_Antibiotics and Rest                     bool\n",
            "Procedure_Appendectomy                             bool\n",
            "Procedure_CT Scan and Medication                   bool\n",
            "Procedure_Cardiac Catheterization                  bool\n",
            "Procedure_Cast and Physical Therapy                bool\n",
            "Procedure_Delivery and Postnatal Care              bool\n",
            "Procedure_Epinephrine Injection                    bool\n",
            "Procedure_Insulin Therapy                          bool\n",
            "Procedure_Lithotripsy                              bool\n",
            "Procedure_Medication and Counseling                bool\n",
            "Procedure_Physical Therapy and Pain Management     bool\n",
            "Procedure_Radiation Therapy                        bool\n",
            "Procedure_Surgery and Chemotherapy                 bool\n",
            "Procedure_X-Ray and Splint                         bool\n",
            "Readmission_No                                     bool\n",
            "Readmission_Yes                                    bool\n",
            "dtype: object\n"
          ]
        }
      ]
    },
    {
      "cell_type": "code",
      "source": [
        "bool_cols = X_train_res.select_dtypes(include=['bool']).columns\n",
        "X_train_res[bool_cols] = X_train_res[bool_cols].astype(int)\n",
        "X_test[bool_cols] = X_test[bool_cols].astype(int)"
      ],
      "metadata": {
        "id": "1mPpyUwpsc6Z"
      },
      "execution_count": 291,
      "outputs": []
    },
    {
      "cell_type": "code",
      "source": [
        "print(X_train_res.dtypes)  # bool이 int로 바뀌었는지 확인\n",
        "print(X_test.dtypes)"
      ],
      "metadata": {
        "colab": {
          "base_uri": "https://localhost:8080/"
        },
        "id": "rl-yu09EsetP",
        "outputId": "e2d2fb19-96a2-4af8-ebcb-cd2ba1c1cd65"
      },
      "execution_count": 289,
      "outputs": [
        {
          "output_type": "stream",
          "name": "stdout",
          "text": [
            "Age                                               int64\n",
            "Cost                                              int64\n",
            "Length_of_Stay                                    int64\n",
            "Satisfaction                                      int64\n",
            "Gender_Female                                     int64\n",
            "Gender_Male                                       int64\n",
            "Condition_Allergic Reaction                       int64\n",
            "Condition_Appendicitis                            int64\n",
            "Condition_Cancer                                  int64\n",
            "Condition_Childbirth                              int64\n",
            "Condition_Diabetes                                int64\n",
            "Condition_Fractured Arm                           int64\n",
            "Condition_Fractured Leg                           int64\n",
            "Condition_Heart Attack                            int64\n",
            "Condition_Heart Disease                           int64\n",
            "Condition_Hypertension                            int64\n",
            "Condition_Kidney Stones                           int64\n",
            "Condition_Osteoarthritis                          int64\n",
            "Condition_Prostate Cancer                         int64\n",
            "Condition_Respiratory Infection                   int64\n",
            "Condition_Stroke                                  int64\n",
            "Procedure_Angioplasty                             int64\n",
            "Procedure_Antibiotics and Rest                    int64\n",
            "Procedure_Appendectomy                            int64\n",
            "Procedure_CT Scan and Medication                  int64\n",
            "Procedure_Cardiac Catheterization                 int64\n",
            "Procedure_Cast and Physical Therapy               int64\n",
            "Procedure_Delivery and Postnatal Care             int64\n",
            "Procedure_Epinephrine Injection                   int64\n",
            "Procedure_Insulin Therapy                         int64\n",
            "Procedure_Lithotripsy                             int64\n",
            "Procedure_Medication and Counseling               int64\n",
            "Procedure_Physical Therapy and Pain Management    int64\n",
            "Procedure_Radiation Therapy                       int64\n",
            "Procedure_Surgery and Chemotherapy                int64\n",
            "Procedure_X-Ray and Splint                        int64\n",
            "Readmission_No                                    int64\n",
            "Readmission_Yes                                   int64\n",
            "dtype: object\n",
            "Age                                               int64\n",
            "Cost                                              int64\n",
            "Length_of_Stay                                    int64\n",
            "Satisfaction                                      int64\n",
            "Gender_Female                                      bool\n",
            "Gender_Male                                        bool\n",
            "Condition_Allergic Reaction                        bool\n",
            "Condition_Appendicitis                             bool\n",
            "Condition_Cancer                                   bool\n",
            "Condition_Childbirth                               bool\n",
            "Condition_Diabetes                                 bool\n",
            "Condition_Fractured Arm                            bool\n",
            "Condition_Fractured Leg                            bool\n",
            "Condition_Heart Attack                             bool\n",
            "Condition_Heart Disease                            bool\n",
            "Condition_Hypertension                             bool\n",
            "Condition_Kidney Stones                            bool\n",
            "Condition_Osteoarthritis                           bool\n",
            "Condition_Prostate Cancer                          bool\n",
            "Condition_Respiratory Infection                    bool\n",
            "Condition_Stroke                                   bool\n",
            "Procedure_Angioplasty                              bool\n",
            "Procedure_Antibiotics and Rest                     bool\n",
            "Procedure_Appendectomy                             bool\n",
            "Procedure_CT Scan and Medication                   bool\n",
            "Procedure_Cardiac Catheterization                  bool\n",
            "Procedure_Cast and Physical Therapy                bool\n",
            "Procedure_Delivery and Postnatal Care              bool\n",
            "Procedure_Epinephrine Injection                    bool\n",
            "Procedure_Insulin Therapy                          bool\n",
            "Procedure_Lithotripsy                              bool\n",
            "Procedure_Medication and Counseling                bool\n",
            "Procedure_Physical Therapy and Pain Management     bool\n",
            "Procedure_Radiation Therapy                        bool\n",
            "Procedure_Surgery and Chemotherapy                 bool\n",
            "Procedure_X-Ray and Splint                         bool\n",
            "Readmission_No                                     bool\n",
            "Readmission_Yes                                    bool\n",
            "dtype: object\n"
          ]
        }
      ]
    },
    {
      "cell_type": "code",
      "source": [
        "clf.fit(\n",
        "    X_train_res.values, y_train_res.values,\n",
        "    eval_set=[(X_train_res.values, y_train_res.values), (X_test.values, y_test.values)],\n",
        "    eval_name=['train', 'valid'],\n",
        "    eval_metric=['accuracy'],\n",
        "    max_epochs=100,\n",
        "    patience=20,\n",
        "    batch_size=256,\n",
        "    virtual_batch_size=128,\n",
        "    num_workers=0,\n",
        "    drop_last=False\n",
        ")"
      ],
      "metadata": {
        "colab": {
          "base_uri": "https://localhost:8080/"
        },
        "id": "EGQW7xfyrE_l",
        "outputId": "c8b79a80-8630-4846-8d7a-e0b9f304e5a2"
      },
      "execution_count": 284,
      "outputs": [
        {
          "output_type": "stream",
          "name": "stdout",
          "text": [
            "epoch 0  | loss: 0.76786 | train_accuracy: 0.37738 | valid_accuracy: 0.28934 |  0:00:00s\n",
            "epoch 1  | loss: 0.41146 | train_accuracy: 0.30973 | valid_accuracy: 0.30964 |  0:00:00s\n",
            "epoch 2  | loss: 0.18341 | train_accuracy: 0.43235 | valid_accuracy: 0.41624 |  0:00:00s\n",
            "epoch 3  | loss: 0.06209 | train_accuracy: 0.67653 | valid_accuracy: 0.62944 |  0:00:01s\n",
            "epoch 4  | loss: 0.02219 | train_accuracy: 0.72199 | valid_accuracy: 0.63452 |  0:00:01s\n",
            "epoch 5  | loss: 0.00407 | train_accuracy: 0.72516 | valid_accuracy: 0.69036 |  0:00:02s\n",
            "epoch 6  | loss: 0.00154 | train_accuracy: 0.73044 | valid_accuracy: 0.70051 |  0:00:02s\n",
            "epoch 7  | loss: 0.00094 | train_accuracy: 0.68076 | valid_accuracy: 0.69543 |  0:00:02s\n",
            "epoch 8  | loss: 0.00086 | train_accuracy: 0.64059 | valid_accuracy: 0.6599  |  0:00:03s\n",
            "epoch 9  | loss: 0.00044 | train_accuracy: 0.62474 | valid_accuracy: 0.71574 |  0:00:03s\n",
            "epoch 10 | loss: 0.00027 | train_accuracy: 0.64271 | valid_accuracy: 0.73096 |  0:00:03s\n",
            "epoch 11 | loss: 0.0011  | train_accuracy: 0.64588 | valid_accuracy: 0.73604 |  0:00:03s\n",
            "epoch 12 | loss: 0.00027 | train_accuracy: 0.64588 | valid_accuracy: 0.74112 |  0:00:04s\n",
            "epoch 13 | loss: 0.00023 | train_accuracy: 0.65011 | valid_accuracy: 0.74112 |  0:00:04s\n",
            "epoch 14 | loss: 0.00022 | train_accuracy: 0.68182 | valid_accuracy: 0.77157 |  0:00:04s\n",
            "epoch 15 | loss: 0.0002  | train_accuracy: 0.70719 | valid_accuracy: 0.77665 |  0:00:04s\n",
            "epoch 16 | loss: 0.00021 | train_accuracy: 0.71142 | valid_accuracy: 0.77665 |  0:00:05s\n",
            "epoch 17 | loss: 0.00021 | train_accuracy: 0.73996 | valid_accuracy: 0.79695 |  0:00:05s\n",
            "epoch 18 | loss: 0.00022 | train_accuracy: 0.73996 | valid_accuracy: 0.79695 |  0:00:05s\n",
            "epoch 19 | loss: 0.00022 | train_accuracy: 0.73996 | valid_accuracy: 0.79695 |  0:00:05s\n",
            "epoch 20 | loss: 0.00019 | train_accuracy: 0.74419 | valid_accuracy: 0.79695 |  0:00:06s\n",
            "epoch 21 | loss: 0.00018 | train_accuracy: 0.76744 | valid_accuracy: 0.83249 |  0:00:06s\n",
            "epoch 22 | loss: 0.00022 | train_accuracy: 0.76744 | valid_accuracy: 0.83249 |  0:00:06s\n",
            "epoch 23 | loss: 0.00019 | train_accuracy: 0.76744 | valid_accuracy: 0.83249 |  0:00:07s\n",
            "epoch 24 | loss: 0.0002  | train_accuracy: 0.76744 | valid_accuracy: 0.83249 |  0:00:07s\n",
            "epoch 25 | loss: 0.00019 | train_accuracy: 0.76744 | valid_accuracy: 0.83249 |  0:00:07s\n",
            "epoch 26 | loss: 0.0002  | train_accuracy: 0.76744 | valid_accuracy: 0.83249 |  0:00:07s\n",
            "epoch 27 | loss: 0.0002  | train_accuracy: 0.76744 | valid_accuracy: 0.83249 |  0:00:08s\n",
            "epoch 28 | loss: 0.00018 | train_accuracy: 0.76744 | valid_accuracy: 0.83249 |  0:00:08s\n",
            "epoch 29 | loss: 0.0002  | train_accuracy: 0.76744 | valid_accuracy: 0.83249 |  0:00:08s\n",
            "epoch 30 | loss: 0.00019 | train_accuracy: 0.76744 | valid_accuracy: 0.83249 |  0:00:08s\n",
            "epoch 31 | loss: 0.00017 | train_accuracy: 0.76744 | valid_accuracy: 0.83249 |  0:00:09s\n",
            "epoch 32 | loss: 0.00018 | train_accuracy: 0.76744 | valid_accuracy: 0.83249 |  0:00:09s\n",
            "epoch 33 | loss: 0.00017 | train_accuracy: 0.76744 | valid_accuracy: 0.83249 |  0:00:09s\n",
            "epoch 34 | loss: 0.00018 | train_accuracy: 0.76744 | valid_accuracy: 0.83249 |  0:00:09s\n",
            "epoch 35 | loss: 0.00019 | train_accuracy: 0.76744 | valid_accuracy: 0.83249 |  0:00:09s\n",
            "epoch 36 | loss: 0.00017 | train_accuracy: 0.76744 | valid_accuracy: 0.83249 |  0:00:10s\n",
            "epoch 37 | loss: 0.00016 | train_accuracy: 0.76744 | valid_accuracy: 0.83249 |  0:00:10s\n",
            "epoch 38 | loss: 0.00016 | train_accuracy: 0.76744 | valid_accuracy: 0.83249 |  0:00:10s\n",
            "epoch 39 | loss: 0.00016 | train_accuracy: 0.76744 | valid_accuracy: 0.83249 |  0:00:10s\n",
            "epoch 40 | loss: 0.00018 | train_accuracy: 0.76744 | valid_accuracy: 0.83249 |  0:00:10s\n",
            "epoch 41 | loss: 0.00022 | train_accuracy: 0.81078 | valid_accuracy: 0.85279 |  0:00:11s\n",
            "epoch 42 | loss: 0.00018 | train_accuracy: 0.82241 | valid_accuracy: 0.86802 |  0:00:11s\n",
            "epoch 43 | loss: 0.00016 | train_accuracy: 0.82558 | valid_accuracy: 0.8731  |  0:00:11s\n",
            "epoch 44 | loss: 0.00021 | train_accuracy: 0.89852 | valid_accuracy: 0.92893 |  0:00:11s\n",
            "epoch 45 | loss: 0.00017 | train_accuracy: 0.91226 | valid_accuracy: 0.94416 |  0:00:11s\n",
            "epoch 46 | loss: 0.00017 | train_accuracy: 0.91226 | valid_accuracy: 0.94416 |  0:00:12s\n",
            "epoch 47 | loss: 0.00016 | train_accuracy: 0.91226 | valid_accuracy: 0.94416 |  0:00:12s\n",
            "epoch 48 | loss: 0.00017 | train_accuracy: 0.91226 | valid_accuracy: 0.94416 |  0:00:12s\n",
            "epoch 49 | loss: 0.0002  | train_accuracy: 0.91226 | valid_accuracy: 0.94416 |  0:00:12s\n",
            "epoch 50 | loss: 0.00017 | train_accuracy: 0.91226 | valid_accuracy: 0.94416 |  0:00:12s\n",
            "epoch 51 | loss: 0.00016 | train_accuracy: 0.9186  | valid_accuracy: 0.94924 |  0:00:12s\n",
            "epoch 52 | loss: 0.00016 | train_accuracy: 0.92812 | valid_accuracy: 0.95431 |  0:00:13s\n",
            "epoch 53 | loss: 0.00016 | train_accuracy: 0.93235 | valid_accuracy: 0.95431 |  0:00:13s\n",
            "epoch 54 | loss: 0.00015 | train_accuracy: 0.9482  | valid_accuracy: 0.95431 |  0:00:13s\n",
            "epoch 55 | loss: 0.00017 | train_accuracy: 0.96089 | valid_accuracy: 0.97462 |  0:00:13s\n",
            "epoch 56 | loss: 0.00017 | train_accuracy: 0.97252 | valid_accuracy: 0.9797  |  0:00:13s\n",
            "epoch 57 | loss: 0.00015 | train_accuracy: 0.98626 | valid_accuracy: 0.9797  |  0:00:14s\n",
            "epoch 58 | loss: 0.00018 | train_accuracy: 0.99154 | valid_accuracy: 0.98477 |  0:00:14s\n",
            "epoch 59 | loss: 0.00017 | train_accuracy: 0.99789 | valid_accuracy: 0.99492 |  0:00:14s\n",
            "epoch 60 | loss: 0.00016 | train_accuracy: 1.0     | valid_accuracy: 1.0     |  0:00:14s\n",
            "epoch 61 | loss: 0.00018 | train_accuracy: 1.0     | valid_accuracy: 1.0     |  0:00:14s\n",
            "epoch 62 | loss: 0.00017 | train_accuracy: 1.0     | valid_accuracy: 1.0     |  0:00:15s\n",
            "epoch 63 | loss: 0.00017 | train_accuracy: 1.0     | valid_accuracy: 1.0     |  0:00:15s\n",
            "epoch 64 | loss: 0.00016 | train_accuracy: 1.0     | valid_accuracy: 1.0     |  0:00:15s\n",
            "epoch 65 | loss: 0.00016 | train_accuracy: 1.0     | valid_accuracy: 1.0     |  0:00:15s\n",
            "epoch 66 | loss: 0.00015 | train_accuracy: 1.0     | valid_accuracy: 1.0     |  0:00:15s\n",
            "epoch 67 | loss: 0.00015 | train_accuracy: 1.0     | valid_accuracy: 1.0     |  0:00:16s\n",
            "epoch 68 | loss: 0.00015 | train_accuracy: 1.0     | valid_accuracy: 1.0     |  0:00:16s\n",
            "epoch 69 | loss: 0.00015 | train_accuracy: 1.0     | valid_accuracy: 1.0     |  0:00:16s\n",
            "epoch 70 | loss: 0.00016 | train_accuracy: 1.0     | valid_accuracy: 1.0     |  0:00:16s\n",
            "epoch 71 | loss: 0.00015 | train_accuracy: 1.0     | valid_accuracy: 1.0     |  0:00:16s\n",
            "epoch 72 | loss: 0.00019 | train_accuracy: 1.0     | valid_accuracy: 1.0     |  0:00:16s\n",
            "epoch 73 | loss: 0.00016 | train_accuracy: 1.0     | valid_accuracy: 1.0     |  0:00:17s\n",
            "epoch 74 | loss: 0.00015 | train_accuracy: 1.0     | valid_accuracy: 1.0     |  0:00:17s\n",
            "epoch 75 | loss: 0.00016 | train_accuracy: 1.0     | valid_accuracy: 1.0     |  0:00:17s\n",
            "epoch 76 | loss: 0.00015 | train_accuracy: 1.0     | valid_accuracy: 1.0     |  0:00:17s\n",
            "epoch 77 | loss: 0.00016 | train_accuracy: 1.0     | valid_accuracy: 1.0     |  0:00:17s\n",
            "epoch 78 | loss: 0.00016 | train_accuracy: 1.0     | valid_accuracy: 1.0     |  0:00:18s\n",
            "epoch 79 | loss: 0.00016 | train_accuracy: 1.0     | valid_accuracy: 1.0     |  0:00:18s\n",
            "epoch 80 | loss: 0.00015 | train_accuracy: 1.0     | valid_accuracy: 1.0     |  0:00:18s\n",
            "\n",
            "Early stopping occurred at epoch 80 with best_epoch = 60 and best_valid_accuracy = 1.0\n"
          ]
        },
        {
          "output_type": "stream",
          "name": "stderr",
          "text": [
            "/usr/local/lib/python3.11/dist-packages/pytorch_tabnet/callbacks.py:172: UserWarning: Best weights from best epoch are automatically used!\n",
            "  warnings.warn(wrn_msg)\n"
          ]
        }
      ]
    },
    {
      "cell_type": "code",
      "source": [
        "from sklearn.metrics import classification_report, confusion_matrix, accuracy_score\n",
        "\n",
        "# 1. 예측 (테스트 데이터)\n",
        "y_pred = clf.predict(X_test.values)  # X_test도 numpy 배열로 변환\n",
        "\n",
        "# 2. 평가 지표 출력\n",
        "print(\"Classification Report:\")\n",
        "print(classification_report(y_test.values, y_pred))\n",
        "\n",
        "print(\"Confusion Matrix:\")\n",
        "print(confusion_matrix(y_test.values, y_pred))\n",
        "\n",
        "print(\"Accuracy:\", accuracy_score(y_test.values, y_pred))"
      ],
      "metadata": {
        "colab": {
          "base_uri": "https://localhost:8080/"
        },
        "id": "0u0OZemvrUX9",
        "outputId": "ebd55fbf-5084-4ca4-8abf-5d6e24329ea7"
      },
      "execution_count": 285,
      "outputs": [
        {
          "output_type": "stream",
          "name": "stdout",
          "text": [
            "Classification Report:\n",
            "              precision    recall  f1-score   support\n",
            "\n",
            "   Recovered       1.00      1.00      1.00       118\n",
            "      Stable       1.00      1.00      1.00        79\n",
            "\n",
            "    accuracy                           1.00       197\n",
            "   macro avg       1.00      1.00      1.00       197\n",
            "weighted avg       1.00      1.00      1.00       197\n",
            "\n",
            "Confusion Matrix:\n",
            "[[118   0]\n",
            " [  0  79]]\n",
            "Accuracy: 1.0\n"
          ]
        }
      ]
    },
    {
      "cell_type": "markdown",
      "source": [
        "## 아직도 과적합 의심이라 검증셋과 다른 지표도 확인"
      ],
      "metadata": {
        "id": "5HFHuIDRs9ck"
      }
    },
    {
      "cell_type": "code",
      "source": [
        "X_train = X_train.astype({col: 'int' for col in X_train.select_dtypes(include='bool').columns})\n",
        "X_val = X_val.astype({col: 'int' for col in X_val.select_dtypes(include='bool').columns})"
      ],
      "metadata": {
        "id": "OarqkOq-tam2"
      },
      "execution_count": 292,
      "outputs": []
    },
    {
      "cell_type": "code",
      "source": [
        "print(X_train.dtypes.value_counts())"
      ],
      "metadata": {
        "colab": {
          "base_uri": "https://localhost:8080/"
        },
        "id": "r5V650vHtcd2",
        "outputId": "777ae325-a081-4967-f406-90b726b35aaf"
      },
      "execution_count": 293,
      "outputs": [
        {
          "output_type": "stream",
          "name": "stdout",
          "text": [
            "int64    38\n",
            "Name: count, dtype: int64\n"
          ]
        }
      ]
    },
    {
      "cell_type": "code",
      "source": [
        "X_train_np = X_train.values.astype(np.float32)  # 혹은 int32\n",
        "X_val_np = X_val.values.astype(np.float32)\n",
        "y_train_np = y_train.values\n",
        "y_val_np = y_val.values"
      ],
      "metadata": {
        "id": "rfoBItditfa1"
      },
      "execution_count": 294,
      "outputs": []
    },
    {
      "cell_type": "code",
      "source": [
        "X_val = X_val.astype({col: 'int' for col in X_val.select_dtypes(include='bool').columns})"
      ],
      "metadata": {
        "id": "khqCoaPjttzG"
      },
      "execution_count": 296,
      "outputs": []
    },
    {
      "cell_type": "code",
      "source": [
        "X_val_np = X_val.values.astype(np.float32)  # 또는 np.int32 가능\n",
        "y_val_pred = clf.predict(X_val_np)"
      ],
      "metadata": {
        "id": "kVSt_YRttvB7"
      },
      "execution_count": 297,
      "outputs": []
    },
    {
      "cell_type": "code",
      "source": [
        "# 학습\n",
        "clf.fit(\n",
        "    X_train_np, y_train_np,\n",
        "    eval_set=[(X_val_np, y_val_np)],\n",
        "    eval_name=['val'],\n",
        "    eval_metric=['accuracy'],\n",
        "    max_epochs=100,\n",
        "    patience=20\n",
        ")\n",
        "\n",
        "# 예측\n",
        "y_val_pred = clf.predict(X_val_np)\n",
        "\n",
        "# 평가 출력\n",
        "from sklearn.metrics import classification_report\n",
        "print(classification_report(y_val_np, y_val_pred))"
      ],
      "metadata": {
        "colab": {
          "base_uri": "https://localhost:8080/"
        },
        "id": "4xzIXvAgtEfS",
        "outputId": "9218f970-cc76-4f92-8588-bc58c4140935"
      },
      "execution_count": 298,
      "outputs": [
        {
          "output_type": "stream",
          "name": "stdout",
          "text": [
            "epoch 0  | loss: 0.0     | val_accuracy: 0.4527  |  0:00:00s\n",
            "epoch 1  | loss: 0.0     | val_accuracy: 0.4527  |  0:00:00s\n",
            "epoch 2  | loss: 0.0     | val_accuracy: 0.4527  |  0:00:00s\n",
            "epoch 3  | loss: 0.0     | val_accuracy: 0.4527  |  0:00:00s\n",
            "epoch 4  | loss: 0.0     | val_accuracy: 0.4527  |  0:00:00s\n",
            "epoch 5  | loss: 0.0     | val_accuracy: 0.4527  |  0:00:00s\n",
            "epoch 6  | loss: 0.0     | val_accuracy: 0.4527  |  0:00:00s\n"
          ]
        },
        {
          "output_type": "stream",
          "name": "stderr",
          "text": [
            "/usr/local/lib/python3.11/dist-packages/torch/optim/lr_scheduler.py:227: UserWarning: Detected call of `lr_scheduler.step()` before `optimizer.step()`. In PyTorch 1.1.0 and later, you should call them in the opposite order: `optimizer.step()` before `lr_scheduler.step()`.  Failure to do this will result in PyTorch skipping the first value of the learning rate schedule. See more details at https://pytorch.org/docs/stable/optim.html#how-to-adjust-learning-rate\n",
            "  warnings.warn(\n"
          ]
        },
        {
          "output_type": "stream",
          "name": "stdout",
          "text": [
            "epoch 7  | loss: 0.0     | val_accuracy: 0.4527  |  0:00:00s\n",
            "epoch 8  | loss: 0.0     | val_accuracy: 0.4527  |  0:00:00s\n",
            "epoch 9  | loss: 0.0     | val_accuracy: 0.4527  |  0:00:00s\n",
            "epoch 10 | loss: 0.0     | val_accuracy: 0.4527  |  0:00:00s\n",
            "epoch 11 | loss: 0.0     | val_accuracy: 0.4527  |  0:00:00s\n",
            "epoch 12 | loss: 0.0     | val_accuracy: 0.4527  |  0:00:00s\n",
            "epoch 13 | loss: 0.0     | val_accuracy: 0.4527  |  0:00:00s\n",
            "epoch 14 | loss: 0.0     | val_accuracy: 0.4527  |  0:00:00s\n",
            "epoch 15 | loss: 0.0     | val_accuracy: 0.4527  |  0:00:00s\n",
            "epoch 16 | loss: 0.0     | val_accuracy: 0.4527  |  0:00:00s\n",
            "epoch 17 | loss: 0.0     | val_accuracy: 0.4527  |  0:00:00s\n",
            "epoch 18 | loss: 0.0     | val_accuracy: 0.4527  |  0:00:00s\n",
            "epoch 19 | loss: 0.0     | val_accuracy: 0.4527  |  0:00:00s\n",
            "epoch 20 | loss: 0.0     | val_accuracy: 0.4527  |  0:00:00s\n",
            "\n",
            "Early stopping occurred at epoch 20 with best_epoch = 0 and best_val_accuracy = 0.4527\n",
            "              precision    recall  f1-score   support\n",
            "\n",
            "   Recovered       0.63      0.19      0.30        88\n",
            "      Stable       0.41      0.83      0.55        60\n",
            "\n",
            "    accuracy                           0.45       148\n",
            "   macro avg       0.52      0.51      0.42       148\n",
            "weighted avg       0.54      0.45      0.40       148\n",
            "\n"
          ]
        },
        {
          "output_type": "stream",
          "name": "stderr",
          "text": [
            "/usr/local/lib/python3.11/dist-packages/pytorch_tabnet/callbacks.py:172: UserWarning: Best weights from best epoch are automatically used!\n",
            "  warnings.warn(wrn_msg)\n"
          ]
        }
      ]
    },
    {
      "cell_type": "markdown",
      "source": [
        "## 문제점 :\n",
        "- oss가 계속 0이고 val_accuracy가 0.45로 전혀 개선되지 않음\n",
        "- Early stopping이 epoch 0에 가장 좋은 점수를 기록한 상태로 멈춤\n",
        "\n",
        "\n",
        "## 해결 방법:\n",
        "- int 변환하고 전처리들을 다시 한 다음에 모델 구조를 변화하는 방식으로 진행한다\n",
        "- 훈련/검증 데이터 분리하고 적절한 하이퍼파라미터 조정한 다음 데이터 타입의 문제도 해결했다\n",
        "            \n"
      ],
      "metadata": {
        "id": "RWfOzEl_uJSc"
      }
    },
    {
      "cell_type": "code",
      "source": [
        "from sklearn.preprocessing import StandardScaler\n",
        "\n",
        "# 1. bool -> int 변환\n",
        "for df in [X_train, X_val]:\n",
        "    df[df.select_dtypes(include='bool').columns] = df.select_dtypes(include='bool').astype(int)\n",
        "\n",
        "# 2. 연속형 스케일링\n",
        "scaler = StandardScaler()\n",
        "num_cols = ['Age', 'Cost', 'Length_of_Stay', 'Satisfaction']\n",
        "X_train[num_cols] = scaler.fit_transform(X_train[num_cols])\n",
        "X_val[num_cols] = scaler.transform(X_val[num_cols])\n",
        "\n",
        "# 3. numpy 변환\n",
        "X_train_np = X_train.values.astype(np.float32)\n",
        "X_val_np = X_val.values.astype(np.float32)\n",
        "y_train_np = y_train.values\n",
        "y_val_np = y_val.values\n",
        "\n",
        "from pytorch_tabnet.tab_model import TabNetClassifier\n",
        "\n",
        "clf = TabNetClassifier(\n",
        "    n_d=8, n_a=8,\n",
        "    n_steps=3,\n",
        "    gamma=1.5,\n",
        "    lambda_sparse=1e-3,\n",
        "    optimizer_params=dict(lr=0.02),\n",
        "    mask_type='entmax'\n",
        ")\n",
        "\n",
        "clf.fit(\n",
        "    X_train_np, y_train_np,\n",
        "    eval_set=[(X_val_np, y_val_np)],\n",
        "    eval_name=['val'],\n",
        "    eval_metric=['accuracy'],\n",
        "    max_epochs=100,\n",
        "    patience=20,\n",
        "    batch_size=256,\n",
        "    virtual_batch_size=64,\n",
        "    num_workers=0,\n",
        "    drop_last=False\n",
        ")\n",
        "\n",
        "y_val_pred = clf.predict(X_val_np)\n",
        "from sklearn.metrics import classification_report\n",
        "print(classification_report(y_val_np, y_val_pred))"
      ],
      "metadata": {
        "colab": {
          "base_uri": "https://localhost:8080/"
        },
        "id": "qWsIygWPt9yq",
        "outputId": "2e5c00a9-b9a4-46cf-8fcc-094630b80590"
      },
      "execution_count": 299,
      "outputs": [
        {
          "output_type": "stream",
          "name": "stderr",
          "text": [
            "/usr/local/lib/python3.11/dist-packages/pytorch_tabnet/abstract_model.py:82: UserWarning: Device used : cpu\n",
            "  warnings.warn(f\"Device used : {self.device}\")\n"
          ]
        },
        {
          "output_type": "stream",
          "name": "stdout",
          "text": [
            "epoch 0  | loss: 0.8336  | val_accuracy: 0.49324 |  0:00:00s\n",
            "epoch 1  | loss: 0.4051  | val_accuracy: 0.69595 |  0:00:00s\n",
            "epoch 2  | loss: 0.23744 | val_accuracy: 0.69595 |  0:00:00s\n",
            "epoch 3  | loss: 0.1298  | val_accuracy: 0.70946 |  0:00:00s\n",
            "epoch 4  | loss: 0.03756 | val_accuracy: 0.68243 |  0:00:00s\n",
            "epoch 5  | loss: 0.01424 | val_accuracy: 0.80405 |  0:00:01s\n",
            "epoch 6  | loss: 0.00913 | val_accuracy: 0.82432 |  0:00:01s\n",
            "epoch 7  | loss: 0.00541 | val_accuracy: 0.87162 |  0:00:01s\n",
            "epoch 8  | loss: 0.00365 | val_accuracy: 0.87838 |  0:00:01s\n",
            "epoch 9  | loss: 0.00315 | val_accuracy: 0.87838 |  0:00:01s\n",
            "epoch 10 | loss: 0.02158 | val_accuracy: 0.87838 |  0:00:02s\n",
            "epoch 11 | loss: 0.00148 | val_accuracy: 0.89189 |  0:00:02s\n",
            "epoch 12 | loss: 0.00354 | val_accuracy: 0.89189 |  0:00:02s\n",
            "epoch 13 | loss: 0.02122 | val_accuracy: 0.89189 |  0:00:02s\n",
            "epoch 14 | loss: 0.00176 | val_accuracy: 0.84459 |  0:00:02s\n",
            "epoch 15 | loss: 0.00188 | val_accuracy: 0.82432 |  0:00:03s\n",
            "epoch 16 | loss: 0.00202 | val_accuracy: 0.77703 |  0:00:03s\n",
            "epoch 17 | loss: 0.00375 | val_accuracy: 0.77027 |  0:00:03s\n",
            "epoch 18 | loss: 0.02711 | val_accuracy: 0.84459 |  0:00:03s\n",
            "epoch 19 | loss: 0.00267 | val_accuracy: 0.84459 |  0:00:04s\n",
            "epoch 20 | loss: 0.00198 | val_accuracy: 0.84459 |  0:00:04s\n",
            "epoch 21 | loss: 0.00976 | val_accuracy: 0.84459 |  0:00:04s\n",
            "epoch 22 | loss: 0.00649 | val_accuracy: 0.84459 |  0:00:04s\n",
            "epoch 23 | loss: 0.00189 | val_accuracy: 0.84459 |  0:00:04s\n",
            "epoch 24 | loss: 0.01061 | val_accuracy: 0.84459 |  0:00:05s\n",
            "epoch 25 | loss: 0.00181 | val_accuracy: 0.84459 |  0:00:05s\n",
            "epoch 26 | loss: 0.0023  | val_accuracy: 0.84459 |  0:00:05s\n",
            "epoch 27 | loss: 0.00288 | val_accuracy: 0.88514 |  0:00:05s\n",
            "epoch 28 | loss: 0.00229 | val_accuracy: 0.87838 |  0:00:05s\n",
            "epoch 29 | loss: 0.00168 | val_accuracy: 0.86486 |  0:00:05s\n",
            "epoch 30 | loss: 0.00226 | val_accuracy: 0.86486 |  0:00:05s\n",
            "epoch 31 | loss: 0.00208 | val_accuracy: 0.88514 |  0:00:05s\n",
            "\n",
            "Early stopping occurred at epoch 31 with best_epoch = 11 and best_val_accuracy = 0.89189\n",
            "              precision    recall  f1-score   support\n",
            "\n",
            "   Recovered       0.85      1.00      0.92        88\n",
            "      Stable       1.00      0.73      0.85        60\n",
            "\n",
            "    accuracy                           0.89       148\n",
            "   macro avg       0.92      0.87      0.88       148\n",
            "weighted avg       0.91      0.89      0.89       148\n",
            "\n"
          ]
        },
        {
          "output_type": "stream",
          "name": "stderr",
          "text": [
            "/usr/local/lib/python3.11/dist-packages/pytorch_tabnet/callbacks.py:172: UserWarning: Best weights from best epoch are automatically used!\n",
            "  warnings.warn(wrn_msg)\n"
          ]
        }
      ]
    },
    {
      "cell_type": "markdown",
      "source": [
        "## 위의 결과를 보면 학습이 안정적으로 잘 되고 있고 precision, recall, f1-score 모두 꽤 괜찮게 나왔으며 val_accuracy가 0.89까지 올라갔습니다."
      ],
      "metadata": {
        "id": "rDcG6Nvcu1FA"
      }
    },
    {
      "cell_type": "markdown",
      "source": [
        "# 테스트 데이터 셋 평가"
      ],
      "metadata": {
        "id": "OpjSODmbvC2Q"
      }
    },
    {
      "cell_type": "code",
      "source": [
        "X_test_fixed = X_test.copy()\n",
        "for col in X_test_fixed.columns:\n",
        "    if X_test_fixed[col].dtype == 'bool':\n",
        "        X_test_fixed[col] = X_test_fixed[col].astype(int)\n",
        "\n",
        "y_test_pred = clf.predict(X_test_fixed.values)"
      ],
      "metadata": {
        "id": "2QUnnxYcvMJ2"
      },
      "execution_count": 301,
      "outputs": []
    },
    {
      "cell_type": "markdown",
      "source": [
        "# 결과 분석\n",
        "- 테스트 데이터 셋의 성능이 검증셋보다 많이 떨어진 것을 확인할 수 있다\n",
        "- 여전히 과적합이 문제가 되고 있다는 것을 알 수 있다.\n"
      ],
      "metadata": {
        "id": "7G4EOMExvVlo"
      }
    },
    {
      "cell_type": "code",
      "source": [
        "from sklearn.metrics import classification_report, confusion_matrix, accuracy_score\n",
        "\n",
        "print(\"Test Set Performance:\")\n",
        "print(classification_report(y_test, y_test_pred))\n",
        "print(\"Confusion Matrix:\")\n",
        "print(confusion_matrix(y_test, y_test_pred))\n",
        "print(\"Accuracy:\", accuracy_score(y_test, y_test_pred))"
      ],
      "metadata": {
        "colab": {
          "base_uri": "https://localhost:8080/"
        },
        "id": "0tnb0CSYvFzI",
        "outputId": "fa56fbd2-3aa2-4515-a8d6-924a6e9fe3be"
      },
      "execution_count": 303,
      "outputs": [
        {
          "output_type": "stream",
          "name": "stdout",
          "text": [
            "Test Set Performance:\n",
            "              precision    recall  f1-score   support\n",
            "\n",
            "   Recovered       0.54      0.64      0.59        84\n",
            "      Stable       0.38      0.28      0.32        64\n",
            "\n",
            "    accuracy                           0.49       148\n",
            "   macro avg       0.46      0.46      0.45       148\n",
            "weighted avg       0.47      0.49      0.47       148\n",
            "\n",
            "Confusion Matrix:\n",
            "[[54 30]\n",
            " [46 18]]\n",
            "Accuracy: 0.4864864864864865\n"
          ]
        }
      ]
    },
    {
      "cell_type": "markdown",
      "source": [
        "# Regularization 강화"
      ],
      "metadata": {
        "id": "CX8zS0j9v2p1"
      }
    },
    {
      "cell_type": "code",
      "source": [
        "from pytorch_tabnet.tab_model import TabNetClassifier\n",
        "\n",
        "clf = TabNetClassifier(\n",
        "    lambda_sparse=1e-3,         # sparsity 규제 강화\n",
        "    optimizer_params=dict(lr=2e-2, weight_decay=1e-5),  # weight decay 추가\n",
        "    mask_type='sparsemax'       # mask 타입 설정\n",
        ")"
      ],
      "metadata": {
        "colab": {
          "base_uri": "https://localhost:8080/"
        },
        "id": "2VuW4jzFv4uT",
        "outputId": "e2ae06e5-70cd-4429-fa87-463ae895dce6"
      },
      "execution_count": 305,
      "outputs": [
        {
          "output_type": "stream",
          "name": "stderr",
          "text": [
            "/usr/local/lib/python3.11/dist-packages/pytorch_tabnet/abstract_model.py:82: UserWarning: Device used : cpu\n",
            "  warnings.warn(f\"Device used : {self.device}\")\n"
          ]
        }
      ]
    },
    {
      "cell_type": "code",
      "source": [
        "clf.fit(\n",
        "    X_train.values, y_train.values,\n",
        "    eval_set=[(X_val.values, y_val.values)],\n",
        "    eval_name=['val'],\n",
        "    eval_metric=['accuracy'],\n",
        "    max_epochs=100,\n",
        "    patience=20,\n",
        "    batch_size=256,\n",
        "    virtual_batch_size=64,\n",
        "    num_workers=0,\n",
        "    drop_last=False\n",
        ")"
      ],
      "metadata": {
        "colab": {
          "base_uri": "https://localhost:8080/"
        },
        "id": "t27d5YvOwD-O",
        "outputId": "3232e0d5-468e-434c-da14-2df337e84a8e"
      },
      "execution_count": 306,
      "outputs": [
        {
          "output_type": "stream",
          "name": "stdout",
          "text": [
            "epoch 0  | loss: 0.79757 | val_accuracy: 0.72297 |  0:00:00s\n",
            "epoch 1  | loss: 0.55253 | val_accuracy: 0.69595 |  0:00:00s\n",
            "epoch 2  | loss: 0.42726 | val_accuracy: 0.71622 |  0:00:00s\n",
            "epoch 3  | loss: 0.28241 | val_accuracy: 0.7973  |  0:00:00s\n",
            "epoch 4  | loss: 0.17299 | val_accuracy: 0.88514 |  0:00:01s\n",
            "epoch 5  | loss: 0.07168 | val_accuracy: 0.89189 |  0:00:01s\n",
            "epoch 6  | loss: 0.03464 | val_accuracy: 0.89189 |  0:00:01s\n",
            "epoch 7  | loss: 0.0388  | val_accuracy: 0.93243 |  0:00:01s\n",
            "epoch 8  | loss: 0.01606 | val_accuracy: 0.93243 |  0:00:01s\n",
            "epoch 9  | loss: 0.00405 | val_accuracy: 0.91216 |  0:00:01s\n",
            "epoch 10 | loss: 0.00776 | val_accuracy: 0.88514 |  0:00:02s\n",
            "epoch 11 | loss: 0.00166 | val_accuracy: 0.89865 |  0:00:02s\n",
            "epoch 12 | loss: 0.00248 | val_accuracy: 0.91216 |  0:00:02s\n",
            "epoch 13 | loss: 0.00136 | val_accuracy: 0.90541 |  0:00:02s\n",
            "epoch 14 | loss: 0.00246 | val_accuracy: 0.90541 |  0:00:03s\n",
            "epoch 15 | loss: 0.0012  | val_accuracy: 0.91216 |  0:00:03s\n",
            "epoch 16 | loss: 0.00176 | val_accuracy: 0.92568 |  0:00:03s\n",
            "epoch 17 | loss: 0.00084 | val_accuracy: 0.92568 |  0:00:03s\n",
            "epoch 18 | loss: 0.00088 | val_accuracy: 0.93243 |  0:00:03s\n",
            "epoch 19 | loss: 0.00109 | val_accuracy: 0.93919 |  0:00:04s\n",
            "epoch 20 | loss: 0.00069 | val_accuracy: 0.9527  |  0:00:04s\n",
            "epoch 21 | loss: 0.01846 | val_accuracy: 0.93919 |  0:00:04s\n",
            "epoch 22 | loss: 0.00086 | val_accuracy: 0.91892 |  0:00:05s\n",
            "epoch 23 | loss: 0.001   | val_accuracy: 0.91216 |  0:00:05s\n",
            "epoch 24 | loss: 0.0022  | val_accuracy: 0.92568 |  0:00:05s\n",
            "epoch 25 | loss: 0.00105 | val_accuracy: 0.91892 |  0:00:05s\n",
            "epoch 26 | loss: 0.00079 | val_accuracy: 0.92568 |  0:00:05s\n",
            "epoch 27 | loss: 0.0009  | val_accuracy: 0.93243 |  0:00:05s\n",
            "epoch 28 | loss: 0.00102 | val_accuracy: 0.9527  |  0:00:05s\n",
            "epoch 29 | loss: 0.00071 | val_accuracy: 0.95946 |  0:00:05s\n",
            "epoch 30 | loss: 0.00072 | val_accuracy: 0.95946 |  0:00:06s\n",
            "epoch 31 | loss: 0.00066 | val_accuracy: 0.96622 |  0:00:06s\n",
            "epoch 32 | loss: 0.00061 | val_accuracy: 0.96622 |  0:00:06s\n",
            "epoch 33 | loss: 0.0005  | val_accuracy: 0.97297 |  0:00:06s\n",
            "epoch 34 | loss: 0.00061 | val_accuracy: 0.97297 |  0:00:06s\n",
            "epoch 35 | loss: 0.00054 | val_accuracy: 0.97297 |  0:00:06s\n",
            "epoch 36 | loss: 0.00058 | val_accuracy: 0.97297 |  0:00:06s\n",
            "epoch 37 | loss: 0.00051 | val_accuracy: 0.97297 |  0:00:07s\n",
            "epoch 38 | loss: 0.00049 | val_accuracy: 0.97973 |  0:00:07s\n",
            "epoch 39 | loss: 0.00055 | val_accuracy: 0.97973 |  0:00:07s\n",
            "epoch 40 | loss: 0.00051 | val_accuracy: 0.97973 |  0:00:07s\n",
            "epoch 41 | loss: 0.00051 | val_accuracy: 0.97973 |  0:00:07s\n",
            "epoch 42 | loss: 0.00049 | val_accuracy: 0.98649 |  0:00:07s\n",
            "epoch 43 | loss: 0.00045 | val_accuracy: 0.98649 |  0:00:08s\n",
            "epoch 44 | loss: 0.00052 | val_accuracy: 0.98649 |  0:00:08s\n",
            "epoch 45 | loss: 0.00046 | val_accuracy: 0.99324 |  0:00:08s\n",
            "epoch 46 | loss: 0.00044 | val_accuracy: 1.0     |  0:00:08s\n",
            "epoch 47 | loss: 0.00042 | val_accuracy: 1.0     |  0:00:08s\n",
            "epoch 48 | loss: 0.00078 | val_accuracy: 1.0     |  0:00:09s\n",
            "epoch 49 | loss: 0.00044 | val_accuracy: 1.0     |  0:00:09s\n",
            "epoch 50 | loss: 0.00055 | val_accuracy: 1.0     |  0:00:09s\n",
            "epoch 51 | loss: 0.00046 | val_accuracy: 1.0     |  0:00:09s\n",
            "epoch 52 | loss: 0.00052 | val_accuracy: 1.0     |  0:00:09s\n",
            "epoch 53 | loss: 0.00043 | val_accuracy: 1.0     |  0:00:09s\n",
            "epoch 54 | loss: 0.00045 | val_accuracy: 1.0     |  0:00:10s\n",
            "epoch 55 | loss: 0.00054 | val_accuracy: 1.0     |  0:00:10s\n",
            "epoch 56 | loss: 0.00043 | val_accuracy: 1.0     |  0:00:10s\n",
            "epoch 57 | loss: 0.00299 | val_accuracy: 0.93243 |  0:00:10s\n",
            "epoch 58 | loss: 0.00055 | val_accuracy: 1.0     |  0:00:10s\n",
            "epoch 59 | loss: 0.00088 | val_accuracy: 0.99324 |  0:00:10s\n",
            "epoch 60 | loss: 0.00074 | val_accuracy: 1.0     |  0:00:10s\n",
            "epoch 61 | loss: 0.0006  | val_accuracy: 1.0     |  0:00:10s\n",
            "epoch 62 | loss: 0.00055 | val_accuracy: 1.0     |  0:00:10s\n",
            "epoch 63 | loss: 0.00098 | val_accuracy: 1.0     |  0:00:11s\n",
            "epoch 64 | loss: 0.00045 | val_accuracy: 1.0     |  0:00:11s\n",
            "epoch 65 | loss: 0.00288 | val_accuracy: 1.0     |  0:00:11s\n",
            "epoch 66 | loss: 0.0005  | val_accuracy: 1.0     |  0:00:11s\n",
            "\n",
            "Early stopping occurred at epoch 66 with best_epoch = 46 and best_val_accuracy = 1.0\n"
          ]
        },
        {
          "output_type": "stream",
          "name": "stderr",
          "text": [
            "/usr/local/lib/python3.11/dist-packages/pytorch_tabnet/callbacks.py:172: UserWarning: Best weights from best epoch are automatically used!\n",
            "  warnings.warn(wrn_msg)\n"
          ]
        }
      ]
    },
    {
      "cell_type": "markdown",
      "source": [
        "# 아래 결과 비교\n",
        "- 여전히 과적합의 의심은 있지만 위에 결과보다 테스트 셋의 결과가 조금은 향상된 것을 볼 수 있다."
      ],
      "metadata": {
        "id": "b7bQ_0qmw1Ao"
      }
    },
    {
      "cell_type": "code",
      "source": [
        "y_val_pred = clf.predict(X_val.values)\n",
        "from sklearn.metrics import classification_report\n",
        "print(classification_report(y_val, y_val_pred))"
      ],
      "metadata": {
        "colab": {
          "base_uri": "https://localhost:8080/"
        },
        "id": "vkqOG2UEwP8P",
        "outputId": "ec2f6fd7-0d6f-42c8-fd2f-dea1077fb6a4"
      },
      "execution_count": 307,
      "outputs": [
        {
          "output_type": "stream",
          "name": "stdout",
          "text": [
            "              precision    recall  f1-score   support\n",
            "\n",
            "   Recovered       1.00      1.00      1.00        88\n",
            "      Stable       1.00      1.00      1.00        60\n",
            "\n",
            "    accuracy                           1.00       148\n",
            "   macro avg       1.00      1.00      1.00       148\n",
            "weighted avg       1.00      1.00      1.00       148\n",
            "\n"
          ]
        }
      ]
    },
    {
      "cell_type": "code",
      "source": [
        "y_test_pred = clf.predict(X_test.to_numpy(dtype=np.float32))\n",
        "print(classification_report(y_test, y_test_pred))"
      ],
      "metadata": {
        "colab": {
          "base_uri": "https://localhost:8080/"
        },
        "id": "ZbbFzXhpwRf7",
        "outputId": "47ffcccb-e051-45be-d02e-201882757684"
      },
      "execution_count": 312,
      "outputs": [
        {
          "output_type": "stream",
          "name": "stdout",
          "text": [
            "              precision    recall  f1-score   support\n",
            "\n",
            "   Recovered       0.56      0.85      0.68        84\n",
            "      Stable       0.41      0.14      0.21        64\n",
            "\n",
            "    accuracy                           0.54       148\n",
            "   macro avg       0.49      0.49      0.44       148\n",
            "weighted avg       0.50      0.54      0.47       148\n",
            "\n"
          ]
        }
      ]
    },
    {
      "cell_type": "code",
      "source": [
        "print(X_test.dtypes)"
      ],
      "metadata": {
        "colab": {
          "base_uri": "https://localhost:8080/"
        },
        "id": "oI8enzNpwd7e",
        "outputId": "bfd4f0a6-f674-4560-8e66-21957225f0de"
      },
      "execution_count": 309,
      "outputs": [
        {
          "output_type": "stream",
          "name": "stdout",
          "text": [
            "Age                                               int64\n",
            "Cost                                              int64\n",
            "Length_of_Stay                                    int64\n",
            "Satisfaction                                      int64\n",
            "Gender_Female                                      bool\n",
            "Gender_Male                                        bool\n",
            "Condition_Allergic Reaction                        bool\n",
            "Condition_Appendicitis                             bool\n",
            "Condition_Cancer                                   bool\n",
            "Condition_Childbirth                               bool\n",
            "Condition_Diabetes                                 bool\n",
            "Condition_Fractured Arm                            bool\n",
            "Condition_Fractured Leg                            bool\n",
            "Condition_Heart Attack                             bool\n",
            "Condition_Heart Disease                            bool\n",
            "Condition_Hypertension                             bool\n",
            "Condition_Kidney Stones                            bool\n",
            "Condition_Osteoarthritis                           bool\n",
            "Condition_Prostate Cancer                          bool\n",
            "Condition_Respiratory Infection                    bool\n",
            "Condition_Stroke                                   bool\n",
            "Procedure_Angioplasty                              bool\n",
            "Procedure_Antibiotics and Rest                     bool\n",
            "Procedure_Appendectomy                             bool\n",
            "Procedure_CT Scan and Medication                   bool\n",
            "Procedure_Cardiac Catheterization                  bool\n",
            "Procedure_Cast and Physical Therapy                bool\n",
            "Procedure_Delivery and Postnatal Care              bool\n",
            "Procedure_Epinephrine Injection                    bool\n",
            "Procedure_Insulin Therapy                          bool\n",
            "Procedure_Lithotripsy                              bool\n",
            "Procedure_Medication and Counseling                bool\n",
            "Procedure_Physical Therapy and Pain Management     bool\n",
            "Procedure_Radiation Therapy                        bool\n",
            "Procedure_Surgery and Chemotherapy                 bool\n",
            "Procedure_X-Ray and Splint                         bool\n",
            "Readmission_No                                     bool\n",
            "Readmission_Yes                                    bool\n",
            "dtype: object\n"
          ]
        }
      ]
    },
    {
      "cell_type": "code",
      "source": [
        "for col in X_test.columns:\n",
        "    if X_test[col].dtype == 'object':\n",
        "        print(col, X_test[col].unique())  # 어떤 값들인지 확인\n",
        "\n",
        "# 만약 불필요하면 드롭\n",
        "X_test = X_test.select_dtypes(exclude=['object'])"
      ],
      "metadata": {
        "id": "KE7KQnqXwgh3"
      },
      "execution_count": 313,
      "outputs": []
    },
    {
      "cell_type": "code",
      "source": [
        "# TabNet 분류기 정의\n",
        "device = torch.device(\"cuda\" if torch.cuda.is_available() else \"cpu\")\n",
        "\n",
        "clf = TabNetClassifier(\n",
        "    device_name=device.type,\n",
        "    n_d=64, n_a=64,\n",
        "    n_steps=5,\n",
        "    gamma=1.5,\n",
        "    lambda_sparse=1e-4,\n",
        "    optimizer_fn=torch.optim.Adam,\n",
        "    optimizer_params=dict(lr=2e-2),\n",
        "    scheduler_params={\"step_size\":10, \"gamma\":0.9},\n",
        "    scheduler_fn=torch.optim.lr_scheduler.StepLR,\n",
        "    verbose=1\n",
        ")\n",
        "\n",
        "# 모델 학습\n",
        "clf.fit(\n",
        "    X_train=X_train, y_train=y_train,\n",
        "    eval_set=[(X_test, y_test)],\n",
        "    eval_name=[\"test\"],\n",
        "    eval_metric=[\"accuracy\"],\n",
        "    max_epochs=100,\n",
        "    patience=10,\n",
        "    batch_size=256,\n",
        "    virtual_batch_size=128\n",
        ")"
      ],
      "metadata": {
        "colab": {
          "base_uri": "https://localhost:8080/"
        },
        "id": "2qjfhuTjAH0u",
        "outputId": "c855e1e5-964c-42d3-eb89-6d527766d186"
      },
      "execution_count": 267,
      "outputs": [
        {
          "output_type": "stream",
          "name": "stderr",
          "text": [
            "/usr/local/lib/python3.11/dist-packages/pytorch_tabnet/abstract_model.py:82: UserWarning: Device used : cpu\n",
            "  warnings.warn(f\"Device used : {self.device}\")\n"
          ]
        },
        {
          "output_type": "stream",
          "name": "stdout",
          "text": [
            "epoch 0  | loss: 0.83851 | test_accuracy: 0.61735 |  0:00:00s\n",
            "epoch 1  | loss: 0.45036 | test_accuracy: 0.61224 |  0:00:00s\n",
            "epoch 2  | loss: 0.33027 | test_accuracy: 0.62755 |  0:00:01s\n",
            "epoch 3  | loss: 0.41358 | test_accuracy: 0.61224 |  0:00:02s\n",
            "epoch 4  | loss: 0.12696 | test_accuracy: 0.57653 |  0:00:02s\n",
            "epoch 5  | loss: 0.10661 | test_accuracy: 0.65306 |  0:00:03s\n",
            "epoch 6  | loss: 0.1912  | test_accuracy: 0.56633 |  0:00:04s\n",
            "epoch 7  | loss: 0.00975 | test_accuracy: 0.67857 |  0:00:04s\n",
            "epoch 8  | loss: 0.0013  | test_accuracy: 0.7449  |  0:00:05s\n",
            "epoch 9  | loss: 0.00034 | test_accuracy: 0.65816 |  0:00:05s\n",
            "epoch 10 | loss: 0.013   | test_accuracy: 0.65306 |  0:00:06s\n",
            "epoch 11 | loss: 0.00029 | test_accuracy: 0.7449  |  0:00:07s\n",
            "epoch 12 | loss: 0.00851 | test_accuracy: 0.65306 |  0:00:07s\n",
            "epoch 13 | loss: 0.15845 | test_accuracy: 0.66837 |  0:00:08s\n",
            "epoch 14 | loss: 0.01183 | test_accuracy: 0.60204 |  0:00:08s\n",
            "epoch 15 | loss: 0.00065 | test_accuracy: 0.60204 |  0:00:09s\n",
            "epoch 16 | loss: 0.00069 | test_accuracy: 0.60204 |  0:00:10s\n",
            "epoch 17 | loss: 0.00056 | test_accuracy: 0.60204 |  0:00:11s\n",
            "epoch 18 | loss: 0.00022 | test_accuracy: 0.61224 |  0:00:13s\n",
            "\n",
            "Early stopping occurred at epoch 18 with best_epoch = 8 and best_test_accuracy = 0.7449\n"
          ]
        },
        {
          "output_type": "stream",
          "name": "stderr",
          "text": [
            "/usr/local/lib/python3.11/dist-packages/pytorch_tabnet/callbacks.py:172: UserWarning: Best weights from best epoch are automatically used!\n",
            "  warnings.warn(wrn_msg)\n"
          ]
        }
      ]
    },
    {
      "cell_type": "markdown",
      "source": [
        "# 정확도는 괜찮은 편이지만 클래스 1의 민감도가 낮은 문제점 존재\n"
      ],
      "metadata": {
        "id": "LJFfR9mbxLrw"
      }
    },
    {
      "cell_type": "code",
      "source": [
        "y_pred = clf.predict(X_test)\n",
        "\n",
        "print(\"Classification Report:\")\n",
        "print(classification_report(y_test, y_pred))"
      ],
      "metadata": {
        "colab": {
          "base_uri": "https://localhost:8080/"
        },
        "id": "xrLKLV5ZAMSW",
        "outputId": "0ce47e47-0c95-498d-fd1d-814bf6c9ea71"
      },
      "execution_count": 268,
      "outputs": [
        {
          "output_type": "stream",
          "name": "stdout",
          "text": [
            "Classification Report:\n",
            "              precision    recall  f1-score   support\n",
            "\n",
            "           0       0.72      0.93      0.81       118\n",
            "           1       0.82      0.46      0.59        78\n",
            "\n",
            "    accuracy                           0.74       196\n",
            "   macro avg       0.77      0.70      0.70       196\n",
            "weighted avg       0.76      0.74      0.73       196\n",
            "\n"
          ]
        }
      ]
    },
    {
      "cell_type": "markdown",
      "source": [
        "# 해결"
      ],
      "metadata": {
        "id": "XKp9GToPxRlf"
      }
    },
    {
      "cell_type": "code",
      "source": [
        "import torch\n",
        "import torch.nn as nn\n",
        "\n",
        "class_weights_tensor = torch.tensor(class_weights, dtype=torch.float32).to(device)\n",
        "\n",
        "def weighted_loss_fn(y_pred, y_true):\n",
        "    loss_fn = nn.CrossEntropyLoss(weight=class_weights_tensor)\n",
        "    return loss_fn(y_pred, y_true)\n",
        "\n",
        "clf.fit(\n",
        "    X_train=X_train.values, y_train=y_train.values,\n",
        "    eval_set=[(X_val.values, y_val.values)],\n",
        "    eval_name=[\"val\"],\n",
        "    eval_metric=[\"accuracy\"],\n",
        "    max_epochs=100,\n",
        "    patience=10,\n",
        "    batch_size=256,\n",
        "    virtual_batch_size=128,\n",
        "    loss_fn=weighted_loss_fn\n",
        ")"
      ],
      "metadata": {
        "colab": {
          "base_uri": "https://localhost:8080/"
        },
        "id": "Hakk_7IdxStv",
        "outputId": "c0150d06-a8df-449d-b7d2-9dc8f3bc9e5f"
      },
      "execution_count": 315,
      "outputs": [
        {
          "output_type": "stream",
          "name": "stdout",
          "text": [
            "epoch 0  | loss: 1.03256 | val_accuracy: 0.57432 |  0:00:00s\n",
            "epoch 1  | loss: 0.55061 | val_accuracy: 0.77027 |  0:00:00s\n",
            "epoch 2  | loss: 0.44352 | val_accuracy: 0.74324 |  0:00:00s\n",
            "epoch 3  | loss: 0.40471 | val_accuracy: 0.76351 |  0:00:00s\n",
            "epoch 4  | loss: 0.33971 | val_accuracy: 0.78378 |  0:00:01s\n",
            "epoch 5  | loss: 0.31544 | val_accuracy: 0.72973 |  0:00:01s\n",
            "epoch 6  | loss: 0.18341 | val_accuracy: 0.81757 |  0:00:01s\n",
            "epoch 7  | loss: 0.13231 | val_accuracy: 0.89189 |  0:00:01s\n",
            "epoch 8  | loss: 0.05533 | val_accuracy: 0.87838 |  0:00:02s\n",
            "epoch 9  | loss: 0.03303 | val_accuracy: 0.77027 |  0:00:02s\n",
            "epoch 10 | loss: 0.01655 | val_accuracy: 0.7973  |  0:00:02s\n",
            "epoch 11 | loss: 0.0091  | val_accuracy: 0.80405 |  0:00:02s\n",
            "epoch 12 | loss: 0.00694 | val_accuracy: 0.79054 |  0:00:03s\n",
            "epoch 13 | loss: 0.00807 | val_accuracy: 0.76351 |  0:00:03s\n",
            "epoch 14 | loss: 0.00219 | val_accuracy: 0.77027 |  0:00:03s\n",
            "epoch 15 | loss: 0.00138 | val_accuracy: 0.77027 |  0:00:04s\n",
            "epoch 16 | loss: 0.00131 | val_accuracy: 0.77027 |  0:00:04s\n",
            "epoch 17 | loss: 0.00155 | val_accuracy: 0.77027 |  0:00:04s\n",
            "\n",
            "Early stopping occurred at epoch 17 with best_epoch = 7 and best_val_accuracy = 0.89189\n"
          ]
        },
        {
          "output_type": "stream",
          "name": "stderr",
          "text": [
            "/usr/local/lib/python3.11/dist-packages/pytorch_tabnet/callbacks.py:172: UserWarning: Best weights from best epoch are automatically used!\n",
            "  warnings.warn(wrn_msg)\n"
          ]
        }
      ]
    },
    {
      "cell_type": "code",
      "source": [
        "import numpy as np\n",
        "\n",
        "y_pred = clf.predict(X_test.to_numpy(dtype=np.float32))"
      ],
      "metadata": {
        "id": "zb0jogjrxxZM"
      },
      "execution_count": 317,
      "outputs": []
    },
    {
      "cell_type": "code",
      "source": [
        "y_pred = clf.predict(np.array(X_test, dtype=np.float32))"
      ],
      "metadata": {
        "id": "zE63JHXExzRf"
      },
      "execution_count": 319,
      "outputs": []
    },
    {
      "cell_type": "code",
      "source": [
        "print(X_test.dtypes)"
      ],
      "metadata": {
        "colab": {
          "base_uri": "https://localhost:8080/"
        },
        "id": "R_ZXEpfox7nx",
        "outputId": "248fd7ee-df1a-4295-d5a0-a3d9b8392bfa"
      },
      "execution_count": 322,
      "outputs": [
        {
          "output_type": "stream",
          "name": "stdout",
          "text": [
            "Age                                               int64\n",
            "Cost                                              int64\n",
            "Length_of_Stay                                    int64\n",
            "Satisfaction                                      int64\n",
            "Gender_Female                                      bool\n",
            "Gender_Male                                        bool\n",
            "Condition_Allergic Reaction                        bool\n",
            "Condition_Appendicitis                             bool\n",
            "Condition_Cancer                                   bool\n",
            "Condition_Childbirth                               bool\n",
            "Condition_Diabetes                                 bool\n",
            "Condition_Fractured Arm                            bool\n",
            "Condition_Fractured Leg                            bool\n",
            "Condition_Heart Attack                             bool\n",
            "Condition_Heart Disease                            bool\n",
            "Condition_Hypertension                             bool\n",
            "Condition_Kidney Stones                            bool\n",
            "Condition_Osteoarthritis                           bool\n",
            "Condition_Prostate Cancer                          bool\n",
            "Condition_Respiratory Infection                    bool\n",
            "Condition_Stroke                                   bool\n",
            "Procedure_Angioplasty                              bool\n",
            "Procedure_Antibiotics and Rest                     bool\n",
            "Procedure_Appendectomy                             bool\n",
            "Procedure_CT Scan and Medication                   bool\n",
            "Procedure_Cardiac Catheterization                  bool\n",
            "Procedure_Cast and Physical Therapy                bool\n",
            "Procedure_Delivery and Postnatal Care              bool\n",
            "Procedure_Epinephrine Injection                    bool\n",
            "Procedure_Insulin Therapy                          bool\n",
            "Procedure_Lithotripsy                              bool\n",
            "Procedure_Medication and Counseling                bool\n",
            "Procedure_Physical Therapy and Pain Management     bool\n",
            "Procedure_Radiation Therapy                        bool\n",
            "Procedure_Surgery and Chemotherapy                 bool\n",
            "Procedure_X-Ray and Splint                         bool\n",
            "Readmission_No                                     bool\n",
            "Readmission_Yes                                    bool\n",
            "dtype: object\n"
          ]
        }
      ]
    },
    {
      "cell_type": "code",
      "source": [
        "# 모든 값을 float32 타입의 numpy 배열로 변환\n",
        "X_test_np = X_test.astype(np.float32).to_numpy()\n",
        "\n",
        "# 예측 수행\n",
        "y_pred = clf.predict(X_test_np)\n",
        "\n",
        "# 결과 출력\n",
        "from sklearn.metrics import classification_report\n",
        "print(classification_report(y_test, y_pred))"
      ],
      "metadata": {
        "colab": {
          "base_uri": "https://localhost:8080/"
        },
        "id": "JbPskrsyyJft",
        "outputId": "eee5550a-7ff3-4d36-cc25-2fd8549aa29e"
      },
      "execution_count": 325,
      "outputs": [
        {
          "output_type": "stream",
          "name": "stdout",
          "text": [
            "              precision    recall  f1-score   support\n",
            "\n",
            "   Recovered       0.50      0.19      0.28        84\n",
            "      Stable       0.41      0.75      0.53        64\n",
            "\n",
            "    accuracy                           0.43       148\n",
            "   macro avg       0.46      0.47      0.40       148\n",
            "weighted avg       0.46      0.43      0.39       148\n",
            "\n"
          ]
        }
      ]
    },
    {
      "cell_type": "code",
      "source": [
        "# 클래스 불균형 조정\n",
        "from torch.nn import CrossEntropyLoss\n",
        "\n",
        "class_weights = compute_class_weight('balanced', classes=np.unique(y_train), y=y_train)\n",
        "class_weights_tensor = torch.tensor(class_weights, dtype=torch.float32).to(device)\n",
        "\n",
        "clf = TabNetClassifier(\n",
        "    device_name=device.type,\n",
        "    n_d=64, n_a=64,\n",
        "    n_steps=5,\n",
        "    gamma=1.5,\n",
        "    lambda_sparse=1e-4,\n",
        "    optimizer_fn=torch.optim.Adam,\n",
        "    optimizer_params=dict(lr=2e-2),\n",
        "    scheduler_params={\"step_size\": 10, \"gamma\": 0.9},\n",
        "    scheduler_fn=torch.optim.lr_scheduler.StepLR,\n",
        "    verbose=1\n",
        ")\n",
        "\n",
        "clf.fit(\n",
        "    X_train=X_train.astype(np.float32).to_numpy(),\n",
        "    y_train=y_train,\n",
        "    eval_set=[(X_test.astype(np.float32).to_numpy(), y_test)],\n",
        "    eval_metric=[\"accuracy\"],\n",
        "    loss_fn=CrossEntropyLoss(weight=class_weights_tensor),\n",
        "    max_epochs=100,\n",
        "    patience=10,\n",
        "    batch_size=256,\n",
        "    virtual_batch_size=128\n",
        ")"
      ],
      "metadata": {
        "colab": {
          "base_uri": "https://localhost:8080/"
        },
        "id": "Jyq2e-Xjyc0N",
        "outputId": "a247cb92-ac0f-4d31-e2af-f3ae1fa8e083"
      },
      "execution_count": 378,
      "outputs": [
        {
          "output_type": "stream",
          "name": "stderr",
          "text": [
            "/usr/local/lib/python3.11/dist-packages/pytorch_tabnet/abstract_model.py:82: UserWarning: Device used : cpu\n",
            "  warnings.warn(f\"Device used : {self.device}\")\n"
          ]
        },
        {
          "output_type": "stream",
          "name": "stdout",
          "text": [
            "epoch 0  | loss: 0.87283 | val_0_accuracy: 0.39086 |  0:00:00s\n",
            "epoch 1  | loss: 0.36687 | val_0_accuracy: 0.47208 |  0:00:01s\n",
            "epoch 2  | loss: 0.21109 | val_0_accuracy: 0.64467 |  0:00:02s\n",
            "epoch 3  | loss: 0.14879 | val_0_accuracy: 0.66497 |  0:00:03s\n",
            "epoch 4  | loss: 0.03119 | val_0_accuracy: 0.49746 |  0:00:05s\n",
            "epoch 5  | loss: 0.01629 | val_0_accuracy: 0.62437 |  0:00:05s\n",
            "epoch 6  | loss: 0.00981 | val_0_accuracy: 0.67513 |  0:00:06s\n",
            "epoch 7  | loss: 0.01466 | val_0_accuracy: 0.70558 |  0:00:06s\n",
            "epoch 8  | loss: 0.0037  | val_0_accuracy: 0.63452 |  0:00:07s\n",
            "epoch 9  | loss: 0.00108 | val_0_accuracy: 0.59391 |  0:00:08s\n",
            "epoch 10 | loss: 0.00056 | val_0_accuracy: 0.61929 |  0:00:08s\n",
            "epoch 11 | loss: 0.00022 | val_0_accuracy: 0.54822 |  0:00:09s\n",
            "epoch 12 | loss: 0.00046 | val_0_accuracy: 0.51269 |  0:00:09s\n",
            "epoch 13 | loss: 0.00019 | val_0_accuracy: 0.51777 |  0:00:10s\n",
            "epoch 14 | loss: 0.00017 | val_0_accuracy: 0.54822 |  0:00:10s\n",
            "epoch 15 | loss: 0.00013 | val_0_accuracy: 0.57868 |  0:00:10s\n",
            "epoch 16 | loss: 9e-05   | val_0_accuracy: 0.59898 |  0:00:10s\n",
            "epoch 17 | loss: 6e-05   | val_0_accuracy: 0.60406 |  0:00:11s\n",
            "\n",
            "Early stopping occurred at epoch 17 with best_epoch = 7 and best_val_0_accuracy = 0.70558\n"
          ]
        },
        {
          "output_type": "stream",
          "name": "stderr",
          "text": [
            "/usr/local/lib/python3.11/dist-packages/pytorch_tabnet/callbacks.py:172: UserWarning: Best weights from best epoch are automatically used!\n",
            "  warnings.warn(wrn_msg)\n"
          ]
        }
      ]
    },
    {
      "cell_type": "code",
      "source": [
        "y_pred = clf.predict(X_test.astype(np.float32).to_numpy())"
      ],
      "metadata": {
        "id": "v4FyY_fPyogh"
      },
      "execution_count": 379,
      "outputs": []
    },
    {
      "cell_type": "markdown",
      "source": [
        "# 클래스 불균형 조정 후 결과 분석\n",
        "\n",
        "- Stable 클래스는 불균형으로 인해 잘 예측되지 않았는데, 가중치 적용 후 precision과 recall이 모두 향상되었습니다.\n",
        "- Recovered 클래스도 성능이 유지되고 있어 균형 잡힌 모델이 되었습니다.\n",
        "- 또한 과적합도 완화된 모습을 보입니다."
      ],
      "metadata": {
        "id": "pRvJhacczBdM"
      }
    },
    {
      "cell_type": "code",
      "source": [
        "from sklearn.metrics import classification_report, confusion_matrix, accuracy_score\n",
        "\n",
        "# 분류 리포트\n",
        "print(\"Classification Report:\")\n",
        "print(classification_report(y_test, y_pred, target_names=[\"Recovered\", \"Stable\"]))\n",
        "\n",
        "# 혼동 행렬\n",
        "print(\"\\nConfusion Matrix:\")\n",
        "print(confusion_matrix(y_test, y_pred))\n",
        "\n",
        "# 정확도\n",
        "print(\"\\nAccuracy:\", accuracy_score(y_test, y_pred))"
      ],
      "metadata": {
        "colab": {
          "base_uri": "https://localhost:8080/"
        },
        "id": "Mu8Qv8GCyxyH",
        "outputId": "6eda164e-3444-4b6f-c7e1-1641ef4ab108"
      },
      "execution_count": 380,
      "outputs": [
        {
          "output_type": "stream",
          "name": "stdout",
          "text": [
            "Classification Report:\n",
            "              precision    recall  f1-score   support\n",
            "\n",
            "   Recovered       0.71      0.86      0.78       118\n",
            "      Stable       0.69      0.48      0.57        79\n",
            "\n",
            "    accuracy                           0.71       197\n",
            "   macro avg       0.70      0.67      0.67       197\n",
            "weighted avg       0.70      0.71      0.69       197\n",
            "\n",
            "\n",
            "Confusion Matrix:\n",
            "[[101  17]\n",
            " [ 41  38]]\n",
            "\n",
            "Accuracy: 0.7055837563451777\n"
          ]
        }
      ]
    },
    {
      "cell_type": "markdown",
      "source": [
        "# Entity Embedding + MLP 모델 구현하기"
      ],
      "metadata": {
        "id": "ssjulZYIzbbC"
      }
    },
    {
      "cell_type": "code",
      "source": [
        "print(X_train.columns)"
      ],
      "metadata": {
        "colab": {
          "base_uri": "https://localhost:8080/"
        },
        "id": "NO0D87zG1am_",
        "outputId": "0246885e-0e46-4e4a-b5aa-3232e699b3d0"
      },
      "execution_count": 338,
      "outputs": [
        {
          "output_type": "stream",
          "name": "stdout",
          "text": [
            "Index(['Age', 'Cost', 'Length_of_Stay', 'Satisfaction', 'Gender_Female',\n",
            "       'Gender_Male', 'Condition_Allergic Reaction', 'Condition_Appendicitis',\n",
            "       'Condition_Cancer', 'Condition_Childbirth', 'Condition_Diabetes',\n",
            "       'Condition_Fractured Arm', 'Condition_Fractured Leg',\n",
            "       'Condition_Heart Attack', 'Condition_Heart Disease',\n",
            "       'Condition_Hypertension', 'Condition_Kidney Stones',\n",
            "       'Condition_Osteoarthritis', 'Condition_Prostate Cancer',\n",
            "       'Condition_Respiratory Infection', 'Condition_Stroke',\n",
            "       'Procedure_Angioplasty', 'Procedure_Antibiotics and Rest',\n",
            "       'Procedure_Appendectomy', 'Procedure_CT Scan and Medication',\n",
            "       'Procedure_Cardiac Catheterization',\n",
            "       'Procedure_Cast and Physical Therapy',\n",
            "       'Procedure_Delivery and Postnatal Care',\n",
            "       'Procedure_Epinephrine Injection', 'Procedure_Insulin Therapy',\n",
            "       'Procedure_Lithotripsy', 'Procedure_Medication and Counseling',\n",
            "       'Procedure_Physical Therapy and Pain Management',\n",
            "       'Procedure_Radiation Therapy', 'Procedure_Surgery and Chemotherapy',\n",
            "       'Procedure_X-Ray and Splint', 'Readmission_No', 'Readmission_Yes'],\n",
            "      dtype='object')\n"
          ]
        }
      ]
    },
    {
      "cell_type": "code",
      "source": [
        "import pandas as pd\n",
        "import numpy as np\n",
        "import torch\n",
        "from sklearn.model_selection import train_test_split\n",
        "from sklearn.preprocessing import LabelEncoder, StandardScaler\n",
        "from torch.utils.data import Dataset, DataLoader\n",
        "import torch.nn as nn\n",
        "import torch.optim as optim\n",
        "\n",
        "# Target encoding\n",
        "label_encoder = LabelEncoder()\n",
        "patient['Outcome'] = label_encoder.fit_transform(patient['Outcome'])\n",
        "\n",
        "# Numerical & categorical 구분\n",
        "numerical_cols = ['Age', 'Cost', 'Length_of_Stay', 'Satisfaction']\n",
        "\n",
        "categorical_cols = [\n",
        "    'Gender_Female', 'Gender_Male',\n",
        "    'Condition_Allergic Reaction', 'Condition_Appendicitis',\n",
        "    'Condition_Cancer', 'Condition_Childbirth', 'Condition_Diabetes',\n",
        "    'Condition_Fractured Arm', 'Condition_Fractured Leg',\n",
        "    'Condition_Heart Attack', 'Condition_Heart Disease',\n",
        "    'Condition_Hypertension', 'Condition_Kidney Stones',\n",
        "    'Condition_Osteoarthritis', 'Condition_Prostate Cancer',\n",
        "    'Condition_Respiratory Infection', 'Condition_Stroke',\n",
        "    'Procedure_Angioplasty', 'Procedure_Antibiotics and Rest',\n",
        "    'Procedure_Appendectomy', 'Procedure_CT Scan and Medication',\n",
        "    'Procedure_Cardiac Catheterization',\n",
        "    'Procedure_Cast and Physical Therapy',\n",
        "    'Procedure_Delivery and Postnatal Care',\n",
        "    'Procedure_Epinephrine Injection', 'Procedure_Insulin Therapy',\n",
        "    'Procedure_Lithotripsy', 'Procedure_Medication and Counseling',\n",
        "    'Procedure_Physical Therapy and Pain Management',\n",
        "    'Procedure_Radiation Therapy', 'Procedure_Surgery and Chemotherapy',\n",
        "    'Procedure_X-Ray and Splint',\n",
        "    'Readmission_No', 'Readmission_Yes'\n",
        "]\n",
        "\n",
        "# Categorical encoding\n",
        "for col in categorical_cols:\n",
        "    patient[col] = patient[col].astype('category').cat.codes\n",
        "\n",
        "# Train-test split\n",
        "X = patient[numerical_cols + categorical_cols]\n",
        "y = patient['Outcome']\n",
        "X_train, X_test, y_train, y_test = train_test_split(X, y, test_size=0.2, stratify=y, random_state=42)\n"
      ],
      "metadata": {
        "id": "y64WzUyyzkhk"
      },
      "execution_count": 339,
      "outputs": []
    },
    {
      "cell_type": "code",
      "source": [
        "class MedicalDataset(Dataset):\n",
        "    def __init__(self, X, y, cat_cols, num_cols):\n",
        "        self.y = torch.tensor(y.values, dtype=torch.long)\n",
        "        self.cat_data = torch.tensor(X[cat_cols].values, dtype=torch.long)\n",
        "        self.num_data = torch.tensor(X[num_cols].values, dtype=torch.float32)\n",
        "\n",
        "    def __len__(self):\n",
        "        return len(self.y)\n",
        "\n",
        "    def __getitem__(self, idx):\n",
        "        return self.cat_data[idx], self.num_data[idx], self.y[idx]\n",
        "\n",
        "train_dataset = MedicalDataset(X_train, y_train, categorical_cols, numerical_cols)\n",
        "test_dataset = MedicalDataset(X_test, y_test, categorical_cols, numerical_cols)\n",
        "\n",
        "train_loader = DataLoader(train_dataset, batch_size=64, shuffle=True)\n",
        "test_loader = DataLoader(test_dataset, batch_size=64)"
      ],
      "metadata": {
        "id": "KvwgfmFw0d5e"
      },
      "execution_count": 340,
      "outputs": []
    },
    {
      "cell_type": "code",
      "source": [
        "class EntityEmbeddingModel(nn.Module):\n",
        "    def __init__(self, embedding_sizes, num_numerical, hidden_units=128, dropout=0.3):\n",
        "        super().__init__()\n",
        "        self.embeddings = nn.ModuleList([nn.Embedding(categories, size) for categories, size in embedding_sizes])\n",
        "        emb_dim = sum([size for _, size in embedding_sizes])\n",
        "        self.fc1 = nn.Linear(emb_dim + num_numerical, hidden_units)\n",
        "        self.fc2 = nn.Linear(hidden_units, 64)\n",
        "        self.fc3 = nn.Linear(64, 2)  # Binary classification\n",
        "        self.dropout = nn.Dropout(dropout)\n",
        "        self.relu = nn.ReLU()\n",
        "\n",
        "    def forward(self, x_cat, x_num):\n",
        "        x = [emb(x_cat[:, i]) for i, emb in enumerate(self.embeddings)]\n",
        "        x = torch.cat(x, dim=1)\n",
        "        x = torch.cat([x, x_num], dim=1)\n",
        "        x = self.dropout(self.relu(self.fc1(x)))\n",
        "        x = self.dropout(self.relu(self.fc2(x)))\n",
        "        return self.fc3(x)"
      ],
      "metadata": {
        "id": "VbucNzLX1pif"
      },
      "execution_count": 341,
      "outputs": []
    },
    {
      "cell_type": "code",
      "source": [
        "# 임베딩 사이즈 정의 (카테고리 수, 임베딩 차원)\n",
        "embedding_sizes = [(int(df[col].nunique()), min(50, (df[col].nunique() + 1) // 2)) for col in categorical_cols]\n",
        "\n",
        "model = EntityEmbeddingModel(embedding_sizes, num_numerical=len(numerical_cols)).to(\"cuda\" if torch.cuda.is_available() else \"cpu\")\n",
        "criterion = nn.CrossEntropyLoss()\n",
        "optimizer = optim.Adam(model.parameters(), lr=0.001)\n",
        "\n",
        "# 학습 루프\n",
        "device = torch.device(\"cuda\" if torch.cuda.is_available() else \"cpu\")\n",
        "for epoch in range(20):\n",
        "    model.train()\n",
        "    total_loss = 0\n",
        "    for cat, num, label in train_loader:\n",
        "        cat, num, label = cat.to(device), num.to(device), label.to(device)\n",
        "        optimizer.zero_grad()\n",
        "        output = model(cat, num)\n",
        "        loss = criterion(output, label)\n",
        "        loss.backward()\n",
        "        optimizer.step()\n",
        "        total_loss += loss.item()\n",
        "    print(f\"Epoch {epoch+1}, Loss: {total_loss/len(train_loader):.4f}\")"
      ],
      "metadata": {
        "colab": {
          "base_uri": "https://localhost:8080/"
        },
        "id": "dnEeR6451rJX",
        "outputId": "ea84e06f-b2dd-4d55-ad7e-1ec9d82c4ee7"
      },
      "execution_count": 342,
      "outputs": [
        {
          "output_type": "stream",
          "name": "stdout",
          "text": [
            "Epoch 1, Loss: 60.3295\n",
            "Epoch 2, Loss: 28.9348\n",
            "Epoch 3, Loss: 20.3684\n",
            "Epoch 4, Loss: 14.4739\n",
            "Epoch 5, Loss: 9.1081\n",
            "Epoch 6, Loss: 5.0629\n",
            "Epoch 7, Loss: 3.7396\n",
            "Epoch 8, Loss: 2.1282\n",
            "Epoch 9, Loss: 1.6502\n",
            "Epoch 10, Loss: 1.1191\n",
            "Epoch 11, Loss: 1.2667\n",
            "Epoch 12, Loss: 0.8950\n",
            "Epoch 13, Loss: 0.9269\n",
            "Epoch 14, Loss: 0.8481\n",
            "Epoch 15, Loss: 0.7387\n",
            "Epoch 16, Loss: 0.9103\n",
            "Epoch 17, Loss: 0.7131\n",
            "Epoch 18, Loss: 0.7494\n",
            "Epoch 19, Loss: 0.8022\n",
            "Epoch 20, Loss: 0.6709\n"
          ]
        }
      ]
    },
    {
      "cell_type": "markdown",
      "source": [
        "# 결과를 보면 label 1에 대해 예측이 전혀 안 되고 있습니다. (precision, recall, f1-score 모두 0)."
      ],
      "metadata": {
        "id": "yI5m90FG2LXU"
      }
    },
    {
      "cell_type": "code",
      "source": [
        "from sklearn.metrics import classification_report\n",
        "\n",
        "model.eval()\n",
        "all_preds, all_labels = [], []\n",
        "\n",
        "with torch.no_grad():\n",
        "    for cat, num, label in test_loader:\n",
        "        cat, num = cat.to(device), num.to(device)\n",
        "        output = model(cat, num)\n",
        "        preds = torch.argmax(output, dim=1).cpu().numpy()\n",
        "        all_preds.extend(preds)\n",
        "        all_labels.extend(label.numpy())\n",
        "\n",
        "print(classification_report(all_labels, all_preds))"
      ],
      "metadata": {
        "colab": {
          "base_uri": "https://localhost:8080/"
        },
        "id": "jqBkzVj31tLh",
        "outputId": "e0052f22-e3ff-4eb6-96ee-66ec768e40f7"
      },
      "execution_count": 348,
      "outputs": [
        {
          "output_type": "stream",
          "name": "stdout",
          "text": [
            "              precision    recall  f1-score   support\n",
            "\n",
            "           0       0.60      1.00      0.75       118\n",
            "           1       0.00      0.00      0.00        79\n",
            "\n",
            "    accuracy                           0.60       197\n",
            "   macro avg       0.30      0.50      0.37       197\n",
            "weighted avg       0.36      0.60      0.45       197\n",
            "\n"
          ]
        },
        {
          "output_type": "stream",
          "name": "stderr",
          "text": [
            "/usr/local/lib/python3.11/dist-packages/sklearn/metrics/_classification.py:1565: UndefinedMetricWarning: Precision is ill-defined and being set to 0.0 in labels with no predicted samples. Use `zero_division` parameter to control this behavior.\n",
            "  _warn_prf(average, modifier, f\"{metric.capitalize()} is\", len(result))\n",
            "/usr/local/lib/python3.11/dist-packages/sklearn/metrics/_classification.py:1565: UndefinedMetricWarning: Precision is ill-defined and being set to 0.0 in labels with no predicted samples. Use `zero_division` parameter to control this behavior.\n",
            "  _warn_prf(average, modifier, f\"{metric.capitalize()} is\", len(result))\n",
            "/usr/local/lib/python3.11/dist-packages/sklearn/metrics/_classification.py:1565: UndefinedMetricWarning: Precision is ill-defined and being set to 0.0 in labels with no predicted samples. Use `zero_division` parameter to control this behavior.\n",
            "  _warn_prf(average, modifier, f\"{metric.capitalize()} is\", len(result))\n"
          ]
        }
      ]
    },
    {
      "cell_type": "markdown",
      "source": [
        "# 클래스 가중치 넣기"
      ],
      "metadata": {
        "id": "wKOii_D22Qzw"
      }
    },
    {
      "cell_type": "code",
      "source": [
        "import torch.nn as nn\n",
        "from sklearn.utils.class_weight import compute_class_weight\n",
        "import numpy as np\n",
        "\n",
        "class_weights = compute_class_weight('balanced', classes=np.unique(y_train), y=y_train)\n",
        "class_weights = torch.tensor(class_weights, dtype=torch.float32).to(device)\n",
        "\n",
        "criterion = nn.CrossEntropyLoss(weight=class_weights)"
      ],
      "metadata": {
        "id": "JKRO9g2y2SPL"
      },
      "execution_count": 349,
      "outputs": []
    },
    {
      "cell_type": "markdown",
      "source": [
        "# 어느정도 불균형 존재"
      ],
      "metadata": {
        "id": "QMM4zpbV2hvC"
      }
    },
    {
      "cell_type": "code",
      "source": [
        "from collections import Counter\n",
        "print(Counter(y_train))\n",
        "print(Counter(y_test))"
      ],
      "metadata": {
        "colab": {
          "base_uri": "https://localhost:8080/"
        },
        "id": "d_LjVbIh2TyU",
        "outputId": "2985b207-13b3-42aa-a6a7-7df9535bfcca"
      },
      "execution_count": 350,
      "outputs": [
        {
          "output_type": "stream",
          "name": "stdout",
          "text": [
            "Counter({0: 473, 1: 314})\n",
            "Counter({0: 118, 1: 79})\n"
          ]
        }
      ]
    },
    {
      "cell_type": "markdown",
      "source": [
        "# 해결"
      ],
      "metadata": {
        "id": "MtHnlDFu28Fp"
      }
    },
    {
      "cell_type": "code",
      "source": [
        "# 클래스 가중치 계산 및 손실함수 정의\n",
        "import torch\n",
        "import torch.nn as nn\n",
        "from sklearn.utils.class_weight import compute_class_weight\n",
        "import numpy as np\n",
        "\n",
        "# device 설정\n",
        "device = torch.device(\"cuda\" if torch.cuda.is_available() else \"cpu\")\n",
        "\n",
        "# 클래스 가중치 계산 (train 라벨 기준)\n",
        "class_weights_np = compute_class_weight('balanced', classes=np.unique(y_train), y=y_train)\n",
        "print(\"Class weights:\", class_weights_np)\n",
        "\n",
        "class_weights = torch.tensor(class_weights_np, dtype=torch.float32).to(device)\n",
        "\n",
        "# 손실함수 정의에 클래스 가중치 적용\n",
        "criterion = nn.CrossEntropyLoss(weight=class_weights)"
      ],
      "metadata": {
        "colab": {
          "base_uri": "https://localhost:8080/"
        },
        "id": "ebGsKytF2jWj",
        "outputId": "b6b7e67e-9ed3-4e8c-cce4-4ea9982f2c57"
      },
      "execution_count": 355,
      "outputs": [
        {
          "output_type": "stream",
          "name": "stdout",
          "text": [
            "Class weights: [0.83192389 1.25318471]\n"
          ]
        }
      ]
    },
    {
      "cell_type": "code",
      "source": [
        "# MLP 모델\n",
        "class MLP(nn.Module):\n",
        "    def __init__(self, input_dim, hidden_dim=64, output_dim=2):\n",
        "        super(MLP, self).__init__()\n",
        "        self.net = nn.Sequential(\n",
        "            nn.Linear(input_dim, hidden_dim),\n",
        "            nn.ReLU(),\n",
        "            nn.Dropout(0.2),\n",
        "            nn.Linear(hidden_dim, hidden_dim),\n",
        "            nn.ReLU(),\n",
        "            nn.Linear(hidden_dim, output_dim)\n",
        "        )\n",
        "\n",
        "    def forward(self, x):\n",
        "        return self.net(x)"
      ],
      "metadata": {
        "id": "6ZOMxaHo2yMt"
      },
      "execution_count": 356,
      "outputs": []
    },
    {
      "cell_type": "code",
      "source": [
        "# 모델 학습\n",
        "model = MLP(input_dim=X_train.shape[1]).to(device)\n",
        "optimizer = torch.optim.Adam(model.parameters(), lr=1e-3)\n",
        "\n",
        "num_epochs = 30\n",
        "batch_size = 64\n",
        "\n",
        "from torch.utils.data import TensorDataset, DataLoader\n",
        "\n",
        "train_dataset = TensorDataset(torch.tensor(X_train.values, dtype=torch.float32),\n",
        "                              torch.tensor(y_train.values, dtype=torch.long))\n",
        "train_loader = DataLoader(train_dataset, batch_size=batch_size, shuffle=True)\n",
        "\n",
        "model.train()\n",
        "for epoch in range(num_epochs):\n",
        "    total_loss = 0\n",
        "    for batch_x, batch_y in train_loader:\n",
        "        batch_x, batch_y = batch_x.to(device), batch_y.to(device)\n",
        "        optimizer.zero_grad()\n",
        "        outputs = model(batch_x)\n",
        "        loss = criterion(outputs, batch_y)\n",
        "        loss.backward()\n",
        "        optimizer.step()\n",
        "        total_loss += loss.item()\n",
        "    print(f\"Epoch {epoch+1}/{num_epochs} Loss: {total_loss/len(train_loader):.4f}\")"
      ],
      "metadata": {
        "colab": {
          "base_uri": "https://localhost:8080/"
        },
        "id": "TDQ_U7YA20FF",
        "outputId": "0bbf05ae-0fa9-4052-8f29-76bec68425cb"
      },
      "execution_count": 357,
      "outputs": [
        {
          "output_type": "stream",
          "name": "stdout",
          "text": [
            "Epoch 1/30 Loss: 27.4077\n",
            "Epoch 2/30 Loss: 14.6368\n",
            "Epoch 3/30 Loss: 11.0219\n",
            "Epoch 4/30 Loss: 6.7529\n",
            "Epoch 5/30 Loss: 6.6974\n",
            "Epoch 6/30 Loss: 5.9675\n",
            "Epoch 7/30 Loss: 6.5994\n",
            "Epoch 8/30 Loss: 5.3909\n",
            "Epoch 9/30 Loss: 3.5611\n",
            "Epoch 10/30 Loss: 4.3627\n",
            "Epoch 11/30 Loss: 4.4751\n",
            "Epoch 12/30 Loss: 4.1602\n",
            "Epoch 13/30 Loss: 3.1153\n",
            "Epoch 14/30 Loss: 2.5837\n",
            "Epoch 15/30 Loss: 2.7029\n",
            "Epoch 16/30 Loss: 2.6310\n",
            "Epoch 17/30 Loss: 3.4040\n",
            "Epoch 18/30 Loss: 2.5817\n",
            "Epoch 19/30 Loss: 2.2761\n",
            "Epoch 20/30 Loss: 2.0423\n",
            "Epoch 21/30 Loss: 1.9513\n",
            "Epoch 22/30 Loss: 1.7242\n",
            "Epoch 23/30 Loss: 2.2410\n",
            "Epoch 24/30 Loss: 2.4015\n",
            "Epoch 25/30 Loss: 2.9518\n",
            "Epoch 26/30 Loss: 2.5272\n",
            "Epoch 27/30 Loss: 1.9317\n",
            "Epoch 28/30 Loss: 1.4429\n",
            "Epoch 29/30 Loss: 1.4137\n",
            "Epoch 30/30 Loss: 1.5421\n"
          ]
        }
      ]
    },
    {
      "cell_type": "code",
      "source": [
        "from sklearn.metrics import classification_report, confusion_matrix, accuracy_score\n",
        "# 평가\n",
        "model.eval()\n",
        "with torch.no_grad():\n",
        "    X_test_tensor = torch.tensor(X_test.values, dtype=torch.float32).to(device)\n",
        "    outputs = model(X_test_tensor)\n",
        "    probs = torch.softmax(outputs, dim=1)[:, 1].cpu().numpy()  # 클래스 1 확률\n",
        "\n",
        "# 임계값 0.4로 조정 (기본 0.5 대신)\n",
        "threshold = 0.4\n",
        "y_pred = (probs >= threshold).astype(int)\n",
        "\n",
        "print(classification_report(y_test, y_pred, zero_division=0))\n",
        "print(\"Confusion Matrix:\")\n",
        "print(confusion_matrix(y_test, y_pred))\n",
        "print(\"Accuracy:\", accuracy_score(y_test, y_pred))"
      ],
      "metadata": {
        "colab": {
          "base_uri": "https://localhost:8080/"
        },
        "id": "nkKGPLml22XJ",
        "outputId": "572ce97d-7880-4d15-964c-6afe316243e2"
      },
      "execution_count": 358,
      "outputs": [
        {
          "output_type": "stream",
          "name": "stdout",
          "text": [
            "              precision    recall  f1-score   support\n",
            "\n",
            "           0       0.79      0.81      0.79       118\n",
            "           1       0.70      0.67      0.68        79\n",
            "\n",
            "    accuracy                           0.75       197\n",
            "   macro avg       0.74      0.74      0.74       197\n",
            "weighted avg       0.75      0.75      0.75       197\n",
            "\n",
            "Confusion Matrix:\n",
            "[[95 23]\n",
            " [26 53]]\n",
            "Accuracy: 0.751269035532995\n"
          ]
        }
      ]
    },
    {
      "cell_type": "markdown",
      "source": [
        "# MLP/TabNet/Entity Embedding + MLP 성능 비교"
      ],
      "metadata": {
        "id": "OMWRjEN53iFJ"
      }
    },
    {
      "cell_type": "code",
      "source": [
        "print(type(y_test))          # 실제값\n",
        "print(type(y_test_pred))     # TabNet 예측값\n",
        "print(type(all_preds))"
      ],
      "metadata": {
        "colab": {
          "base_uri": "https://localhost:8080/"
        },
        "id": "7_nMb5_74qPB",
        "outputId": "34b5789e-1a4a-4a3d-f7f1-05eacb83a6db"
      },
      "execution_count": 363,
      "outputs": [
        {
          "output_type": "stream",
          "name": "stdout",
          "text": [
            "<class 'pandas.core.series.Series'>\n",
            "<class 'numpy.ndarray'>\n",
            "<class 'list'>\n"
          ]
        }
      ]
    },
    {
      "cell_type": "code",
      "source": [
        "from sklearn.metrics import classification_report, confusion_matrix, accuracy_score\n",
        "import pandas as pd\n",
        "\n",
        "def get_metrics(y_true, y_pred, model_name):\n",
        "    report = classification_report(y_true, y_pred, output_dict=True, zero_division=0)\n",
        "    acc = accuracy_score(y_true, y_pred)\n",
        "    cm = confusion_matrix(y_true, y_pred)\n",
        "    return {\n",
        "        \"Model\": model_name,\n",
        "        \"Accuracy\": acc,\n",
        "        \"Precision_0\": report['0']['precision'],\n",
        "        \"Recall_0\": report['0']['recall'],\n",
        "        \"F1_0\": report['0']['f1-score'],\n",
        "        \"Precision_1\": report['1']['precision'],\n",
        "        \"Recall_1\": report['1']['recall'],\n",
        "        \"F1_1\": report['1']['f1-score'],\n",
        "        \"Support_0\": report['0']['support'],\n",
        "        \"Support_1\": report['1']['support'],\n",
        "        \"Confusion_Matrix\": cm\n",
        "    }\n",
        "\n",
        "# MLP 모델 (test 데이터)\n",
        "metrics_mlp = get_metrics(y_test, y_pred_test, \"MLP\")\n",
        "\n",
        "# Entity Embedding + MLP 모델 (test 데이터)\n",
        "metrics_emb = get_metrics(y_test, y_pred, \"Entity Embedding + MLP\")\n",
        "\n",
        "# TabNet 예측 결과도 같은 형식으로 변수명 맞춰서 추가\n",
        "# 예: y_test_tabnet, y_pred_tabnet\n",
        "metrics_tabnet = get_metrics(y_test, y_pred, \"TabNet\")\n",
        "\n",
        "# 결과 DataFrame 만들기\n",
        "df_metrics = pd.DataFrame([metrics_mlp, metrics_emb,metrics_tabnet])  # + [metrics_tabnet] 필요 시 추가\n",
        "\n",
        "# Confusion matrix는 별도 출력하거나 필요시 아래처럼 출력 가능\n",
        "for i, row in df_metrics.iterrows():\n",
        "    print(f\"\\n=== {row['Model']} Confusion Matrix ===\")\n",
        "    print(row['Confusion_Matrix'])\n",
        "\n",
        "print(\"\\n=== Summary ===\")\n",
        "print(df_metrics.drop(columns=[\"Confusion_Matrix\"]))\n",
        "\n"
      ],
      "metadata": {
        "colab": {
          "base_uri": "https://localhost:8080/"
        },
        "id": "PFOWl9j97BPo",
        "outputId": "248b07bc-5dfa-416d-ee22-b5892538496e"
      },
      "execution_count": 372,
      "outputs": [
        {
          "output_type": "stream",
          "name": "stdout",
          "text": [
            "\n",
            "=== MLP Confusion Matrix ===\n",
            "[[118   0]\n",
            " [  0  79]]\n",
            "\n",
            "=== Entity Embedding + MLP Confusion Matrix ===\n",
            "[[95 23]\n",
            " [26 53]]\n",
            "\n",
            "=== TabNet Confusion Matrix ===\n",
            "[[95 23]\n",
            " [26 53]]\n",
            "\n",
            "=== Summary ===\n",
            "                    Model  Accuracy  Precision_0  Recall_0      F1_0  \\\n",
            "0                     MLP  1.000000     1.000000  1.000000  1.000000   \n",
            "1  Entity Embedding + MLP  0.751269     0.785124  0.805085  0.794979   \n",
            "2                  TabNet  0.751269     0.785124  0.805085  0.794979   \n",
            "\n",
            "   Precision_1  Recall_1      F1_1  Support_0  Support_1  \n",
            "0     1.000000  1.000000  1.000000      118.0       79.0  \n",
            "1     0.697368  0.670886  0.683871      118.0       79.0  \n",
            "2     0.697368  0.670886  0.683871      118.0       79.0  \n"
          ]
        }
      ]
    }
  ]
}