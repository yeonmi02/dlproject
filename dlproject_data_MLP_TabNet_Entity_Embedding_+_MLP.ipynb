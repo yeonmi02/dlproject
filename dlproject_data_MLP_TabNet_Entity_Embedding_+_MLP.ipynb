{
  "nbformat": 4,
  "nbformat_minor": 0,
  "metadata": {
    "colab": {
      "provenance": [],
      "mount_file_id": "1oFGAx0foi2ms5A_G7Xe5jAziilOP9MyS",
      "authorship_tag": "ABX9TyM/URvp+khBGqE5koGs4XjQ",
      "include_colab_link": true
    },
    "kernelspec": {
      "name": "python3",
      "display_name": "Python 3"
    },
    "language_info": {
      "name": "python"
    }
  },
  "cells": [
    {
      "cell_type": "markdown",
      "metadata": {
        "id": "view-in-github",
        "colab_type": "text"
      },
      "source": [
        "<a href=\"https://colab.research.google.com/github/yeonmi02/dlproject/blob/main/dlproject_data_MLP_TabNet_Entity_Embedding_%2B_MLP.ipynb\" target=\"_parent\"><img src=\"https://colab.research.google.com/assets/colab-badge.svg\" alt=\"Open In Colab\"/></a>"
      ]
    },
    {
      "cell_type": "markdown",
      "source": [
        "#데이터 불러오기"
      ],
      "metadata": {
        "id": "0h_Na1gUcWHU"
      }
    },
    {
      "cell_type": "code",
      "source": [
        "# 관련 라이브러리 임포트\n",
        "import torch\n",
        "import numpy as np\n",
        "import random\n",
        "\n",
        "# 모델 학습 결과를 고정시키기 위한 시드 고정하는 코드\n",
        "def set_seed(seed=42):\n",
        "    random.seed(seed)\n",
        "    np.random.seed(seed)\n",
        "    torch.manual_seed(seed)\n",
        "    torch.cuda.manual_seed(seed)\n",
        "    torch.cuda.manual_seed_all(seed)\n",
        "\n",
        "\n",
        "    torch.backends.cudnn.deterministic = True\n",
        "    torch.backends.cudnn.benchmark = False\n",
        "\n",
        "set_seed(42)"
      ],
      "metadata": {
        "id": "Be6skRDrLX5a"
      },
      "execution_count": 145,
      "outputs": []
    },
    {
      "cell_type": "code",
      "execution_count": 146,
      "metadata": {
        "colab": {
          "base_uri": "https://localhost:8080/",
          "height": 363
        },
        "id": "2koS7yHlPWmK",
        "outputId": "06a94c11-f274-40af-cbc0-1117fb0a3f0c"
      },
      "outputs": [
        {
          "output_type": "execute_result",
          "data": {
            "text/plain": [
              "   Patient_ID  Age  Gender          Condition                  Procedure  \\\n",
              "0           1   45  Female      Heart Disease                Angioplasty   \n",
              "1           2   60    Male           Diabetes            Insulin Therapy   \n",
              "2           3   32  Female      Fractured Arm           X-Ray and Splint   \n",
              "3           4   75    Male             Stroke     CT Scan and Medication   \n",
              "4           5   50  Female             Cancer   Surgery and Chemotherapy   \n",
              "5           6   68    Male       Hypertension  Medication and Counseling   \n",
              "6           7   55  Female       Appendicitis               Appendectomy   \n",
              "7           8   40    Male      Fractured Leg  Cast and Physical Therapy   \n",
              "8           9   70  Female       Heart Attack    Cardiac Catheterization   \n",
              "9          10   25    Male  Allergic Reaction      Epinephrine Injection   \n",
              "\n",
              "    Cost  Length_of_Stay Readmission    Outcome  Satisfaction  \n",
              "0  15000               5          No  Recovered             4  \n",
              "1   2000               3         Yes     Stable             3  \n",
              "2    500               1          No  Recovered             5  \n",
              "3  10000               7         Yes     Stable             2  \n",
              "4  25000              10          No  Recovered             4  \n",
              "5   1000               2          No     Stable             4  \n",
              "6   8000               4          No  Recovered             3  \n",
              "7   3000               6          No  Recovered             4  \n",
              "8  18000               8         Yes     Stable             2  \n",
              "9    100               1          No  Recovered             5  "
            ],
            "text/html": [
              "\n",
              "  <div id=\"df-8e665a06-97c3-477c-8479-2a11c92354cc\" class=\"colab-df-container\">\n",
              "    <div>\n",
              "<style scoped>\n",
              "    .dataframe tbody tr th:only-of-type {\n",
              "        vertical-align: middle;\n",
              "    }\n",
              "\n",
              "    .dataframe tbody tr th {\n",
              "        vertical-align: top;\n",
              "    }\n",
              "\n",
              "    .dataframe thead th {\n",
              "        text-align: right;\n",
              "    }\n",
              "</style>\n",
              "<table border=\"1\" class=\"dataframe\">\n",
              "  <thead>\n",
              "    <tr style=\"text-align: right;\">\n",
              "      <th></th>\n",
              "      <th>Patient_ID</th>\n",
              "      <th>Age</th>\n",
              "      <th>Gender</th>\n",
              "      <th>Condition</th>\n",
              "      <th>Procedure</th>\n",
              "      <th>Cost</th>\n",
              "      <th>Length_of_Stay</th>\n",
              "      <th>Readmission</th>\n",
              "      <th>Outcome</th>\n",
              "      <th>Satisfaction</th>\n",
              "    </tr>\n",
              "  </thead>\n",
              "  <tbody>\n",
              "    <tr>\n",
              "      <th>0</th>\n",
              "      <td>1</td>\n",
              "      <td>45</td>\n",
              "      <td>Female</td>\n",
              "      <td>Heart Disease</td>\n",
              "      <td>Angioplasty</td>\n",
              "      <td>15000</td>\n",
              "      <td>5</td>\n",
              "      <td>No</td>\n",
              "      <td>Recovered</td>\n",
              "      <td>4</td>\n",
              "    </tr>\n",
              "    <tr>\n",
              "      <th>1</th>\n",
              "      <td>2</td>\n",
              "      <td>60</td>\n",
              "      <td>Male</td>\n",
              "      <td>Diabetes</td>\n",
              "      <td>Insulin Therapy</td>\n",
              "      <td>2000</td>\n",
              "      <td>3</td>\n",
              "      <td>Yes</td>\n",
              "      <td>Stable</td>\n",
              "      <td>3</td>\n",
              "    </tr>\n",
              "    <tr>\n",
              "      <th>2</th>\n",
              "      <td>3</td>\n",
              "      <td>32</td>\n",
              "      <td>Female</td>\n",
              "      <td>Fractured Arm</td>\n",
              "      <td>X-Ray and Splint</td>\n",
              "      <td>500</td>\n",
              "      <td>1</td>\n",
              "      <td>No</td>\n",
              "      <td>Recovered</td>\n",
              "      <td>5</td>\n",
              "    </tr>\n",
              "    <tr>\n",
              "      <th>3</th>\n",
              "      <td>4</td>\n",
              "      <td>75</td>\n",
              "      <td>Male</td>\n",
              "      <td>Stroke</td>\n",
              "      <td>CT Scan and Medication</td>\n",
              "      <td>10000</td>\n",
              "      <td>7</td>\n",
              "      <td>Yes</td>\n",
              "      <td>Stable</td>\n",
              "      <td>2</td>\n",
              "    </tr>\n",
              "    <tr>\n",
              "      <th>4</th>\n",
              "      <td>5</td>\n",
              "      <td>50</td>\n",
              "      <td>Female</td>\n",
              "      <td>Cancer</td>\n",
              "      <td>Surgery and Chemotherapy</td>\n",
              "      <td>25000</td>\n",
              "      <td>10</td>\n",
              "      <td>No</td>\n",
              "      <td>Recovered</td>\n",
              "      <td>4</td>\n",
              "    </tr>\n",
              "    <tr>\n",
              "      <th>5</th>\n",
              "      <td>6</td>\n",
              "      <td>68</td>\n",
              "      <td>Male</td>\n",
              "      <td>Hypertension</td>\n",
              "      <td>Medication and Counseling</td>\n",
              "      <td>1000</td>\n",
              "      <td>2</td>\n",
              "      <td>No</td>\n",
              "      <td>Stable</td>\n",
              "      <td>4</td>\n",
              "    </tr>\n",
              "    <tr>\n",
              "      <th>6</th>\n",
              "      <td>7</td>\n",
              "      <td>55</td>\n",
              "      <td>Female</td>\n",
              "      <td>Appendicitis</td>\n",
              "      <td>Appendectomy</td>\n",
              "      <td>8000</td>\n",
              "      <td>4</td>\n",
              "      <td>No</td>\n",
              "      <td>Recovered</td>\n",
              "      <td>3</td>\n",
              "    </tr>\n",
              "    <tr>\n",
              "      <th>7</th>\n",
              "      <td>8</td>\n",
              "      <td>40</td>\n",
              "      <td>Male</td>\n",
              "      <td>Fractured Leg</td>\n",
              "      <td>Cast and Physical Therapy</td>\n",
              "      <td>3000</td>\n",
              "      <td>6</td>\n",
              "      <td>No</td>\n",
              "      <td>Recovered</td>\n",
              "      <td>4</td>\n",
              "    </tr>\n",
              "    <tr>\n",
              "      <th>8</th>\n",
              "      <td>9</td>\n",
              "      <td>70</td>\n",
              "      <td>Female</td>\n",
              "      <td>Heart Attack</td>\n",
              "      <td>Cardiac Catheterization</td>\n",
              "      <td>18000</td>\n",
              "      <td>8</td>\n",
              "      <td>Yes</td>\n",
              "      <td>Stable</td>\n",
              "      <td>2</td>\n",
              "    </tr>\n",
              "    <tr>\n",
              "      <th>9</th>\n",
              "      <td>10</td>\n",
              "      <td>25</td>\n",
              "      <td>Male</td>\n",
              "      <td>Allergic Reaction</td>\n",
              "      <td>Epinephrine Injection</td>\n",
              "      <td>100</td>\n",
              "      <td>1</td>\n",
              "      <td>No</td>\n",
              "      <td>Recovered</td>\n",
              "      <td>5</td>\n",
              "    </tr>\n",
              "  </tbody>\n",
              "</table>\n",
              "</div>\n",
              "    <div class=\"colab-df-buttons\">\n",
              "\n",
              "  <div class=\"colab-df-container\">\n",
              "    <button class=\"colab-df-convert\" onclick=\"convertToInteractive('df-8e665a06-97c3-477c-8479-2a11c92354cc')\"\n",
              "            title=\"Convert this dataframe to an interactive table.\"\n",
              "            style=\"display:none;\">\n",
              "\n",
              "  <svg xmlns=\"http://www.w3.org/2000/svg\" height=\"24px\" viewBox=\"0 -960 960 960\">\n",
              "    <path d=\"M120-120v-720h720v720H120Zm60-500h600v-160H180v160Zm220 220h160v-160H400v160Zm0 220h160v-160H400v160ZM180-400h160v-160H180v160Zm440 0h160v-160H620v160ZM180-180h160v-160H180v160Zm440 0h160v-160H620v160Z\"/>\n",
              "  </svg>\n",
              "    </button>\n",
              "\n",
              "  <style>\n",
              "    .colab-df-container {\n",
              "      display:flex;\n",
              "      gap: 12px;\n",
              "    }\n",
              "\n",
              "    .colab-df-convert {\n",
              "      background-color: #E8F0FE;\n",
              "      border: none;\n",
              "      border-radius: 50%;\n",
              "      cursor: pointer;\n",
              "      display: none;\n",
              "      fill: #1967D2;\n",
              "      height: 32px;\n",
              "      padding: 0 0 0 0;\n",
              "      width: 32px;\n",
              "    }\n",
              "\n",
              "    .colab-df-convert:hover {\n",
              "      background-color: #E2EBFA;\n",
              "      box-shadow: 0px 1px 2px rgba(60, 64, 67, 0.3), 0px 1px 3px 1px rgba(60, 64, 67, 0.15);\n",
              "      fill: #174EA6;\n",
              "    }\n",
              "\n",
              "    .colab-df-buttons div {\n",
              "      margin-bottom: 4px;\n",
              "    }\n",
              "\n",
              "    [theme=dark] .colab-df-convert {\n",
              "      background-color: #3B4455;\n",
              "      fill: #D2E3FC;\n",
              "    }\n",
              "\n",
              "    [theme=dark] .colab-df-convert:hover {\n",
              "      background-color: #434B5C;\n",
              "      box-shadow: 0px 1px 3px 1px rgba(0, 0, 0, 0.15);\n",
              "      filter: drop-shadow(0px 1px 2px rgba(0, 0, 0, 0.3));\n",
              "      fill: #FFFFFF;\n",
              "    }\n",
              "  </style>\n",
              "\n",
              "    <script>\n",
              "      const buttonEl =\n",
              "        document.querySelector('#df-8e665a06-97c3-477c-8479-2a11c92354cc button.colab-df-convert');\n",
              "      buttonEl.style.display =\n",
              "        google.colab.kernel.accessAllowed ? 'block' : 'none';\n",
              "\n",
              "      async function convertToInteractive(key) {\n",
              "        const element = document.querySelector('#df-8e665a06-97c3-477c-8479-2a11c92354cc');\n",
              "        const dataTable =\n",
              "          await google.colab.kernel.invokeFunction('convertToInteractive',\n",
              "                                                    [key], {});\n",
              "        if (!dataTable) return;\n",
              "\n",
              "        const docLinkHtml = 'Like what you see? Visit the ' +\n",
              "          '<a target=\"_blank\" href=https://colab.research.google.com/notebooks/data_table.ipynb>data table notebook</a>'\n",
              "          + ' to learn more about interactive tables.';\n",
              "        element.innerHTML = '';\n",
              "        dataTable['output_type'] = 'display_data';\n",
              "        await google.colab.output.renderOutput(dataTable, element);\n",
              "        const docLink = document.createElement('div');\n",
              "        docLink.innerHTML = docLinkHtml;\n",
              "        element.appendChild(docLink);\n",
              "      }\n",
              "    </script>\n",
              "  </div>\n",
              "\n",
              "\n",
              "    <div id=\"df-8e981abd-0247-4a94-8264-ab609ed3149c\">\n",
              "      <button class=\"colab-df-quickchart\" onclick=\"quickchart('df-8e981abd-0247-4a94-8264-ab609ed3149c')\"\n",
              "                title=\"Suggest charts\"\n",
              "                style=\"display:none;\">\n",
              "\n",
              "<svg xmlns=\"http://www.w3.org/2000/svg\" height=\"24px\"viewBox=\"0 0 24 24\"\n",
              "     width=\"24px\">\n",
              "    <g>\n",
              "        <path d=\"M19 3H5c-1.1 0-2 .9-2 2v14c0 1.1.9 2 2 2h14c1.1 0 2-.9 2-2V5c0-1.1-.9-2-2-2zM9 17H7v-7h2v7zm4 0h-2V7h2v10zm4 0h-2v-4h2v4z\"/>\n",
              "    </g>\n",
              "</svg>\n",
              "      </button>\n",
              "\n",
              "<style>\n",
              "  .colab-df-quickchart {\n",
              "      --bg-color: #E8F0FE;\n",
              "      --fill-color: #1967D2;\n",
              "      --hover-bg-color: #E2EBFA;\n",
              "      --hover-fill-color: #174EA6;\n",
              "      --disabled-fill-color: #AAA;\n",
              "      --disabled-bg-color: #DDD;\n",
              "  }\n",
              "\n",
              "  [theme=dark] .colab-df-quickchart {\n",
              "      --bg-color: #3B4455;\n",
              "      --fill-color: #D2E3FC;\n",
              "      --hover-bg-color: #434B5C;\n",
              "      --hover-fill-color: #FFFFFF;\n",
              "      --disabled-bg-color: #3B4455;\n",
              "      --disabled-fill-color: #666;\n",
              "  }\n",
              "\n",
              "  .colab-df-quickchart {\n",
              "    background-color: var(--bg-color);\n",
              "    border: none;\n",
              "    border-radius: 50%;\n",
              "    cursor: pointer;\n",
              "    display: none;\n",
              "    fill: var(--fill-color);\n",
              "    height: 32px;\n",
              "    padding: 0;\n",
              "    width: 32px;\n",
              "  }\n",
              "\n",
              "  .colab-df-quickchart:hover {\n",
              "    background-color: var(--hover-bg-color);\n",
              "    box-shadow: 0 1px 2px rgba(60, 64, 67, 0.3), 0 1px 3px 1px rgba(60, 64, 67, 0.15);\n",
              "    fill: var(--button-hover-fill-color);\n",
              "  }\n",
              "\n",
              "  .colab-df-quickchart-complete:disabled,\n",
              "  .colab-df-quickchart-complete:disabled:hover {\n",
              "    background-color: var(--disabled-bg-color);\n",
              "    fill: var(--disabled-fill-color);\n",
              "    box-shadow: none;\n",
              "  }\n",
              "\n",
              "  .colab-df-spinner {\n",
              "    border: 2px solid var(--fill-color);\n",
              "    border-color: transparent;\n",
              "    border-bottom-color: var(--fill-color);\n",
              "    animation:\n",
              "      spin 1s steps(1) infinite;\n",
              "  }\n",
              "\n",
              "  @keyframes spin {\n",
              "    0% {\n",
              "      border-color: transparent;\n",
              "      border-bottom-color: var(--fill-color);\n",
              "      border-left-color: var(--fill-color);\n",
              "    }\n",
              "    20% {\n",
              "      border-color: transparent;\n",
              "      border-left-color: var(--fill-color);\n",
              "      border-top-color: var(--fill-color);\n",
              "    }\n",
              "    30% {\n",
              "      border-color: transparent;\n",
              "      border-left-color: var(--fill-color);\n",
              "      border-top-color: var(--fill-color);\n",
              "      border-right-color: var(--fill-color);\n",
              "    }\n",
              "    40% {\n",
              "      border-color: transparent;\n",
              "      border-right-color: var(--fill-color);\n",
              "      border-top-color: var(--fill-color);\n",
              "    }\n",
              "    60% {\n",
              "      border-color: transparent;\n",
              "      border-right-color: var(--fill-color);\n",
              "    }\n",
              "    80% {\n",
              "      border-color: transparent;\n",
              "      border-right-color: var(--fill-color);\n",
              "      border-bottom-color: var(--fill-color);\n",
              "    }\n",
              "    90% {\n",
              "      border-color: transparent;\n",
              "      border-bottom-color: var(--fill-color);\n",
              "    }\n",
              "  }\n",
              "</style>\n",
              "\n",
              "      <script>\n",
              "        async function quickchart(key) {\n",
              "          const quickchartButtonEl =\n",
              "            document.querySelector('#' + key + ' button');\n",
              "          quickchartButtonEl.disabled = true;  // To prevent multiple clicks.\n",
              "          quickchartButtonEl.classList.add('colab-df-spinner');\n",
              "          try {\n",
              "            const charts = await google.colab.kernel.invokeFunction(\n",
              "                'suggestCharts', [key], {});\n",
              "          } catch (error) {\n",
              "            console.error('Error during call to suggestCharts:', error);\n",
              "          }\n",
              "          quickchartButtonEl.classList.remove('colab-df-spinner');\n",
              "          quickchartButtonEl.classList.add('colab-df-quickchart-complete');\n",
              "        }\n",
              "        (() => {\n",
              "          let quickchartButtonEl =\n",
              "            document.querySelector('#df-8e981abd-0247-4a94-8264-ab609ed3149c button');\n",
              "          quickchartButtonEl.style.display =\n",
              "            google.colab.kernel.accessAllowed ? 'block' : 'none';\n",
              "        })();\n",
              "      </script>\n",
              "    </div>\n",
              "\n",
              "    </div>\n",
              "  </div>\n"
            ],
            "application/vnd.google.colaboratory.intrinsic+json": {
              "type": "dataframe",
              "variable_name": "patient",
              "summary": "{\n  \"name\": \"patient\",\n  \"rows\": 984,\n  \"fields\": [\n    {\n      \"column\": \"Patient_ID\",\n      \"properties\": {\n        \"dtype\": \"number\",\n        \"std\": 288,\n        \"min\": 1,\n        \"max\": 1000,\n        \"num_unique_values\": 984,\n        \"samples\": [\n          624,\n          459,\n          744\n        ],\n        \"semantic_type\": \"\",\n        \"description\": \"\"\n      }\n    },\n    {\n      \"column\": \"Age\",\n      \"properties\": {\n        \"dtype\": \"number\",\n        \"std\": 14,\n        \"min\": 25,\n        \"max\": 78,\n        \"num_unique_values\": 22,\n        \"samples\": [\n          45,\n          52,\n          70\n        ],\n        \"semantic_type\": \"\",\n        \"description\": \"\"\n      }\n    },\n    {\n      \"column\": \"Gender\",\n      \"properties\": {\n        \"dtype\": \"category\",\n        \"num_unique_values\": 2,\n        \"samples\": [\n          \"Male\",\n          \"Female\"\n        ],\n        \"semantic_type\": \"\",\n        \"description\": \"\"\n      }\n    },\n    {\n      \"column\": \"Condition\",\n      \"properties\": {\n        \"dtype\": \"category\",\n        \"num_unique_values\": 15,\n        \"samples\": [\n          \"Allergic Reaction\",\n          \"Prostate Cancer\"\n        ],\n        \"semantic_type\": \"\",\n        \"description\": \"\"\n      }\n    },\n    {\n      \"column\": \"Procedure\",\n      \"properties\": {\n        \"dtype\": \"category\",\n        \"num_unique_values\": 15,\n        \"samples\": [\n          \"Epinephrine Injection\",\n          \"Radiation Therapy\"\n        ],\n        \"semantic_type\": \"\",\n        \"description\": \"\"\n      }\n    },\n    {\n      \"column\": \"Cost\",\n      \"properties\": {\n        \"dtype\": \"number\",\n        \"std\": 7761,\n        \"min\": 100,\n        \"max\": 25000,\n        \"num_unique_values\": 15,\n        \"samples\": [\n          100,\n          20000\n        ],\n        \"semantic_type\": \"\",\n        \"description\": \"\"\n      }\n    },\n    {\n      \"column\": \"Length_of_Stay\",\n      \"properties\": {\n        \"dtype\": \"number\",\n        \"std\": 19,\n        \"min\": 1,\n        \"max\": 76,\n        \"num_unique_values\": 76,\n        \"samples\": [\n          10,\n          36\n        ],\n        \"semantic_type\": \"\",\n        \"description\": \"\"\n      }\n    },\n    {\n      \"column\": \"Readmission\",\n      \"properties\": {\n        \"dtype\": \"category\",\n        \"num_unique_values\": 2,\n        \"samples\": [\n          \"Yes\",\n          \"No\"\n        ],\n        \"semantic_type\": \"\",\n        \"description\": \"\"\n      }\n    },\n    {\n      \"column\": \"Outcome\",\n      \"properties\": {\n        \"dtype\": \"category\",\n        \"num_unique_values\": 2,\n        \"samples\": [\n          \"Stable\",\n          \"Recovered\"\n        ],\n        \"semantic_type\": \"\",\n        \"description\": \"\"\n      }\n    },\n    {\n      \"column\": \"Satisfaction\",\n      \"properties\": {\n        \"dtype\": \"number\",\n        \"std\": 0,\n        \"min\": 2,\n        \"max\": 5,\n        \"num_unique_values\": 4,\n        \"samples\": [\n          3,\n          2\n        ],\n        \"semantic_type\": \"\",\n        \"description\": \"\"\n      }\n    }\n  ]\n}"
            }
          },
          "metadata": {},
          "execution_count": 146
        }
      ],
      "source": [
        "# 관련 라이브러리 임포트하는 코드\n",
        "import pandas as pd\n",
        "import matplotlib.pyplot as plt\n",
        "import seaborn as sns\n",
        "\n",
        "# 데이터 불러오는 코드\n",
        "patient = pd.read_csv('/content/drive/MyDrive/hospital data analysis.csv')\n",
        "patient.head(10)"
      ]
    },
    {
      "cell_type": "markdown",
      "source": [
        "# 데이터 전처리 하기"
      ],
      "metadata": {
        "id": "SmblY86qcrDx"
      }
    },
    {
      "cell_type": "code",
      "source": [
        "# 전처리를 하기 위한 라이브러리 임포트하는 코드\n",
        "import pandas as pd\n",
        "from sklearn.preprocessing import LabelEncoder, StandardScaler\n",
        "from sklearn.model_selection import train_test_split"
      ],
      "metadata": {
        "id": "OD97T3bXe0xZ"
      },
      "execution_count": 147,
      "outputs": []
    },
    {
      "cell_type": "code",
      "source": [
        "# 데이터 안에 존재하는 특성 출력하는 코드\n",
        "print(patient.columns.tolist())"
      ],
      "metadata": {
        "id": "i_yyw-cifLiL",
        "outputId": "789627b1-c2cc-4c83-a186-e191c65f717b",
        "colab": {
          "base_uri": "https://localhost:8080/"
        }
      },
      "execution_count": 148,
      "outputs": [
        {
          "output_type": "stream",
          "name": "stdout",
          "text": [
            "['Patient_ID', 'Age', 'Gender', 'Condition', 'Procedure', 'Cost', 'Length_of_Stay', 'Readmission', 'Outcome', 'Satisfaction']\n"
          ]
        }
      ]
    },
    {
      "cell_type": "code",
      "source": [
        "# 예측하는 과정에서 필요없는 특성을 제거하는 코드\n",
        "if 'Patient_ID' in patient.columns:\n",
        "    patient.drop(columns=['Patient_ID'], inplace=True)"
      ],
      "metadata": {
        "id": "hV494_c9e3fq"
      },
      "execution_count": 149,
      "outputs": []
    },
    {
      "cell_type": "code",
      "source": [
        "# 데이터에서 결측값들을 적절하게 채우는 코드\n",
        "patient.fillna({\n",
        "    'Age': patient['Age'].median(),\n",
        "    'Gender': patient['Gender'].mode()[0],\n",
        "    'Condition': 'Unknown',\n",
        "    'Procedure': 'Unknown',\n",
        "    'Cost': patient['Cost'].median(),\n",
        "    'Length_of_Stay': patient['Length_of_Stay'].median(),\n",
        "    'Readmission': 'No',\n",
        "    'Outcome': 'Unknown',\n",
        "    'Satisfaction': patient['Satisfaction'].mode()[0]\n",
        "}, inplace=True)"
      ],
      "metadata": {
        "id": "SjSNe5gme9lP"
      },
      "execution_count": 150,
      "outputs": []
    },
    {
      "cell_type": "code",
      "source": [
        "# 범주형 특성들을 수치형으로 변환하는 코드\n",
        "le = LabelEncoder()\n",
        "patient['Outcome_Label'] = le.fit_transform(patient['Outcome'])"
      ],
      "metadata": {
        "id": "Fl9BP_Yfl6F7"
      },
      "execution_count": 151,
      "outputs": []
    },
    {
      "cell_type": "code",
      "source": [
        "# 환자의 데이터를 원핫인코딩하는 코드\n",
        "categorical_cols = ['Gender', 'Condition', 'Procedure', 'Readmission']\n",
        "patient = pd.get_dummies(patient, columns=categorical_cols)"
      ],
      "metadata": {
        "id": "p-NDzWJfl-Dm"
      },
      "execution_count": 152,
      "outputs": []
    },
    {
      "cell_type": "code",
      "source": [
        "# 데이터 프레임에서 특정 이름으로 시작하는 칼럼 삭제하는 코드\n",
        "patient.drop(columns=[col for col in patient.columns if col.startswith('Outcome_')], inplace=True)"
      ],
      "metadata": {
        "id": "jn4yXU96mBho"
      },
      "execution_count": 153,
      "outputs": []
    },
    {
      "cell_type": "code",
      "source": [
        "# 입력변수와 타겟변수를 처리하는 코드\n",
        "X = patient.drop(columns=['Outcome'])\n",
        "y = patient['Outcome']"
      ],
      "metadata": {
        "id": "YkcNkyVXmEuA"
      },
      "execution_count": 154,
      "outputs": []
    },
    {
      "cell_type": "code",
      "source": [
        "# 입력 데이터를 바탕으로 표준화를 진행하는 코드\n",
        "scaler = StandardScaler()\n",
        "X_scaled = scaler.fit_transform(X)"
      ],
      "metadata": {
        "id": "Dcx-4FT8mYDZ"
      },
      "execution_count": 155,
      "outputs": []
    },
    {
      "cell_type": "code",
      "source": [
        "# 데이터를 분할하는 코드\n",
        "X_train, X_test, y_train, y_test = train_test_split(\n",
        "    X_scaled, y, test_size=0.2, random_state=42, stratify=y\n",
        ")"
      ],
      "metadata": {
        "id": "jdhVVzQRmr6b"
      },
      "execution_count": 156,
      "outputs": []
    },
    {
      "cell_type": "code",
      "source": [
        "# 데이터 전처리를 완료하고 확인하는 코드\n",
        "print(\"데이터 전처리 완료함\")\n",
        "print(\"X_train shape:\", X_train.shape)\n",
        "print(\"y label mapping:\", dict(zip(le.classes_, le.transform(le.classes_))))"
      ],
      "metadata": {
        "colab": {
          "base_uri": "https://localhost:8080/"
        },
        "id": "gsxbzyNrmx2T",
        "outputId": "a3b45921-3f3c-410b-bcb2-cb358cc12176"
      },
      "execution_count": 157,
      "outputs": [
        {
          "output_type": "stream",
          "name": "stdout",
          "text": [
            "데이터 전처리 완료함\n",
            "X_train shape: (787, 38)\n",
            "y label mapping: {'Recovered': np.int64(0), 'Stable': np.int64(1)}\n"
          ]
        }
      ]
    },
    {
      "cell_type": "code",
      "source": [
        "# 입력 데이터의 크기와 타겟 데이터의 크기를 확인하는 코드\n",
        "X_scaled.shape\n",
        "y.shape"
      ],
      "metadata": {
        "colab": {
          "base_uri": "https://localhost:8080/"
        },
        "id": "GfjvMVPhVeTY",
        "outputId": "a6df507c-a4e6-4768-bfb3-bd23131682e1"
      },
      "execution_count": 158,
      "outputs": [
        {
          "output_type": "execute_result",
          "data": {
            "text/plain": [
              "(984,)"
            ]
          },
          "metadata": {},
          "execution_count": 158
        }
      ]
    },
    {
      "cell_type": "code",
      "source": [
        "from sklearn.preprocessing import LabelEncoder\n",
        "\n",
        "# 범주형 타켓 변수를 숫자 레이블로 변환하는 코드\n",
        "le = LabelEncoder()\n",
        "y_train_encoded = le.fit_transform(y_train)\n",
        "y_test_encoded = le.transform(y_test)"
      ],
      "metadata": {
        "id": "bZEXMVJdZicT"
      },
      "execution_count": 159,
      "outputs": []
    },
    {
      "cell_type": "code",
      "source": [
        "# 각 변수의 타입을 확인하는 코드\n",
        "print(type(y_train))\n",
        "print(y_train[:10])\n",
        "print([type(x) for x in y_train[:10]])"
      ],
      "metadata": {
        "colab": {
          "base_uri": "https://localhost:8080/"
        },
        "id": "7Cex-WUXaPCS",
        "outputId": "acb5d79a-aced-49ad-db83-813b1369d9b0"
      },
      "execution_count": 160,
      "outputs": [
        {
          "output_type": "stream",
          "name": "stdout",
          "text": [
            "<class 'pandas.core.series.Series'>\n",
            "507       Stable\n",
            "345       Stable\n",
            "933       Stable\n",
            "71     Recovered\n",
            "544    Recovered\n",
            "645       Stable\n",
            "532       Stable\n",
            "905       Stable\n",
            "658    Recovered\n",
            "562       Stable\n",
            "Name: Outcome, dtype: object\n",
            "[<class 'str'>, <class 'str'>, <class 'str'>, <class 'str'>, <class 'str'>, <class 'str'>, <class 'str'>, <class 'str'>, <class 'str'>, <class 'str'>]\n"
          ]
        }
      ]
    },
    {
      "cell_type": "code",
      "source": [
        "# 라벨 값의 종류를 확인하는 코드\n",
        "print(\"라벨 종류:\", patient['Outcome'].unique())\n",
        "\n",
        "# 라벨의 분포 형태 알아보는 코드\n",
        "print(\"라벨 분포:\")\n",
        "print(patient['Outcome'].value_counts())\n",
        "\n",
        "# 결측치를 확인하는 코드\n",
        "missing_labels = patient['Outcome'].isnull().sum()\n",
        "print(f\"라벨 결측치 개수: {missing_labels}\")"
      ],
      "metadata": {
        "colab": {
          "base_uri": "https://localhost:8080/"
        },
        "id": "4gRecIVnDvrd",
        "outputId": "0ca6fd12-c402-426d-d1f2-f2936aeb3213"
      },
      "execution_count": 161,
      "outputs": [
        {
          "output_type": "stream",
          "name": "stdout",
          "text": [
            "라벨 종류: ['Recovered' 'Stable']\n",
            "라벨 분포:\n",
            "Outcome\n",
            "Recovered    591\n",
            "Stable       393\n",
            "Name: count, dtype: int64\n",
            "라벨 결측치 개수: 0\n"
          ]
        }
      ]
    },
    {
      "cell_type": "code",
      "source": [
        "import pandas as pd\n",
        "\n",
        "# 훈련 데이터와 테스트 데이터의 라벨 분포를 출력하는 코드\n",
        "print(\"Train 라벨 분포:\")\n",
        "print(pd.Series(y_train).value_counts(normalize=True))\n",
        "\n",
        "print(\"\\nTest 라벨 분포:\")\n",
        "print(pd.Series(y_test).value_counts(normalize=True))"
      ],
      "metadata": {
        "colab": {
          "base_uri": "https://localhost:8080/"
        },
        "id": "zIBs6FqOEWFX",
        "outputId": "965b1ba9-b271-4e14-b1da-491ed3459bed"
      },
      "execution_count": 162,
      "outputs": [
        {
          "output_type": "stream",
          "name": "stdout",
          "text": [
            "Train 라벨 분포:\n",
            "Outcome\n",
            "Recovered    0.601017\n",
            "Stable       0.398983\n",
            "Name: proportion, dtype: float64\n",
            "\n",
            "Test 라벨 분포:\n",
            "Outcome\n",
            "Recovered    0.598985\n",
            "Stable       0.401015\n",
            "Name: proportion, dtype: float64\n"
          ]
        }
      ]
    },
    {
      "cell_type": "code",
      "source": [
        "import numpy as np\n",
        "\n",
        "# 넘파이 배열로 변환하는 코드\n",
        "if 'pandas' in str(type(X_train)):\n",
        "    X_train = X_train.to_numpy(dtype=np.float32)\n",
        "    X_test = X_test.to_numpy(dtype=np.float32)\n",
        "\n",
        "if 'pandas' in str(type(y_train)):\n",
        "\n",
        "    from sklearn.preprocessing import LabelEncoder\n",
        "    le = LabelEncoder()\n",
        "    y_train = le.fit_transform(y_train)\n",
        "    y_test = le.transform(y_test)\n",
        "\n",
        "    # 넘파이 배열로 변환하는 코드\n",
        "    y_train = y_train.astype(np.float32)\n",
        "    y_test = y_test.astype(np.float32)"
      ],
      "metadata": {
        "id": "xYAhGIS4SBEb"
      },
      "execution_count": 163,
      "outputs": []
    },
    {
      "cell_type": "markdown",
      "source": [
        "# 다층 퍼셉트론 모델 구현하기"
      ],
      "metadata": {
        "id": "m7KLG813VhGg"
      }
    },
    {
      "cell_type": "code",
      "source": [
        "# 관련 라이브러리 임포트하는 코드\n",
        "import numpy as np\n",
        "import pandas as pd\n",
        "from sklearn.model_selection import train_test_split\n",
        "from sklearn.preprocessing import LabelEncoder, StandardScaler\n",
        "from sklearn.metrics import classification_report, confusion_matrix\n",
        "from tensorflow.keras.models import Sequential\n",
        "from tensorflow.keras.layers import Dense\n",
        "from tensorflow.keras.optimizers import Adam"
      ],
      "metadata": {
        "id": "aibygHbVQc6-"
      },
      "execution_count": 164,
      "outputs": []
    },
    {
      "cell_type": "code",
      "source": [
        "# 모델 구현하고 컴파일하는 코드\n",
        "model = Sequential([\n",
        "    Dense(64, activation='relu', input_shape=(X_train.shape[1],)),\n",
        "    Dense(32, activation='relu'),\n",
        "    Dense(1, activation='sigmoid')\n",
        "])\n",
        "\n",
        "model.compile(\n",
        "    optimizer='adam',\n",
        "    loss='binary_crossentropy',\n",
        "    metrics=['accuracy']\n",
        ")"
      ],
      "metadata": {
        "colab": {
          "base_uri": "https://localhost:8080/"
        },
        "id": "ZZu6AhRSR5NO",
        "outputId": "d93f93fe-0eb4-4d63-c21c-51e86d68c51d"
      },
      "execution_count": 165,
      "outputs": [
        {
          "output_type": "stream",
          "name": "stderr",
          "text": [
            "/usr/local/lib/python3.11/dist-packages/keras/src/layers/core/dense.py:87: UserWarning: Do not pass an `input_shape`/`input_dim` argument to a layer. When using Sequential models, prefer using an `Input(shape)` object as the first layer in the model instead.\n",
            "  super().__init__(activity_regularizer=activity_regularizer, **kwargs)\n"
          ]
        }
      ]
    },
    {
      "cell_type": "code",
      "source": [
        "# 딥러닝 모델을 훈련시키는 코드\n",
        "history = model.fit(\n",
        "    X_train, y_train,\n",
        "    validation_data=(X_test, y_test),\n",
        "    epochs=25,\n",
        "    batch_size=32,\n",
        "    verbose=2\n",
        ")"
      ],
      "metadata": {
        "colab": {
          "base_uri": "https://localhost:8080/"
        },
        "id": "GjjhL138R62J",
        "outputId": "2a30d7b3-328f-42d2-8ab8-22e35dd23e3a"
      },
      "execution_count": 166,
      "outputs": [
        {
          "output_type": "stream",
          "name": "stdout",
          "text": [
            "Epoch 1/25\n",
            "25/25 - 2s - 67ms/step - accuracy: 0.7827 - loss: 0.5309 - val_accuracy: 1.0000 - val_loss: 0.3276\n",
            "Epoch 2/25\n",
            "25/25 - 0s - 17ms/step - accuracy: 1.0000 - loss: 0.2216 - val_accuracy: 1.0000 - val_loss: 0.1196\n",
            "Epoch 3/25\n",
            "25/25 - 0s - 7ms/step - accuracy: 1.0000 - loss: 0.0746 - val_accuracy: 1.0000 - val_loss: 0.0372\n",
            "Epoch 4/25\n",
            "25/25 - 0s - 6ms/step - accuracy: 1.0000 - loss: 0.0248 - val_accuracy: 1.0000 - val_loss: 0.0146\n",
            "Epoch 5/25\n",
            "25/25 - 0s - 6ms/step - accuracy: 1.0000 - loss: 0.0113 - val_accuracy: 1.0000 - val_loss: 0.0079\n",
            "Epoch 6/25\n",
            "25/25 - 0s - 7ms/step - accuracy: 1.0000 - loss: 0.0066 - val_accuracy: 1.0000 - val_loss: 0.0051\n",
            "Epoch 7/25\n",
            "25/25 - 0s - 6ms/step - accuracy: 1.0000 - loss: 0.0044 - val_accuracy: 1.0000 - val_loss: 0.0036\n",
            "Epoch 8/25\n",
            "25/25 - 0s - 12ms/step - accuracy: 1.0000 - loss: 0.0032 - val_accuracy: 1.0000 - val_loss: 0.0027\n",
            "Epoch 9/25\n",
            "25/25 - 0s - 12ms/step - accuracy: 1.0000 - loss: 0.0024 - val_accuracy: 1.0000 - val_loss: 0.0021\n",
            "Epoch 10/25\n",
            "25/25 - 0s - 6ms/step - accuracy: 1.0000 - loss: 0.0019 - val_accuracy: 1.0000 - val_loss: 0.0017\n",
            "Epoch 11/25\n",
            "25/25 - 0s - 13ms/step - accuracy: 1.0000 - loss: 0.0016 - val_accuracy: 1.0000 - val_loss: 0.0014\n",
            "Epoch 12/25\n",
            "25/25 - 0s - 11ms/step - accuracy: 1.0000 - loss: 0.0013 - val_accuracy: 1.0000 - val_loss: 0.0011\n",
            "Epoch 13/25\n",
            "25/25 - 0s - 12ms/step - accuracy: 1.0000 - loss: 0.0011 - val_accuracy: 1.0000 - val_loss: 9.6559e-04\n",
            "Epoch 14/25\n",
            "25/25 - 0s - 7ms/step - accuracy: 1.0000 - loss: 9.2870e-04 - val_accuracy: 1.0000 - val_loss: 8.3002e-04\n",
            "Epoch 15/25\n",
            "25/25 - 0s - 6ms/step - accuracy: 1.0000 - loss: 8.0223e-04 - val_accuracy: 1.0000 - val_loss: 7.2079e-04\n",
            "Epoch 16/25\n",
            "25/25 - 0s - 12ms/step - accuracy: 1.0000 - loss: 6.9971e-04 - val_accuracy: 1.0000 - val_loss: 6.3256e-04\n",
            "Epoch 17/25\n",
            "25/25 - 0s - 6ms/step - accuracy: 1.0000 - loss: 6.1583e-04 - val_accuracy: 1.0000 - val_loss: 5.5896e-04\n",
            "Epoch 18/25\n",
            "25/25 - 0s - 12ms/step - accuracy: 1.0000 - loss: 5.4554e-04 - val_accuracy: 1.0000 - val_loss: 4.9789e-04\n",
            "Epoch 19/25\n",
            "25/25 - 0s - 6ms/step - accuracy: 1.0000 - loss: 4.8719e-04 - val_accuracy: 1.0000 - val_loss: 4.4560e-04\n",
            "Epoch 20/25\n",
            "25/25 - 0s - 6ms/step - accuracy: 1.0000 - loss: 4.3733e-04 - val_accuracy: 1.0000 - val_loss: 4.0182e-04\n",
            "Epoch 21/25\n",
            "25/25 - 0s - 9ms/step - accuracy: 1.0000 - loss: 3.9509e-04 - val_accuracy: 1.0000 - val_loss: 3.6366e-04\n",
            "Epoch 22/25\n",
            "25/25 - 0s - 11ms/step - accuracy: 1.0000 - loss: 3.5859e-04 - val_accuracy: 1.0000 - val_loss: 3.3116e-04\n",
            "Epoch 23/25\n",
            "25/25 - 0s - 9ms/step - accuracy: 1.0000 - loss: 3.2683e-04 - val_accuracy: 1.0000 - val_loss: 3.0305e-04\n",
            "Epoch 24/25\n",
            "25/25 - 0s - 12ms/step - accuracy: 1.0000 - loss: 2.9946e-04 - val_accuracy: 1.0000 - val_loss: 2.7820e-04\n",
            "Epoch 25/25\n",
            "25/25 - 0s - 11ms/step - accuracy: 1.0000 - loss: 2.7511e-04 - val_accuracy: 1.0000 - val_loss: 2.5632e-04\n"
          ]
        }
      ]
    },
    {
      "cell_type": "code",
      "source": [
        "# 훈련한 데이터로 예측하고 평가하는 코드\n",
        "y_train_pred = (model.predict(X_train) >= 0.5).astype(int).reshape(-1)\n",
        "y_test_pred = (model.predict(X_test) >= 0.5).astype(int).reshape(-1)\n",
        "\n",
        "print(\"Train 데이터 성능:\")\n",
        "print(classification_report(y_train, y_train_pred))\n",
        "print(\"Train 데이터 혼동 행렬:\")\n",
        "print(confusion_matrix(y_train, y_train_pred))\n",
        "\n",
        "print(\"\\nTest 데이터 성능:\")\n",
        "print(classification_report(y_test, y_test_pred))\n",
        "print(\"Test 데이터 혼동 행렬:\")\n",
        "print(confusion_matrix(y_test, y_test_pred))"
      ],
      "metadata": {
        "colab": {
          "base_uri": "https://localhost:8080/"
        },
        "id": "zA-t6YD8SFkj",
        "outputId": "4734d47f-d117-4a29-9555-c00ecd6451b6"
      },
      "execution_count": 167,
      "outputs": [
        {
          "output_type": "stream",
          "name": "stdout",
          "text": [
            "\u001b[1m25/25\u001b[0m \u001b[32m━━━━━━━━━━━━━━━━━━━━\u001b[0m\u001b[37m\u001b[0m \u001b[1m0s\u001b[0m 5ms/step\n",
            "\u001b[1m7/7\u001b[0m \u001b[32m━━━━━━━━━━━━━━━━━━━━\u001b[0m\u001b[37m\u001b[0m \u001b[1m0s\u001b[0m 6ms/step \n",
            "Train 데이터 성능:\n",
            "              precision    recall  f1-score   support\n",
            "\n",
            "         0.0       1.00      1.00      1.00       473\n",
            "         1.0       1.00      1.00      1.00       314\n",
            "\n",
            "    accuracy                           1.00       787\n",
            "   macro avg       1.00      1.00      1.00       787\n",
            "weighted avg       1.00      1.00      1.00       787\n",
            "\n",
            "Train 데이터 혼동 행렬:\n",
            "[[473   0]\n",
            " [  0 314]]\n",
            "\n",
            "Test 데이터 성능:\n",
            "              precision    recall  f1-score   support\n",
            "\n",
            "         0.0       1.00      1.00      1.00       118\n",
            "         1.0       1.00      1.00      1.00        79\n",
            "\n",
            "    accuracy                           1.00       197\n",
            "   macro avg       1.00      1.00      1.00       197\n",
            "weighted avg       1.00      1.00      1.00       197\n",
            "\n",
            "Test 데이터 혼동 행렬:\n",
            "[[118   0]\n",
            " [  0  79]]\n"
          ]
        }
      ]
    },
    {
      "cell_type": "code",
      "source": [
        "from sklearn.metrics import classification_report, confusion_matrix\n",
        "\n",
        "# 훈련 데이터셋을 예측하는 코드\n",
        "y_train_pred_prob = model.predict(X_train)\n",
        "y_train_pred = (y_train_pred_prob > 0.5).astype(int).flatten()\n",
        "\n",
        "# 테스트 데이터셋을 예측하는 코드\n",
        "y_test_pred_prob = model.predict(X_test)\n",
        "y_test_pred = (y_test_pred_prob > 0.5).astype(int).flatten()"
      ],
      "metadata": {
        "colab": {
          "base_uri": "https://localhost:8080/"
        },
        "id": "8p_sPc8qSfKg",
        "outputId": "5c16dace-8d51-4b62-f02e-c489cf7194f3"
      },
      "execution_count": 168,
      "outputs": [
        {
          "output_type": "stream",
          "name": "stdout",
          "text": [
            "\u001b[1m25/25\u001b[0m \u001b[32m━━━━━━━━━━━━━━━━━━━━\u001b[0m\u001b[37m\u001b[0m \u001b[1m0s\u001b[0m 3ms/step \n",
            "\u001b[1m7/7\u001b[0m \u001b[32m━━━━━━━━━━━━━━━━━━━━\u001b[0m\u001b[37m\u001b[0m \u001b[1m0s\u001b[0m 6ms/step \n"
          ]
        }
      ]
    },
    {
      "cell_type": "code",
      "source": [
        "# 훈련 데이터셋을 평가하는 코드\n",
        "print(\"Train 데이터 성능:\")\n",
        "print(classification_report(y_train, y_train_pred))\n",
        "print(\"Train 데이터 혼동 행렬:\")\n",
        "print(confusion_matrix(y_train, y_train_pred))\n",
        "\n",
        "# 테스트 데이터셋을 평가하는 코드\n",
        "print(\"\\nTest 데이터 성능:\")\n",
        "print(classification_report(y_test, y_test_pred))\n",
        "print(\"Test 데이터 혼동 행렬:\")\n",
        "print(confusion_matrix(y_test, y_test_pred))"
      ],
      "metadata": {
        "colab": {
          "base_uri": "https://localhost:8080/"
        },
        "id": "bZmwHUszLkyZ",
        "outputId": "febe2b65-eee4-45b6-d8b8-8912d0820286"
      },
      "execution_count": 169,
      "outputs": [
        {
          "output_type": "stream",
          "name": "stdout",
          "text": [
            "Train 데이터 성능:\n",
            "              precision    recall  f1-score   support\n",
            "\n",
            "         0.0       1.00      1.00      1.00       473\n",
            "         1.0       1.00      1.00      1.00       314\n",
            "\n",
            "    accuracy                           1.00       787\n",
            "   macro avg       1.00      1.00      1.00       787\n",
            "weighted avg       1.00      1.00      1.00       787\n",
            "\n",
            "Train 데이터 혼동 행렬:\n",
            "[[473   0]\n",
            " [  0 314]]\n",
            "\n",
            "Test 데이터 성능:\n",
            "              precision    recall  f1-score   support\n",
            "\n",
            "         0.0       1.00      1.00      1.00       118\n",
            "         1.0       1.00      1.00      1.00        79\n",
            "\n",
            "    accuracy                           1.00       197\n",
            "   macro avg       1.00      1.00      1.00       197\n",
            "weighted avg       1.00      1.00      1.00       197\n",
            "\n",
            "Test 데이터 혼동 행렬:\n",
            "[[118   0]\n",
            " [  0  79]]\n"
          ]
        }
      ]
    },
    {
      "cell_type": "markdown",
      "source": [
        "##  * 문제점\n",
        "\n",
        "- 과적합 된 가능성이 있어서 데이터 양을 늘리는 방향으로 해결해볼 수 있다\n",
        "\n",
        "\n",
        "\n",
        "\n",
        "\n"
      ],
      "metadata": {
        "id": "1qjKAhiHkw1G"
      }
    },
    {
      "cell_type": "code",
      "source": [
        "from imblearn.over_sampling import SMOTE\n",
        "from collections import Counter\n",
        "\n",
        "# 데이터 불균형을 조정하기위해 SMOTE 사용하는 코드\n",
        "print(\"Before SMOTE:\", Counter(y_train))\n",
        "\n",
        "smote = SMOTE(random_state=42)\n",
        "X_train_resampled, y_train_resampled = smote.fit_resample(X_train, y_train)\n",
        "\n",
        "print(\"After SMOTE:\", Counter(y_train_resampled))"
      ],
      "metadata": {
        "colab": {
          "base_uri": "https://localhost:8080/"
        },
        "id": "wNR_b30AlC8G",
        "outputId": "968f5a55-1dac-46f3-e73f-1ce1960ecf75"
      },
      "execution_count": 170,
      "outputs": [
        {
          "output_type": "stream",
          "name": "stdout",
          "text": [
            "Before SMOTE: Counter({np.float32(0.0): 473, np.float32(1.0): 314})\n",
            "After SMOTE: Counter({np.float32(1.0): 473, np.float32(0.0): 473})\n"
          ]
        }
      ]
    },
    {
      "cell_type": "code",
      "source": [
        "import matplotlib.pyplot as plt\n",
        "from sklearn.decomposition import PCA\n",
        "\n",
        "# 주성분 분석하는 코드\n",
        "pca = PCA(n_components=2)\n",
        "X_pca = pca.fit_transform(X_train_resampled)\n",
        "\n",
        "# 시각화하는 코드\n",
        "plt.figure(figsize=(6, 5))\n",
        "plt.scatter(X_pca[:, 0], X_pca[:, 1], c=y_train_resampled, cmap='coolwarm', alpha=0.7)\n",
        "plt.title('SMOTE 적용 후 데이터 분포 (PCA)')\n",
        "plt.xlabel('PC1')\n",
        "plt.ylabel('PC2')\n",
        "plt.grid(True)\n",
        "plt.show()"
      ],
      "metadata": {
        "colab": {
          "base_uri": "https://localhost:8080/",
          "height": 781
        },
        "id": "SRBC7RZVlk1B",
        "outputId": "35c8ff99-63c0-4830-f86a-15ecfe4eabd5"
      },
      "execution_count": 171,
      "outputs": [
        {
          "output_type": "stream",
          "name": "stderr",
          "text": [
            "/usr/local/lib/python3.11/dist-packages/IPython/core/pylabtools.py:151: UserWarning: Glyph 51201 (\\N{HANGUL SYLLABLE JEOG}) missing from font(s) DejaVu Sans.\n",
            "  fig.canvas.print_figure(bytes_io, **kw)\n",
            "/usr/local/lib/python3.11/dist-packages/IPython/core/pylabtools.py:151: UserWarning: Glyph 50857 (\\N{HANGUL SYLLABLE YONG}) missing from font(s) DejaVu Sans.\n",
            "  fig.canvas.print_figure(bytes_io, **kw)\n",
            "/usr/local/lib/python3.11/dist-packages/IPython/core/pylabtools.py:151: UserWarning: Glyph 54980 (\\N{HANGUL SYLLABLE HU}) missing from font(s) DejaVu Sans.\n",
            "  fig.canvas.print_figure(bytes_io, **kw)\n",
            "/usr/local/lib/python3.11/dist-packages/IPython/core/pylabtools.py:151: UserWarning: Glyph 45936 (\\N{HANGUL SYLLABLE DE}) missing from font(s) DejaVu Sans.\n",
            "  fig.canvas.print_figure(bytes_io, **kw)\n",
            "/usr/local/lib/python3.11/dist-packages/IPython/core/pylabtools.py:151: UserWarning: Glyph 51060 (\\N{HANGUL SYLLABLE I}) missing from font(s) DejaVu Sans.\n",
            "  fig.canvas.print_figure(bytes_io, **kw)\n",
            "/usr/local/lib/python3.11/dist-packages/IPython/core/pylabtools.py:151: UserWarning: Glyph 53552 (\\N{HANGUL SYLLABLE TEO}) missing from font(s) DejaVu Sans.\n",
            "  fig.canvas.print_figure(bytes_io, **kw)\n",
            "/usr/local/lib/python3.11/dist-packages/IPython/core/pylabtools.py:151: UserWarning: Glyph 48516 (\\N{HANGUL SYLLABLE BUN}) missing from font(s) DejaVu Sans.\n",
            "  fig.canvas.print_figure(bytes_io, **kw)\n",
            "/usr/local/lib/python3.11/dist-packages/IPython/core/pylabtools.py:151: UserWarning: Glyph 54252 (\\N{HANGUL SYLLABLE PO}) missing from font(s) DejaVu Sans.\n",
            "  fig.canvas.print_figure(bytes_io, **kw)\n"
          ]
        },
        {
          "output_type": "display_data",
          "data": {
            "text/plain": [
              "<Figure size 600x500 with 1 Axes>"
            ],
            "image/png": "[encoded data removed]"
          },
          "metadata": {}
        }
      ]
    },
    {
      "cell_type": "code",
      "source": [
        "from imblearn.over_sampling import SMOTE\n",
        "from collections import Counter\n",
        "\n",
        "# 훈련 데이터에 SMOTE를 적용해서 균형을 맞추는 코드\n",
        "smote = SMOTE(random_state=42)\n",
        "X_train_resampled, y_train_resampled = smote.fit_resample(X_train, y_train)\n",
        "\n",
        "print(\"Before SMOTE:\", Counter(y_train))\n",
        "print(\"After SMOTE:\", Counter(y_train_resampled))"
      ],
      "metadata": {
        "colab": {
          "base_uri": "https://localhost:8080/"
        },
        "id": "yDTMyp5Flur7",
        "outputId": "06661456-2513-4474-bbad-72833e565e12"
      },
      "execution_count": 172,
      "outputs": [
        {
          "output_type": "stream",
          "name": "stdout",
          "text": [
            "Before SMOTE: Counter({np.float32(0.0): 473, np.float32(1.0): 314})\n",
            "After SMOTE: Counter({np.float32(1.0): 473, np.float32(0.0): 473})\n"
          ]
        }
      ]
    },
    {
      "cell_type": "code",
      "source": [
        "from tensorflow.keras.models import Sequential\n",
        "from tensorflow.keras.layers import Dense\n",
        "from tensorflow.keras.optimizers import Adam"
      ],
      "metadata": {
        "id": "cvBx6wsnlwqy"
      },
      "execution_count": 173,
      "outputs": []
    },
    {
      "cell_type": "code",
      "source": [
        "# 모델 다시 생성하고 컴파일하는 코드\n",
        "model = Sequential()\n",
        "model.add(Dense(64, activation='relu', input_shape=(X_train.shape[1],)))\n",
        "model.add(Dense(32, activation='relu'))\n",
        "model.add(Dense(1, activation='sigmoid'))\n",
        "\n",
        "model.compile(optimizer=Adam(learning_rate=0.001),\n",
        "              loss='binary_crossentropy',\n",
        "              metrics=['accuracy'])"
      ],
      "metadata": {
        "colab": {
          "base_uri": "https://localhost:8080/"
        },
        "id": "HEdjk4tVMnIr",
        "outputId": "2c5d4cb3-d728-49f8-ac27-c476a5e9382a"
      },
      "execution_count": 174,
      "outputs": [
        {
          "output_type": "stream",
          "name": "stderr",
          "text": [
            "/usr/local/lib/python3.11/dist-packages/keras/src/layers/core/dense.py:87: UserWarning: Do not pass an `input_shape`/`input_dim` argument to a layer. When using Sequential models, prefer using an `Input(shape)` object as the first layer in the model instead.\n",
            "  super().__init__(activity_regularizer=activity_regularizer, **kwargs)\n"
          ]
        }
      ]
    },
    {
      "cell_type": "code",
      "source": [
        "# 모델 재훈련하는 코드\n",
        "history = model.fit(\n",
        "    X_train_resampled,\n",
        "    y_train_resampled,\n",
        "    validation_data=(X_test, y_test),\n",
        "    epochs=30,\n",
        "    batch_size=32,\n",
        "    verbose=1\n",
        ")"
      ],
      "metadata": {
        "colab": {
          "base_uri": "https://localhost:8080/"
        },
        "id": "PNckRviGMqIc",
        "outputId": "9bd97487-031d-44c3-a581-bff3ff59cd2e"
      },
      "execution_count": 175,
      "outputs": [
        {
          "output_type": "stream",
          "name": "stdout",
          "text": [
            "Epoch 1/30\n",
            "\u001b[1m30/30\u001b[0m \u001b[32m━━━━━━━━━━━━━━━━━━━━\u001b[0m\u001b[37m\u001b[0m \u001b[1m2s\u001b[0m 12ms/step - accuracy: 0.7297 - loss: 0.5423 - val_accuracy: 1.0000 - val_loss: 0.2307\n",
            "Epoch 2/30\n",
            "\u001b[1m30/30\u001b[0m \u001b[32m━━━━━━━━━━━━━━━━━━━━\u001b[0m\u001b[37m\u001b[0m \u001b[1m0s\u001b[0m 5ms/step - accuracy: 1.0000 - loss: 0.1610 - val_accuracy: 1.0000 - val_loss: 0.0779\n",
            "Epoch 3/30\n",
            "\u001b[1m30/30\u001b[0m \u001b[32m━━━━━━━━━━━━━━━━━━━━\u001b[0m\u001b[37m\u001b[0m \u001b[1m0s\u001b[0m 5ms/step - accuracy: 1.0000 - loss: 0.0521 - val_accuracy: 1.0000 - val_loss: 0.0269\n",
            "Epoch 4/30\n",
            "\u001b[1m30/30\u001b[0m \u001b[32m━━━━━━━━━━━━━━━━━━━━\u001b[0m\u001b[37m\u001b[0m \u001b[1m0s\u001b[0m 5ms/step - accuracy: 1.0000 - loss: 0.0202 - val_accuracy: 1.0000 - val_loss: 0.0114\n",
            "Epoch 5/30\n",
            "\u001b[1m30/30\u001b[0m \u001b[32m━━━━━━━━━━━━━━━━━━━━\u001b[0m\u001b[37m\u001b[0m \u001b[1m0s\u001b[0m 4ms/step - accuracy: 1.0000 - loss: 0.0089 - val_accuracy: 1.0000 - val_loss: 0.0062\n",
            "Epoch 6/30\n",
            "\u001b[1m30/30\u001b[0m \u001b[32m━━━━━━━━━━━━━━━━━━━━\u001b[0m\u001b[37m\u001b[0m \u001b[1m0s\u001b[0m 6ms/step - accuracy: 1.0000 - loss: 0.0052 - val_accuracy: 1.0000 - val_loss: 0.0037\n",
            "Epoch 7/30\n",
            "\u001b[1m30/30\u001b[0m \u001b[32m━━━━━━━━━━━━━━━━━━━━\u001b[0m\u001b[37m\u001b[0m \u001b[1m0s\u001b[0m 5ms/step - accuracy: 1.0000 - loss: 0.0029 - val_accuracy: 1.0000 - val_loss: 0.0024\n",
            "Epoch 8/30\n",
            "\u001b[1m30/30\u001b[0m \u001b[32m━━━━━━━━━━━━━━━━━━━━\u001b[0m\u001b[37m\u001b[0m \u001b[1m0s\u001b[0m 5ms/step - accuracy: 1.0000 - loss: 0.0020 - val_accuracy: 1.0000 - val_loss: 0.0017\n",
            "Epoch 9/30\n",
            "\u001b[1m30/30\u001b[0m \u001b[32m━━━━━━━━━━━━━━━━━━━━\u001b[0m\u001b[37m\u001b[0m \u001b[1m0s\u001b[0m 5ms/step - accuracy: 1.0000 - loss: 0.0014 - val_accuracy: 1.0000 - val_loss: 0.0013\n",
            "Epoch 10/30\n",
            "\u001b[1m30/30\u001b[0m \u001b[32m━━━━━━━━━━━━━━━━━━━━\u001b[0m\u001b[37m\u001b[0m \u001b[1m0s\u001b[0m 5ms/step - accuracy: 1.0000 - loss: 0.0011 - val_accuracy: 1.0000 - val_loss: 9.7363e-04\n",
            "Epoch 11/30\n",
            "\u001b[1m30/30\u001b[0m \u001b[32m━━━━━━━━━━━━━━━━━━━━\u001b[0m\u001b[37m\u001b[0m \u001b[1m0s\u001b[0m 5ms/step - accuracy: 1.0000 - loss: 7.8895e-04 - val_accuracy: 1.0000 - val_loss: 7.7722e-04\n",
            "Epoch 12/30\n",
            "\u001b[1m30/30\u001b[0m \u001b[32m━━━━━━━━━━━━━━━━━━━━\u001b[0m\u001b[37m\u001b[0m \u001b[1m0s\u001b[0m 5ms/step - accuracy: 1.0000 - loss: 6.7262e-04 - val_accuracy: 1.0000 - val_loss: 6.3255e-04\n",
            "Epoch 13/30\n",
            "\u001b[1m30/30\u001b[0m \u001b[32m━━━━━━━━━━━━━━━━━━━━\u001b[0m\u001b[37m\u001b[0m \u001b[1m0s\u001b[0m 6ms/step - accuracy: 1.0000 - loss: 5.4028e-04 - val_accuracy: 1.0000 - val_loss: 5.2840e-04\n",
            "Epoch 14/30\n",
            "\u001b[1m30/30\u001b[0m \u001b[32m━━━━━━━━━━━━━━━━━━━━\u001b[0m\u001b[37m\u001b[0m \u001b[1m0s\u001b[0m 5ms/step - accuracy: 1.0000 - loss: 4.4375e-04 - val_accuracy: 1.0000 - val_loss: 4.4727e-04\n",
            "Epoch 15/30\n",
            "\u001b[1m30/30\u001b[0m \u001b[32m━━━━━━━━━━━━━━━━━━━━\u001b[0m\u001b[37m\u001b[0m \u001b[1m0s\u001b[0m 5ms/step - accuracy: 1.0000 - loss: 3.7877e-04 - val_accuracy: 1.0000 - val_loss: 3.8442e-04\n",
            "Epoch 16/30\n",
            "\u001b[1m30/30\u001b[0m \u001b[32m━━━━━━━━━━━━━━━━━━━━\u001b[0m\u001b[37m\u001b[0m \u001b[1m0s\u001b[0m 5ms/step - accuracy: 1.0000 - loss: 3.2740e-04 - val_accuracy: 1.0000 - val_loss: 3.3360e-04\n",
            "Epoch 17/30\n",
            "\u001b[1m30/30\u001b[0m \u001b[32m━━━━━━━━━━━━━━━━━━━━\u001b[0m\u001b[37m\u001b[0m \u001b[1m0s\u001b[0m 5ms/step - accuracy: 1.0000 - loss: 2.8131e-04 - val_accuracy: 1.0000 - val_loss: 2.9247e-04\n",
            "Epoch 18/30\n",
            "\u001b[1m30/30\u001b[0m \u001b[32m━━━━━━━━━━━━━━━━━━━━\u001b[0m\u001b[37m\u001b[0m \u001b[1m0s\u001b[0m 5ms/step - accuracy: 1.0000 - loss: 2.5279e-04 - val_accuracy: 1.0000 - val_loss: 2.5849e-04\n",
            "Epoch 19/30\n",
            "\u001b[1m30/30\u001b[0m \u001b[32m━━━━━━━━━━━━━━━━━━━━\u001b[0m\u001b[37m\u001b[0m \u001b[1m0s\u001b[0m 5ms/step - accuracy: 1.0000 - loss: 2.1840e-04 - val_accuracy: 1.0000 - val_loss: 2.3029e-04\n",
            "Epoch 20/30\n",
            "\u001b[1m30/30\u001b[0m \u001b[32m━━━━━━━━━━━━━━━━━━━━\u001b[0m\u001b[37m\u001b[0m \u001b[1m0s\u001b[0m 5ms/step - accuracy: 1.0000 - loss: 1.9780e-04 - val_accuracy: 1.0000 - val_loss: 2.0656e-04\n",
            "Epoch 21/30\n",
            "\u001b[1m30/30\u001b[0m \u001b[32m━━━━━━━━━━━━━━━━━━━━\u001b[0m\u001b[37m\u001b[0m \u001b[1m0s\u001b[0m 5ms/step - accuracy: 1.0000 - loss: 1.8106e-04 - val_accuracy: 1.0000 - val_loss: 1.8594e-04\n",
            "Epoch 22/30\n",
            "\u001b[1m30/30\u001b[0m \u001b[32m━━━━━━━━━━━━━━━━━━━━\u001b[0m\u001b[37m\u001b[0m \u001b[1m0s\u001b[0m 6ms/step - accuracy: 1.0000 - loss: 1.6011e-04 - val_accuracy: 1.0000 - val_loss: 1.6855e-04\n",
            "Epoch 23/30\n",
            "\u001b[1m30/30\u001b[0m \u001b[32m━━━━━━━━━━━━━━━━━━━━\u001b[0m\u001b[37m\u001b[0m \u001b[1m0s\u001b[0m 5ms/step - accuracy: 1.0000 - loss: 1.4883e-04 - val_accuracy: 1.0000 - val_loss: 1.5323e-04\n",
            "Epoch 24/30\n",
            "\u001b[1m30/30\u001b[0m \u001b[32m━━━━━━━━━━━━━━━━━━━━\u001b[0m\u001b[37m\u001b[0m \u001b[1m0s\u001b[0m 5ms/step - accuracy: 1.0000 - loss: 1.2778e-04 - val_accuracy: 1.0000 - val_loss: 1.4041e-04\n",
            "Epoch 25/30\n",
            "\u001b[1m30/30\u001b[0m \u001b[32m━━━━━━━━━━━━━━━━━━━━\u001b[0m\u001b[37m\u001b[0m \u001b[1m0s\u001b[0m 5ms/step - accuracy: 1.0000 - loss: 1.2438e-04 - val_accuracy: 1.0000 - val_loss: 1.2866e-04\n",
            "Epoch 26/30\n",
            "\u001b[1m30/30\u001b[0m \u001b[32m━━━━━━━━━━━━━━━━━━━━\u001b[0m\u001b[37m\u001b[0m \u001b[1m0s\u001b[0m 5ms/step - accuracy: 1.0000 - loss: 1.1110e-04 - val_accuracy: 1.0000 - val_loss: 1.1855e-04\n",
            "Epoch 27/30\n",
            "\u001b[1m30/30\u001b[0m \u001b[32m━━━━━━━━━━━━━━━━━━━━\u001b[0m\u001b[37m\u001b[0m \u001b[1m0s\u001b[0m 5ms/step - accuracy: 1.0000 - loss: 1.0433e-04 - val_accuracy: 1.0000 - val_loss: 1.0951e-04\n",
            "Epoch 28/30\n",
            "\u001b[1m30/30\u001b[0m \u001b[32m━━━━━━━━━━━━━━━━━━━━\u001b[0m\u001b[37m\u001b[0m \u001b[1m0s\u001b[0m 5ms/step - accuracy: 1.0000 - loss: 9.5630e-05 - val_accuracy: 1.0000 - val_loss: 1.0151e-04\n",
            "Epoch 29/30\n",
            "\u001b[1m30/30\u001b[0m \u001b[32m━━━━━━━━━━━━━━━━━━━━\u001b[0m\u001b[37m\u001b[0m \u001b[1m0s\u001b[0m 5ms/step - accuracy: 1.0000 - loss: 8.6901e-05 - val_accuracy: 1.0000 - val_loss: 9.4376e-05\n",
            "Epoch 30/30\n",
            "\u001b[1m30/30\u001b[0m \u001b[32m━━━━━━━━━━━━━━━━━━━━\u001b[0m\u001b[37m\u001b[0m \u001b[1m0s\u001b[0m 5ms/step - accuracy: 1.0000 - loss: 8.3823e-05 - val_accuracy: 1.0000 - val_loss: 8.7792e-05\n"
          ]
        }
      ]
    },
    {
      "cell_type": "code",
      "source": [
        "from sklearn.metrics import classification_report, confusion_matrix\n",
        "\n",
        "# 예측하는 코드\n",
        "y_pred_train = model.predict(X_train_resampled).round()\n",
        "y_pred_test = model.predict(X_test).round()"
      ],
      "metadata": {
        "colab": {
          "base_uri": "https://localhost:8080/"
        },
        "id": "MH02-P6gl1He",
        "outputId": "f0225e86-8af4-46a6-ddd0-5e18fb24b157"
      },
      "execution_count": 176,
      "outputs": [
        {
          "output_type": "stream",
          "name": "stdout",
          "text": [
            "\u001b[1m30/30\u001b[0m \u001b[32m━━━━━━━━━━━━━━━━━━━━\u001b[0m\u001b[37m\u001b[0m \u001b[1m0s\u001b[0m 3ms/step\n",
            "\u001b[1m7/7\u001b[0m \u001b[32m━━━━━━━━━━━━━━━━━━━━\u001b[0m\u001b[37m\u001b[0m \u001b[1m0s\u001b[0m 5ms/step \n"
          ]
        }
      ]
    },
    {
      "cell_type": "code",
      "source": [
        "# 평가 지표들을 출력하는 코드\n",
        "print(\"Train 데이터 성능:\")\n",
        "print(classification_report(y_train_resampled, y_pred_train))\n",
        "print(\"Train 데이터 혼동 행렬:\")\n",
        "print(confusion_matrix(y_train_resampled, y_pred_train))\n",
        "\n",
        "print(\"\\nTest 데이터 성능:\")\n",
        "print(classification_report(y_test, y_pred_test))\n",
        "print(\"Test 데이터 혼동 행렬:\")\n",
        "print(confusion_matrix(y_test, y_pred_test))"
      ],
      "metadata": {
        "colab": {
          "base_uri": "https://localhost:8080/"
        },
        "id": "BL6Nb2SQM8Ct",
        "outputId": "7788bd31-5ea9-422f-f958-03fda76cd340"
      },
      "execution_count": 177,
      "outputs": [
        {
          "output_type": "stream",
          "name": "stdout",
          "text": [
            "Train 데이터 성능:\n",
            "              precision    recall  f1-score   support\n",
            "\n",
            "         0.0       1.00      1.00      1.00       473\n",
            "         1.0       1.00      1.00      1.00       473\n",
            "\n",
            "    accuracy                           1.00       946\n",
            "   macro avg       1.00      1.00      1.00       946\n",
            "weighted avg       1.00      1.00      1.00       946\n",
            "\n",
            "Train 데이터 혼동 행렬:\n",
            "[[473   0]\n",
            " [  0 473]]\n",
            "\n",
            "Test 데이터 성능:\n",
            "              precision    recall  f1-score   support\n",
            "\n",
            "         0.0       1.00      1.00      1.00       118\n",
            "         1.0       1.00      1.00      1.00        79\n",
            "\n",
            "    accuracy                           1.00       197\n",
            "   macro avg       1.00      1.00      1.00       197\n",
            "weighted avg       1.00      1.00      1.00       197\n",
            "\n",
            "Test 데이터 혼동 행렬:\n",
            "[[118   0]\n",
            " [  0  79]]\n"
          ]
        }
      ]
    },
    {
      "cell_type": "markdown",
      "source": [
        "## 교차검증 해보기"
      ],
      "metadata": {
        "id": "QSOFgt_hoUhI"
      }
    },
    {
      "cell_type": "code",
      "source": [
        "# 교차검증을 위한 라이브러리 임포트하는 코드\n",
        "import torch\n",
        "import torch.nn as nn\n",
        "import torch.optim as optim\n",
        "from sklearn.model_selection import StratifiedKFold\n",
        "from sklearn.metrics import accuracy_score\n",
        "from torch.utils.data import DataLoader, TensorDataset"
      ],
      "metadata": {
        "id": "Erbkj03doW6D"
      },
      "execution_count": 178,
      "outputs": []
    },
    {
      "cell_type": "code",
      "source": [
        "# MLP 모델 코드\n",
        "class MLP(nn.Module):\n",
        "    def __init__(self, input_dim, hidden_dim=64, output_dim=2):\n",
        "        super(MLP, self).__init__()\n",
        "        self.model = nn.Sequential(\n",
        "            nn.Linear(input_dim, hidden_dim),\n",
        "            nn.ReLU(),\n",
        "            nn.Linear(hidden_dim, output_dim)\n",
        "        )\n",
        "\n",
        "    def forward(self, x):\n",
        "        return self.model(x)"
      ],
      "metadata": {
        "id": "BJkiXGJHSmaE"
      },
      "execution_count": 179,
      "outputs": []
    },
    {
      "cell_type": "code",
      "source": [
        "# 장치를 설정하고 검증 코드 준비하는 코드\n",
        "device = torch.device(\"cuda\" if torch.cuda.is_available() else \"cpu\")\n",
        "\n",
        "skf = StratifiedKFold(n_splits=5, shuffle=True, random_state=42)"
      ],
      "metadata": {
        "id": "mW1Lk6bASoeb"
      },
      "execution_count": 180,
      "outputs": []
    },
    {
      "cell_type": "code",
      "source": [
        "from sklearn.preprocessing import LabelEncoder\n",
        "\n",
        "# y 전체에 라벨 인코더를 적용하는 코드\n",
        "le = LabelEncoder()\n",
        "y_encoded = pd.Series(le.fit_transform(y))\n",
        "\n",
        "# 5층 교차검증을 순차적으로 완료하는 코드\n",
        "for fold, (train_idx, val_idx) in enumerate(skf.split(X, y_encoded)):\n",
        "    X_train, X_val = X.iloc[train_idx], X.iloc[val_idx]\n",
        "    y_train, y_val = y_encoded.iloc[train_idx], y_encoded.iloc[val_idx]\n",
        "\n",
        "    X_train = pd.get_dummies(X_train).astype(float)\n",
        "    X_val = pd.get_dummies(X_val).astype(float)\n",
        "    X_val = X_val.reindex(columns=X_train.columns, fill_value=0)\n",
        "\n",
        "    train_dataset = TensorDataset(torch.tensor(X_train.values, dtype=torch.float32),\n",
        "                                  torch.tensor(y_train.values, dtype=torch.long))\n",
        "    val_dataset = TensorDataset(torch.tensor(X_val.values, dtype=torch.float32),\n",
        "                                torch.tensor(y_val.values, dtype=torch.long))\n",
        "\n",
        "    train_loader = DataLoader(train_dataset, batch_size=32, shuffle=True)\n",
        "    val_loader = DataLoader(val_dataset, batch_size=32, shuffle=False)\n",
        "\n",
        "    model = MLP(input_dim=X.shape[1], output_dim=len(set(y))).to(device)\n",
        "    criterion = nn.CrossEntropyLoss()\n",
        "    optimizer = optim.Adam(model.parameters(), lr=0.001)"
      ],
      "metadata": {
        "id": "_AqRnkBFSqNm"
      },
      "execution_count": 181,
      "outputs": []
    },
    {
      "cell_type": "code",
      "source": [
        "    model.train()\n",
        "    for epoch in range(10):\n",
        "        for inputs, labels in train_loader:\n",
        "            inputs, labels = inputs.to(device), labels.to(device)\n",
        "\n",
        "            optimizer.zero_grad()\n",
        "            outputs = model(inputs)\n",
        "            loss = criterion(outputs, labels)\n",
        "            loss.backward()\n",
        "            optimizer.step()\n",
        "# 모델 학습하는 코드"
      ],
      "metadata": {
        "id": "FpQkXj7_TIc1"
      },
      "execution_count": 182,
      "outputs": []
    },
    {
      "cell_type": "code",
      "source": [
        "    model.eval()\n",
        "    preds = []\n",
        "    true = []\n",
        "    with torch.no_grad():\n",
        "        for inputs, labels in val_loader:\n",
        "            inputs = inputs.to(device)\n",
        "            outputs = model(inputs)\n",
        "            _, predicted = torch.max(outputs, 1)\n",
        "            preds.extend(predicted.cpu().numpy())\n",
        "            true.extend(labels.numpy())\n",
        "\n",
        "    acc = accuracy_score(true, preds)\n",
        "    print(f\"Fold {fold} Accuracy: {acc}\")\n",
        "\n",
        "# 평가하는 코드"
      ],
      "metadata": {
        "colab": {
          "base_uri": "https://localhost:8080/"
        },
        "id": "LnpPAwkuTSkU",
        "outputId": "bf2730d8-ee73-4cfc-9eaf-6b47c3a1763e"
      },
      "execution_count": 183,
      "outputs": [
        {
          "output_type": "stream",
          "name": "stdout",
          "text": [
            "Fold 4 Accuracy: 0.7244897959183674\n"
          ]
        }
      ]
    },
    {
      "cell_type": "markdown",
      "source": [
        "# MLP 모델 구현 후기\n",
        "\n",
        "### 1. 우선 데이터 셋의 양이 적어서 그런건지 아닌지 모르겠지만 과적합이 의심되는 결과가 나타나고 있고 데이터 셋도 늘려봤지만 성능이 100%로 그대로여서 소용이 없었습니다.\n",
        "\n",
        "### 2. 정말 데이터가 잘 학습되고 모델이 잘 형성되어서 성능이 완벽한 MLP가 만들어진 것인지 모르겠어서 다른 모델로도 학습을 해보려고 합니다."
      ],
      "metadata": {
        "id": "a_3J48RSplhn"
      }
    },
    {
      "cell_type": "markdown",
      "source": [
        "# TabNet 모델 구현하기"
      ],
      "metadata": {
        "id": "0wL6bFyG7-rQ"
      }
    },
    {
      "cell_type": "code",
      "source": [
        "# TabNet 라이브러리 설치\n",
        "!pip install pytorch-tabnet"
      ],
      "metadata": {
        "id": "bAALzs6i8B13",
        "colab": {
          "base_uri": "https://localhost:8080/"
        },
        "outputId": "5617b23f-b919-48fd-ade8-c5443a7a622f"
      },
      "execution_count": 184,
      "outputs": [
        {
          "output_type": "stream",
          "name": "stdout",
          "text": [
            "Requirement already satisfied: pytorch-tabnet in /usr/local/lib/python3.11/dist-packages (4.1.0)\n",
            "Requirement already satisfied: numpy>=1.17 in /usr/local/lib/python3.11/dist-packages (from pytorch-tabnet) (2.0.2)\n",
            "Requirement already satisfied: scikit_learn>0.21 in /usr/local/lib/python3.11/dist-packages (from pytorch-tabnet) (1.6.1)\n",
            "Requirement already satisfied: scipy>1.4 in /usr/local/lib/python3.11/dist-packages (from pytorch-tabnet) (1.15.3)\n",
            "Requirement already satisfied: torch>=1.3 in /usr/local/lib/python3.11/dist-packages (from pytorch-tabnet) (2.6.0+cu124)\n",
            "Requirement already satisfied: tqdm>=4.36 in /usr/local/lib/python3.11/dist-packages (from pytorch-tabnet) (4.67.1)\n",
            "Requirement already satisfied: joblib>=1.2.0 in /usr/local/lib/python3.11/dist-packages (from scikit_learn>0.21->pytorch-tabnet) (1.5.0)\n",
            "Requirement already satisfied: threadpoolctl>=3.1.0 in /usr/local/lib/python3.11/dist-packages (from scikit_learn>0.21->pytorch-tabnet) (3.6.0)\n",
            "Requirement already satisfied: filelock in /usr/local/lib/python3.11/dist-packages (from torch>=1.3->pytorch-tabnet) (3.18.0)\n",
            "Requirement already satisfied: typing-extensions>=4.10.0 in /usr/local/lib/python3.11/dist-packages (from torch>=1.3->pytorch-tabnet) (4.13.2)\n",
            "Requirement already satisfied: networkx in /usr/local/lib/python3.11/dist-packages (from torch>=1.3->pytorch-tabnet) (3.4.2)\n",
            "Requirement already satisfied: jinja2 in /usr/local/lib/python3.11/dist-packages (from torch>=1.3->pytorch-tabnet) (3.1.6)\n",
            "Requirement already satisfied: fsspec in /usr/local/lib/python3.11/dist-packages (from torch>=1.3->pytorch-tabnet) (2025.3.2)\n",
            "Requirement already satisfied: nvidia-cuda-nvrtc-cu12==12.4.127 in /usr/local/lib/python3.11/dist-packages (from torch>=1.3->pytorch-tabnet) (12.4.127)\n",
            "Requirement already satisfied: nvidia-cuda-runtime-cu12==12.4.127 in /usr/local/lib/python3.11/dist-packages (from torch>=1.3->pytorch-tabnet) (12.4.127)\n",
            "Requirement already satisfied: nvidia-cuda-cupti-cu12==12.4.127 in /usr/local/lib/python3.11/dist-packages (from torch>=1.3->pytorch-tabnet) (12.4.127)\n",
            "Requirement already satisfied: nvidia-cudnn-cu12==9.1.0.70 in /usr/local/lib/python3.11/dist-packages (from torch>=1.3->pytorch-tabnet) (9.1.0.70)\n",
            "Requirement already satisfied: nvidia-cublas-cu12==12.4.5.8 in /usr/local/lib/python3.11/dist-packages (from torch>=1.3->pytorch-tabnet) (12.4.5.8)\n",
            "Requirement already satisfied: nvidia-cufft-cu12==11.2.1.3 in /usr/local/lib/python3.11/dist-packages (from torch>=1.3->pytorch-tabnet) (11.2.1.3)\n",
            "Requirement already satisfied: nvidia-curand-cu12==10.3.5.147 in /usr/local/lib/python3.11/dist-packages (from torch>=1.3->pytorch-tabnet) (10.3.5.147)\n",
            "Requirement already satisfied: nvidia-cusolver-cu12==11.6.1.9 in /usr/local/lib/python3.11/dist-packages (from torch>=1.3->pytorch-tabnet) (11.6.1.9)\n",
            "Requirement already satisfied: nvidia-cusparse-cu12==12.3.1.170 in /usr/local/lib/python3.11/dist-packages (from torch>=1.3->pytorch-tabnet) (12.3.1.170)\n",
            "Requirement already satisfied: nvidia-cusparselt-cu12==0.6.2 in /usr/local/lib/python3.11/dist-packages (from torch>=1.3->pytorch-tabnet) (0.6.2)\n",
            "Requirement already satisfied: nvidia-nccl-cu12==2.21.5 in /usr/local/lib/python3.11/dist-packages (from torch>=1.3->pytorch-tabnet) (2.21.5)\n",
            "Requirement already satisfied: nvidia-nvtx-cu12==12.4.127 in /usr/local/lib/python3.11/dist-packages (from torch>=1.3->pytorch-tabnet) (12.4.127)\n",
            "Requirement already satisfied: nvidia-nvjitlink-cu12==12.4.127 in /usr/local/lib/python3.11/dist-packages (from torch>=1.3->pytorch-tabnet) (12.4.127)\n",
            "Requirement already satisfied: triton==3.2.0 in /usr/local/lib/python3.11/dist-packages (from torch>=1.3->pytorch-tabnet) (3.2.0)\n",
            "Requirement already satisfied: sympy==1.13.1 in /usr/local/lib/python3.11/dist-packages (from torch>=1.3->pytorch-tabnet) (1.13.1)\n",
            "Requirement already satisfied: mpmath<1.4,>=1.1.0 in /usr/local/lib/python3.11/dist-packages (from sympy==1.13.1->torch>=1.3->pytorch-tabnet) (1.3.0)\n",
            "Requirement already satisfied: MarkupSafe>=2.0 in /usr/local/lib/python3.11/dist-packages (from jinja2->torch>=1.3->pytorch-tabnet) (3.0.2)\n"
          ]
        }
      ]
    },
    {
      "cell_type": "code",
      "source": [
        "# 관련 라이브러리 임포트하는 코드\n",
        "import numpy as np\n",
        "from pytorch_tabnet.tab_model import TabNetClassifier\n",
        "from sklearn.metrics import classification_report\n",
        "import torch\n",
        "from sklearn.preprocessing import LabelEncoder"
      ],
      "metadata": {
        "id": "cUg-KT7p-K6O"
      },
      "execution_count": 185,
      "outputs": []
    },
    {
      "cell_type": "code",
      "source": [
        "# 문자형 타겟 변수를 수치형으로 변환하는 코드\n",
        "le = LabelEncoder()\n",
        "y_train = le.fit_transform(y_train)\n",
        "y_test = le.transform(y_test)"
      ],
      "metadata": {
        "id": "5TDh6XIU-ky5"
      },
      "execution_count": 186,
      "outputs": []
    },
    {
      "cell_type": "code",
      "source": [
        "# 데이터를 넘파이 배열로 변환하는 코드\n",
        "X_train = np.array(X_train).astype(np.float32)\n",
        "X_test = np.array(X_test).astype(np.float32)\n",
        "y_train = np.array(y_train).astype(int)\n",
        "y_test = np.array(y_test).astype(int)"
      ],
      "metadata": {
        "id": "Ldsy0JX6-MYb"
      },
      "execution_count": 187,
      "outputs": []
    },
    {
      "cell_type": "code",
      "source": [
        "# 장치 설정하는 코드\n",
        "device = torch.device(\"cuda\" if torch.cuda.is_available() else \"cpu\")\n",
        "print(f\"Using device: {device}\")"
      ],
      "metadata": {
        "colab": {
          "base_uri": "https://localhost:8080/"
        },
        "id": "n8Jn-R6q-Rdm",
        "outputId": "0cf63648-fe05-435f-f5df-f37aaeda06aa"
      },
      "execution_count": 188,
      "outputs": [
        {
          "output_type": "stream",
          "name": "stdout",
          "text": [
            "Using device: cpu\n"
          ]
        }
      ]
    },
    {
      "cell_type": "code",
      "source": [
        "# TabNet 모델을 구현하는 코드\n",
        "clf = TabNetClassifier(\n",
        "    device_name=device.type,\n",
        "    n_d=64,\n",
        "    n_a=64,\n",
        "    n_steps=5,\n",
        "    gamma=1.5,\n",
        "    lambda_sparse=1e-4,\n",
        "    optimizer_fn=torch.optim.Adam,\n",
        "    optimizer_params=dict(lr=2e-2),\n",
        "    scheduler_params={\"step_size\":10, \"gamma\":0.9},\n",
        "    scheduler_fn=torch.optim.lr_scheduler.StepLR,\n",
        "    verbose=1\n",
        ")"
      ],
      "metadata": {
        "colab": {
          "base_uri": "https://localhost:8080/"
        },
        "id": "L4yseMhV-WuP",
        "outputId": "04d5c67f-6300-4436-8144-1b20c8e0067b"
      },
      "execution_count": 189,
      "outputs": [
        {
          "output_type": "stream",
          "name": "stderr",
          "text": [
            "/usr/local/lib/python3.11/dist-packages/pytorch_tabnet/abstract_model.py:82: UserWarning: Device used : cpu\n",
            "  warnings.warn(f\"Device used : {self.device}\")\n"
          ]
        }
      ]
    },
    {
      "cell_type": "code",
      "source": [
        "# 모델 학습하는 코드\n",
        "clf.fit(\n",
        "    X_train=X_train, y_train=y_train,\n",
        "    eval_set=[(X_test, y_test)],\n",
        "    eval_name=[\"test\"],\n",
        "    eval_metric=[\"accuracy\"],\n",
        "    max_epochs=100,\n",
        "    patience=10,\n",
        "    batch_size=256,\n",
        "    virtual_batch_size=128,\n",
        "    num_workers=0,\n",
        "    drop_last=False\n",
        ")"
      ],
      "metadata": {
        "colab": {
          "base_uri": "https://localhost:8080/"
        },
        "id": "sWO1tSD-WxvM",
        "outputId": "8de8a7d6-92b8-4d0b-b71a-46b206bcedf2"
      },
      "execution_count": 190,
      "outputs": [
        {
          "output_type": "stream",
          "name": "stdout",
          "text": [
            "epoch 0  | loss: 0.83758 | test_accuracy: 0.62944 |  0:00:00s\n",
            "epoch 1  | loss: 0.37828 | test_accuracy: 0.74112 |  0:00:00s\n",
            "epoch 2  | loss: 0.37995 | test_accuracy: 0.74619 |  0:00:01s\n",
            "epoch 3  | loss: 0.1309  | test_accuracy: 0.8731  |  0:00:01s\n",
            "epoch 4  | loss: 0.04893 | test_accuracy: 0.8731  |  0:00:01s\n",
            "epoch 5  | loss: 0.03625 | test_accuracy: 0.90355 |  0:00:02s\n",
            "epoch 6  | loss: 0.01171 | test_accuracy: 0.90355 |  0:00:02s\n",
            "epoch 7  | loss: 0.02636 | test_accuracy: 0.90355 |  0:00:03s\n",
            "epoch 8  | loss: 0.01302 | test_accuracy: 0.93401 |  0:00:03s\n",
            "epoch 9  | loss: 0.01685 | test_accuracy: 0.93401 |  0:00:04s\n",
            "epoch 10 | loss: 0.00631 | test_accuracy: 0.93401 |  0:00:04s\n",
            "epoch 11 | loss: 0.02351 | test_accuracy: 0.93401 |  0:00:05s\n",
            "epoch 12 | loss: 0.02349 | test_accuracy: 0.93401 |  0:00:06s\n",
            "epoch 13 | loss: 0.00767 | test_accuracy: 1.0     |  0:00:06s\n",
            "epoch 14 | loss: 0.00405 | test_accuracy: 1.0     |  0:00:07s\n",
            "epoch 15 | loss: 0.00217 | test_accuracy: 0.93401 |  0:00:07s\n",
            "epoch 16 | loss: 0.03372 | test_accuracy: 0.94416 |  0:00:08s\n",
            "epoch 17 | loss: 0.01847 | test_accuracy: 0.94416 |  0:00:08s\n",
            "epoch 18 | loss: 0.00139 | test_accuracy: 0.94416 |  0:00:09s\n",
            "epoch 19 | loss: 0.00369 | test_accuracy: 0.94416 |  0:00:10s\n",
            "epoch 20 | loss: 0.03175 | test_accuracy: 0.94416 |  0:00:11s\n",
            "epoch 21 | loss: 0.01605 | test_accuracy: 0.91371 |  0:00:12s\n",
            "epoch 22 | loss: 0.02533 | test_accuracy: 0.94416 |  0:00:13s\n",
            "epoch 23 | loss: 0.04319 | test_accuracy: 1.0     |  0:00:14s\n",
            "\n",
            "Early stopping occurred at epoch 23 with best_epoch = 13 and best_test_accuracy = 1.0\n"
          ]
        },
        {
          "output_type": "stream",
          "name": "stderr",
          "text": [
            "/usr/local/lib/python3.11/dist-packages/pytorch_tabnet/callbacks.py:172: UserWarning: Best weights from best epoch are automatically used!\n",
            "  warnings.warn(wrn_msg)\n"
          ]
        }
      ]
    },
    {
      "cell_type": "code",
      "source": [
        "# 평가하고 결과 출력하는 코드\n",
        "y_pred = clf.predict(X_test)\n",
        "\n",
        "print(\"Classification Report:\")\n",
        "print(classification_report(y_test, y_pred))"
      ],
      "metadata": {
        "colab": {
          "base_uri": "https://localhost:8080/"
        },
        "id": "u39JqKIO-osB",
        "outputId": "7bc8f168-8096-49c3-99e3-d57889505400"
      },
      "execution_count": 191,
      "outputs": [
        {
          "output_type": "stream",
          "name": "stdout",
          "text": [
            "Classification Report:\n",
            "              precision    recall  f1-score   support\n",
            "\n",
            "           0       1.00      1.00      1.00       118\n",
            "           1       1.00      1.00      1.00        79\n",
            "\n",
            "    accuracy                           1.00       197\n",
            "   macro avg       1.00      1.00      1.00       197\n",
            "weighted avg       1.00      1.00      1.00       197\n",
            "\n"
          ]
        }
      ]
    },
    {
      "cell_type": "code",
      "source": [
        "# 예측된 확률을 알아보는 코드\n",
        "proba = clf.predict_proba(X_test)\n",
        "\n",
        "recovered_idx = 0\n",
        "recovered_proba = proba[:, recovered_idx]\n",
        "\n",
        "# 치료 가능성에 대한 예측을 출력하는 코드\n",
        "recovered_proba = proba[:, recovered_idx]"
      ],
      "metadata": {
        "id": "2nRh1HIVX5s0"
      },
      "execution_count": 192,
      "outputs": []
    },
    {
      "cell_type": "code",
      "source": [
        "import matplotlib.pyplot as plt\n",
        "\n",
        "# 시각화하는 코드\n",
        "plt.figure(figsize=(8, 5))\n",
        "plt.hist(recovered_proba, bins=30, color='skyblue', edgecolor='black')\n",
        "plt.title(\"Distribution of Predicted Recovery Probability\")\n",
        "plt.xlabel(\"Predicted Probability of Recovery\")\n",
        "plt.ylabel(\"Number of Patients\")\n",
        "plt.grid(True)\n",
        "plt.show()"
      ],
      "metadata": {
        "colab": {
          "base_uri": "https://localhost:8080/",
          "height": 487
        },
        "id": "EICIlYHQ_gA9",
        "outputId": "fe77ff70-a7f8-43ab-db7f-69215c2b085d"
      },
      "execution_count": 193,
      "outputs": [
        {
          "output_type": "display_data",
          "data": {
            "text/plain": [
              "<Figure size 800x500 with 1 Axes>"
            ],
            "image/png": "[encoded data removed]"
          },
          "metadata": {}
        }
      ]
    },
    {
      "cell_type": "code",
      "source": [
        "# 중요한 특성을 시각화하는 코드\n",
        "plt.figure(figsize=(10, 5))\n",
        "plt.bar(range(len(clf.feature_importances_)), clf.feature_importances_)\n",
        "plt.title(\"Feature Importances\")\n",
        "plt.show()"
      ],
      "metadata": {
        "colab": {
          "base_uri": "https://localhost:8080/",
          "height": 468
        },
        "id": "PsywCPzh-z1I",
        "outputId": "fdaea62e-4836-47e5-c867-77e32e7e678b"
      },
      "execution_count": 194,
      "outputs": [
        {
          "output_type": "display_data",
          "data": {
            "text/plain": [
              "<Figure size 1000x500 with 1 Axes>"
            ],
            "image/png": "[encoded data removed]"
          },
          "metadata": {}
        }
      ]
    },
    {
      "cell_type": "markdown",
      "source": [
        "## * 문제점 : MLP와 역시 과적합 문제 발생\n",
        "\n",
        "1. SMOTE을 사용하는 방식의 오류일 수 있으므로 올바르게 조정한다\n",
        "2. 하이퍼파라미터 조정 방식으로 문제 해결"
      ],
      "metadata": {
        "id": "sJfwEVseql6q"
      }
    },
    {
      "cell_type": "code",
      "source": [
        "from sklearn.model_selection import train_test_split\n",
        "from imblearn.over_sampling import SMOTE\n",
        "\n",
        "# 데이터를 분할하는 코드\n",
        "X_train, X_test, y_train, y_test = train_test_split(X, y, stratify=y, test_size=0.2, random_state=42)\n",
        "\n",
        "# 데이터 불균형을 처리하는 코드\n",
        "smote = SMOTE(random_state=42)\n",
        "X_train_res, y_train_res = smote.fit_resample(X_train, y_train)"
      ],
      "metadata": {
        "id": "kmz-3g8uqlv1"
      },
      "execution_count": 195,
      "outputs": []
    },
    {
      "cell_type": "code",
      "source": [
        "from pytorch_tabnet.tab_model import TabNetClassifier\n",
        "\n",
        "# TabNet 모델 구현하는 코드\n",
        "clf = TabNetClassifier(\n",
        "    n_d=8, n_a=8,\n",
        "    n_steps=3,\n",
        "    gamma=1.3,\n",
        "    lambda_sparse=1e-4,\n",
        "    optimizer_params=dict(lr=2e-2),\n",
        "    scheduler_params={\"step_size\":10, \"gamma\":0.9},\n",
        "    scheduler_fn=torch.optim.lr_scheduler.StepLR,\n",
        "    mask_type='entmax',    #\n",
        "    verbose=1,\n",
        "    seed=42\n",
        ")"
      ],
      "metadata": {
        "colab": {
          "base_uri": "https://localhost:8080/"
        },
        "id": "Cm3o9wuPq6oC",
        "outputId": "5fad93d1-4b55-4aa4-9c7e-e0878f2d8de4"
      },
      "execution_count": 196,
      "outputs": [
        {
          "output_type": "stream",
          "name": "stderr",
          "text": [
            "/usr/local/lib/python3.11/dist-packages/pytorch_tabnet/abstract_model.py:82: UserWarning: Device used : cpu\n",
            "  warnings.warn(f\"Device used : {self.device}\")\n"
          ]
        }
      ]
    },
    {
      "cell_type": "markdown",
      "source": [
        "## * 모델 학습 오류로 변환 다시 실행"
      ],
      "metadata": {
        "id": "h2L2KiNcrhpr"
      }
    },
    {
      "cell_type": "code",
      "source": [
        "# 데이터 타입과 결측값을 확인하는 코드\n",
        "print(X_train_res.dtypes)\n",
        "print(X_train_res.isnull().sum())"
      ],
      "metadata": {
        "colab": {
          "base_uri": "https://localhost:8080/"
        },
        "id": "TG32qGaIrdtE",
        "outputId": "56595882-95c2-4a38-e448-21b0cac86c48"
      },
      "execution_count": 197,
      "outputs": [
        {
          "output_type": "stream",
          "name": "stdout",
          "text": [
            "Age                                               int64\n",
            "Cost                                              int64\n",
            "Length_of_Stay                                    int64\n",
            "Satisfaction                                      int64\n",
            "Gender_Female                                      bool\n",
            "Gender_Male                                        bool\n",
            "Condition_Allergic Reaction                        bool\n",
            "Condition_Appendicitis                             bool\n",
            "Condition_Cancer                                   bool\n",
            "Condition_Childbirth                               bool\n",
            "Condition_Diabetes                                 bool\n",
            "Condition_Fractured Arm                            bool\n",
            "Condition_Fractured Leg                            bool\n",
            "Condition_Heart Attack                             bool\n",
            "Condition_Heart Disease                            bool\n",
            "Condition_Hypertension                             bool\n",
            "Condition_Kidney Stones                            bool\n",
            "Condition_Osteoarthritis                           bool\n",
            "Condition_Prostate Cancer                          bool\n",
            "Condition_Respiratory Infection                    bool\n",
            "Condition_Stroke                                   bool\n",
            "Procedure_Angioplasty                              bool\n",
            "Procedure_Antibiotics and Rest                     bool\n",
            "Procedure_Appendectomy                             bool\n",
            "Procedure_CT Scan and Medication                   bool\n",
            "Procedure_Cardiac Catheterization                  bool\n",
            "Procedure_Cast and Physical Therapy                bool\n",
            "Procedure_Delivery and Postnatal Care              bool\n",
            "Procedure_Epinephrine Injection                    bool\n",
            "Procedure_Insulin Therapy                          bool\n",
            "Procedure_Lithotripsy                              bool\n",
            "Procedure_Medication and Counseling                bool\n",
            "Procedure_Physical Therapy and Pain Management     bool\n",
            "Procedure_Radiation Therapy                        bool\n",
            "Procedure_Surgery and Chemotherapy                 bool\n",
            "Procedure_X-Ray and Splint                         bool\n",
            "Readmission_No                                     bool\n",
            "Readmission_Yes                                    bool\n",
            "dtype: object\n",
            "Age                                               0\n",
            "Cost                                              0\n",
            "Length_of_Stay                                    0\n",
            "Satisfaction                                      0\n",
            "Gender_Female                                     0\n",
            "Gender_Male                                       0\n",
            "Condition_Allergic Reaction                       0\n",
            "Condition_Appendicitis                            0\n",
            "Condition_Cancer                                  0\n",
            "Condition_Childbirth                              0\n",
            "Condition_Diabetes                                0\n",
            "Condition_Fractured Arm                           0\n",
            "Condition_Fractured Leg                           0\n",
            "Condition_Heart Attack                            0\n",
            "Condition_Heart Disease                           0\n",
            "Condition_Hypertension                            0\n",
            "Condition_Kidney Stones                           0\n",
            "Condition_Osteoarthritis                          0\n",
            "Condition_Prostate Cancer                         0\n",
            "Condition_Respiratory Infection                   0\n",
            "Condition_Stroke                                  0\n",
            "Procedure_Angioplasty                             0\n",
            "Procedure_Antibiotics and Rest                    0\n",
            "Procedure_Appendectomy                            0\n",
            "Procedure_CT Scan and Medication                  0\n",
            "Procedure_Cardiac Catheterization                 0\n",
            "Procedure_Cast and Physical Therapy               0\n",
            "Procedure_Delivery and Postnatal Care             0\n",
            "Procedure_Epinephrine Injection                   0\n",
            "Procedure_Insulin Therapy                         0\n",
            "Procedure_Lithotripsy                             0\n",
            "Procedure_Medication and Counseling               0\n",
            "Procedure_Physical Therapy and Pain Management    0\n",
            "Procedure_Radiation Therapy                       0\n",
            "Procedure_Surgery and Chemotherapy                0\n",
            "Procedure_X-Ray and Splint                        0\n",
            "Readmission_No                                    0\n",
            "Readmission_Yes                                   0\n",
            "dtype: int64\n"
          ]
        }
      ]
    },
    {
      "cell_type": "code",
      "source": [
        "from sklearn.preprocessing import LabelEncoder\n",
        "\n",
        "# 문자형 범수를 처리하는 코드\n",
        "for col in X_train_res.columns:\n",
        "    if X_train_res[col].dtype == 'object':\n",
        "        le = LabelEncoder()\n",
        "        X_train_res[col] = le.fit_transform(X_train_res[col].astype(str))\n",
        "\n",
        "# 결측값을 처리하는 코드\n",
        "X_train_res = X_train_res.fillna(0)"
      ],
      "metadata": {
        "id": "sWFaDX4CYu3M"
      },
      "execution_count": 198,
      "outputs": []
    },
    {
      "cell_type": "code",
      "source": [
        "# 테스트 데이터 셋에도 같은 처리하는 코드\n",
        "for col in X_test.columns:\n",
        "    if X_test[col].dtype == 'object':\n",
        "        le = LabelEncoder()\n",
        "        X_test[col] = le.fit_transform(X_test[col].astype(str))\n",
        "X_test = X_test.fillna(0)"
      ],
      "metadata": {
        "id": "RJ5Yg61lYx84"
      },
      "execution_count": 199,
      "outputs": []
    },
    {
      "cell_type": "code",
      "source": [
        "# 다시 데이터 타입과 결측값 확인하는 코드\n",
        "print(X_train_res.dtypes)\n",
        "print(X_train_res.isnull().sum())\n",
        "print(X_train_res.head())"
      ],
      "metadata": {
        "colab": {
          "base_uri": "https://localhost:8080/"
        },
        "id": "WhHcqCA1r69s",
        "outputId": "7f9f733e-60e9-4042-d516-64ddd987a134"
      },
      "execution_count": 200,
      "outputs": [
        {
          "output_type": "stream",
          "name": "stdout",
          "text": [
            "Age                                               int64\n",
            "Cost                                              int64\n",
            "Length_of_Stay                                    int64\n",
            "Satisfaction                                      int64\n",
            "Gender_Female                                      bool\n",
            "Gender_Male                                        bool\n",
            "Condition_Allergic Reaction                        bool\n",
            "Condition_Appendicitis                             bool\n",
            "Condition_Cancer                                   bool\n",
            "Condition_Childbirth                               bool\n",
            "Condition_Diabetes                                 bool\n",
            "Condition_Fractured Arm                            bool\n",
            "Condition_Fractured Leg                            bool\n",
            "Condition_Heart Attack                             bool\n",
            "Condition_Heart Disease                            bool\n",
            "Condition_Hypertension                             bool\n",
            "Condition_Kidney Stones                            bool\n",
            "Condition_Osteoarthritis                           bool\n",
            "Condition_Prostate Cancer                          bool\n",
            "Condition_Respiratory Infection                    bool\n",
            "Condition_Stroke                                   bool\n",
            "Procedure_Angioplasty                              bool\n",
            "Procedure_Antibiotics and Rest                     bool\n",
            "Procedure_Appendectomy                             bool\n",
            "Procedure_CT Scan and Medication                   bool\n",
            "Procedure_Cardiac Catheterization                  bool\n",
            "Procedure_Cast and Physical Therapy                bool\n",
            "Procedure_Delivery and Postnatal Care              bool\n",
            "Procedure_Epinephrine Injection                    bool\n",
            "Procedure_Insulin Therapy                          bool\n",
            "Procedure_Lithotripsy                              bool\n",
            "Procedure_Medication and Counseling                bool\n",
            "Procedure_Physical Therapy and Pain Management     bool\n",
            "Procedure_Radiation Therapy                        bool\n",
            "Procedure_Surgery and Chemotherapy                 bool\n",
            "Procedure_X-Ray and Splint                         bool\n",
            "Readmission_No                                     bool\n",
            "Readmission_Yes                                    bool\n",
            "dtype: object\n",
            "Age                                               0\n",
            "Cost                                              0\n",
            "Length_of_Stay                                    0\n",
            "Satisfaction                                      0\n",
            "Gender_Female                                     0\n",
            "Gender_Male                                       0\n",
            "Condition_Allergic Reaction                       0\n",
            "Condition_Appendicitis                            0\n",
            "Condition_Cancer                                  0\n",
            "Condition_Childbirth                              0\n",
            "Condition_Diabetes                                0\n",
            "Condition_Fractured Arm                           0\n",
            "Condition_Fractured Leg                           0\n",
            "Condition_Heart Attack                            0\n",
            "Condition_Heart Disease                           0\n",
            "Condition_Hypertension                            0\n",
            "Condition_Kidney Stones                           0\n",
            "Condition_Osteoarthritis                          0\n",
            "Condition_Prostate Cancer                         0\n",
            "Condition_Respiratory Infection                   0\n",
            "Condition_Stroke                                  0\n",
            "Procedure_Angioplasty                             0\n",
            "Procedure_Antibiotics and Rest                    0\n",
            "Procedure_Appendectomy                            0\n",
            "Procedure_CT Scan and Medication                  0\n",
            "Procedure_Cardiac Catheterization                 0\n",
            "Procedure_Cast and Physical Therapy               0\n",
            "Procedure_Delivery and Postnatal Care             0\n",
            "Procedure_Epinephrine Injection                   0\n",
            "Procedure_Insulin Therapy                         0\n",
            "Procedure_Lithotripsy                             0\n",
            "Procedure_Medication and Counseling               0\n",
            "Procedure_Physical Therapy and Pain Management    0\n",
            "Procedure_Radiation Therapy                       0\n",
            "Procedure_Surgery and Chemotherapy                0\n",
            "Procedure_X-Ray and Splint                        0\n",
            "Readmission_No                                    0\n",
            "Readmission_Yes                                   0\n",
            "dtype: int64\n",
            "   Age   Cost  Length_of_Stay  Satisfaction  Gender_Female  Gender_Male  \\\n",
            "0   68   1000              36             4          False         True   \n",
            "1   72   1000              25             4          False         True   \n",
            "2   78  10000              71             2          False         True   \n",
            "3   32  12000               7             4           True        False   \n",
            "4   55   6000              40             3          False         True   \n",
            "\n",
            "   Condition_Allergic Reaction  Condition_Appendicitis  Condition_Cancer  \\\n",
            "0                        False                   False             False   \n",
            "1                        False                   False             False   \n",
            "2                        False                   False             False   \n",
            "3                        False                   False             False   \n",
            "4                        False                   False             False   \n",
            "\n",
            "   Condition_Childbirth  ...  Procedure_Epinephrine Injection  \\\n",
            "0                 False  ...                            False   \n",
            "1                 False  ...                            False   \n",
            "2                 False  ...                            False   \n",
            "3                  True  ...                            False   \n",
            "4                 False  ...                            False   \n",
            "\n",
            "   Procedure_Insulin Therapy  Procedure_Lithotripsy  \\\n",
            "0                      False                  False   \n",
            "1                      False                  False   \n",
            "2                      False                  False   \n",
            "3                      False                  False   \n",
            "4                      False                   True   \n",
            "\n",
            "   Procedure_Medication and Counseling  \\\n",
            "0                                 True   \n",
            "1                                 True   \n",
            "2                                False   \n",
            "3                                False   \n",
            "4                                False   \n",
            "\n",
            "   Procedure_Physical Therapy and Pain Management  \\\n",
            "0                                           False   \n",
            "1                                           False   \n",
            "2                                           False   \n",
            "3                                           False   \n",
            "4                                           False   \n",
            "\n",
            "   Procedure_Radiation Therapy  Procedure_Surgery and Chemotherapy  \\\n",
            "0                        False                               False   \n",
            "1                        False                               False   \n",
            "2                        False                               False   \n",
            "3                        False                               False   \n",
            "4                        False                               False   \n",
            "\n",
            "   Procedure_X-Ray and Splint  Readmission_No  Readmission_Yes  \n",
            "0                       False            True            False  \n",
            "1                       False            True            False  \n",
            "2                       False            True            False  \n",
            "3                       False            True            False  \n",
            "4                       False            True            False  \n",
            "\n",
            "[5 rows x 38 columns]\n"
          ]
        }
      ]
    },
    {
      "cell_type": "code",
      "source": [
        "from sklearn.preprocessing import LabelEncoder\n",
        "\n",
        "encoders = {}\n",
        "\n",
        "# 데이터 별로 인코딩하는 코드\n",
        "for col in X_train_res.columns:\n",
        "    if X_train_res[col].dtype == 'object':\n",
        "        le = LabelEncoder()\n",
        "        X_train_res[col] = le.fit_transform(X_train_res[col].astype(str))\n",
        "        if col in X_test.columns:\n",
        "            X_test[col] = le.transform(X_test[col].astype(str))\n",
        "        encoders[col] = le"
      ],
      "metadata": {
        "id": "8TWlzvFpan1-"
      },
      "execution_count": 201,
      "outputs": []
    },
    {
      "cell_type": "code",
      "source": [
        "# NAN값을 0으로 채우는 전처리 코드\n",
        "X_train_res = X_train_res.fillna(0)\n",
        "X_test = X_test.fillna(0)"
      ],
      "metadata": {
        "id": "JdXr7PHTr_Qb"
      },
      "execution_count": 202,
      "outputs": []
    },
    {
      "cell_type": "code",
      "source": [
        "# 데이터 타입 확인하는 코드\n",
        "print(X_train_res.dtypes)\n",
        "print(X_test.dtypes)"
      ],
      "metadata": {
        "colab": {
          "base_uri": "https://localhost:8080/"
        },
        "id": "0SLN8IJhsM04",
        "outputId": "2d6a7428-72e1-4423-b9cf-86a797cde3c5"
      },
      "execution_count": 203,
      "outputs": [
        {
          "output_type": "stream",
          "name": "stdout",
          "text": [
            "Age                                               int64\n",
            "Cost                                              int64\n",
            "Length_of_Stay                                    int64\n",
            "Satisfaction                                      int64\n",
            "Gender_Female                                      bool\n",
            "Gender_Male                                        bool\n",
            "Condition_Allergic Reaction                        bool\n",
            "Condition_Appendicitis                             bool\n",
            "Condition_Cancer                                   bool\n",
            "Condition_Childbirth                               bool\n",
            "Condition_Diabetes                                 bool\n",
            "Condition_Fractured Arm                            bool\n",
            "Condition_Fractured Leg                            bool\n",
            "Condition_Heart Attack                             bool\n",
            "Condition_Heart Disease                            bool\n",
            "Condition_Hypertension                             bool\n",
            "Condition_Kidney Stones                            bool\n",
            "Condition_Osteoarthritis                           bool\n",
            "Condition_Prostate Cancer                          bool\n",
            "Condition_Respiratory Infection                    bool\n",
            "Condition_Stroke                                   bool\n",
            "Procedure_Angioplasty                              bool\n",
            "Procedure_Antibiotics and Rest                     bool\n",
            "Procedure_Appendectomy                             bool\n",
            "Procedure_CT Scan and Medication                   bool\n",
            "Procedure_Cardiac Catheterization                  bool\n",
            "Procedure_Cast and Physical Therapy                bool\n",
            "Procedure_Delivery and Postnatal Care              bool\n",
            "Procedure_Epinephrine Injection                    bool\n",
            "Procedure_Insulin Therapy                          bool\n",
            "Procedure_Lithotripsy                              bool\n",
            "Procedure_Medication and Counseling                bool\n",
            "Procedure_Physical Therapy and Pain Management     bool\n",
            "Procedure_Radiation Therapy                        bool\n",
            "Procedure_Surgery and Chemotherapy                 bool\n",
            "Procedure_X-Ray and Splint                         bool\n",
            "Readmission_No                                     bool\n",
            "Readmission_Yes                                    bool\n",
            "dtype: object\n",
            "Age                                               int64\n",
            "Cost                                              int64\n",
            "Length_of_Stay                                    int64\n",
            "Satisfaction                                      int64\n",
            "Gender_Female                                      bool\n",
            "Gender_Male                                        bool\n",
            "Condition_Allergic Reaction                        bool\n",
            "Condition_Appendicitis                             bool\n",
            "Condition_Cancer                                   bool\n",
            "Condition_Childbirth                               bool\n",
            "Condition_Diabetes                                 bool\n",
            "Condition_Fractured Arm                            bool\n",
            "Condition_Fractured Leg                            bool\n",
            "Condition_Heart Attack                             bool\n",
            "Condition_Heart Disease                            bool\n",
            "Condition_Hypertension                             bool\n",
            "Condition_Kidney Stones                            bool\n",
            "Condition_Osteoarthritis                           bool\n",
            "Condition_Prostate Cancer                          bool\n",
            "Condition_Respiratory Infection                    bool\n",
            "Condition_Stroke                                   bool\n",
            "Procedure_Angioplasty                              bool\n",
            "Procedure_Antibiotics and Rest                     bool\n",
            "Procedure_Appendectomy                             bool\n",
            "Procedure_CT Scan and Medication                   bool\n",
            "Procedure_Cardiac Catheterization                  bool\n",
            "Procedure_Cast and Physical Therapy                bool\n",
            "Procedure_Delivery and Postnatal Care              bool\n",
            "Procedure_Epinephrine Injection                    bool\n",
            "Procedure_Insulin Therapy                          bool\n",
            "Procedure_Lithotripsy                              bool\n",
            "Procedure_Medication and Counseling                bool\n",
            "Procedure_Physical Therapy and Pain Management     bool\n",
            "Procedure_Radiation Therapy                        bool\n",
            "Procedure_Surgery and Chemotherapy                 bool\n",
            "Procedure_X-Ray and Splint                         bool\n",
            "Readmission_No                                     bool\n",
            "Readmission_Yes                                    bool\n",
            "dtype: object\n"
          ]
        }
      ]
    },
    {
      "cell_type": "code",
      "source": [
        "# bool 타입 데이터를 int 형태로 변환하는 코드\n",
        "bool_cols = X_train_res.select_dtypes(include=['bool']).columns\n",
        "X_train_res[bool_cols] = X_train_res[bool_cols].astype(int)\n",
        "X_test[bool_cols] = X_test[bool_cols].astype(int)"
      ],
      "metadata": {
        "id": "1mPpyUwpsc6Z"
      },
      "execution_count": 204,
      "outputs": []
    },
    {
      "cell_type": "code",
      "source": [
        " # bool이 int로 바뀌었는지 확인하는 코드\n",
        "print(X_train_res.dtypes)\n",
        "print(X_test.dtypes)"
      ],
      "metadata": {
        "colab": {
          "base_uri": "https://localhost:8080/"
        },
        "id": "rl-yu09EsetP",
        "outputId": "e787e974-6394-4a57-c22a-b0b62cc419c0"
      },
      "execution_count": 205,
      "outputs": [
        {
          "output_type": "stream",
          "name": "stdout",
          "text": [
            "Age                                               int64\n",
            "Cost                                              int64\n",
            "Length_of_Stay                                    int64\n",
            "Satisfaction                                      int64\n",
            "Gender_Female                                     int64\n",
            "Gender_Male                                       int64\n",
            "Condition_Allergic Reaction                       int64\n",
            "Condition_Appendicitis                            int64\n",
            "Condition_Cancer                                  int64\n",
            "Condition_Childbirth                              int64\n",
            "Condition_Diabetes                                int64\n",
            "Condition_Fractured Arm                           int64\n",
            "Condition_Fractured Leg                           int64\n",
            "Condition_Heart Attack                            int64\n",
            "Condition_Heart Disease                           int64\n",
            "Condition_Hypertension                            int64\n",
            "Condition_Kidney Stones                           int64\n",
            "Condition_Osteoarthritis                          int64\n",
            "Condition_Prostate Cancer                         int64\n",
            "Condition_Respiratory Infection                   int64\n",
            "Condition_Stroke                                  int64\n",
            "Procedure_Angioplasty                             int64\n",
            "Procedure_Antibiotics and Rest                    int64\n",
            "Procedure_Appendectomy                            int64\n",
            "Procedure_CT Scan and Medication                  int64\n",
            "Procedure_Cardiac Catheterization                 int64\n",
            "Procedure_Cast and Physical Therapy               int64\n",
            "Procedure_Delivery and Postnatal Care             int64\n",
            "Procedure_Epinephrine Injection                   int64\n",
            "Procedure_Insulin Therapy                         int64\n",
            "Procedure_Lithotripsy                             int64\n",
            "Procedure_Medication and Counseling               int64\n",
            "Procedure_Physical Therapy and Pain Management    int64\n",
            "Procedure_Radiation Therapy                       int64\n",
            "Procedure_Surgery and Chemotherapy                int64\n",
            "Procedure_X-Ray and Splint                        int64\n",
            "Readmission_No                                    int64\n",
            "Readmission_Yes                                   int64\n",
            "dtype: object\n",
            "Age                                               int64\n",
            "Cost                                              int64\n",
            "Length_of_Stay                                    int64\n",
            "Satisfaction                                      int64\n",
            "Gender_Female                                     int64\n",
            "Gender_Male                                       int64\n",
            "Condition_Allergic Reaction                       int64\n",
            "Condition_Appendicitis                            int64\n",
            "Condition_Cancer                                  int64\n",
            "Condition_Childbirth                              int64\n",
            "Condition_Diabetes                                int64\n",
            "Condition_Fractured Arm                           int64\n",
            "Condition_Fractured Leg                           int64\n",
            "Condition_Heart Attack                            int64\n",
            "Condition_Heart Disease                           int64\n",
            "Condition_Hypertension                            int64\n",
            "Condition_Kidney Stones                           int64\n",
            "Condition_Osteoarthritis                          int64\n",
            "Condition_Prostate Cancer                         int64\n",
            "Condition_Respiratory Infection                   int64\n",
            "Condition_Stroke                                  int64\n",
            "Procedure_Angioplasty                             int64\n",
            "Procedure_Antibiotics and Rest                    int64\n",
            "Procedure_Appendectomy                            int64\n",
            "Procedure_CT Scan and Medication                  int64\n",
            "Procedure_Cardiac Catheterization                 int64\n",
            "Procedure_Cast and Physical Therapy               int64\n",
            "Procedure_Delivery and Postnatal Care             int64\n",
            "Procedure_Epinephrine Injection                   int64\n",
            "Procedure_Insulin Therapy                         int64\n",
            "Procedure_Lithotripsy                             int64\n",
            "Procedure_Medication and Counseling               int64\n",
            "Procedure_Physical Therapy and Pain Management    int64\n",
            "Procedure_Radiation Therapy                       int64\n",
            "Procedure_Surgery and Chemotherapy                int64\n",
            "Procedure_X-Ray and Splint                        int64\n",
            "Readmission_No                                    int64\n",
            "Readmission_Yes                                   int64\n",
            "dtype: object\n"
          ]
        }
      ]
    },
    {
      "cell_type": "code",
      "source": [
        "# 모델을 학습하는 코드\n",
        "clf.fit(\n",
        "    X_train_res.values, y_train_res.values,\n",
        "    eval_set=[(X_train_res.values, y_train_res.values), (X_test.values, y_test.values)],\n",
        "    eval_name=['train', 'valid'],\n",
        "    eval_metric=['accuracy'],\n",
        "    max_epochs=100,\n",
        "    patience=20,\n",
        "    batch_size=256,\n",
        "    virtual_batch_size=128,\n",
        "    num_workers=0,\n",
        "    drop_last=False\n",
        ")"
      ],
      "metadata": {
        "colab": {
          "base_uri": "https://localhost:8080/"
        },
        "id": "EGQW7xfyrE_l",
        "outputId": "678096e2-cf4c-47a7-b354-d65283354e61"
      },
      "execution_count": 206,
      "outputs": [
        {
          "output_type": "stream",
          "name": "stdout",
          "text": [
            "epoch 0  | loss: 0.76786 | train_accuracy: 0.37738 | valid_accuracy: 0.28934 |  0:00:00s\n",
            "epoch 1  | loss: 0.41146 | train_accuracy: 0.30973 | valid_accuracy: 0.30964 |  0:00:00s\n",
            "epoch 2  | loss: 0.18341 | train_accuracy: 0.43235 | valid_accuracy: 0.41624 |  0:00:00s\n",
            "epoch 3  | loss: 0.06209 | train_accuracy: 0.67653 | valid_accuracy: 0.62944 |  0:00:01s\n",
            "epoch 4  | loss: 0.02219 | train_accuracy: 0.72199 | valid_accuracy: 0.63452 |  0:00:01s\n",
            "epoch 5  | loss: 0.00407 | train_accuracy: 0.72516 | valid_accuracy: 0.69036 |  0:00:01s\n",
            "epoch 6  | loss: 0.00154 | train_accuracy: 0.73044 | valid_accuracy: 0.70051 |  0:00:01s\n",
            "epoch 7  | loss: 0.00094 | train_accuracy: 0.68076 | valid_accuracy: 0.69543 |  0:00:02s\n",
            "epoch 8  | loss: 0.00086 | train_accuracy: 0.64059 | valid_accuracy: 0.6599  |  0:00:02s\n",
            "epoch 9  | loss: 0.00044 | train_accuracy: 0.62474 | valid_accuracy: 0.71574 |  0:00:03s\n",
            "epoch 10 | loss: 0.00027 | train_accuracy: 0.64271 | valid_accuracy: 0.73096 |  0:00:03s\n",
            "epoch 11 | loss: 0.0011  | train_accuracy: 0.64588 | valid_accuracy: 0.73604 |  0:00:03s\n",
            "epoch 12 | loss: 0.00027 | train_accuracy: 0.64588 | valid_accuracy: 0.74112 |  0:00:04s\n",
            "epoch 13 | loss: 0.00023 | train_accuracy: 0.65011 | valid_accuracy: 0.74112 |  0:00:04s\n",
            "epoch 14 | loss: 0.00022 | train_accuracy: 0.68182 | valid_accuracy: 0.77157 |  0:00:04s\n",
            "epoch 15 | loss: 0.0002  | train_accuracy: 0.70719 | valid_accuracy: 0.77665 |  0:00:05s\n",
            "epoch 16 | loss: 0.00021 | train_accuracy: 0.71142 | valid_accuracy: 0.77665 |  0:00:05s\n",
            "epoch 17 | loss: 0.00021 | train_accuracy: 0.73996 | valid_accuracy: 0.79695 |  0:00:05s\n",
            "epoch 18 | loss: 0.00022 | train_accuracy: 0.73996 | valid_accuracy: 0.79695 |  0:00:06s\n",
            "epoch 19 | loss: 0.00022 | train_accuracy: 0.73996 | valid_accuracy: 0.79695 |  0:00:06s\n",
            "epoch 20 | loss: 0.00019 | train_accuracy: 0.74419 | valid_accuracy: 0.79695 |  0:00:06s\n",
            "epoch 21 | loss: 0.00018 | train_accuracy: 0.76744 | valid_accuracy: 0.83249 |  0:00:07s\n",
            "epoch 22 | loss: 0.00022 | train_accuracy: 0.76744 | valid_accuracy: 0.83249 |  0:00:08s\n",
            "epoch 23 | loss: 0.00019 | train_accuracy: 0.76744 | valid_accuracy: 0.83249 |  0:00:08s\n",
            "epoch 24 | loss: 0.0002  | train_accuracy: 0.76744 | valid_accuracy: 0.83249 |  0:00:08s\n",
            "epoch 25 | loss: 0.00019 | train_accuracy: 0.76744 | valid_accuracy: 0.83249 |  0:00:09s\n",
            "epoch 26 | loss: 0.0002  | train_accuracy: 0.76744 | valid_accuracy: 0.83249 |  0:00:09s\n",
            "epoch 27 | loss: 0.0002  | train_accuracy: 0.76744 | valid_accuracy: 0.83249 |  0:00:10s\n",
            "epoch 28 | loss: 0.00018 | train_accuracy: 0.76744 | valid_accuracy: 0.83249 |  0:00:10s\n",
            "epoch 29 | loss: 0.0002  | train_accuracy: 0.76744 | valid_accuracy: 0.83249 |  0:00:11s\n",
            "epoch 30 | loss: 0.00019 | train_accuracy: 0.76744 | valid_accuracy: 0.83249 |  0:00:12s\n",
            "epoch 31 | loss: 0.00017 | train_accuracy: 0.76744 | valid_accuracy: 0.83249 |  0:00:13s\n",
            "epoch 32 | loss: 0.00018 | train_accuracy: 0.76744 | valid_accuracy: 0.83249 |  0:00:13s\n",
            "epoch 33 | loss: 0.00017 | train_accuracy: 0.76744 | valid_accuracy: 0.83249 |  0:00:14s\n",
            "epoch 34 | loss: 0.00018 | train_accuracy: 0.76744 | valid_accuracy: 0.83249 |  0:00:14s\n",
            "epoch 35 | loss: 0.00019 | train_accuracy: 0.76744 | valid_accuracy: 0.83249 |  0:00:14s\n",
            "epoch 36 | loss: 0.00017 | train_accuracy: 0.76744 | valid_accuracy: 0.83249 |  0:00:15s\n",
            "epoch 37 | loss: 0.00016 | train_accuracy: 0.76744 | valid_accuracy: 0.83249 |  0:00:15s\n",
            "epoch 38 | loss: 0.00016 | train_accuracy: 0.76744 | valid_accuracy: 0.83249 |  0:00:16s\n",
            "epoch 39 | loss: 0.00016 | train_accuracy: 0.76744 | valid_accuracy: 0.83249 |  0:00:16s\n",
            "epoch 40 | loss: 0.00018 | train_accuracy: 0.76744 | valid_accuracy: 0.83249 |  0:00:17s\n",
            "epoch 41 | loss: 0.00022 | train_accuracy: 0.81078 | valid_accuracy: 0.85279 |  0:00:17s\n",
            "epoch 42 | loss: 0.00018 | train_accuracy: 0.82241 | valid_accuracy: 0.86802 |  0:00:18s\n",
            "epoch 43 | loss: 0.00016 | train_accuracy: 0.82558 | valid_accuracy: 0.8731  |  0:00:18s\n",
            "epoch 44 | loss: 0.00021 | train_accuracy: 0.89852 | valid_accuracy: 0.92893 |  0:00:19s\n",
            "epoch 45 | loss: 0.00017 | train_accuracy: 0.91226 | valid_accuracy: 0.94416 |  0:00:19s\n",
            "epoch 46 | loss: 0.00017 | train_accuracy: 0.91226 | valid_accuracy: 0.94416 |  0:00:19s\n",
            "epoch 47 | loss: 0.00016 | train_accuracy: 0.91226 | valid_accuracy: 0.94416 |  0:00:20s\n",
            "epoch 48 | loss: 0.00017 | train_accuracy: 0.91226 | valid_accuracy: 0.94416 |  0:00:20s\n",
            "epoch 49 | loss: 0.0002  | train_accuracy: 0.91226 | valid_accuracy: 0.94416 |  0:00:20s\n",
            "epoch 50 | loss: 0.00017 | train_accuracy: 0.91226 | valid_accuracy: 0.94416 |  0:00:21s\n",
            "epoch 51 | loss: 0.00016 | train_accuracy: 0.9186  | valid_accuracy: 0.94924 |  0:00:21s\n",
            "epoch 52 | loss: 0.00016 | train_accuracy: 0.92812 | valid_accuracy: 0.95431 |  0:00:21s\n",
            "epoch 53 | loss: 0.00016 | train_accuracy: 0.93235 | valid_accuracy: 0.95431 |  0:00:22s\n",
            "epoch 54 | loss: 0.00015 | train_accuracy: 0.9482  | valid_accuracy: 0.95431 |  0:00:22s\n",
            "epoch 55 | loss: 0.00017 | train_accuracy: 0.96089 | valid_accuracy: 0.97462 |  0:00:22s\n",
            "epoch 56 | loss: 0.00017 | train_accuracy: 0.97252 | valid_accuracy: 0.9797  |  0:00:23s\n",
            "epoch 57 | loss: 0.00015 | train_accuracy: 0.98626 | valid_accuracy: 0.9797  |  0:00:24s\n",
            "epoch 58 | loss: 0.00018 | train_accuracy: 0.99154 | valid_accuracy: 0.98477 |  0:00:25s\n",
            "epoch 59 | loss: 0.00017 | train_accuracy: 0.99789 | valid_accuracy: 0.99492 |  0:00:26s\n",
            "epoch 60 | loss: 0.00016 | train_accuracy: 1.0     | valid_accuracy: 1.0     |  0:00:27s\n",
            "epoch 61 | loss: 0.00018 | train_accuracy: 1.0     | valid_accuracy: 1.0     |  0:00:28s\n",
            "epoch 62 | loss: 0.00017 | train_accuracy: 1.0     | valid_accuracy: 1.0     |  0:00:28s\n",
            "epoch 63 | loss: 0.00017 | train_accuracy: 1.0     | valid_accuracy: 1.0     |  0:00:29s\n",
            "epoch 64 | loss: 0.00016 | train_accuracy: 1.0     | valid_accuracy: 1.0     |  0:00:29s\n",
            "epoch 65 | loss: 0.00016 | train_accuracy: 1.0     | valid_accuracy: 1.0     |  0:00:29s\n",
            "epoch 66 | loss: 0.00015 | train_accuracy: 1.0     | valid_accuracy: 1.0     |  0:00:29s\n",
            "epoch 67 | loss: 0.00015 | train_accuracy: 1.0     | valid_accuracy: 1.0     |  0:00:30s\n",
            "epoch 68 | loss: 0.00015 | train_accuracy: 1.0     | valid_accuracy: 1.0     |  0:00:30s\n",
            "epoch 69 | loss: 0.00015 | train_accuracy: 1.0     | valid_accuracy: 1.0     |  0:00:30s\n",
            "epoch 70 | loss: 0.00016 | train_accuracy: 1.0     | valid_accuracy: 1.0     |  0:00:30s\n",
            "epoch 71 | loss: 0.00015 | train_accuracy: 1.0     | valid_accuracy: 1.0     |  0:00:30s\n",
            "epoch 72 | loss: 0.00019 | train_accuracy: 1.0     | valid_accuracy: 1.0     |  0:00:31s\n",
            "epoch 73 | loss: 0.00016 | train_accuracy: 1.0     | valid_accuracy: 1.0     |  0:00:31s\n",
            "epoch 74 | loss: 0.00015 | train_accuracy: 1.0     | valid_accuracy: 1.0     |  0:00:31s\n",
            "epoch 75 | loss: 0.00016 | train_accuracy: 1.0     | valid_accuracy: 1.0     |  0:00:31s\n",
            "epoch 76 | loss: 0.00015 | train_accuracy: 1.0     | valid_accuracy: 1.0     |  0:00:31s\n",
            "epoch 77 | loss: 0.00016 | train_accuracy: 1.0     | valid_accuracy: 1.0     |  0:00:31s\n",
            "epoch 78 | loss: 0.00016 | train_accuracy: 1.0     | valid_accuracy: 1.0     |  0:00:32s\n",
            "epoch 79 | loss: 0.00016 | train_accuracy: 1.0     | valid_accuracy: 1.0     |  0:00:32s\n",
            "epoch 80 | loss: 0.00015 | train_accuracy: 1.0     | valid_accuracy: 1.0     |  0:00:32s\n",
            "\n",
            "Early stopping occurred at epoch 80 with best_epoch = 60 and best_valid_accuracy = 1.0\n"
          ]
        },
        {
          "output_type": "stream",
          "name": "stderr",
          "text": [
            "/usr/local/lib/python3.11/dist-packages/pytorch_tabnet/callbacks.py:172: UserWarning: Best weights from best epoch are automatically used!\n",
            "  warnings.warn(wrn_msg)\n"
          ]
        }
      ]
    },
    {
      "cell_type": "code",
      "source": [
        "from sklearn.metrics import classification_report, confusion_matrix, accuracy_score\n",
        "\n",
        "# 예측하는 코드\n",
        "y_pred = clf.predict(X_test.values)\n",
        "\n",
        "# 평가 관련 지표 출력하는 코드\n",
        "print(\"Classification Report:\")\n",
        "print(classification_report(y_test.values, y_pred))\n",
        "\n",
        "print(\"Confusion Matrix:\")\n",
        "print(confusion_matrix(y_test.values, y_pred))\n",
        "\n",
        "print(\"Accuracy:\", accuracy_score(y_test.values, y_pred))"
      ],
      "metadata": {
        "colab": {
          "base_uri": "https://localhost:8080/"
        },
        "id": "0u0OZemvrUX9",
        "outputId": "9490850c-3eb6-4211-9a57-7faca0090ca2"
      },
      "execution_count": 207,
      "outputs": [
        {
          "output_type": "stream",
          "name": "stdout",
          "text": [
            "Classification Report:\n",
            "              precision    recall  f1-score   support\n",
            "\n",
            "   Recovered       1.00      1.00      1.00       118\n",
            "      Stable       1.00      1.00      1.00        79\n",
            "\n",
            "    accuracy                           1.00       197\n",
            "   macro avg       1.00      1.00      1.00       197\n",
            "weighted avg       1.00      1.00      1.00       197\n",
            "\n",
            "Confusion Matrix:\n",
            "[[118   0]\n",
            " [  0  79]]\n",
            "Accuracy: 1.0\n"
          ]
        }
      ]
    },
    {
      "cell_type": "markdown",
      "source": [
        "## 아직도 과적합 의심이라 검증셋과 다른 지표도 확인"
      ],
      "metadata": {
        "id": "5HFHuIDRs9ck"
      }
    },
    {
      "cell_type": "code",
      "source": [
        "from sklearn.model_selection import train_test_split\n",
        "\n",
        "# 데이터 분할하는 코드\n",
        "X_train_full, X_test, y_train_full, y_test = train_test_split(\n",
        "    X, y, stratify=y, test_size=0.2, random_state=42)\n",
        "\n",
        "# 훈련 데이터를 검증 데이터 셋으로 분할하는 코드\n",
        "X_train, X_val, y_train, y_val = train_test_split(\n",
        "    X_train_full, y_train_full, stratify=y_train_full, test_size=0.2, random_state=42)"
      ],
      "metadata": {
        "id": "wHybf9mQWQbk"
      },
      "execution_count": 208,
      "outputs": []
    },
    {
      "cell_type": "code",
      "source": [
        "# bool 타입 데이터를 int 형태로 변환하는 코드\n",
        "X_train = X_train.astype({col: 'int' for col in X_train.select_dtypes(include='bool').columns})\n",
        "X_val = X_val.astype({col: 'int' for col in X_val.select_dtypes(include='bool').columns})"
      ],
      "metadata": {
        "id": "OarqkOq-tam2"
      },
      "execution_count": 209,
      "outputs": []
    },
    {
      "cell_type": "code",
      "source": [
        "# 데이터 타입 별 개수를 출력하는 코드\n",
        "print(X_train.dtypes.value_counts())"
      ],
      "metadata": {
        "colab": {
          "base_uri": "https://localhost:8080/"
        },
        "id": "r5V650vHtcd2",
        "outputId": "03b6293d-c837-4415-a0cd-682643cd718b"
      },
      "execution_count": 210,
      "outputs": [
        {
          "output_type": "stream",
          "name": "stdout",
          "text": [
            "int64    38\n",
            "Name: count, dtype: int64\n"
          ]
        }
      ]
    },
    {
      "cell_type": "code",
      "source": [
        "# 각 데이터를 넘파이 배열로 변환하는 코드\n",
        "X_train_np = X_train.values.astype(np.float32)\n",
        "X_val_np = X_val.values.astype(np.float32)\n",
        "y_train_np = y_train.values\n",
        "y_val_np = y_val.values"
      ],
      "metadata": {
        "id": "rfoBItditfa1"
      },
      "execution_count": 211,
      "outputs": []
    },
    {
      "cell_type": "code",
      "source": [
        "# 정수형으로 변환하는 코드\n",
        "X_val = X_val.astype({col: 'int' for col in X_val.select_dtypes(include='bool').columns})"
      ],
      "metadata": {
        "id": "khqCoaPjttzG"
      },
      "execution_count": 212,
      "outputs": []
    },
    {
      "cell_type": "code",
      "source": [
        "# 넘파이 배열로 바꾸고 정수형으로 변환하는 코드\n",
        "X_val_np = X_val.values.astype(np.float32)\n",
        "y_val_pred = clf.predict(X_val_np)"
      ],
      "metadata": {
        "id": "kVSt_YRttvB7"
      },
      "execution_count": 213,
      "outputs": []
    },
    {
      "cell_type": "code",
      "source": [
        "# 학습하는 코드\n",
        "clf.fit(\n",
        "    X_train_np, y_train_np,\n",
        "    eval_set=[(X_val_np, y_val_np)],\n",
        "    eval_name=['val'],\n",
        "    eval_metric=['accuracy'],\n",
        "    max_epochs=100,\n",
        "    patience=20\n",
        ")"
      ],
      "metadata": {
        "colab": {
          "base_uri": "https://localhost:8080/"
        },
        "id": "4xzIXvAgtEfS",
        "outputId": "08657c33-ca44-46fa-8370-d0ae8ef15b18"
      },
      "execution_count": 214,
      "outputs": [
        {
          "output_type": "stream",
          "name": "stdout",
          "text": [
            "epoch 0  | loss: 0.0     | val_accuracy: 0.44304 |  0:00:00s\n",
            "epoch 1  | loss: 0.0     | val_accuracy: 0.44304 |  0:00:00s\n",
            "epoch 2  | loss: 0.0     | val_accuracy: 0.44304 |  0:00:00s\n",
            "epoch 3  | loss: 0.0     | val_accuracy: 0.44304 |  0:00:00s\n",
            "epoch 4  | loss: 0.0     | val_accuracy: 0.44304 |  0:00:00s\n",
            "epoch 5  | loss: 0.0     | val_accuracy: 0.44304 |  0:00:00s\n",
            "epoch 6  | loss: 0.0     | val_accuracy: 0.44304 |  0:00:00s\n",
            "epoch 7  | loss: 0.0     | val_accuracy: 0.44304 |  0:00:00s\n",
            "epoch 8  | loss: 0.0     | val_accuracy: 0.44304 |  0:00:00s\n",
            "epoch 9  | loss: 0.0     | val_accuracy: 0.44304 |  0:00:00s\n",
            "epoch 10 | loss: 0.0     | val_accuracy: 0.44304 |  0:00:00s\n",
            "epoch 11 | loss: 0.0     | val_accuracy: 0.44304 |  0:00:00s\n",
            "epoch 12 | loss: 0.0     | val_accuracy: 0.44304 |  0:00:00s\n",
            "epoch 13 | loss: 0.0     | val_accuracy: 0.44304 |  0:00:00s\n"
          ]
        },
        {
          "output_type": "stream",
          "name": "stderr",
          "text": [
            "/usr/local/lib/python3.11/dist-packages/torch/optim/lr_scheduler.py:227: UserWarning: Detected call of `lr_scheduler.step()` before `optimizer.step()`. In PyTorch 1.1.0 and later, you should call them in the opposite order: `optimizer.step()` before `lr_scheduler.step()`.  Failure to do this will result in PyTorch skipping the first value of the learning rate schedule. See more details at https://pytorch.org/docs/stable/optim.html#how-to-adjust-learning-rate\n",
            "  warnings.warn(\n"
          ]
        },
        {
          "output_type": "stream",
          "name": "stdout",
          "text": [
            "epoch 14 | loss: 0.0     | val_accuracy: 0.44304 |  0:00:00s\n",
            "epoch 15 | loss: 0.0     | val_accuracy: 0.44304 |  0:00:00s\n",
            "epoch 16 | loss: 0.0     | val_accuracy: 0.44304 |  0:00:00s\n",
            "epoch 17 | loss: 0.0     | val_accuracy: 0.44304 |  0:00:00s\n",
            "epoch 18 | loss: 0.0     | val_accuracy: 0.44304 |  0:00:00s\n",
            "epoch 19 | loss: 0.0     | val_accuracy: 0.44304 |  0:00:00s\n",
            "epoch 20 | loss: 0.0     | val_accuracy: 0.44304 |  0:00:00s\n",
            "\n",
            "Early stopping occurred at epoch 20 with best_epoch = 0 and best_val_accuracy = 0.44304\n"
          ]
        },
        {
          "output_type": "stream",
          "name": "stderr",
          "text": [
            "/usr/local/lib/python3.11/dist-packages/pytorch_tabnet/callbacks.py:172: UserWarning: Best weights from best epoch are automatically used!\n",
            "  warnings.warn(wrn_msg)\n"
          ]
        }
      ]
    },
    {
      "cell_type": "code",
      "source": [
        "# 예측하는 코드\n",
        "y_val_pred = clf.predict(X_val_np)\n",
        "\n",
        "# 평가 출력하는 코드\n",
        "from sklearn.metrics import classification_report\n",
        "print(classification_report(y_val_np, y_val_pred))"
      ],
      "metadata": {
        "colab": {
          "base_uri": "https://localhost:8080/"
        },
        "id": "OhZxBYcXcKk3",
        "outputId": "a704c134-b7df-42fe-ba0c-810e68b979d3"
      },
      "execution_count": 215,
      "outputs": [
        {
          "output_type": "stream",
          "name": "stdout",
          "text": [
            "              precision    recall  f1-score   support\n",
            "\n",
            "   Recovered       0.59      0.23      0.33        95\n",
            "      Stable       0.40      0.76      0.52        63\n",
            "\n",
            "    accuracy                           0.44       158\n",
            "   macro avg       0.50      0.50      0.43       158\n",
            "weighted avg       0.52      0.44      0.41       158\n",
            "\n"
          ]
        }
      ]
    },
    {
      "cell_type": "markdown",
      "source": [
        "## 문제점 :\n",
        "- loss가 계속 0이고 val_accuracy가 전혀 개선되지 않음\n",
        "- Early stopping도 20 에폭까지 돌았지만 성능 개선이 전혀 없음\n",
        "\n",
        "\n",
        "## 해결 방법:\n",
        "- int 변환하고 전처리들을 다시 한 다음에 모델 구조를 변화하는 방식으로 진행한다\n",
        "- 훈련/검증 데이터 분리하고 적절한 하이퍼파라미터 조정한 다음 데이터 타입의 문제도 해결했다\n",
        "            \n"
      ],
      "metadata": {
        "id": "RWfOzEl_uJSc"
      }
    },
    {
      "cell_type": "code",
      "source": [
        "from sklearn.preprocessing import StandardScaler\n",
        "\n",
        "# bool 타입을 int로 변환하는 코드\n",
        "for df in [X_train, X_val]:\n",
        "    df[df.select_dtypes(include='bool').columns] = df.select_dtypes(include='bool').astype(int)\n",
        "\n",
        "# 스케일링하는 코드\n",
        "scaler = StandardScaler()\n",
        "num_cols = ['Age', 'Cost', 'Length_of_Stay', 'Satisfaction']\n",
        "X_train[num_cols] = scaler.fit_transform(X_train[num_cols])\n",
        "X_val[num_cols] = scaler.transform(X_val[num_cols])\n",
        "\n",
        "# 넘파이로 변환하는 코드\n",
        "X_train_np = X_train.values.astype(np.float32)\n",
        "X_val_np = X_val.values.astype(np.float32)\n",
        "y_train_np = y_train.values\n",
        "y_val_np = y_val.values"
      ],
      "metadata": {
        "id": "qWsIygWPt9yq"
      },
      "execution_count": 216,
      "outputs": []
    },
    {
      "cell_type": "code",
      "source": [
        "from pytorch_tabnet.tab_model import TabNetClassifier\n",
        "\n",
        "# 모델 구현하는 코드\n",
        "clf = TabNetClassifier(\n",
        "    n_d=8, n_a=8,\n",
        "    n_steps=3,\n",
        "    gamma=1.5,\n",
        "    lambda_sparse=1e-3,\n",
        "    optimizer_params=dict(lr=0.02),\n",
        "    mask_type='entmax'\n",
        ")"
      ],
      "metadata": {
        "colab": {
          "base_uri": "https://localhost:8080/"
        },
        "id": "DUSwTae1cbmz",
        "outputId": "4b2b77c2-38d7-4458-f06a-d8b638f824cb"
      },
      "execution_count": 217,
      "outputs": [
        {
          "output_type": "stream",
          "name": "stderr",
          "text": [
            "/usr/local/lib/python3.11/dist-packages/pytorch_tabnet/abstract_model.py:82: UserWarning: Device used : cpu\n",
            "  warnings.warn(f\"Device used : {self.device}\")\n"
          ]
        }
      ]
    },
    {
      "cell_type": "code",
      "source": [
        "# 모델 학습하는 코드\n",
        "clf.fit(\n",
        "    X_train_np, y_train_np,\n",
        "    eval_set=[(X_val_np, y_val_np)],\n",
        "    eval_name=['val'],\n",
        "    eval_metric=['accuracy'],\n",
        "    max_epochs=100,\n",
        "    patience=20,\n",
        "    batch_size=256,\n",
        "    virtual_batch_size=64,\n",
        "    num_workers=0,\n",
        "    drop_last=False\n",
        ")"
      ],
      "metadata": {
        "colab": {
          "base_uri": "https://localhost:8080/"
        },
        "id": "FSLfmU6fcf_X",
        "outputId": "386eee6c-01f9-49d1-ed86-02782446e81d"
      },
      "execution_count": 218,
      "outputs": [
        {
          "output_type": "stream",
          "name": "stdout",
          "text": [
            "epoch 0  | loss: 0.89465 | val_accuracy: 0.56329 |  0:00:00s\n",
            "epoch 1  | loss: 0.43948 | val_accuracy: 0.61392 |  0:00:00s\n",
            "epoch 2  | loss: 0.24774 | val_accuracy: 0.67089 |  0:00:00s\n",
            "epoch 3  | loss: 0.11043 | val_accuracy: 0.6962  |  0:00:00s\n",
            "epoch 4  | loss: 0.06475 | val_accuracy: 0.84177 |  0:00:00s\n",
            "epoch 5  | loss: 0.04392 | val_accuracy: 0.89873 |  0:00:00s\n",
            "epoch 6  | loss: 0.01666 | val_accuracy: 0.89873 |  0:00:00s\n",
            "epoch 7  | loss: 0.00592 | val_accuracy: 0.89873 |  0:00:00s\n",
            "epoch 8  | loss: 0.01889 | val_accuracy: 0.91772 |  0:00:00s\n",
            "epoch 9  | loss: 0.00661 | val_accuracy: 0.82278 |  0:00:01s\n",
            "epoch 10 | loss: 0.00757 | val_accuracy: 0.81646 |  0:00:01s\n",
            "epoch 11 | loss: 0.0061  | val_accuracy: 0.84177 |  0:00:01s\n",
            "epoch 12 | loss: 0.00236 | val_accuracy: 0.87342 |  0:00:01s\n",
            "epoch 13 | loss: 0.03436 | val_accuracy: 0.87342 |  0:00:01s\n",
            "epoch 14 | loss: 0.00868 | val_accuracy: 0.89873 |  0:00:01s\n",
            "epoch 15 | loss: 0.00149 | val_accuracy: 0.89873 |  0:00:01s\n",
            "epoch 16 | loss: 0.00173 | val_accuracy: 0.89873 |  0:00:01s\n",
            "epoch 17 | loss: 0.00172 | val_accuracy: 0.89873 |  0:00:01s\n",
            "epoch 18 | loss: 0.00133 | val_accuracy: 0.89873 |  0:00:02s\n",
            "epoch 19 | loss: 0.00125 | val_accuracy: 0.88608 |  0:00:02s\n",
            "epoch 20 | loss: 0.00136 | val_accuracy: 0.85443 |  0:00:02s\n",
            "epoch 21 | loss: 0.00163 | val_accuracy: 0.83544 |  0:00:02s\n",
            "epoch 22 | loss: 0.00156 | val_accuracy: 0.83544 |  0:00:02s\n",
            "epoch 23 | loss: 0.00117 | val_accuracy: 0.83544 |  0:00:02s\n",
            "epoch 24 | loss: 0.00122 | val_accuracy: 0.83544 |  0:00:02s\n",
            "epoch 25 | loss: 0.00114 | val_accuracy: 0.83544 |  0:00:02s\n",
            "epoch 26 | loss: 0.00112 | val_accuracy: 0.83544 |  0:00:02s\n",
            "epoch 27 | loss: 0.00117 | val_accuracy: 0.83544 |  0:00:02s\n",
            "epoch 28 | loss: 0.00109 | val_accuracy: 0.83544 |  0:00:02s\n",
            "\n",
            "Early stopping occurred at epoch 28 with best_epoch = 8 and best_val_accuracy = 0.91772\n"
          ]
        },
        {
          "output_type": "stream",
          "name": "stderr",
          "text": [
            "/usr/local/lib/python3.11/dist-packages/pytorch_tabnet/callbacks.py:172: UserWarning: Best weights from best epoch are automatically used!\n",
            "  warnings.warn(wrn_msg)\n"
          ]
        }
      ]
    },
    {
      "cell_type": "code",
      "source": [
        "# 예측하는 코드\n",
        "y_val_pred = clf.predict(X_val_np)\n",
        "from sklearn.metrics import classification_report\n",
        "print(classification_report(y_val_np, y_val_pred))"
      ],
      "metadata": {
        "colab": {
          "base_uri": "https://localhost:8080/"
        },
        "id": "Zh66eKVncmhI",
        "outputId": "1ba78176-2268-4021-99f4-405eb3fc5dfc"
      },
      "execution_count": 219,
      "outputs": [
        {
          "output_type": "stream",
          "name": "stdout",
          "text": [
            "              precision    recall  f1-score   support\n",
            "\n",
            "   Recovered       0.88      1.00      0.94        95\n",
            "      Stable       1.00      0.79      0.88        63\n",
            "\n",
            "    accuracy                           0.92       158\n",
            "   macro avg       0.94      0.90      0.91       158\n",
            "weighted avg       0.93      0.92      0.92       158\n",
            "\n"
          ]
        }
      ]
    },
    {
      "cell_type": "markdown",
      "source": [
        "## 위의 결과를 보면 학습이 안정적으로 잘 되고 있고 precision, recall, f1-score 모두 꽤 괜찮게 나왔으며 val_accuracy가 loss가 초반에 빠르게 떨어지고, val_accuracy가 올라감"
      ],
      "metadata": {
        "id": "rDcG6Nvcu1FA"
      }
    },
    {
      "cell_type": "markdown",
      "source": [
        "# 테스트 데이터 셋 평가"
      ],
      "metadata": {
        "id": "OpjSODmbvC2Q"
      }
    },
    {
      "cell_type": "code",
      "source": [
        "# 테스트 데이터 셋 평가하는 코드\n",
        "X_test_fixed = X_test.copy()\n",
        "for col in X_test_fixed.columns:\n",
        "    if X_test_fixed[col].dtype == 'bool':\n",
        "        X_test_fixed[col] = X_test_fixed[col].astype(int)\n",
        "\n",
        "y_test_pred = clf.predict(X_test_fixed.values)"
      ],
      "metadata": {
        "id": "2QUnnxYcvMJ2"
      },
      "execution_count": 220,
      "outputs": []
    },
    {
      "cell_type": "markdown",
      "source": [
        "# 결과 분석\n",
        "- 테스트 데이터 셋의 성능이 검증셋보다 많이 떨어진 것을 확인할 수 있다\n",
        "- 여전히 과적합이 문제가 되고 있다는 것을 알 수 있다.\n"
      ],
      "metadata": {
        "id": "7G4EOMExvVlo"
      }
    },
    {
      "cell_type": "code",
      "source": [
        "from sklearn.metrics import classification_report, confusion_matrix, accuracy_score\n",
        "\n",
        "# 테스트 데이터 셋 평가 지표 출력하는 코드\n",
        "print(\"Test Set Performance:\")\n",
        "print(classification_report(y_test, y_test_pred))\n",
        "print(\"Confusion Matrix:\")\n",
        "print(confusion_matrix(y_test, y_test_pred))\n",
        "print(\"Accuracy:\", accuracy_score(y_test, y_test_pred))"
      ],
      "metadata": {
        "colab": {
          "base_uri": "https://localhost:8080/"
        },
        "id": "0tnb0CSYvFzI",
        "outputId": "fe65c057-4426-489e-ebd6-f18b3d9ee587"
      },
      "execution_count": 221,
      "outputs": [
        {
          "output_type": "stream",
          "name": "stdout",
          "text": [
            "Test Set Performance:\n",
            "              precision    recall  f1-score   support\n",
            "\n",
            "   Recovered       0.56      0.85      0.67       118\n",
            "      Stable       0.00      0.00      0.00        79\n",
            "\n",
            "    accuracy                           0.51       197\n",
            "   macro avg       0.28      0.42      0.34       197\n",
            "weighted avg       0.33      0.51      0.40       197\n",
            "\n",
            "Confusion Matrix:\n",
            "[[100  18]\n",
            " [ 79   0]]\n",
            "Accuracy: 0.5076142131979695\n"
          ]
        }
      ]
    },
    {
      "cell_type": "markdown",
      "source": [
        "# Regularization 강화"
      ],
      "metadata": {
        "id": "CX8zS0j9v2p1"
      }
    },
    {
      "cell_type": "code",
      "source": [
        "from pytorch_tabnet.tab_model import TabNetClassifier\n",
        "\n",
        "# 모델 재설정하는 코드\n",
        "clf = TabNetClassifier(\n",
        "    lambda_sparse=1e-3,\n",
        "    optimizer_params=dict(lr=2e-2, weight_decay=1e-5),\n",
        "    mask_type='sparsemax'\n",
        ")"
      ],
      "metadata": {
        "colab": {
          "base_uri": "https://localhost:8080/"
        },
        "id": "2VuW4jzFv4uT",
        "outputId": "1e38b5b7-4493-4644-8ecf-4296eee5a0e5"
      },
      "execution_count": 222,
      "outputs": [
        {
          "output_type": "stream",
          "name": "stderr",
          "text": [
            "/usr/local/lib/python3.11/dist-packages/pytorch_tabnet/abstract_model.py:82: UserWarning: Device used : cpu\n",
            "  warnings.warn(f\"Device used : {self.device}\")\n"
          ]
        }
      ]
    },
    {
      "cell_type": "code",
      "source": [
        "# 재설정한 모델 학습하는 코드\n",
        "clf.fit(\n",
        "    X_train.values, y_train.values,\n",
        "    eval_set=[(X_val.values, y_val.values)],\n",
        "    eval_name=['val'],\n",
        "    eval_metric=['accuracy'],\n",
        "    max_epochs=100,\n",
        "    patience=20,\n",
        "    batch_size=256,\n",
        "    virtual_batch_size=64,\n",
        "    num_workers=0,\n",
        "    drop_last=False\n",
        ")"
      ],
      "metadata": {
        "colab": {
          "base_uri": "https://localhost:8080/"
        },
        "id": "t27d5YvOwD-O",
        "outputId": "25cd97d1-22ce-42a7-dafa-105563a52753"
      },
      "execution_count": 223,
      "outputs": [
        {
          "output_type": "stream",
          "name": "stdout",
          "text": [
            "epoch 0  | loss: 1.00146 | val_accuracy: 0.62658 |  0:00:00s\n",
            "epoch 1  | loss: 0.462   | val_accuracy: 0.63924 |  0:00:00s\n",
            "epoch 2  | loss: 0.35392 | val_accuracy: 0.68987 |  0:00:00s\n",
            "epoch 3  | loss: 0.18759 | val_accuracy: 0.65823 |  0:00:00s\n",
            "epoch 4  | loss: 0.13433 | val_accuracy: 0.77215 |  0:00:00s\n",
            "epoch 5  | loss: 0.06547 | val_accuracy: 0.82911 |  0:00:00s\n",
            "epoch 6  | loss: 0.02348 | val_accuracy: 0.8038  |  0:00:00s\n",
            "epoch 7  | loss: 0.01027 | val_accuracy: 0.81013 |  0:00:00s\n",
            "epoch 8  | loss: 0.00716 | val_accuracy: 0.81646 |  0:00:00s\n",
            "epoch 9  | loss: 0.05376 | val_accuracy: 0.81646 |  0:00:01s\n",
            "epoch 10 | loss: 0.00323 | val_accuracy: 0.81646 |  0:00:01s\n",
            "epoch 11 | loss: 0.01232 | val_accuracy: 0.82911 |  0:00:01s\n",
            "epoch 12 | loss: 0.00129 | val_accuracy: 0.84177 |  0:00:01s\n",
            "epoch 13 | loss: 0.00965 | val_accuracy: 0.81646 |  0:00:01s\n",
            "epoch 14 | loss: 0.01368 | val_accuracy: 0.82278 |  0:00:01s\n",
            "epoch 15 | loss: 0.03058 | val_accuracy: 0.77848 |  0:00:01s\n",
            "epoch 16 | loss: 0.00215 | val_accuracy: 0.75949 |  0:00:01s\n",
            "epoch 17 | loss: 0.00436 | val_accuracy: 0.75949 |  0:00:01s\n",
            "epoch 18 | loss: 0.00207 | val_accuracy: 0.75949 |  0:00:01s\n",
            "epoch 19 | loss: 0.00123 | val_accuracy: 0.75949 |  0:00:01s\n",
            "epoch 20 | loss: 0.00302 | val_accuracy: 0.75949 |  0:00:02s\n",
            "epoch 21 | loss: 0.00191 | val_accuracy: 0.75949 |  0:00:02s\n",
            "epoch 22 | loss: 0.02525 | val_accuracy: 0.75949 |  0:00:02s\n",
            "epoch 23 | loss: 0.0013  | val_accuracy: 0.75949 |  0:00:02s\n",
            "epoch 24 | loss: 0.00887 | val_accuracy: 0.75949 |  0:00:02s\n",
            "epoch 25 | loss: 0.01792 | val_accuracy: 0.75316 |  0:00:02s\n",
            "epoch 26 | loss: 0.0062  | val_accuracy: 0.73418 |  0:00:02s\n",
            "epoch 27 | loss: 0.00213 | val_accuracy: 0.72152 |  0:00:02s\n",
            "epoch 28 | loss: 0.00122 | val_accuracy: 0.72152 |  0:00:02s\n",
            "epoch 29 | loss: 0.00148 | val_accuracy: 0.73418 |  0:00:03s\n",
            "epoch 30 | loss: 0.11263 | val_accuracy: 0.74684 |  0:00:03s\n",
            "epoch 31 | loss: 0.01142 | val_accuracy: 0.75949 |  0:00:03s\n",
            "epoch 32 | loss: 0.003   | val_accuracy: 0.77848 |  0:00:03s\n",
            "\n",
            "Early stopping occurred at epoch 32 with best_epoch = 12 and best_val_accuracy = 0.84177\n"
          ]
        },
        {
          "output_type": "stream",
          "name": "stderr",
          "text": [
            "/usr/local/lib/python3.11/dist-packages/pytorch_tabnet/callbacks.py:172: UserWarning: Best weights from best epoch are automatically used!\n",
            "  warnings.warn(wrn_msg)\n"
          ]
        }
      ]
    },
    {
      "cell_type": "markdown",
      "source": [
        "# 아래 결과 비교\n",
        "- 여전히 과적합의 의심은 있지만 위에 결과보다 테스트 셋의 정확도가 조금은 향상된 것을 볼 수 있다."
      ],
      "metadata": {
        "id": "b7bQ_0qmw1Ao"
      }
    },
    {
      "cell_type": "code",
      "source": [
        "# 예측한 결과를 출력하는 코드\n",
        "y_val_pred = clf.predict(X_val.values)\n",
        "from sklearn.metrics import classification_report\n",
        "print(classification_report(y_val, y_val_pred))"
      ],
      "metadata": {
        "colab": {
          "base_uri": "https://localhost:8080/"
        },
        "id": "vkqOG2UEwP8P",
        "outputId": "7f34b256-dc61-4958-a597-2bcc5de02e1e"
      },
      "execution_count": 224,
      "outputs": [
        {
          "output_type": "stream",
          "name": "stdout",
          "text": [
            "              precision    recall  f1-score   support\n",
            "\n",
            "   Recovered       0.80      0.99      0.88        95\n",
            "      Stable       0.97      0.62      0.76        63\n",
            "\n",
            "    accuracy                           0.84       158\n",
            "   macro avg       0.89      0.80      0.82       158\n",
            "weighted avg       0.87      0.84      0.83       158\n",
            "\n"
          ]
        }
      ]
    },
    {
      "cell_type": "markdown",
      "source": [
        "# 결과적으로 모델이 Stable 클래스에 대해 완전히 무시하고, Recovered 쪽으로 치우친 예측을 함"
      ],
      "metadata": {
        "id": "P8KJL4ihM-kd"
      }
    },
    {
      "cell_type": "code",
      "source": [
        "# 테스트 데이터 셋 성능 출력하는 코드\n",
        "y_test_pred = clf.predict(X_test.to_numpy(dtype=np.float32))\n",
        "print(classification_report(y_test, y_test_pred))"
      ],
      "metadata": {
        "colab": {
          "base_uri": "https://localhost:8080/"
        },
        "id": "ZbbFzXhpwRf7",
        "outputId": "3dc72515-f9f8-4068-cfd1-a0b9a0912486"
      },
      "execution_count": 225,
      "outputs": [
        {
          "output_type": "stream",
          "name": "stdout",
          "text": [
            "              precision    recall  f1-score   support\n",
            "\n",
            "   Recovered       0.55      0.33      0.41       118\n",
            "      Stable       0.37      0.59      0.46        79\n",
            "\n",
            "    accuracy                           0.44       197\n",
            "   macro avg       0.46      0.46      0.44       197\n",
            "weighted avg       0.48      0.44      0.43       197\n",
            "\n"
          ]
        }
      ]
    },
    {
      "cell_type": "code",
      "source": [
        "# 데이터 타입 출력하는 코드\n",
        "print(X_test.dtypes)"
      ],
      "metadata": {
        "colab": {
          "base_uri": "https://localhost:8080/"
        },
        "id": "oI8enzNpwd7e",
        "outputId": "96894339-0103-46be-84e5-44e7f8010329"
      },
      "execution_count": 226,
      "outputs": [
        {
          "output_type": "stream",
          "name": "stdout",
          "text": [
            "Age                                               int64\n",
            "Cost                                              int64\n",
            "Length_of_Stay                                    int64\n",
            "Satisfaction                                      int64\n",
            "Gender_Female                                      bool\n",
            "Gender_Male                                        bool\n",
            "Condition_Allergic Reaction                        bool\n",
            "Condition_Appendicitis                             bool\n",
            "Condition_Cancer                                   bool\n",
            "Condition_Childbirth                               bool\n",
            "Condition_Diabetes                                 bool\n",
            "Condition_Fractured Arm                            bool\n",
            "Condition_Fractured Leg                            bool\n",
            "Condition_Heart Attack                             bool\n",
            "Condition_Heart Disease                            bool\n",
            "Condition_Hypertension                             bool\n",
            "Condition_Kidney Stones                            bool\n",
            "Condition_Osteoarthritis                           bool\n",
            "Condition_Prostate Cancer                          bool\n",
            "Condition_Respiratory Infection                    bool\n",
            "Condition_Stroke                                   bool\n",
            "Procedure_Angioplasty                              bool\n",
            "Procedure_Antibiotics and Rest                     bool\n",
            "Procedure_Appendectomy                             bool\n",
            "Procedure_CT Scan and Medication                   bool\n",
            "Procedure_Cardiac Catheterization                  bool\n",
            "Procedure_Cast and Physical Therapy                bool\n",
            "Procedure_Delivery and Postnatal Care              bool\n",
            "Procedure_Epinephrine Injection                    bool\n",
            "Procedure_Insulin Therapy                          bool\n",
            "Procedure_Lithotripsy                              bool\n",
            "Procedure_Medication and Counseling                bool\n",
            "Procedure_Physical Therapy and Pain Management     bool\n",
            "Procedure_Radiation Therapy                        bool\n",
            "Procedure_Surgery and Chemotherapy                 bool\n",
            "Procedure_X-Ray and Splint                         bool\n",
            "Readmission_No                                     bool\n",
            "Readmission_Yes                                    bool\n",
            "dtype: object\n"
          ]
        }
      ]
    },
    {
      "cell_type": "code",
      "source": [
        "# 데이터에 문자열이 있는지 확인하는 코드\n",
        "for col in X_test.columns:\n",
        "    if X_test[col].dtype == 'object':\n",
        "        print(col, X_test[col].unique())\n",
        "\n",
        "\n",
        "X_test = X_test.select_dtypes(exclude=['object'])"
      ],
      "metadata": {
        "id": "KE7KQnqXwgh3"
      },
      "execution_count": 227,
      "outputs": []
    },
    {
      "cell_type": "code",
      "source": [
        "# TabNet 분류기 정의히는 코드\n",
        "device = torch.device(\"cuda\" if torch.cuda.is_available() else \"cpu\")\n",
        "\n",
        "clf = TabNetClassifier(\n",
        "    device_name=device.type,\n",
        "    n_d=64, n_a=64,\n",
        "    n_steps=5,\n",
        "    gamma=1.5,\n",
        "    lambda_sparse=1e-4,\n",
        "    optimizer_fn=torch.optim.Adam,\n",
        "    optimizer_params=dict(lr=2e-2),\n",
        "    scheduler_params={\"step_size\":10, \"gamma\":0.9},\n",
        "    scheduler_fn=torch.optim.lr_scheduler.StepLR,\n",
        "    verbose=1\n",
        ")"
      ],
      "metadata": {
        "colab": {
          "base_uri": "https://localhost:8080/"
        },
        "id": "2qjfhuTjAH0u",
        "outputId": "739e8350-8605-4842-d846-5a9a92061d40"
      },
      "execution_count": 228,
      "outputs": [
        {
          "output_type": "stream",
          "name": "stderr",
          "text": [
            "/usr/local/lib/python3.11/dist-packages/pytorch_tabnet/abstract_model.py:82: UserWarning: Device used : cpu\n",
            "  warnings.warn(f\"Device used : {self.device}\")\n"
          ]
        }
      ]
    },
    {
      "cell_type": "code",
      "source": [
        "# 모델 학습하는 코드\n",
        "clf.fit(\n",
        "    X_train.values,\n",
        "    y_train.values,\n",
        "    eval_set=[(X_test.values, y_test.values)],\n",
        "    max_epochs=100,\n",
        "    patience=10,\n",
        "    batch_size=256,\n",
        "    virtual_batch_size=128,\n",
        "    num_workers=0,\n",
        "    drop_last=False\n",
        ")"
      ],
      "metadata": {
        "colab": {
          "base_uri": "https://localhost:8080/"
        },
        "id": "55K9qmGWdRh0",
        "outputId": "af50f789-5eab-4ab1-b71c-1d01e927b337"
      },
      "execution_count": 229,
      "outputs": [
        {
          "output_type": "stream",
          "name": "stdout",
          "text": [
            "epoch 0  | loss: 1.13694 | val_0_auc: 0.27167 |  0:00:00s\n",
            "epoch 1  | loss: 0.49809 | val_0_auc: 0.67035 |  0:00:00s\n",
            "epoch 2  | loss: 0.29733 | val_0_auc: 0.53991 |  0:00:01s\n",
            "epoch 3  | loss: 0.0978  | val_0_auc: 0.49507 |  0:00:01s\n",
            "epoch 4  | loss: 0.19324 | val_0_auc: 0.35931 |  0:00:01s\n",
            "epoch 5  | loss: 0.00921 | val_0_auc: 0.60513 |  0:00:02s\n",
            "epoch 6  | loss: 0.01616 | val_0_auc: 0.66402 |  0:00:02s\n",
            "epoch 7  | loss: 0.00839 | val_0_auc: 0.47012 |  0:00:02s\n",
            "epoch 8  | loss: 0.00131 | val_0_auc: 0.5118  |  0:00:03s\n",
            "epoch 9  | loss: 0.00072 | val_0_auc: 0.63318 |  0:00:03s\n",
            "epoch 10 | loss: 0.01266 | val_0_auc: 0.58534 |  0:00:03s\n",
            "epoch 11 | loss: 0.00328 | val_0_auc: 0.62111 |  0:00:03s\n",
            "\n",
            "Early stopping occurred at epoch 11 with best_epoch = 1 and best_val_0_auc = 0.67035\n"
          ]
        },
        {
          "output_type": "stream",
          "name": "stderr",
          "text": [
            "/usr/local/lib/python3.11/dist-packages/pytorch_tabnet/callbacks.py:172: UserWarning: Best weights from best epoch are automatically used!\n",
            "  warnings.warn(wrn_msg)\n"
          ]
        }
      ]
    },
    {
      "cell_type": "markdown",
      "source": [
        "# 꽤 균형 잡힌 예측"
      ],
      "metadata": {
        "id": "Gg6wIUuONPKL"
      }
    },
    {
      "cell_type": "code",
      "source": [
        "# bool 컬럼을 int로 변환하는 코드\n",
        "X_test_fixed = X_test.copy()\n",
        "bool_cols = X_test_fixed.select_dtypes(include='bool').columns\n",
        "X_test_fixed[bool_cols] = X_test_fixed[bool_cols].astype(int)\n",
        "\n",
        "# 예측하는 코드\n",
        "y_pred = clf.predict(X_test_fixed.values)\n",
        "\n",
        "# 평가한 지표를 출력하는 코드\n",
        "from sklearn.metrics import classification_report, confusion_matrix, accuracy_score\n",
        "\n",
        "print(\"Classification Report:\")\n",
        "print(classification_report(y_test, y_pred))\n",
        "\n",
        "print(\"Confusion Matrix:\")\n",
        "print(confusion_matrix(y_test, y_pred))\n",
        "\n",
        "print(\"Accuracy:\", accuracy_score(y_test, y_pred))"
      ],
      "metadata": {
        "colab": {
          "base_uri": "https://localhost:8080/"
        },
        "id": "MvGZujNgXPmV",
        "outputId": "327cba50-c433-4b3a-90fa-90a1a37a219b"
      },
      "execution_count": 230,
      "outputs": [
        {
          "output_type": "stream",
          "name": "stdout",
          "text": [
            "Classification Report:\n",
            "              precision    recall  f1-score   support\n",
            "\n",
            "   Recovered       0.67      0.63      0.65       118\n",
            "      Stable       0.49      0.54      0.52        79\n",
            "\n",
            "    accuracy                           0.59       197\n",
            "   macro avg       0.58      0.59      0.58       197\n",
            "weighted avg       0.60      0.59      0.60       197\n",
            "\n",
            "Confusion Matrix:\n",
            "[[74 44]\n",
            " [36 43]]\n",
            "Accuracy: 0.5939086294416244\n"
          ]
        }
      ]
    },
    {
      "cell_type": "markdown",
      "source": [
        "# 추가적인 불균형 대책 - 더 나빠짐"
      ],
      "metadata": {
        "id": "XKp9GToPxRlf"
      }
    },
    {
      "cell_type": "code",
      "source": [
        "# 관련 라이브러리 임포트하는 코드\n",
        "import torch\n",
        "import torch.nn as nn\n",
        "from sklearn.utils.class_weight import compute_class_weight\n",
        "import numpy as np"
      ],
      "metadata": {
        "id": "Hakk_7IdxStv"
      },
      "execution_count": 231,
      "outputs": []
    },
    {
      "cell_type": "code",
      "source": [
        "# 장치 설정하는 코드\n",
        "device = torch.device(\"cuda\" if torch.cuda.is_available() else \"cpu\")\n",
        "\n",
        "# 클래스 가중치 계산하는 코드\n",
        "class_weights_np = compute_class_weight('balanced', classes=np.unique(y_train), y=y_train)\n",
        "print(\"Class weights:\", class_weights_np)\n",
        "\n",
        "# tensor로 변환하는 코드\n",
        "class_weights_tensor = torch.tensor(class_weights_np, dtype=torch.float32).to(device)\n",
        "\n",
        "# 손실함수 정의하는 코드\n",
        "weighted_loss_fn = nn.CrossEntropyLoss(weight=class_weights_tensor)"
      ],
      "metadata": {
        "colab": {
          "base_uri": "https://localhost:8080/"
        },
        "id": "FteyVzSrdgbt",
        "outputId": "785caf19-e3c2-4eaa-b12a-e9292cc15b0b"
      },
      "execution_count": 232,
      "outputs": [
        {
          "output_type": "stream",
          "name": "stdout",
          "text": [
            "Class weights: [0.83201058 1.25298805]\n"
          ]
        }
      ]
    },
    {
      "cell_type": "code",
      "source": [
        "# 모델 학습하는 코드\n",
        "clf.fit(\n",
        "    X_train=X_train.values, y_train=y_train.values,\n",
        "    eval_set=[(X_val.values, y_val.values)],\n",
        "    eval_name=[\"val\"],\n",
        "    eval_metric=[\"accuracy\"],\n",
        "    max_epochs=100,\n",
        "    patience=10,\n",
        "    batch_size=256,\n",
        "    virtual_batch_size=128,\n",
        "    loss_fn=weighted_loss_fn\n",
        ")"
      ],
      "metadata": {
        "colab": {
          "base_uri": "https://localhost:8080/"
        },
        "id": "RoEQRD5VdnbP",
        "outputId": "6925003c-74fb-4486-d93f-2e228847dc5e"
      },
      "execution_count": 233,
      "outputs": [
        {
          "output_type": "stream",
          "name": "stdout",
          "text": [
            "epoch 0  | loss: 1.04959 | val_accuracy: 0.47468 |  0:00:00s\n",
            "epoch 1  | loss: 0.59959 | val_accuracy: 0.60127 |  0:00:00s\n",
            "epoch 2  | loss: 0.28158 | val_accuracy: 0.63924 |  0:00:00s\n",
            "epoch 3  | loss: 0.14664 | val_accuracy: 0.63291 |  0:00:00s\n",
            "epoch 4  | loss: 0.11921 | val_accuracy: 0.77215 |  0:00:00s\n",
            "epoch 5  | loss: 0.13275 | val_accuracy: 0.83544 |  0:00:01s\n",
            "epoch 6  | loss: 0.08811 | val_accuracy: 0.82911 |  0:00:01s\n",
            "epoch 7  | loss: 0.03727 | val_accuracy: 0.82278 |  0:00:01s\n",
            "epoch 8  | loss: 0.45884 | val_accuracy: 0.77215 |  0:00:01s\n",
            "epoch 9  | loss: 0.01655 | val_accuracy: 0.81013 |  0:00:01s\n",
            "epoch 10 | loss: 0.00476 | val_accuracy: 0.75949 |  0:00:02s\n",
            "epoch 11 | loss: 0.00533 | val_accuracy: 0.77215 |  0:00:02s\n",
            "epoch 12 | loss: 0.02763 | val_accuracy: 0.79114 |  0:00:02s\n",
            "epoch 13 | loss: 0.0257  | val_accuracy: 0.72785 |  0:00:02s\n",
            "epoch 14 | loss: 0.02035 | val_accuracy: 0.70253 |  0:00:02s\n",
            "epoch 15 | loss: 0.01872 | val_accuracy: 0.70886 |  0:00:02s\n",
            "\n",
            "Early stopping occurred at epoch 15 with best_epoch = 5 and best_val_accuracy = 0.83544\n"
          ]
        },
        {
          "output_type": "stream",
          "name": "stderr",
          "text": [
            "/usr/local/lib/python3.11/dist-packages/pytorch_tabnet/callbacks.py:172: UserWarning: Best weights from best epoch are automatically used!\n",
            "  warnings.warn(wrn_msg)\n"
          ]
        }
      ]
    },
    {
      "cell_type": "code",
      "source": [
        "import numpy as np\n",
        "\n",
        "# 예측을 넘파이 배열로 변환하는 코드\n",
        "y_pred = clf.predict(X_test.to_numpy(dtype=np.float32))"
      ],
      "metadata": {
        "id": "zb0jogjrxxZM"
      },
      "execution_count": 234,
      "outputs": []
    },
    {
      "cell_type": "code",
      "source": [
        "# 데이터 타입 출력하는 코드\n",
        "print(X_test.dtypes)"
      ],
      "metadata": {
        "colab": {
          "base_uri": "https://localhost:8080/"
        },
        "id": "R_ZXEpfox7nx",
        "outputId": "3d82cde7-c512-4acf-8d89-1c469ede013e"
      },
      "execution_count": 235,
      "outputs": [
        {
          "output_type": "stream",
          "name": "stdout",
          "text": [
            "Age                                               int64\n",
            "Cost                                              int64\n",
            "Length_of_Stay                                    int64\n",
            "Satisfaction                                      int64\n",
            "Gender_Female                                      bool\n",
            "Gender_Male                                        bool\n",
            "Condition_Allergic Reaction                        bool\n",
            "Condition_Appendicitis                             bool\n",
            "Condition_Cancer                                   bool\n",
            "Condition_Childbirth                               bool\n",
            "Condition_Diabetes                                 bool\n",
            "Condition_Fractured Arm                            bool\n",
            "Condition_Fractured Leg                            bool\n",
            "Condition_Heart Attack                             bool\n",
            "Condition_Heart Disease                            bool\n",
            "Condition_Hypertension                             bool\n",
            "Condition_Kidney Stones                            bool\n",
            "Condition_Osteoarthritis                           bool\n",
            "Condition_Prostate Cancer                          bool\n",
            "Condition_Respiratory Infection                    bool\n",
            "Condition_Stroke                                   bool\n",
            "Procedure_Angioplasty                              bool\n",
            "Procedure_Antibiotics and Rest                     bool\n",
            "Procedure_Appendectomy                             bool\n",
            "Procedure_CT Scan and Medication                   bool\n",
            "Procedure_Cardiac Catheterization                  bool\n",
            "Procedure_Cast and Physical Therapy                bool\n",
            "Procedure_Delivery and Postnatal Care              bool\n",
            "Procedure_Epinephrine Injection                    bool\n",
            "Procedure_Insulin Therapy                          bool\n",
            "Procedure_Lithotripsy                              bool\n",
            "Procedure_Medication and Counseling                bool\n",
            "Procedure_Physical Therapy and Pain Management     bool\n",
            "Procedure_Radiation Therapy                        bool\n",
            "Procedure_Surgery and Chemotherapy                 bool\n",
            "Procedure_X-Ray and Splint                         bool\n",
            "Readmission_No                                     bool\n",
            "Readmission_Yes                                    bool\n",
            "dtype: object\n"
          ]
        }
      ]
    },
    {
      "cell_type": "code",
      "source": [
        "# 모든 값을 float32 타입의 넘파이 배열로 변환하는 코드\n",
        "X_test_np = X_test.astype(np.float32).to_numpy()\n",
        "\n",
        "# 예측 수행하는 코드\n",
        "y_pred = clf.predict(X_test_np)\n",
        "\n",
        "# 결과 출력하는 코드\n",
        "from sklearn.metrics import classification_report\n",
        "print(classification_report(y_test, y_pred))"
      ],
      "metadata": {
        "colab": {
          "base_uri": "https://localhost:8080/"
        },
        "id": "JbPskrsyyJft",
        "outputId": "d2f7b538-e2ee-4701-afd3-76280e9c3414"
      },
      "execution_count": 236,
      "outputs": [
        {
          "output_type": "stream",
          "name": "stdout",
          "text": [
            "              precision    recall  f1-score   support\n",
            "\n",
            "   Recovered       1.00      0.12      0.21       118\n",
            "      Stable       0.43      1.00      0.60        79\n",
            "\n",
            "    accuracy                           0.47       197\n",
            "   macro avg       0.72      0.56      0.41       197\n",
            "weighted avg       0.77      0.47      0.37       197\n",
            "\n"
          ]
        }
      ]
    },
    {
      "cell_type": "code",
      "source": [
        "# 클래스 불균형 조정하는 코드\n",
        "from torch.nn import CrossEntropyLoss\n",
        "\n",
        "class_weights = compute_class_weight('balanced', classes=np.unique(y_train), y=y_train)\n",
        "class_weights_tensor = torch.tensor(class_weights, dtype=torch.float32).to(device)\n",
        "\n",
        "# 모델 구현하는 코드\n",
        "clf = TabNetClassifier(\n",
        "    device_name=device.type,\n",
        "    n_d=64, n_a=64,\n",
        "    n_steps=5,\n",
        "    gamma=1.5,\n",
        "    lambda_sparse=1e-4,\n",
        "    optimizer_fn=torch.optim.Adam,\n",
        "    optimizer_params=dict(lr=2e-2),\n",
        "    scheduler_params={\"step_size\": 10, \"gamma\": 0.9},\n",
        "    scheduler_fn=torch.optim.lr_scheduler.StepLR,\n",
        "    verbose=1\n",
        ")"
      ],
      "metadata": {
        "colab": {
          "base_uri": "https://localhost:8080/"
        },
        "id": "Jyq2e-Xjyc0N",
        "outputId": "4bd69b79-1830-44af-dd0d-c6869207760a"
      },
      "execution_count": 237,
      "outputs": [
        {
          "output_type": "stream",
          "name": "stderr",
          "text": [
            "/usr/local/lib/python3.11/dist-packages/pytorch_tabnet/abstract_model.py:82: UserWarning: Device used : cpu\n",
            "  warnings.warn(f\"Device used : {self.device}\")\n"
          ]
        }
      ]
    },
    {
      "cell_type": "code",
      "source": [
        "# 모델 학습하는 코드\n",
        "clf.fit(\n",
        "    X_train=X_train.astype(np.float32).to_numpy(),\n",
        "    y_train=y_train,\n",
        "    eval_set=[(X_test.astype(np.float32).to_numpy(), y_test)],\n",
        "    eval_metric=[\"accuracy\"],\n",
        "    loss_fn=CrossEntropyLoss(weight=class_weights_tensor),\n",
        "    max_epochs=100,\n",
        "    patience=10,\n",
        "    batch_size=256,\n",
        "    virtual_batch_size=128\n",
        ")"
      ],
      "metadata": {
        "colab": {
          "base_uri": "https://localhost:8080/"
        },
        "id": "aANfF7Tid9En",
        "outputId": "1177c95c-58c4-4e7e-c671-9e0d42df161d"
      },
      "execution_count": 238,
      "outputs": [
        {
          "output_type": "stream",
          "name": "stdout",
          "text": [
            "epoch 0  | loss: 1.04959 | val_0_accuracy: 0.38579 |  0:00:00s\n",
            "epoch 1  | loss: 0.59959 | val_0_accuracy: 0.46701 |  0:00:00s\n",
            "epoch 2  | loss: 0.28158 | val_0_accuracy: 0.54315 |  0:00:00s\n",
            "epoch 3  | loss: 0.14664 | val_0_accuracy: 0.41624 |  0:00:00s\n",
            "epoch 4  | loss: 0.11921 | val_0_accuracy: 0.43655 |  0:00:00s\n",
            "epoch 5  | loss: 0.13275 | val_0_accuracy: 0.47208 |  0:00:01s\n",
            "epoch 6  | loss: 0.08811 | val_0_accuracy: 0.47208 |  0:00:01s\n",
            "epoch 7  | loss: 0.03727 | val_0_accuracy: 0.41624 |  0:00:01s\n",
            "epoch 8  | loss: 0.45884 | val_0_accuracy: 0.36548 |  0:00:01s\n",
            "epoch 9  | loss: 0.01655 | val_0_accuracy: 0.41117 |  0:00:01s\n",
            "epoch 10 | loss: 0.00476 | val_0_accuracy: 0.63959 |  0:00:02s\n",
            "epoch 11 | loss: 0.00533 | val_0_accuracy: 0.50761 |  0:00:02s\n",
            "epoch 12 | loss: 0.02763 | val_0_accuracy: 0.4467  |  0:00:02s\n",
            "epoch 13 | loss: 0.0257  | val_0_accuracy: 0.37056 |  0:00:02s\n",
            "epoch 14 | loss: 0.02035 | val_0_accuracy: 0.37563 |  0:00:02s\n",
            "epoch 15 | loss: 0.01872 | val_0_accuracy: 0.51269 |  0:00:02s\n",
            "epoch 16 | loss: 0.00236 | val_0_accuracy: 0.46701 |  0:00:03s\n",
            "epoch 17 | loss: 0.00102 | val_0_accuracy: 0.66497 |  0:00:03s\n",
            "epoch 18 | loss: 0.01442 | val_0_accuracy: 0.62944 |  0:00:03s\n",
            "epoch 19 | loss: 0.0003  | val_0_accuracy: 0.40102 |  0:00:03s\n",
            "epoch 20 | loss: 0.00057 | val_0_accuracy: 0.40102 |  0:00:03s\n",
            "epoch 21 | loss: 6e-05   | val_0_accuracy: 0.40102 |  0:00:04s\n",
            "epoch 22 | loss: 0.00012 | val_0_accuracy: 0.47208 |  0:00:04s\n",
            "epoch 23 | loss: 0.00089 | val_0_accuracy: 0.47208 |  0:00:04s\n",
            "epoch 24 | loss: 0.00029 | val_0_accuracy: 0.47208 |  0:00:04s\n",
            "epoch 25 | loss: 5e-05   | val_0_accuracy: 0.47208 |  0:00:04s\n",
            "epoch 26 | loss: 6e-05   | val_0_accuracy: 0.48223 |  0:00:05s\n",
            "epoch 27 | loss: 8e-05   | val_0_accuracy: 0.47208 |  0:00:05s\n",
            "\n",
            "Early stopping occurred at epoch 27 with best_epoch = 17 and best_val_0_accuracy = 0.66497\n"
          ]
        },
        {
          "output_type": "stream",
          "name": "stderr",
          "text": [
            "/usr/local/lib/python3.11/dist-packages/pytorch_tabnet/callbacks.py:172: UserWarning: Best weights from best epoch are automatically used!\n",
            "  warnings.warn(wrn_msg)\n"
          ]
        }
      ]
    },
    {
      "cell_type": "code",
      "source": [
        "# 예측을 넘파이 배열로 변환하는 코드\n",
        "y_pred = clf.predict(X_test.astype(np.float32).to_numpy())"
      ],
      "metadata": {
        "id": "v4FyY_fPyogh"
      },
      "execution_count": 239,
      "outputs": []
    },
    {
      "cell_type": "markdown",
      "source": [
        "# 클래스 불균형 조정 후 결과 분석\n",
        "\n",
        "- 불균형 조정 후에는 모델이 한쪽 클래스만 맞추는 현상은 줄었지만, 전반적인 성능은 약간 저하됨.\n",
        "- Recovered(0): recall이 높아져서 더 많이 맞추긴 했지만 precision이 줄어서 noise도 같이 증가함."
      ],
      "metadata": {
        "id": "pRvJhacczBdM"
      }
    },
    {
      "cell_type": "code",
      "source": [
        "from sklearn.metrics import classification_report, confusion_matrix, accuracy_score\n",
        "\n",
        "# 분류 리포트를 출력하는 코드\n",
        "print(\"Classification Report:\")\n",
        "print(classification_report(y_test, y_pred, target_names=[\"Recovered\", \"Stable\"]))\n",
        "\n",
        "# 혼동 행렬을 출력하는 코드\n",
        "print(\"\\nConfusion Matrix:\")\n",
        "print(confusion_matrix(y_test, y_pred))\n",
        "\n",
        "# 정확도를 출력하는 코드\n",
        "print(\"\\nAccuracy:\", accuracy_score(y_test, y_pred))"
      ],
      "metadata": {
        "colab": {
          "base_uri": "https://localhost:8080/"
        },
        "id": "Mu8Qv8GCyxyH",
        "outputId": "357292eb-df74-4e02-96db-562a4a0a89ec"
      },
      "execution_count": 240,
      "outputs": [
        {
          "output_type": "stream",
          "name": "stdout",
          "text": [
            "Classification Report:\n",
            "              precision    recall  f1-score   support\n",
            "\n",
            "   Recovered       0.73      0.69      0.71       118\n",
            "      Stable       0.58      0.62      0.60        79\n",
            "\n",
            "    accuracy                           0.66       197\n",
            "   macro avg       0.65      0.66      0.66       197\n",
            "weighted avg       0.67      0.66      0.67       197\n",
            "\n",
            "\n",
            "Confusion Matrix:\n",
            "[[82 36]\n",
            " [30 49]]\n",
            "\n",
            "Accuracy: 0.6649746192893401\n"
          ]
        }
      ]
    },
    {
      "cell_type": "markdown",
      "source": [
        "# Entity Embedding + MLP 모델 구현하기"
      ],
      "metadata": {
        "id": "ssjulZYIzbbC"
      }
    },
    {
      "cell_type": "code",
      "source": [
        "# 데이터에 존재하는 칼럼 확인하는 코드\n",
        "print(X_train.columns)"
      ],
      "metadata": {
        "colab": {
          "base_uri": "https://localhost:8080/"
        },
        "id": "NO0D87zG1am_",
        "outputId": "b5bc5ac6-e73f-49d1-dd52-4160e37082bf"
      },
      "execution_count": 241,
      "outputs": [
        {
          "output_type": "stream",
          "name": "stdout",
          "text": [
            "Index(['Age', 'Cost', 'Length_of_Stay', 'Satisfaction', 'Gender_Female',\n",
            "       'Gender_Male', 'Condition_Allergic Reaction', 'Condition_Appendicitis',\n",
            "       'Condition_Cancer', 'Condition_Childbirth', 'Condition_Diabetes',\n",
            "       'Condition_Fractured Arm', 'Condition_Fractured Leg',\n",
            "       'Condition_Heart Attack', 'Condition_Heart Disease',\n",
            "       'Condition_Hypertension', 'Condition_Kidney Stones',\n",
            "       'Condition_Osteoarthritis', 'Condition_Prostate Cancer',\n",
            "       'Condition_Respiratory Infection', 'Condition_Stroke',\n",
            "       'Procedure_Angioplasty', 'Procedure_Antibiotics and Rest',\n",
            "       'Procedure_Appendectomy', 'Procedure_CT Scan and Medication',\n",
            "       'Procedure_Cardiac Catheterization',\n",
            "       'Procedure_Cast and Physical Therapy',\n",
            "       'Procedure_Delivery and Postnatal Care',\n",
            "       'Procedure_Epinephrine Injection', 'Procedure_Insulin Therapy',\n",
            "       'Procedure_Lithotripsy', 'Procedure_Medication and Counseling',\n",
            "       'Procedure_Physical Therapy and Pain Management',\n",
            "       'Procedure_Radiation Therapy', 'Procedure_Surgery and Chemotherapy',\n",
            "       'Procedure_X-Ray and Splint', 'Readmission_No', 'Readmission_Yes'],\n",
            "      dtype='object')\n"
          ]
        }
      ]
    },
    {
      "cell_type": "code",
      "source": [
        "# 관련 라이브러리 임포트하는 코드\n",
        "import pandas as pd\n",
        "import numpy as np\n",
        "import torch\n",
        "from sklearn.model_selection import train_test_split\n",
        "from sklearn.preprocessing import LabelEncoder, StandardScaler\n",
        "from torch.utils.data import Dataset, DataLoader\n",
        "import torch.nn as nn\n",
        "import torch.optim as optim"
      ],
      "metadata": {
        "id": "y64WzUyyzkhk"
      },
      "execution_count": 242,
      "outputs": []
    },
    {
      "cell_type": "code",
      "source": [
        "# 타켓 데이터 인코딩하는 코드\n",
        "label_encoder = LabelEncoder()\n",
        "patient['Outcome'] = label_encoder.fit_transform(patient['Outcome'])\n",
        "\n",
        "# 칼럼 구분하는 코드\n",
        "numerical_cols = ['Age', 'Cost', 'Length_of_Stay', 'Satisfaction']\n",
        "\n",
        "categorical_cols = [\n",
        "    'Gender_Female', 'Gender_Male',\n",
        "    'Condition_Allergic Reaction', 'Condition_Appendicitis',\n",
        "    'Condition_Cancer', 'Condition_Childbirth', 'Condition_Diabetes',\n",
        "    'Condition_Fractured Arm', 'Condition_Fractured Leg',\n",
        "    'Condition_Heart Attack', 'Condition_Heart Disease',\n",
        "    'Condition_Hypertension', 'Condition_Kidney Stones',\n",
        "    'Condition_Osteoarthritis', 'Condition_Prostate Cancer',\n",
        "    'Condition_Respiratory Infection', 'Condition_Stroke',\n",
        "    'Procedure_Angioplasty', 'Procedure_Antibiotics and Rest',\n",
        "    'Procedure_Appendectomy', 'Procedure_CT Scan and Medication',\n",
        "    'Procedure_Cardiac Catheterization',\n",
        "    'Procedure_Cast and Physical Therapy',\n",
        "    'Procedure_Delivery and Postnatal Care',\n",
        "    'Procedure_Epinephrine Injection', 'Procedure_Insulin Therapy',\n",
        "    'Procedure_Lithotripsy', 'Procedure_Medication and Counseling',\n",
        "    'Procedure_Physical Therapy and Pain Management',\n",
        "    'Procedure_Radiation Therapy', 'Procedure_Surgery and Chemotherapy',\n",
        "    'Procedure_X-Ray and Splint',\n",
        "    'Readmission_No', 'Readmission_Yes'\n",
        "]\n",
        "\n",
        "# 카테고리 인코딩하는 코드\n",
        "for col in categorical_cols:\n",
        "    patient[col] = patient[col].astype('category').cat.codes\n",
        "\n",
        "# 데이터 나누는 코드\n",
        "X = patient[numerical_cols + categorical_cols]\n",
        "y = patient['Outcome']\n",
        "X_train, X_test, y_train, y_test = train_test_split(X, y, test_size=0.2, stratify=y, random_state=42)"
      ],
      "metadata": {
        "id": "kulDFBiyeSDn"
      },
      "execution_count": 243,
      "outputs": []
    },
    {
      "cell_type": "code",
      "source": [
        "# 모델 구현하는 코드\n",
        "class MedicalDataset(Dataset):\n",
        "    def __init__(self, X, y, cat_cols, num_cols):\n",
        "        self.y = torch.tensor(y.values, dtype=torch.long)\n",
        "        self.cat_data = torch.tensor(X[cat_cols].values, dtype=torch.long)\n",
        "        self.num_data = torch.tensor(X[num_cols].values, dtype=torch.float32)\n",
        "\n",
        "    def __len__(self):\n",
        "        return len(self.y)\n",
        "\n",
        "    def __getitem__(self, idx):\n",
        "        return self.cat_data[idx], self.num_data[idx], self.y[idx]"
      ],
      "metadata": {
        "id": "KvwgfmFw0d5e"
      },
      "execution_count": 244,
      "outputs": []
    },
    {
      "cell_type": "code",
      "source": [
        "# 데이터를 배치 단위로 만드는 코드\n",
        "train_dataset = MedicalDataset(X_train, y_train, categorical_cols, numerical_cols)\n",
        "test_dataset = MedicalDataset(X_test, y_test, categorical_cols, numerical_cols)\n",
        "\n",
        "train_loader = DataLoader(train_dataset, batch_size=64, shuffle=True)\n",
        "test_loader = DataLoader(test_dataset, batch_size=64)"
      ],
      "metadata": {
        "id": "eLvzrU0oehiJ"
      },
      "execution_count": 245,
      "outputs": []
    },
    {
      "cell_type": "code",
      "source": [
        "# 모델 재구현하는 코드\n",
        "class EntityEmbeddingModel(nn.Module):\n",
        "    def __init__(self, embedding_sizes, num_numerical, hidden_units=128, dropout=0.3):\n",
        "        super().__init__()\n",
        "        self.embeddings = nn.ModuleList([nn.Embedding(categories, size) for categories, size in embedding_sizes])\n",
        "        emb_dim = sum([size for _, size in embedding_sizes])\n",
        "        self.fc1 = nn.Linear(emb_dim + num_numerical, hidden_units)\n",
        "        self.fc2 = nn.Linear(hidden_units, 64)\n",
        "        self.fc3 = nn.Linear(64, 2)\n",
        "        self.dropout = nn.Dropout(dropout)\n",
        "        self.relu = nn.ReLU()\n",
        "\n",
        "    def forward(self, x_cat, x_num):\n",
        "        x = [emb(x_cat[:, i]) for i, emb in enumerate(self.embeddings)]\n",
        "        x = torch.cat(x, dim=1)\n",
        "        x = torch.cat([x, x_num], dim=1)\n",
        "        x = self.dropout(self.relu(self.fc1(x)))\n",
        "        x = self.dropout(self.relu(self.fc2(x)))\n",
        "        return self.fc3(x)"
      ],
      "metadata": {
        "id": "VbucNzLX1pif"
      },
      "execution_count": 246,
      "outputs": []
    },
    {
      "cell_type": "code",
      "source": [
        "# 임베딩 사이즈 정의하는 코드\n",
        "embedding_sizes = [(int(df[col].nunique()), min(50, (df[col].nunique() + 1) // 2)) for col in categorical_cols]\n",
        "\n",
        "model = EntityEmbeddingModel(embedding_sizes, num_numerical=len(numerical_cols)).to(\"cuda\" if torch.cuda.is_available() else \"cpu\")\n",
        "criterion = nn.CrossEntropyLoss()\n",
        "optimizer = optim.Adam(model.parameters(), lr=0.001)\n",
        "\n",
        "# 학습 루프를 만드는 코드\n",
        "device = torch.device(\"cuda\" if torch.cuda.is_available() else \"cpu\")\n",
        "for epoch in range(20):\n",
        "    model.train()\n",
        "    total_loss = 0\n",
        "    for cat, num, label in train_loader:\n",
        "        cat, num, label = cat.to(device), num.to(device), label.to(device)\n",
        "        optimizer.zero_grad()\n",
        "        output = model(cat, num)\n",
        "        loss = criterion(output, label)\n",
        "        loss.backward()\n",
        "        optimizer.step()\n",
        "        total_loss += loss.item()\n",
        "    print(f\"Epoch {epoch+1}, Loss: {total_loss/len(train_loader):.4f}\")"
      ],
      "metadata": {
        "colab": {
          "base_uri": "https://localhost:8080/"
        },
        "id": "dnEeR6451rJX",
        "outputId": "4d84e18f-9f4d-4131-d051-bdf25bc28aa3"
      },
      "execution_count": 247,
      "outputs": [
        {
          "output_type": "stream",
          "name": "stdout",
          "text": [
            "Epoch 1, Loss: 45.7676\n",
            "Epoch 2, Loss: 30.5307\n",
            "Epoch 3, Loss: 16.7775\n",
            "Epoch 4, Loss: 9.5836\n",
            "Epoch 5, Loss: 8.1179\n",
            "Epoch 6, Loss: 4.1844\n",
            "Epoch 7, Loss: 2.8547\n",
            "Epoch 8, Loss: 2.4968\n",
            "Epoch 9, Loss: 1.5932\n",
            "Epoch 10, Loss: 1.1119\n",
            "Epoch 11, Loss: 1.0073\n",
            "Epoch 12, Loss: 1.0189\n",
            "Epoch 13, Loss: 0.9372\n",
            "Epoch 14, Loss: 1.2323\n",
            "Epoch 15, Loss: 0.7492\n",
            "Epoch 16, Loss: 0.8059\n",
            "Epoch 17, Loss: 0.8208\n",
            "Epoch 18, Loss: 0.7552\n",
            "Epoch 19, Loss: 0.8422\n",
            "Epoch 20, Loss: 0.7012\n"
          ]
        }
      ]
    },
    {
      "cell_type": "markdown",
      "source": [
        "# 결과를 보면 클래스 0의 재현율 매우 낮음/클래스 1의 정밀도 낮음/전체 Accuracy가 낮음\n",
        "\n",
        "\n"
      ],
      "metadata": {
        "id": "yI5m90FG2LXU"
      }
    },
    {
      "cell_type": "code",
      "source": [
        "from sklearn.metrics import classification_report\n",
        "\n",
        "# 모델 평가하는 코드\n",
        "model.eval()\n",
        "all_preds, all_labels = [], []\n",
        "\n",
        "with torch.no_grad():\n",
        "    for cat, num, label in test_loader:\n",
        "        cat, num = cat.to(device), num.to(device)\n",
        "        output = model(cat, num)\n",
        "        preds = torch.argmax(output, dim=1).cpu().numpy()\n",
        "        all_preds.extend(preds)\n",
        "        all_labels.extend(label.numpy())\n",
        "\n",
        "# 성능 출력하는 코드\n",
        "print(classification_report(all_labels, all_preds))"
      ],
      "metadata": {
        "colab": {
          "base_uri": "https://localhost:8080/"
        },
        "id": "jqBkzVj31tLh",
        "outputId": "c138e3ce-ecf4-40f1-832d-9a2dcf6b6caf"
      },
      "execution_count": 248,
      "outputs": [
        {
          "output_type": "stream",
          "name": "stdout",
          "text": [
            "              precision    recall  f1-score   support\n",
            "\n",
            "           0       0.78      0.43      0.56       118\n",
            "           1       0.49      0.82      0.62        79\n",
            "\n",
            "    accuracy                           0.59       197\n",
            "   macro avg       0.64      0.63      0.59       197\n",
            "weighted avg       0.67      0.59      0.58       197\n",
            "\n"
          ]
        }
      ]
    },
    {
      "cell_type": "markdown",
      "source": [
        "# 클래스 가중치 넣기"
      ],
      "metadata": {
        "id": "wKOii_D22Qzw"
      }
    },
    {
      "cell_type": "code",
      "source": [
        "from imblearn.over_sampling import SMOTE\n",
        "from sklearn.model_selection import train_test_split\n",
        "\n",
        "# 데이터 분할하는 코드\n",
        "X_train, X_test, y_train, y_test = train_test_split(\n",
        "    X, y, stratify=y, test_size=0.2, random_state=42\n",
        ")\n",
        "\n",
        "# SMOTE 적용하는 코드\n",
        "smote = SMOTE(random_state=42)\n",
        "X_train_smote, y_train_smote = smote.fit_resample(X_train, y_train)\n",
        "\n",
        "print(\"Before SMOTE:\", y_train.value_counts())\n",
        "print(\"After SMOTE:\", y_train_smote.value_counts())"
      ],
      "metadata": {
        "colab": {
          "base_uri": "https://localhost:8080/"
        },
        "id": "2_inXZDVj8p7",
        "outputId": "b6a27c06-edbd-4ddb-ca2c-848d528d85c4"
      },
      "execution_count": 249,
      "outputs": [
        {
          "output_type": "stream",
          "name": "stdout",
          "text": [
            "Before SMOTE: Outcome\n",
            "0    473\n",
            "1    314\n",
            "Name: count, dtype: int64\n",
            "After SMOTE: Outcome\n",
            "1    473\n",
            "0    473\n",
            "Name: count, dtype: int64\n"
          ]
        }
      ]
    },
    {
      "cell_type": "code",
      "source": [
        "import torch\n",
        "\n",
        "# 칼럼 리스트 확인하는 코드\n",
        "all_cols = ['Age', 'Cost', 'Length_of_Stay', 'Satisfaction', 'Gender_Female',\n",
        "       'Gender_Male', 'Condition_Allergic Reaction', 'Condition_Appendicitis',\n",
        "       'Condition_Cancer', 'Condition_Childbirth', 'Condition_Diabetes',\n",
        "       'Condition_Fractured Arm', 'Condition_Fractured Leg',\n",
        "       'Condition_Heart Attack', 'Condition_Heart Disease',\n",
        "       'Condition_Hypertension', 'Condition_Kidney Stones',\n",
        "       'Condition_Osteoarthritis', 'Condition_Prostate Cancer',\n",
        "       'Condition_Respiratory Infection', 'Condition_Stroke',\n",
        "       'Procedure_Angioplasty', 'Procedure_Antibiotics and Rest',\n",
        "       'Procedure_Appendectomy', 'Procedure_CT Scan and Medication',\n",
        "       'Procedure_Cardiac Catheterization',\n",
        "       'Procedure_Cast and Physical Therapy',\n",
        "       'Procedure_Delivery and Postnatal Care',\n",
        "       'Procedure_Epinephrine Injection', 'Procedure_Insulin Therapy',\n",
        "       'Procedure_Lithotripsy', 'Procedure_Medication and Counseling',\n",
        "       'Procedure_Physical Therapy and Pain Management',\n",
        "       'Procedure_Radiation Therapy', 'Procedure_Surgery and Chemotherapy',\n",
        "       'Procedure_X-Ray and Splint', 'Readmission_No', 'Readmission_Yes']\n",
        "\n",
        "# 수치형 칼럼 코드\n",
        "num_cols = ['Age', 'Cost', 'Length_of_Stay', 'Satisfaction']\n",
        "\n",
        "# 범주형 칼럼 코드\n",
        "cat_cols = [col for col in all_cols if col not in num_cols]"
      ],
      "metadata": {
        "id": "lzFqiMuwkMqD"
      },
      "execution_count": 250,
      "outputs": []
    },
    {
      "cell_type": "code",
      "source": [
        "# 데이터 분리하는 코드\n",
        "X_train_cat = X_train[cat_cols]\n",
        "X_train_num = X_train[num_cols]\n",
        "\n",
        "# 텐서 변환하는 코드\n",
        "X_train_cat_tensor = torch.tensor(X_train_cat.values, dtype=torch.float32).to(device)\n",
        "X_train_num_tensor = torch.tensor(X_train_num.values, dtype=torch.float32).to(device)\n",
        "y_train_tensor = torch.tensor(y_train.values, dtype=torch.long).to(device)\n",
        "\n",
        "# 확인용 출력 코드\n",
        "print(\"Categorical tensor shape:\", X_train_cat_tensor.shape)\n",
        "print(\"Numerical tensor shape:\", X_train_num_tensor.shape)\n",
        "print(\"Target tensor shape:\", y_train_tensor.shape)"
      ],
      "metadata": {
        "colab": {
          "base_uri": "https://localhost:8080/"
        },
        "id": "dNIT4shxfHTu",
        "outputId": "5f0caef1-c50c-47f5-aead-718ab3b216d0"
      },
      "execution_count": 251,
      "outputs": [
        {
          "output_type": "stream",
          "name": "stdout",
          "text": [
            "Categorical tensor shape: torch.Size([787, 34])\n",
            "Numerical tensor shape: torch.Size([787, 4])\n",
            "Target tensor shape: torch.Size([787])\n"
          ]
        }
      ]
    },
    {
      "cell_type": "code",
      "source": [
        "import numpy as np\n",
        "from sklearn.utils.class_weight import compute_class_weight\n",
        "\n",
        "# 넘파이 배열로 전달하는 코드\n",
        "classes = np.array([0, 1])\n",
        "class_weights = compute_class_weight(class_weight='balanced', classes=classes, y=y_train_smote)\n",
        "\n",
        "# 텐서로 변환하는 코드\n",
        "weights_tensor = torch.tensor(class_weights, dtype=torch.float32).to(device)\n",
        "\n",
        "# 가중치 포함한 손실함수 정의하는 코드\n",
        "criterion = nn.CrossEntropyLoss(weight=weights_tensor)"
      ],
      "metadata": {
        "id": "syVTnuwuePA5"
      },
      "execution_count": 252,
      "outputs": []
    },
    {
      "cell_type": "code",
      "source": [
        "# 범주형과 수치형 정의하는 코드\n",
        "num_cols = ['Age', 'Cost', 'Length_of_Stay', 'Satisfaction']\n",
        "cat_cols = [col for col in X_test.columns if col not in num_cols]\n",
        "\n",
        "X_test_cat = X_test[cat_cols]\n",
        "X_test_num = X_test[num_cols]\n",
        "\n",
        "# 텐서 변환하는 코드\n",
        "X_test_cat_tensor = torch.tensor(X_test_cat.values, dtype=torch.float32).to(device)\n",
        "X_test_num_tensor = torch.tensor(X_test_num.values, dtype=torch.float32).to(device)\n",
        "\n",
        "y_test_tensor = torch.tensor(y_test.values, dtype=torch.long).to(device)\n",
        "\n",
        "print(\"X_test_cat_tensor shape:\", X_test_cat_tensor.shape)\n",
        "print(\"X_test_num_tensor shape:\", X_test_num_tensor.shape)\n",
        "print(\"y_test_tensor shape:\", y_test_tensor.shape)"
      ],
      "metadata": {
        "colab": {
          "base_uri": "https://localhost:8080/"
        },
        "id": "oAFBu2QrfzoE",
        "outputId": "8b95aee3-50cd-4316-dc0a-451f9fa2b417"
      },
      "execution_count": 253,
      "outputs": [
        {
          "output_type": "stream",
          "name": "stdout",
          "text": [
            "X_test_cat_tensor shape: torch.Size([197, 34])\n",
            "X_test_num_tensor shape: torch.Size([197, 4])\n",
            "y_test_tensor shape: torch.Size([197])\n"
          ]
        }
      ]
    },
    {
      "cell_type": "code",
      "source": [
        "# 모델 추론하는 코드\n",
        "X_test_cat_tensor = torch.tensor(X_test_cat.values, dtype=torch.long).to(device)\n",
        "X_test_num_tensor = torch.tensor(X_test_num.values, dtype=torch.float32).to(device)\n",
        "\n",
        "with torch.no_grad():\n",
        "    probs = model(X_test_cat_tensor, X_test_num_tensor).softmax(dim=1)[:, 1].cpu().numpy()"
      ],
      "metadata": {
        "id": "YIfId6C_emqu"
      },
      "execution_count": 254,
      "outputs": []
    },
    {
      "cell_type": "code",
      "source": [
        "from sklearn.metrics import precision_recall_curve\n",
        "\n",
        "# 최적 임계값을 찾는 코드\n",
        "prec, rec, thresholds = precision_recall_curve(y_test, probs)\n",
        "f1 = 2 * prec * rec / (prec + rec + 1e-8)\n",
        "best_threshold = thresholds[np.argmax(f1)]\n",
        "print(f\"Best threshold by F1: {best_threshold:.4f}\")"
      ],
      "metadata": {
        "colab": {
          "base_uri": "https://localhost:8080/"
        },
        "id": "Eu66cB7hepPG",
        "outputId": "748ef75c-8c61-41c1-f6f7-8f2d65f9df2d"
      },
      "execution_count": 255,
      "outputs": [
        {
          "output_type": "stream",
          "name": "stdout",
          "text": [
            "Best threshold by F1: 0.4814\n"
          ]
        }
      ]
    },
    {
      "cell_type": "code",
      "source": [
        "# 모델 평가하는 코드\n",
        "model.eval()\n",
        "with torch.no_grad():\n",
        "    outputs = model(X_test_cat_tensor, X_test_num_tensor)\n",
        "    probs = torch.softmax(outputs, dim=1)[:, 1].cpu().numpy()"
      ],
      "metadata": {
        "id": "NVhU8Px3ezJb"
      },
      "execution_count": 256,
      "outputs": []
    },
    {
      "cell_type": "code",
      "source": [
        "# 예측하는 코드\n",
        "y_pred = (probs >= best_threshold).astype(int)"
      ],
      "metadata": {
        "id": "ZzK_tNHge3Cn"
      },
      "execution_count": 257,
      "outputs": []
    },
    {
      "cell_type": "code",
      "source": [
        "from sklearn.metrics import classification_report, confusion_matrix, accuracy_score, roc_auc_score\n",
        "\n",
        "# 각종 지표 출력하는 코드\n",
        "print(\"Classification Report:\")\n",
        "print(classification_report(y_test, y_pred))\n",
        "\n",
        "print(\"Confusion Matrix:\")\n",
        "print(confusion_matrix(y_test, y_pred))\n",
        "\n",
        "print(f\"Accuracy: {accuracy_score(y_test, y_pred):.4f}\")\n",
        "print(f\"ROC AUC: {roc_auc_score(y_test, probs):.4f}\")"
      ],
      "metadata": {
        "colab": {
          "base_uri": "https://localhost:8080/"
        },
        "id": "aolBmiUTe43z",
        "outputId": "8bdb26af-c36b-46ab-f28a-e384f817303a"
      },
      "execution_count": 258,
      "outputs": [
        {
          "output_type": "stream",
          "name": "stdout",
          "text": [
            "Classification Report:\n",
            "              precision    recall  f1-score   support\n",
            "\n",
            "           0       1.00      0.31      0.48       118\n",
            "           1       0.49      1.00      0.66        79\n",
            "\n",
            "    accuracy                           0.59       197\n",
            "   macro avg       0.75      0.66      0.57       197\n",
            "weighted avg       0.80      0.59      0.55       197\n",
            "\n",
            "Confusion Matrix:\n",
            "[[37 81]\n",
            " [ 0 79]]\n",
            "Accuracy: 0.5888\n",
            "ROC AUC: 0.6923\n"
          ]
        }
      ]
    }
  ]
}